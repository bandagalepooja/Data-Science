{
 "cells": [
  {
   "cell_type": "markdown",
   "id": "d6e91231",
   "metadata": {},
   "source": [
    "# SPRINT 3 : ITERATIVE STATEMENTS AND LIST OPERATIONS PRACTICE"
   ]
  },
  {
   "cell_type": "markdown",
   "id": "18eb333e",
   "metadata": {},
   "source": [
    "TASK 1 : Create a list mynames and check for presence of an item 'USA'."
   ]
  },
  {
   "cell_type": "code",
   "execution_count": 5,
   "id": "b195a07a",
   "metadata": {},
   "outputs": [
    {
     "name": "stdout",
     "output_type": "stream",
     "text": [
      "False\n"
     ]
    }
   ],
   "source": [
    "mynames=[\"Joe\",\"Zoe\",\"world\",\"Brad\",\"Angelina\",\"world\",\"Zuki\",\"Tom\",\"Paris\",\"world\",\"Magic\"]\n",
    "\n",
    "for i in mynames:\n",
    "    if i==\"USA\":\n",
    "        print(\"True\")\n",
    "else:\n",
    "    print(\"False\")"
   ]
  },
  {
   "cell_type": "code",
   "execution_count": null,
   "id": "cc80c83f",
   "metadata": {},
   "outputs": [],
   "source": [
    "# Word 'USA' does not return in mynames list."
   ]
  },
  {
   "cell_type": "markdown",
   "id": "9beadd08",
   "metadata": {},
   "source": [
    "TASK 2 : Check how many times the item 'world' is present in above mynames data."
   ]
  },
  {
   "cell_type": "code",
   "execution_count": 7,
   "id": "ab84bd5a",
   "metadata": {},
   "outputs": [
    {
     "name": "stdout",
     "output_type": "stream",
     "text": [
      "Item world is repeted 3 times\n"
     ]
    }
   ],
   "source": [
    "c=0\n",
    "\n",
    "for i in mynames:\n",
    "    if i==\"world\":\n",
    "        c=c+1\n",
    "\n",
    "print(\"Item world is repeted {} times\".format(c))"
   ]
  },
  {
   "cell_type": "code",
   "execution_count": null,
   "id": "4efd8fb9",
   "metadata": {},
   "outputs": [],
   "source": [
    "# world is repeated 3 times in mynames list"
   ]
  },
  {
   "cell_type": "markdown",
   "id": "0f73cc71",
   "metadata": {},
   "source": [
    "TASK 3 : Write a program to count the total number of even and odd numbers from the dataset=list(range(1,30))"
   ]
  },
  {
   "cell_type": "code",
   "execution_count": 12,
   "id": "bc3dea13",
   "metadata": {},
   "outputs": [
    {
     "name": "stdout",
     "output_type": "stream",
     "text": [
      "No.of Even Numbers : 14\n",
      "Number of oddd numbers : 15\n"
     ]
    }
   ],
   "source": [
    "dataset=list(range(1,30))\n",
    "\n",
    "p=0\n",
    "\n",
    "for i in dataset:\n",
    "    if i%2==0:\n",
    "        p=p+1\n",
    "    \n",
    "print(\"No.of Even Numbers : {}\\nNumber of oddd numbers : {}\".format(p,len(dataset)-p))\n",
    "\n"
   ]
  },
  {
   "cell_type": "code",
   "execution_count": null,
   "id": "0f50e23e",
   "metadata": {},
   "outputs": [],
   "source": [
    "#Total numbers of even and odd numbers between 1 to 30 are 14 and 15 respectively"
   ]
  },
  {
   "cell_type": "markdown",
   "id": "64c83108",
   "metadata": {},
   "source": [
    "TASK 4 : Pick the first five even numbers from the list 'dataset' and store the numbers in new list and display it seperately."
   ]
  },
  {
   "cell_type": "code",
   "execution_count": 27,
   "id": "ab8281da",
   "metadata": {},
   "outputs": [
    {
     "name": "stdout",
     "output_type": "stream",
     "text": [
      "[2, 4, 6, 8, 10]\n"
     ]
    }
   ],
   "source": [
    "el=[]\n",
    "\n",
    "a=0  # to limit output for first five numbers\n",
    "\n",
    "for i in range(len(dataset)):\n",
    "    if dataset[i]%2==0:\n",
    "        a=a+1\n",
    "        if a<=5:\n",
    "            el.append(dataset[i])\n",
    "\n",
    "print(el)\n",
    "            \n",
    "    "
   ]
  },
  {
   "cell_type": "markdown",
   "id": "b7604699",
   "metadata": {},
   "source": [
    "TASK 5 : Pick the last two odd numbers from the dataset without reversing or using new list."
   ]
  },
  {
   "cell_type": "code",
   "execution_count": 13,
   "id": "d628f65c",
   "metadata": {},
   "outputs": [
    {
     "name": "stdout",
     "output_type": "stream",
     "text": [
      "29\n",
      "27\n"
     ]
    }
   ],
   "source": [
    "b=0\n",
    "\n",
    "for i in range(len(dataset),0,-1):\n",
    "    \n",
    "    if dataset[i-1]%2!=0:\n",
    "        b=b+1\n",
    "        if b<=2:\n",
    "            print(dataset[i-1])\n",
    "      \n",
    "    \n",
    "\n"
   ]
  },
  {
   "cell_type": "markdown",
   "id": "4659ae2b",
   "metadata": {},
   "source": [
    "TASK 6 : \n",
    "6A - Create two empty lists x and y\n",
    "6B - Append 5 values entered by the user in each list\n",
    "6C - Extend list x with list y\n",
    "6D - Print x and y\n"
   ]
  },
  {
   "cell_type": "code",
   "execution_count": 5,
   "id": "bca08de1",
   "metadata": {},
   "outputs": [
    {
     "name": "stdout",
     "output_type": "stream",
     "text": [
      "Enter any string : A\n",
      "Enter any string : B\n",
      "Enter any string : C\n",
      "Enter any string : D\n",
      "Enter any string : E\n",
      "Enter any string : F\n",
      "Enter any string : G\n",
      "Enter any string : H\n",
      "Enter any string : I\n",
      "Enter any string : Q\n",
      "['A', 'B', 'C', 'D', 'E', 'F', 'G', 'H', 'I', 'Q']\n",
      "['F', 'G', 'H', 'I', 'Q']\n"
     ]
    }
   ],
   "source": [
    "x=[]\n",
    "y=[]\n",
    "\n",
    "for i in range(1,6):\n",
    "    string=input(\"Enter any string : \")\n",
    "    x.append(string)\n",
    "    \n",
    "for i in range(1,6):\n",
    "    string=input(\"Enter any string : \")\n",
    "    y.append(string)\n",
    "    \n",
    "x.extend(y)\n",
    "\n",
    "print(x)\n",
    "print(y)"
   ]
  },
  {
   "cell_type": "markdown",
   "id": "61762bf1",
   "metadata": {},
   "source": [
    "TASK 7 : Write a program to generate list of squares of first 10 and last 10 elements of range(1,40)."
   ]
  },
  {
   "cell_type": "code",
   "execution_count": 4,
   "id": "842e1363",
   "metadata": {},
   "outputs": [
    {
     "name": "stdout",
     "output_type": "stream",
     "text": [
      "[1, 4, 9, 16, 25, 36, 49, 64, 81, 100]\n",
      "[900, 961, 1024, 1089, 1156, 1225, 1296, 1369, 1444, 1521]\n"
     ]
    }
   ],
   "source": [
    "# Method 1\n",
    "\n",
    "p=[]\n",
    "q=[]\n",
    "\n",
    "for i in range(1,40,1):\n",
    "    if i<=10:\n",
    "        p.append(i*i)\n",
    "    if i>len(range(40))-11:\n",
    "        q.append(i*i)\n",
    "        \n",
    "print(p)\n",
    "print(q)\n",
    "        \n",
    "    "
   ]
  },
  {
   "cell_type": "code",
   "execution_count": 17,
   "id": "aac7912b",
   "metadata": {},
   "outputs": [
    {
     "name": "stdout",
     "output_type": "stream",
     "text": [
      "[1, 4, 9, 16, 25, 36, 49, 64, 81, 100, 900, 961, 1024, 1089, 1156, 1225, 1296, 1369, 1444, 1521]\n"
     ]
    }
   ],
   "source": [
    "# Method 2\n",
    "\n",
    "p=[]\n",
    "q=[]\n",
    "\n",
    "for i in range(1,40,1):\n",
    "    if i<=10 or i>(len(range(40))-11):\n",
    "        q.append(i*i)\n",
    "        \n",
    "print(q)"
   ]
  },
  {
   "cell_type": "markdown",
   "id": "bb151eb6",
   "metadata": {},
   "source": [
    "TASK 8 : Take input of an integer from user & print multiplication table of it."
   ]
  },
  {
   "cell_type": "code",
   "execution_count": 10,
   "id": "b69f89ff",
   "metadata": {},
   "outputs": [
    {
     "name": "stdout",
     "output_type": "stream",
     "text": [
      "Enter the number: 5\n",
      "5 x 1 = 5\n",
      "5 x 2 = 10\n",
      "5 x 3 = 15\n",
      "5 x 4 = 20\n",
      "5 x 5 = 25\n",
      "5 x 6 = 30\n",
      "5 x 7 = 35\n",
      "5 x 8 = 40\n",
      "5 x 9 = 45\n",
      "5 x 10 = 50\n"
     ]
    }
   ],
   "source": [
    "a=int(input('Enter the number: '))\n",
    "\n",
    "for i in range(1,11,1):\n",
    "    print(a, 'x' ,i,'=',a*i)"
   ]
  }
 ],
 "metadata": {
  "kernelspec": {
   "display_name": "Python 3 (ipykernel)",
   "language": "python",
   "name": "python3"
  },
  "language_info": {
   "codemirror_mode": {
    "name": "ipython",
    "version": 3
   },
   "file_extension": ".py",
   "mimetype": "text/x-python",
   "name": "python",
   "nbconvert_exporter": "python",
   "pygments_lexer": "ipython3",
   "version": "3.9.13"
  }
 },
 "nbformat": 4,
 "nbformat_minor": 5
}
