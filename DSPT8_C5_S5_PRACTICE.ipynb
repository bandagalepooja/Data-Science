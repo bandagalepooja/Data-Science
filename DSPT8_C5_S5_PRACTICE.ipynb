{
 "cells": [
  {
   "cell_type": "markdown",
   "id": "9024073d",
   "metadata": {},
   "source": [
    "# Continuous Probability Distribution- Challenge"
   ]
  },
  {
   "cell_type": "code",
   "execution_count": 7,
   "id": "7804a1ef",
   "metadata": {},
   "outputs": [],
   "source": [
    "import pandas as pd\n",
    "import numpy as np\n",
    "import matplotlib.pyplot as plt\n",
    "import scipy.stats as st\n",
    "import seaborn as sb\n",
    "import warnings\n",
    "warnings.filterwarnings('ignore')"
   ]
  },
  {
   "cell_type": "markdown",
   "id": "33aca8e6",
   "metadata": {},
   "source": [
    "Task-1:\n",
    "\n",
    "Consider that the average American monthly household celldar phone bill is USD70. Let's say, the local monthly ho old cell phone bills are distributed normally with a standard deviation of USD11.35.1."
   ]
  },
  {
   "cell_type": "code",
   "execution_count": 107,
   "id": "797ee8ad",
   "metadata": {},
   "outputs": [],
   "source": [
    "mean=70\n",
    "std=11.35"
   ]
  },
  {
   "cell_type": "markdown",
   "id": "03ddaa64",
   "metadata": {},
   "source": [
    "a. What is the probability of a randomly selected monthly cell phone bill amounting between USD55 and USD80?"
   ]
  },
  {
   "cell_type": "code",
   "execution_count": 108,
   "id": "28add122",
   "metadata": {},
   "outputs": [],
   "source": [
    "x1=55\n",
    "x2=80\n",
    "z1=(x1-mean)/std\n",
    "z2=(x2-mean)/std"
   ]
  },
  {
   "cell_type": "code",
   "execution_count": 13,
   "id": "e696a8f2",
   "metadata": {},
   "outputs": [
    {
     "name": "stdout",
     "output_type": "stream",
     "text": [
      "Probability of a randomly selected monthly cell phone bill amounting between USD55 and USD80 is :  0.7177035479448073\n"
     ]
    }
   ],
   "source": [
    "p1=st.norm.cdf(z1)\n",
    "p2=st.norm.cdf(z2)\n",
    "print('Probability of a randomly selected monthly cell phone bill amounting between USD55 and USD80 is : ',p2-p1)"
   ]
  },
  {
   "cell_type": "markdown",
   "id": "48b2fe9f",
   "metadata": {},
   "source": [
    "b. What is the probability that a randomly selected monthly cell phone bill amounts to no more than USD40?"
   ]
  },
  {
   "cell_type": "code",
   "execution_count": 109,
   "id": "c7ddc284",
   "metadata": {},
   "outputs": [
    {
     "name": "stdout",
     "output_type": "stream",
     "text": [
      "probability that a randomly selected monthly cell phone bill amounts to no more than USD40 is  0.004106667373140424\n"
     ]
    }
   ],
   "source": [
    "x3=40\n",
    "z3=(x3-mean)/std\n",
    "p3=st.norm.cdf(z3)\n",
    "print('probability that a randomly selected monthly cell phone bill amounts to no more than USD40 is ',p3)"
   ]
  },
  {
   "cell_type": "markdown",
   "id": "ae7e2e73",
   "metadata": {},
   "source": [
    "Task-2"
   ]
  },
  {
   "cell_type": "markdown",
   "id": "ad6600ae",
   "metadata": {},
   "source": [
    "Larsen is a data science intern at Logical Increments. The manager of a car riding app company wants to launch an environment supporting a high-end car riding experience among its customers. He assigns this task to Larsen. Larsen starts analyzing the data on car riding in New York City.\n",
    "\n",
    "The manager analyzes the list of checkpoints in ride fare amounts, after which Larsen makes the following list of tasks to help the manager."
   ]
  },
  {
   "cell_type": "markdown",
   "id": "79960c1e",
   "metadata": {},
   "source": [
    "a. Extract data from the car_riding dataset."
   ]
  },
  {
   "cell_type": "code",
   "execution_count": 110,
   "id": "edfc83ee",
   "metadata": {},
   "outputs": [],
   "source": [
    "df=pd.read_csv('DS1_C5_S5_SmartCarRiding_Data_Practice.csv')"
   ]
  },
  {
   "cell_type": "markdown",
   "id": "d077918b",
   "metadata": {},
   "source": [
    "b. Perform outlier treatment on the fare_amount' attribute of the dataset with data imputation by setting the average value of the fare amounts."
   ]
  },
  {
   "cell_type": "code",
   "execution_count": 17,
   "id": "0df3b4f5",
   "metadata": {},
   "outputs": [
    {
     "data": {
      "text/plain": [
       "Index(['Unnamed: 0', 'key', 'fare_amount', 'pickup_datetime',\n",
       "       'pickup_longitude', 'pickup_latitude', 'dropoff_longitude',\n",
       "       'dropoff_latitude', 'passenger_count'],\n",
       "      dtype='object')"
      ]
     },
     "execution_count": 17,
     "metadata": {},
     "output_type": "execute_result"
    }
   ],
   "source": [
    "df.columns"
   ]
  },
  {
   "cell_type": "code",
   "execution_count": 111,
   "id": "446672d6",
   "metadata": {},
   "outputs": [
    {
     "name": "stdout",
     "output_type": "stream",
     "text": [
      "No of Outliers :  17167\n"
     ]
    }
   ],
   "source": [
    "Q1=np.quantile(df['fare_amount'],0.25)\n",
    "Q3=np.quantile(df['fare_amount'],0.75)\n",
    "IQR=Q3-Q1\n",
    "UF=Q3+(1.5*IQR)\n",
    "LF=Q1-(1.5*IQR)\n",
    "m=df['fare_amount'].mean()\n",
    "c=0\n",
    "for i in df['fare_amount']:\n",
    "    if i>UF or i<LF:\n",
    "        c+=1\n",
    "print('No of Outliers : ',c)"
   ]
  },
  {
   "cell_type": "code",
   "execution_count": 114,
   "id": "6a3afdf5",
   "metadata": {},
   "outputs": [],
   "source": [
    "for i in df['fare_amount']:\n",
    "    if i>UF or i<LF:\n",
    "        df['fare_amount'].replace(to_replace=i,value=m,inplace=True)"
   ]
  },
  {
   "cell_type": "code",
   "execution_count": 116,
   "id": "85386abc",
   "metadata": {},
   "outputs": [
    {
     "name": "stdout",
     "output_type": "stream",
     "text": [
      "No of Outliers :  0\n"
     ]
    }
   ],
   "source": [
    "c=0\n",
    "for i in df['fare_amount']:\n",
    "    if i>UF or i<LF:\n",
    "        c+=1\n",
    "print('No of Outliers : ',c)"
   ]
  },
  {
   "cell_type": "markdown",
   "id": "1cbc0074",
   "metadata": {},
   "source": [
    "c. Draw different distribution plots for the sample sizes of 10, 30, 1000, 5000, 10000, 50000, 100000, and 150000"
   ]
  },
  {
   "cell_type": "code",
   "execution_count": 105,
   "id": "d8717bbb",
   "metadata": {},
   "outputs": [
    {
     "data": {
      "image/png": "[encoded data removed]",
      "text/plain": [
       "<Figure size 640x480 with 8 Axes>"
      ]
     },
     "metadata": {},
     "output_type": "display_data"
    }
   ],
   "source": [
    "l=[10,30,1000,5000,10000,50000,100000,150000]\n",
    "j=1\n",
    "for i in l:\n",
    "    plt.subplot(2,4,j)\n",
    "    data=df['fare_amount'].sample(i,random_state=100)\n",
    "    plt.hist(data,edgecolor='g')\n",
    "    plt.tight_layout()\n",
    "    plt.title('Sample '+str(i))\n",
    "    plt.xlabel('Fare Amount')\n",
    "    plt.ylabel('Count')\n",
    "    j=j+1"
   ]
  },
  {
   "cell_type": "markdown",
   "id": "5c30e3e5",
   "metadata": {},
   "source": [
    "d. Extract sample data using random sampling with replacement technique. (Make sure that th minimum sample size is greater or equal to 200)."
   ]
  },
  {
   "cell_type": "code",
   "execution_count": 62,
   "id": "f2bf45cc",
   "metadata": {},
   "outputs": [
    {
     "data": {
      "text/html": [
       "<div>\n",
       "<style scoped>\n",
       "    .dataframe tbody tr th:only-of-type {\n",
       "        vertical-align: middle;\n",
       "    }\n",
       "\n",
       "    .dataframe tbody tr th {\n",
       "        vertical-align: top;\n",
       "    }\n",
       "\n",
       "    .dataframe thead th {\n",
       "        text-align: right;\n",
       "    }\n",
       "</style>\n",
       "<table border=\"1\" class=\"dataframe\">\n",
       "  <thead>\n",
       "    <tr style=\"text-align: right;\">\n",
       "      <th></th>\n",
       "      <th>Unnamed: 0</th>\n",
       "      <th>key</th>\n",
       "      <th>fare_amount</th>\n",
       "      <th>pickup_datetime</th>\n",
       "      <th>pickup_longitude</th>\n",
       "      <th>pickup_latitude</th>\n",
       "      <th>dropoff_longitude</th>\n",
       "      <th>dropoff_latitude</th>\n",
       "      <th>passenger_count</th>\n",
       "    </tr>\n",
       "  </thead>\n",
       "  <tbody>\n",
       "    <tr>\n",
       "      <th>73</th>\n",
       "      <td>48832443</td>\n",
       "      <td>2011-12-10 01:43:00.00000045</td>\n",
       "      <td>5.700000</td>\n",
       "      <td>2011-12-10 01:43:00 UTC</td>\n",
       "      <td>-73.990968</td>\n",
       "      <td>40.727570</td>\n",
       "      <td>-73.991370</td>\n",
       "      <td>40.744720</td>\n",
       "      <td>1</td>\n",
       "    </tr>\n",
       "    <tr>\n",
       "      <th>994</th>\n",
       "      <td>7354938</td>\n",
       "      <td>2013-09-20 14:15:00.00000089</td>\n",
       "      <td>13.000000</td>\n",
       "      <td>2013-09-20 14:15:00 UTC</td>\n",
       "      <td>-73.979567</td>\n",
       "      <td>40.743797</td>\n",
       "      <td>-73.947893</td>\n",
       "      <td>40.774767</td>\n",
       "      <td>1</td>\n",
       "    </tr>\n",
       "    <tr>\n",
       "      <th>1347</th>\n",
       "      <td>19284487</td>\n",
       "      <td>2009-09-28 18:17:42.0000007</td>\n",
       "      <td>6.500000</td>\n",
       "      <td>2009-09-28 18:17:42 UTC</td>\n",
       "      <td>-73.989438</td>\n",
       "      <td>40.735868</td>\n",
       "      <td>-73.984241</td>\n",
       "      <td>40.724892</td>\n",
       "      <td>1</td>\n",
       "    </tr>\n",
       "    <tr>\n",
       "      <th>1954</th>\n",
       "      <td>52882013</td>\n",
       "      <td>2014-11-21 06:52:10.0000001</td>\n",
       "      <td>11.359955</td>\n",
       "      <td>2014-11-21 06:52:10 UTC</td>\n",
       "      <td>-73.984297</td>\n",
       "      <td>40.737256</td>\n",
       "      <td>-73.784297</td>\n",
       "      <td>40.643421</td>\n",
       "      <td>1</td>\n",
       "    </tr>\n",
       "    <tr>\n",
       "      <th>2428</th>\n",
       "      <td>35518962</td>\n",
       "      <td>2013-08-18 22:28:04.0000001</td>\n",
       "      <td>11.359955</td>\n",
       "      <td>2013-08-18 22:28:04 UTC</td>\n",
       "      <td>-73.872978</td>\n",
       "      <td>40.774141</td>\n",
       "      <td>-74.010477</td>\n",
       "      <td>40.710936</td>\n",
       "      <td>2</td>\n",
       "    </tr>\n",
       "  </tbody>\n",
       "</table>\n",
       "</div>"
      ],
      "text/plain": [
       "      Unnamed: 0                           key  fare_amount  \\\n",
       "73      48832443  2011-12-10 01:43:00.00000045     5.700000   \n",
       "994      7354938  2013-09-20 14:15:00.00000089    13.000000   \n",
       "1347    19284487   2009-09-28 18:17:42.0000007     6.500000   \n",
       "1954    52882013   2014-11-21 06:52:10.0000001    11.359955   \n",
       "2428    35518962   2013-08-18 22:28:04.0000001    11.359955   \n",
       "\n",
       "              pickup_datetime  pickup_longitude  pickup_latitude  \\\n",
       "73    2011-12-10 01:43:00 UTC        -73.990968        40.727570   \n",
       "994   2013-09-20 14:15:00 UTC        -73.979567        40.743797   \n",
       "1347  2009-09-28 18:17:42 UTC        -73.989438        40.735868   \n",
       "1954  2014-11-21 06:52:10 UTC        -73.984297        40.737256   \n",
       "2428  2013-08-18 22:28:04 UTC        -73.872978        40.774141   \n",
       "\n",
       "      dropoff_longitude  dropoff_latitude  passenger_count  \n",
       "73           -73.991370         40.744720                1  \n",
       "994          -73.947893         40.774767                1  \n",
       "1347         -73.984241         40.724892                1  \n",
       "1954         -73.784297         40.643421                1  \n",
       "2428         -74.010477         40.710936                2  "
      ]
     },
     "execution_count": 62,
     "metadata": {},
     "output_type": "execute_result"
    }
   ],
   "source": [
    "sam_200=df.sample(200,replace=True).sort_index()\n",
    "sam_200.head(5)"
   ]
  },
  {
   "cell_type": "markdown",
   "id": "f70c4c40",
   "metadata": {},
   "source": [
    "e.Calculate the central tendency and dispersion for the sample and population data to check if they are equal and justify the samples that follow the central limit theorem"
   ]
  },
  {
   "cell_type": "code",
   "execution_count": 100,
   "id": "7f14f481",
   "metadata": {},
   "outputs": [],
   "source": [
    "pop_size=df['fare_amount'].size\n",
    "pop_mean=df['fare_amount'].mean()\n",
    "pop_std=df['fare_amount'].std()"
   ]
  },
  {
   "cell_type": "code",
   "execution_count": 101,
   "id": "af7e0894",
   "metadata": {},
   "outputs": [],
   "source": [
    "data=pd.DataFrame()"
   ]
  },
  {
   "cell_type": "code",
   "execution_count": 102,
   "id": "9c5dcec5",
   "metadata": {},
   "outputs": [],
   "source": [
    "data['Measures']=['Size','Mean','Standard Deviation']\n",
    "data['Population']=[pop_size,pop_mean,pop_std]"
   ]
  },
  {
   "cell_type": "code",
   "execution_count": 103,
   "id": "e1d15873",
   "metadata": {},
   "outputs": [
    {
     "data": {
      "text/html": [
       "<div>\n",
       "<style scoped>\n",
       "    .dataframe tbody tr th:only-of-type {\n",
       "        vertical-align: middle;\n",
       "    }\n",
       "\n",
       "    .dataframe tbody tr th {\n",
       "        vertical-align: top;\n",
       "    }\n",
       "\n",
       "    .dataframe thead th {\n",
       "        text-align: right;\n",
       "    }\n",
       "</style>\n",
       "<table border=\"1\" class=\"dataframe\">\n",
       "  <thead>\n",
       "    <tr style=\"text-align: right;\">\n",
       "      <th></th>\n",
       "      <th>Measures</th>\n",
       "      <th>Population</th>\n",
       "      <th>Sample 10</th>\n",
       "      <th>Sample 30</th>\n",
       "      <th>Sample 1000</th>\n",
       "      <th>Sample 5000</th>\n",
       "      <th>Sample 10000</th>\n",
       "      <th>Sample 50000</th>\n",
       "      <th>Sample 100000</th>\n",
       "      <th>Sample 150000</th>\n",
       "    </tr>\n",
       "  </thead>\n",
       "  <tbody>\n",
       "    <tr>\n",
       "      <th>0</th>\n",
       "      <td>Size</td>\n",
       "      <td>200000.000000</td>\n",
       "      <td>10.000000</td>\n",
       "      <td>30.000000</td>\n",
       "      <td>1000.000000</td>\n",
       "      <td>5000.000000</td>\n",
       "      <td>10000.000000</td>\n",
       "      <td>50000.000000</td>\n",
       "      <td>100000.000000</td>\n",
       "      <td>150000.000000</td>\n",
       "    </tr>\n",
       "    <tr>\n",
       "      <th>1</th>\n",
       "      <td>Mean</td>\n",
       "      <td>9.147804</td>\n",
       "      <td>10.595996</td>\n",
       "      <td>9.703997</td>\n",
       "      <td>9.188806</td>\n",
       "      <td>9.047390</td>\n",
       "      <td>9.090762</td>\n",
       "      <td>9.161835</td>\n",
       "      <td>9.153741</td>\n",
       "      <td>9.146265</td>\n",
       "    </tr>\n",
       "    <tr>\n",
       "      <th>2</th>\n",
       "      <td>Standard Deviation</td>\n",
       "      <td>4.019032</td>\n",
       "      <td>4.257508</td>\n",
       "      <td>3.810830</td>\n",
       "      <td>3.947187</td>\n",
       "      <td>3.964865</td>\n",
       "      <td>4.019863</td>\n",
       "      <td>4.024918</td>\n",
       "      <td>4.023250</td>\n",
       "      <td>4.018607</td>\n",
       "    </tr>\n",
       "  </tbody>\n",
       "</table>\n",
       "</div>"
      ],
      "text/plain": [
       "             Measures     Population  Sample 10  Sample 30  Sample 1000  \\\n",
       "0                Size  200000.000000  10.000000  30.000000  1000.000000   \n",
       "1                Mean       9.147804  10.595996   9.703997     9.188806   \n",
       "2  Standard Deviation       4.019032   4.257508   3.810830     3.947187   \n",
       "\n",
       "   Sample 5000  Sample 10000  Sample 50000  Sample 100000  Sample 150000  \n",
       "0  5000.000000  10000.000000  50000.000000  100000.000000  150000.000000  \n",
       "1     9.047390      9.090762      9.161835       9.153741       9.146265  \n",
       "2     3.964865      4.019863      4.024918       4.023250       4.018607  "
      ]
     },
     "execution_count": 103,
     "metadata": {},
     "output_type": "execute_result"
    }
   ],
   "source": [
    "l=[10,30,1000,5000,10000,50000,100000,150000]\n",
    "for i in l:\n",
    "    d=df['fare_amount'].sample(i,random_state=100)\n",
    "    for j in range(0,len(l),1):\n",
    "        l1=[]\n",
    "        l1.append(d.size)\n",
    "        l1.append(d.mean())\n",
    "        l1.append(d.std())\n",
    "        data['Sample '+str(i)]=l1\n",
    "data"
   ]
  },
  {
   "cell_type": "code",
   "execution_count": null,
   "id": "5c4fc9e7",
   "metadata": {},
   "outputs": [],
   "source": [
    "# Mean and standard deviation of population and sample 150000,sample 100000 & sample 50000 is approximately equal.Hence they follows central llimit theorem"
   ]
  }
 ],
 "metadata": {
  "kernelspec": {
   "display_name": "Python 3 (ipykernel)",
   "language": "python",
   "name": "python3"
  },
  "language_info": {
   "codemirror_mode": {
    "name": "ipython",
    "version": 3
   },
   "file_extension": ".py",
   "mimetype": "text/x-python",
   "name": "python",
   "nbconvert_exporter": "python",
   "pygments_lexer": "ipython3",
   "version": "3.9.13"
  }
 },
 "nbformat": 4,
 "nbformat_minor": 5
}
