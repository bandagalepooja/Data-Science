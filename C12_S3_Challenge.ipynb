{
  "cells": [
    {
      "cell_type": "markdown",
      "source": [
        "# **Text Preprocessing Using spaCy**"
      ],
      "metadata": {
        "id": "nO0ZM2PmYIpA"
      }
    },
    {
      "cell_type": "markdown",
      "metadata": {
        "id": "d5lXqiSw1CUV"
      },
      "source": [
        "## **Challange**"
      ]
    },
    {
      "cell_type": "markdown",
      "source": [
        "Data preprocessing is an important and crucial step in building any machine learning model, and the performance of the model depends on how well the data is preprocessed. Similarly, text preprocessing is the frst step in any natural language processing before building any model. There are different steps oftext preprocessing technique introduced along with different built in modules in Python, but the selection of step and Technique depends solely on the problem domain."
      ],
      "metadata": {
        "id": "mKS0N0PPZhKT"
      }
    },
    {
      "cell_type": "markdown",
      "source": [
        "In this challenge, you will be working with spacy and NLTK libraries, and you will note your observations from each task provided in the subsequent slides."
      ],
      "metadata": {
        "id": "SoktNNCCZiAb"
      }
    },
    {
      "cell_type": "markdown",
      "source": [
        "About the dataset: Extracted tom Kaggle, 'cooking-light.\n",
        "\n",
        "This dataset includes 15,404 reviews related to cooking experiences. Consider only the content attribute for these challenge tasks."
      ],
      "metadata": {
        "id": "39zVVwC-ZmeJ"
      }
    },
    {
      "cell_type": "markdown",
      "metadata": {
        "id": "bgVuqsWtcGFu"
      },
      "source": [
        "## **Task 1.1: Import SpaCy and the English module of the spacy library**\n"
      ]
    },
    {
      "cell_type": "code",
      "execution_count": 2,
      "metadata": {
        "id": "P-vAZvEybaAg"
      },
      "outputs": [],
      "source": [
        "import spacy\n",
        "from spacy.lang.en import English"
      ]
    },
    {
      "cell_type": "markdown",
      "source": [
        "## **Task 1.2: import the en_core_web_sm**"
      ],
      "metadata": {
        "id": "_mOOucIZYVaG"
      }
    },
    {
      "cell_type": "code",
      "source": [
        "nlp = spacy.load(\"en_core_web_sm\")"
      ],
      "metadata": {
        "id": "cmHYEp7xYZIL"
      },
      "execution_count": 3,
      "outputs": []
    },
    {
      "cell_type": "markdown",
      "metadata": {
        "id": "YKVt7DbT1c4b"
      },
      "source": [
        "## **Task 1.3: Load the data**"
      ]
    },
    {
      "cell_type": "code",
      "execution_count": null,
      "metadata": {
        "colab": {
          "base_uri": "https://localhost:8080/",
          "height": 73
        },
        "id": "Jd0JbXcGZ2Tu",
        "outputId": "54b1813b-9939-4972-cbfc-98dee9d234ee"
      },
      "outputs": [
        {
          "data": {
            "text/html": [
              "\n",
              "     <input type=\"file\" id=\"files-9ae3b5c9-adee-44fb-9380-fe36db59039e\" name=\"files[]\" multiple disabled\n",
              "        style=\"border:none\" />\n",
              "     <output id=\"result-9ae3b5c9-adee-44fb-9380-fe36db59039e\">\n",
              "      Upload widget is only available when the cell has been executed in the\n",
              "      current browser session. Please rerun this cell to enable.\n",
              "      </output>\n",
              "      <script>// Copyright 2017 Google LLC\n",
              "//\n",
              "// Licensed under the Apache License, Version 2.0 (the \"License\");\n",
              "// you may not use this file except in compliance with the License.\n",
              "// You may obtain a copy of the License at\n",
              "//\n",
              "//      http://www.apache.org/licenses/LICENSE-2.0\n",
              "//\n",
              "// Unless required by applicable law or agreed to in writing, software\n",
              "// distributed under the License is distributed on an \"AS IS\" BASIS,\n",
              "// WITHOUT WARRANTIES OR CONDITIONS OF ANY KIND, either express or implied.\n",
              "// See the License for the specific language governing permissions and\n",
              "// limitations under the License.\n",
              "\n",
              "/**\n",
              " * @fileoverview Helpers for google.colab Python module.\n",
              " */\n",
              "(function(scope) {\n",
              "function span(text, styleAttributes = {}) {\n",
              "  const element = document.createElement('span');\n",
              "  element.textContent = text;\n",
              "  for (const key of Object.keys(styleAttributes)) {\n",
              "    element.style[key] = styleAttributes[key];\n",
              "  }\n",
              "  return element;\n",
              "}\n",
              "\n",
              "// Max number of bytes which will be uploaded at a time.\n",
              "const MAX_PAYLOAD_SIZE = 100 * 1024;\n",
              "\n",
              "function _uploadFiles(inputId, outputId) {\n",
              "  const steps = uploadFilesStep(inputId, outputId);\n",
              "  const outputElement = document.getElementById(outputId);\n",
              "  // Cache steps on the outputElement to make it available for the next call\n",
              "  // to uploadFilesContinue from Python.\n",
              "  outputElement.steps = steps;\n",
              "\n",
              "  return _uploadFilesContinue(outputId);\n",
              "}\n",
              "\n",
              "// This is roughly an async generator (not supported in the browser yet),\n",
              "// where there are multiple asynchronous steps and the Python side is going\n",
              "// to poll for completion of each step.\n",
              "// This uses a Promise to block the python side on completion of each step,\n",
              "// then passes the result of the previous step as the input to the next step.\n",
              "function _uploadFilesContinue(outputId) {\n",
              "  const outputElement = document.getElementById(outputId);\n",
              "  const steps = outputElement.steps;\n",
              "\n",
              "  const next = steps.next(outputElement.lastPromiseValue);\n",
              "  return Promise.resolve(next.value.promise).then((value) => {\n",
              "    // Cache the last promise value to make it available to the next\n",
              "    // step of the generator.\n",
              "    outputElement.lastPromiseValue = value;\n",
              "    return next.value.response;\n",
              "  });\n",
              "}\n",
              "\n",
              "/**\n",
              " * Generator function which is called between each async step of the upload\n",
              " * process.\n",
              " * @param {string} inputId Element ID of the input file picker element.\n",
              " * @param {string} outputId Element ID of the output display.\n",
              " * @return {!Iterable<!Object>} Iterable of next steps.\n",
              " */\n",
              "function* uploadFilesStep(inputId, outputId) {\n",
              "  const inputElement = document.getElementById(inputId);\n",
              "  inputElement.disabled = false;\n",
              "\n",
              "  const outputElement = document.getElementById(outputId);\n",
              "  outputElement.innerHTML = '';\n",
              "\n",
              "  const pickedPromise = new Promise((resolve) => {\n",
              "    inputElement.addEventListener('change', (e) => {\n",
              "      resolve(e.target.files);\n",
              "    });\n",
              "  });\n",
              "\n",
              "  const cancel = document.createElement('button');\n",
              "  inputElement.parentElement.appendChild(cancel);\n",
              "  cancel.textContent = 'Cancel upload';\n",
              "  const cancelPromise = new Promise((resolve) => {\n",
              "    cancel.onclick = () => {\n",
              "      resolve(null);\n",
              "    };\n",
              "  });\n",
              "\n",
              "  // Wait for the user to pick the files.\n",
              "  const files = yield {\n",
              "    promise: Promise.race([pickedPromise, cancelPromise]),\n",
              "    response: {\n",
              "      action: 'starting',\n",
              "    }\n",
              "  };\n",
              "\n",
              "  cancel.remove();\n",
              "\n",
              "  // Disable the input element since further picks are not allowed.\n",
              "  inputElement.disabled = true;\n",
              "\n",
              "  if (!files) {\n",
              "    return {\n",
              "      response: {\n",
              "        action: 'complete',\n",
              "      }\n",
              "    };\n",
              "  }\n",
              "\n",
              "  for (const file of files) {\n",
              "    const li = document.createElement('li');\n",
              "    li.append(span(file.name, {fontWeight: 'bold'}));\n",
              "    li.append(span(\n",
              "        `(${file.type || 'n/a'}) - ${file.size} bytes, ` +\n",
              "        `last modified: ${\n",
              "            file.lastModifiedDate ? file.lastModifiedDate.toLocaleDateString() :\n",
              "                                    'n/a'} - `));\n",
              "    const percent = span('0% done');\n",
              "    li.appendChild(percent);\n",
              "\n",
              "    outputElement.appendChild(li);\n",
              "\n",
              "    const fileDataPromise = new Promise((resolve) => {\n",
              "      const reader = new FileReader();\n",
              "      reader.onload = (e) => {\n",
              "        resolve(e.target.result);\n",
              "      };\n",
              "      reader.readAsArrayBuffer(file);\n",
              "    });\n",
              "    // Wait for the data to be ready.\n",
              "    let fileData = yield {\n",
              "      promise: fileDataPromise,\n",
              "      response: {\n",
              "        action: 'continue',\n",
              "      }\n",
              "    };\n",
              "\n",
              "    // Use a chunked sending to avoid message size limits. See b/62115660.\n",
              "    let position = 0;\n",
              "    do {\n",
              "      const length = Math.min(fileData.byteLength - position, MAX_PAYLOAD_SIZE);\n",
              "      const chunk = new Uint8Array(fileData, position, length);\n",
              "      position += length;\n",
              "\n",
              "      const base64 = btoa(String.fromCharCode.apply(null, chunk));\n",
              "      yield {\n",
              "        response: {\n",
              "          action: 'append',\n",
              "          file: file.name,\n",
              "          data: base64,\n",
              "        },\n",
              "      };\n",
              "\n",
              "      let percentDone = fileData.byteLength === 0 ?\n",
              "          100 :\n",
              "          Math.round((position / fileData.byteLength) * 100);\n",
              "      percent.textContent = `${percentDone}% done`;\n",
              "\n",
              "    } while (position < fileData.byteLength);\n",
              "  }\n",
              "\n",
              "  // All done.\n",
              "  yield {\n",
              "    response: {\n",
              "      action: 'complete',\n",
              "    }\n",
              "  };\n",
              "}\n",
              "\n",
              "scope.google = scope.google || {};\n",
              "scope.google.colab = scope.google.colab || {};\n",
              "scope.google.colab._files = {\n",
              "  _uploadFiles,\n",
              "  _uploadFilesContinue,\n",
              "};\n",
              "})(self);\n",
              "</script> "
            ],
            "text/plain": [
              "<IPython.core.display.HTML object>"
            ]
          },
          "metadata": {},
          "output_type": "display_data"
        },
        {
          "name": "stdout",
          "output_type": "stream",
          "text": [
            "Saving DS3_C2_S3_CookingReview_Data_Challenge.csv to DS3_C2_S3_CookingReview_Data_Challenge.csv\n"
          ]
        }
      ],
      "source": [
        "from google.colab import files\n",
        "upload = files.upload()"
      ]
    },
    {
      "cell_type": "code",
      "execution_count": null,
      "metadata": {
        "colab": {
          "base_uri": "https://localhost:8080/",
          "height": 424
        },
        "id": "MRiZdWWBae8J",
        "outputId": "4f910f63-62ac-40e6-ba36-45fea52a40f4"
      },
      "outputs": [
        {
          "data": {
            "text/html": [
              "\n",
              "  <div id=\"df-a18b8a2d-7a8b-4531-b241-a3ba90ee2777\" class=\"colab-df-container\">\n",
              "    <div>\n",
              "<style scoped>\n",
              "    .dataframe tbody tr th:only-of-type {\n",
              "        vertical-align: middle;\n",
              "    }\n",
              "\n",
              "    .dataframe tbody tr th {\n",
              "        vertical-align: top;\n",
              "    }\n",
              "\n",
              "    .dataframe thead th {\n",
              "        text-align: right;\n",
              "    }\n",
              "</style>\n",
              "<table border=\"1\" class=\"dataframe\">\n",
              "  <thead>\n",
              "    <tr style=\"text-align: right;\">\n",
              "      <th></th>\n",
              "      <th>id</th>\n",
              "      <th>title</th>\n",
              "      <th>content</th>\n",
              "      <th>tags</th>\n",
              "    </tr>\n",
              "  </thead>\n",
              "  <tbody>\n",
              "    <tr>\n",
              "      <th>0</th>\n",
              "      <td>1</td>\n",
              "      <td>get chewy chocolate chip cookies</td>\n",
              "      <td>chocolate chips cookies always crisp get chewy...</td>\n",
              "      <td>['baking', 'cookies', 'texture']</td>\n",
              "    </tr>\n",
              "    <tr>\n",
              "      <th>1</th>\n",
              "      <td>2</td>\n",
              "      <td>cook bacon oven</td>\n",
              "      <td>heard people cooking bacon oven laying strips ...</td>\n",
              "      <td>['oven', 'cooking-time', 'bacon']</td>\n",
              "    </tr>\n",
              "    <tr>\n",
              "      <th>2</th>\n",
              "      <td>3</td>\n",
              "      <td>difference white brown eggs</td>\n",
              "      <td>always use brown extra large eggs honestly say...</td>\n",
              "      <td>['eggs']</td>\n",
              "    </tr>\n",
              "    <tr>\n",
              "      <th>3</th>\n",
              "      <td>4</td>\n",
              "      <td>difference baking soda baking powder</td>\n",
              "      <td>use one place certain recipes</td>\n",
              "      <td>['substitutions', 'please-remove-this-tag', 'b...</td>\n",
              "    </tr>\n",
              "    <tr>\n",
              "      <th>4</th>\n",
              "      <td>5</td>\n",
              "      <td>tomato sauce recipe cut acidity</td>\n",
              "      <td>seems every time make tomato sauce pasta sauce...</td>\n",
              "      <td>['sauce', 'pasta', 'tomatoes', 'italian-cuisine']</td>\n",
              "    </tr>\n",
              "    <tr>\n",
              "      <th>...</th>\n",
              "      <td>...</td>\n",
              "      <td>...</td>\n",
              "      <td>...</td>\n",
              "      <td>...</td>\n",
              "    </tr>\n",
              "    <tr>\n",
              "      <th>15399</th>\n",
              "      <td>73670</td>\n",
              "      <td>poached eggs altitude</td>\n",
              "      <td>recently signed america test kitchen cooking s...</td>\n",
              "      <td>['eggs', 'poaching', 'high-altitude']</td>\n",
              "    </tr>\n",
              "    <tr>\n",
              "      <th>15400</th>\n",
              "      <td>73678</td>\n",
              "      <td>thicken buttercream without adding sugar</td>\n",
              "      <td>made buttercream frosting brownies using recip...</td>\n",
              "      <td>['frosting']</td>\n",
              "    </tr>\n",
              "    <tr>\n",
              "      <th>15401</th>\n",
              "      <td>73680</td>\n",
              "      <td>looking old italian recipe chamellas</td>\n",
              "      <td>italian mom gowould pour flour board place egg...</td>\n",
              "      <td>['baking']</td>\n",
              "    </tr>\n",
              "    <tr>\n",
              "      <th>15402</th>\n",
              "      <td>73681</td>\n",
              "      <td>make ice cream artificial sweetener</td>\n",
              "      <td>wonder artificial sweetener like sucralose ery...</td>\n",
              "      <td>['ice-cream']</td>\n",
              "    </tr>\n",
              "    <tr>\n",
              "      <th>15403</th>\n",
              "      <td>73683</td>\n",
              "      <td>white bits nutella</td>\n",
              "      <td>top side showing bits surface recently discove...</td>\n",
              "      <td>['fats', 'food-identification', 'mold']</td>\n",
              "    </tr>\n",
              "  </tbody>\n",
              "</table>\n",
              "<p>15404 rows × 4 columns</p>\n",
              "</div>\n",
              "    <div class=\"colab-df-buttons\">\n",
              "\n",
              "  <div class=\"colab-df-container\">\n",
              "    <button class=\"colab-df-convert\" onclick=\"convertToInteractive('df-a18b8a2d-7a8b-4531-b241-a3ba90ee2777')\"\n",
              "            title=\"Convert this dataframe to an interactive table.\"\n",
              "            style=\"display:none;\">\n",
              "\n",
              "  <svg xmlns=\"http://www.w3.org/2000/svg\" height=\"24px\" viewBox=\"0 -960 960 960\">\n",
              "    <path d=\"M120-120v-720h720v720H120Zm60-500h600v-160H180v160Zm220 220h160v-160H400v160Zm0 220h160v-160H400v160ZM180-400h160v-160H180v160Zm440 0h160v-160H620v160ZM180-180h160v-160H180v160Zm440 0h160v-160H620v160Z\"/>\n",
              "  </svg>\n",
              "    </button>\n",
              "\n",
              "  <style>\n",
              "    .colab-df-container {\n",
              "      display:flex;\n",
              "      gap: 12px;\n",
              "    }\n",
              "\n",
              "    .colab-df-convert {\n",
              "      background-color: #E8F0FE;\n",
              "      border: none;\n",
              "      border-radius: 50%;\n",
              "      cursor: pointer;\n",
              "      display: none;\n",
              "      fill: #1967D2;\n",
              "      height: 32px;\n",
              "      padding: 0 0 0 0;\n",
              "      width: 32px;\n",
              "    }\n",
              "\n",
              "    .colab-df-convert:hover {\n",
              "      background-color: #E2EBFA;\n",
              "      box-shadow: 0px 1px 2px rgba(60, 64, 67, 0.3), 0px 1px 3px 1px rgba(60, 64, 67, 0.15);\n",
              "      fill: #174EA6;\n",
              "    }\n",
              "\n",
              "    .colab-df-buttons div {\n",
              "      margin-bottom: 4px;\n",
              "    }\n",
              "\n",
              "    [theme=dark] .colab-df-convert {\n",
              "      background-color: #3B4455;\n",
              "      fill: #D2E3FC;\n",
              "    }\n",
              "\n",
              "    [theme=dark] .colab-df-convert:hover {\n",
              "      background-color: #434B5C;\n",
              "      box-shadow: 0px 1px 3px 1px rgba(0, 0, 0, 0.15);\n",
              "      filter: drop-shadow(0px 1px 2px rgba(0, 0, 0, 0.3));\n",
              "      fill: #FFFFFF;\n",
              "    }\n",
              "  </style>\n",
              "\n",
              "    <script>\n",
              "      const buttonEl =\n",
              "        document.querySelector('#df-a18b8a2d-7a8b-4531-b241-a3ba90ee2777 button.colab-df-convert');\n",
              "      buttonEl.style.display =\n",
              "        google.colab.kernel.accessAllowed ? 'block' : 'none';\n",
              "\n",
              "      async function convertToInteractive(key) {\n",
              "        const element = document.querySelector('#df-a18b8a2d-7a8b-4531-b241-a3ba90ee2777');\n",
              "        const dataTable =\n",
              "          await google.colab.kernel.invokeFunction('convertToInteractive',\n",
              "                                                    [key], {});\n",
              "        if (!dataTable) return;\n",
              "\n",
              "        const docLinkHtml = 'Like what you see? Visit the ' +\n",
              "          '<a target=\"_blank\" href=https://colab.research.google.com/notebooks/data_table.ipynb>data table notebook</a>'\n",
              "          + ' to learn more about interactive tables.';\n",
              "        element.innerHTML = '';\n",
              "        dataTable['output_type'] = 'display_data';\n",
              "        await google.colab.output.renderOutput(dataTable, element);\n",
              "        const docLink = document.createElement('div');\n",
              "        docLink.innerHTML = docLinkHtml;\n",
              "        element.appendChild(docLink);\n",
              "      }\n",
              "    </script>\n",
              "  </div>\n",
              "\n",
              "\n",
              "<div id=\"df-21868888-948c-4319-98d5-37baf14cf0fb\">\n",
              "  <button class=\"colab-df-quickchart\" onclick=\"quickchart('df-21868888-948c-4319-98d5-37baf14cf0fb')\"\n",
              "            title=\"Suggest charts.\"\n",
              "            style=\"display:none;\">\n",
              "\n",
              "<svg xmlns=\"http://www.w3.org/2000/svg\" height=\"24px\"viewBox=\"0 0 24 24\"\n",
              "     width=\"24px\">\n",
              "    <g>\n",
              "        <path d=\"M19 3H5c-1.1 0-2 .9-2 2v14c0 1.1.9 2 2 2h14c1.1 0 2-.9 2-2V5c0-1.1-.9-2-2-2zM9 17H7v-7h2v7zm4 0h-2V7h2v10zm4 0h-2v-4h2v4z\"/>\n",
              "    </g>\n",
              "</svg>\n",
              "  </button>\n",
              "\n",
              "<style>\n",
              "  .colab-df-quickchart {\n",
              "      --bg-color: #E8F0FE;\n",
              "      --fill-color: #1967D2;\n",
              "      --hover-bg-color: #E2EBFA;\n",
              "      --hover-fill-color: #174EA6;\n",
              "      --disabled-fill-color: #AAA;\n",
              "      --disabled-bg-color: #DDD;\n",
              "  }\n",
              "\n",
              "  [theme=dark] .colab-df-quickchart {\n",
              "      --bg-color: #3B4455;\n",
              "      --fill-color: #D2E3FC;\n",
              "      --hover-bg-color: #434B5C;\n",
              "      --hover-fill-color: #FFFFFF;\n",
              "      --disabled-bg-color: #3B4455;\n",
              "      --disabled-fill-color: #666;\n",
              "  }\n",
              "\n",
              "  .colab-df-quickchart {\n",
              "    background-color: var(--bg-color);\n",
              "    border: none;\n",
              "    border-radius: 50%;\n",
              "    cursor: pointer;\n",
              "    display: none;\n",
              "    fill: var(--fill-color);\n",
              "    height: 32px;\n",
              "    padding: 0;\n",
              "    width: 32px;\n",
              "  }\n",
              "\n",
              "  .colab-df-quickchart:hover {\n",
              "    background-color: var(--hover-bg-color);\n",
              "    box-shadow: 0 1px 2px rgba(60, 64, 67, 0.3), 0 1px 3px 1px rgba(60, 64, 67, 0.15);\n",
              "    fill: var(--button-hover-fill-color);\n",
              "  }\n",
              "\n",
              "  .colab-df-quickchart-complete:disabled,\n",
              "  .colab-df-quickchart-complete:disabled:hover {\n",
              "    background-color: var(--disabled-bg-color);\n",
              "    fill: var(--disabled-fill-color);\n",
              "    box-shadow: none;\n",
              "  }\n",
              "\n",
              "  .colab-df-spinner {\n",
              "    border: 2px solid var(--fill-color);\n",
              "    border-color: transparent;\n",
              "    border-bottom-color: var(--fill-color);\n",
              "    animation:\n",
              "      spin 1s steps(1) infinite;\n",
              "  }\n",
              "\n",
              "  @keyframes spin {\n",
              "    0% {\n",
              "      border-color: transparent;\n",
              "      border-bottom-color: var(--fill-color);\n",
              "      border-left-color: var(--fill-color);\n",
              "    }\n",
              "    20% {\n",
              "      border-color: transparent;\n",
              "      border-left-color: var(--fill-color);\n",
              "      border-top-color: var(--fill-color);\n",
              "    }\n",
              "    30% {\n",
              "      border-color: transparent;\n",
              "      border-left-color: var(--fill-color);\n",
              "      border-top-color: var(--fill-color);\n",
              "      border-right-color: var(--fill-color);\n",
              "    }\n",
              "    40% {\n",
              "      border-color: transparent;\n",
              "      border-right-color: var(--fill-color);\n",
              "      border-top-color: var(--fill-color);\n",
              "    }\n",
              "    60% {\n",
              "      border-color: transparent;\n",
              "      border-right-color: var(--fill-color);\n",
              "    }\n",
              "    80% {\n",
              "      border-color: transparent;\n",
              "      border-right-color: var(--fill-color);\n",
              "      border-bottom-color: var(--fill-color);\n",
              "    }\n",
              "    90% {\n",
              "      border-color: transparent;\n",
              "      border-bottom-color: var(--fill-color);\n",
              "    }\n",
              "  }\n",
              "</style>\n",
              "\n",
              "  <script>\n",
              "    async function quickchart(key) {\n",
              "      const quickchartButtonEl =\n",
              "        document.querySelector('#' + key + ' button');\n",
              "      quickchartButtonEl.disabled = true;  // To prevent multiple clicks.\n",
              "      quickchartButtonEl.classList.add('colab-df-spinner');\n",
              "      try {\n",
              "        const charts = await google.colab.kernel.invokeFunction(\n",
              "            'suggestCharts', [key], {});\n",
              "      } catch (error) {\n",
              "        console.error('Error during call to suggestCharts:', error);\n",
              "      }\n",
              "      quickchartButtonEl.classList.remove('colab-df-spinner');\n",
              "      quickchartButtonEl.classList.add('colab-df-quickchart-complete');\n",
              "    }\n",
              "    (() => {\n",
              "      let quickchartButtonEl =\n",
              "        document.querySelector('#df-21868888-948c-4319-98d5-37baf14cf0fb button');\n",
              "      quickchartButtonEl.style.display =\n",
              "        google.colab.kernel.accessAllowed ? 'block' : 'none';\n",
              "    })();\n",
              "  </script>\n",
              "</div>\n",
              "    </div>\n",
              "  </div>\n"
            ],
            "text/plain": [
              "          id                                     title  \\\n",
              "0          1          get chewy chocolate chip cookies   \n",
              "1          2                           cook bacon oven   \n",
              "2          3               difference white brown eggs   \n",
              "3          4      difference baking soda baking powder   \n",
              "4          5           tomato sauce recipe cut acidity   \n",
              "...      ...                                       ...   \n",
              "15399  73670                     poached eggs altitude   \n",
              "15400  73678  thicken buttercream without adding sugar   \n",
              "15401  73680      looking old italian recipe chamellas   \n",
              "15402  73681       make ice cream artificial sweetener   \n",
              "15403  73683                        white bits nutella   \n",
              "\n",
              "                                                 content  \\\n",
              "0      chocolate chips cookies always crisp get chewy...   \n",
              "1      heard people cooking bacon oven laying strips ...   \n",
              "2      always use brown extra large eggs honestly say...   \n",
              "3                          use one place certain recipes   \n",
              "4      seems every time make tomato sauce pasta sauce...   \n",
              "...                                                  ...   \n",
              "15399  recently signed america test kitchen cooking s...   \n",
              "15400  made buttercream frosting brownies using recip...   \n",
              "15401  italian mom gowould pour flour board place egg...   \n",
              "15402  wonder artificial sweetener like sucralose ery...   \n",
              "15403  top side showing bits surface recently discove...   \n",
              "\n",
              "                                                    tags  \n",
              "0                       ['baking', 'cookies', 'texture']  \n",
              "1                      ['oven', 'cooking-time', 'bacon']  \n",
              "2                                               ['eggs']  \n",
              "3      ['substitutions', 'please-remove-this-tag', 'b...  \n",
              "4      ['sauce', 'pasta', 'tomatoes', 'italian-cuisine']  \n",
              "...                                                  ...  \n",
              "15399              ['eggs', 'poaching', 'high-altitude']  \n",
              "15400                                       ['frosting']  \n",
              "15401                                         ['baking']  \n",
              "15402                                      ['ice-cream']  \n",
              "15403            ['fats', 'food-identification', 'mold']  \n",
              "\n",
              "[15404 rows x 4 columns]"
            ]
          },
          "execution_count": 7,
          "metadata": {},
          "output_type": "execute_result"
        }
      ],
      "source": [
        "import pandas as pd\n",
        "\n",
        "Data = pd.read_csv(\"DS3_C2_S3_CookingReview_Data_Challenge.csv\")\n",
        "Data"
      ]
    },
    {
      "cell_type": "markdown",
      "metadata": {
        "id": "BhA5gORr1kGi"
      },
      "source": [
        "## **Task 1.4: Check the missing value**"
      ]
    },
    {
      "cell_type": "code",
      "execution_count": null,
      "metadata": {
        "colab": {
          "base_uri": "https://localhost:8080/"
        },
        "id": "es1TbLlYafA3",
        "outputId": "44fb4c5d-0ed1-4143-bfdb-30bafd296b6a"
      },
      "outputs": [
        {
          "data": {
            "text/plain": [
              "id         0\n",
              "title      0\n",
              "content    0\n",
              "tags       0\n",
              "dtype: int64"
            ]
          },
          "execution_count": 8,
          "metadata": {},
          "output_type": "execute_result"
        }
      ],
      "source": [
        "Data.isnull().sum()"
      ]
    },
    {
      "cell_type": "markdown",
      "metadata": {
        "id": "T3qE33uucIro"
      },
      "source": [
        "## **Task 2.1: Use nltk and remoce the stop words from the review text of the 'content' attribute**"
      ]
    },
    {
      "cell_type": "code",
      "execution_count": null,
      "metadata": {
        "colab": {
          "base_uri": "https://localhost:8080/",
          "height": 140
        },
        "id": "rS1PbAHnafCa",
        "outputId": "43a379d9-7e0c-4c08-d1a6-2a15f244c846"
      },
      "outputs": [
        {
          "data": {
            "application/vnd.google.colaboratory.intrinsic+json": {
              "type": "string"
            },
            "text/plain": [
              "'chocolate chips cookies always crisp get chewy cookies like starbucks thank everyone answered far tip biggest impact chill rest dough however also increased brown sugar ratio increased bit butter also adding maple syrup helped heard people cooking bacon oven laying strips cookie sheet using method long cook bacon temperature always use brown extra large eggs honestly say habit point distinct advantages disadvantages like flavor shelf life etc use one place certain recipes seems every time make tomato sauce pasta sauce little bit acid taste tried using sugar sodium bicarbonate satisfied results recipe calls fresh parsley substituted fresh herbs dried equivalents fresh dried parsley something else ex another dried herb use instead parsley know used mainly looks rather taste pasta recipe calls 2 tablespoons parsley sauce another 2 tablespoons top done know parsley top looks must something taste otherwise would call parsley within sauce well would especially like hear substitutes available southeast asia parts world obvious answers cilantro widely available like know take steaks grill please everybody best method poach egg without turning eggy soupy mess ice cream feel creamy enough got recipe good eats tell recipe maybe getting batter cold enough try make let chill overnight refrigerator always come machine looking like soft serve said show usually little thinner recipe thanks interested baking thighs legs breasts wings long items need bake temperature fallen love wonderful cedar planked salmon recipe two times made turned excellently meats meat substitutes grilled cedar take much distinctive wood flavor really advantage sifting flour bought labeled sifted roast goose decant fat strain freeze typically get pint seems work well chip suitably sized pieces frozen block use necessary best way store long leave freezer longer safe use safe reliable instructions including high low altitude canning found canning know spices like garlic black pepper foods typically put spices l'"
            ]
          },
          "execution_count": 16,
          "metadata": {},
          "output_type": "execute_result"
        }
      ],
      "source": [
        "Data_string = \" \".join(x for x in Data['content'])\n",
        "\n",
        "Data_string[0:2000]    # [0:2000] = for first 2000 characters including white space"
      ]
    },
    {
      "cell_type": "code",
      "execution_count": null,
      "metadata": {
        "colab": {
          "base_uri": "https://localhost:8080/"
        },
        "id": "oH2dnJ9njDpA",
        "outputId": "a33d14ef-8054-4dd5-c135-97114c0e1efa"
      },
      "outputs": [
        {
          "data": {
            "text/plain": [
              "4571879"
            ]
          },
          "execution_count": 15,
          "metadata": {},
          "output_type": "execute_result"
        }
      ],
      "source": [
        "len(Data_string)"
      ]
    },
    {
      "cell_type": "code",
      "execution_count": null,
      "metadata": {
        "colab": {
          "base_uri": "https://localhost:8080/"
        },
        "id": "-U7jStDPwNoe",
        "outputId": "59c477bd-5ae4-4d0c-c601-bfa5e3053971"
      },
      "outputs": [
        {
          "name": "stderr",
          "output_type": "stream",
          "text": [
            "[nltk_data] Downloading package stopwords to /root/nltk_data...\n",
            "[nltk_data]   Unzipping corpora/stopwords.zip.\n",
            "[nltk_data] Downloading package punkt to /root/nltk_data...\n",
            "[nltk_data]   Unzipping tokenizers/punkt.zip.\n"
          ]
        },
        {
          "data": {
            "text/plain": [
              "True"
            ]
          },
          "execution_count": 19,
          "metadata": {},
          "output_type": "execute_result"
        }
      ],
      "source": [
        "import nltk\n",
        "nltk.download('stopwords')\n",
        "nltk.download('punkt')"
      ]
    },
    {
      "cell_type": "code",
      "execution_count": null,
      "metadata": {
        "colab": {
          "base_uri": "https://localhost:8080/"
        },
        "id": "refa1jrTwN4B",
        "outputId": "a0b455fe-9e42-42b9-b174-ea21dc56d957"
      },
      "outputs": [
        {
          "name": "stdout",
          "output_type": "stream",
          "text": [
            "['chocolate', 'chips', 'cookies', 'always', 'crisp', 'get', 'chewy', 'cookies', 'like', 'starbucks', 'thank', 'everyone', 'answered', 'far', 'tip', 'biggest', 'impact', 'chill', 'rest', 'dough', 'however', 'also', 'increased', 'brown', 'sugar', 'ratio', 'increased', 'bit', 'butter', 'also', 'adding', 'maple', 'syrup', 'helped', 'heard', 'people', 'cooking', 'bacon', 'oven', 'laying', 'strips', 'cookie', 'sheet', 'using', 'method', 'long', 'cook', 'bacon', 'temperature', 'always', 'use', 'brown', 'extra', 'large', 'eggs', 'honestly', 'say', 'habit', 'point', 'distinct', 'advantages', 'disadvantages', 'like', 'flavor', 'shelf', 'life', 'etc', 'use', 'one', 'place', 'certain', 'recipes', 'seems', 'every', 'time', 'make', 'tomato', 'sauce', 'pasta', 'sauce', 'little', 'bit', 'acid', 'taste', 'tried', 'using', 'sugar', 'sodium', 'bicarbonate', 'satisfied', 'results', 'recipe', 'calls', 'fresh', 'parsley', 'substituted', 'fresh', 'herbs', 'dried', 'equivalents', 'fresh', 'dried', 'parsley', 'something', 'else', 'ex', 'another', 'dried', 'herb', 'use', 'instead', 'parsley', 'know', 'used', 'mainly', 'looks', 'rather', 'taste', 'pasta', 'recipe', 'calls', '2', 'tablespoons', 'parsley', 'sauce', 'another', '2', 'tablespoons', 'top', 'done', 'know', 'parsley', 'top', 'looks', 'must', 'something', 'taste', 'otherwise', 'would', 'call', 'parsley', 'within', 'sauce', 'well', 'would', 'especially', 'like', 'hear', 'substitutes', 'available']\n"
          ]
        }
      ],
      "source": [
        "#using nltk remove stopwords\n",
        "from nltk.tokenize import sent_tokenize,word_tokenize\n",
        "from nltk.corpus import stopwords\n",
        "ex_sent = Data_string[0:1000]\n",
        "stop_words = set(stopwords.words('english'))\n",
        "word_tokens = word_tokenize(ex_sent)\n",
        "filtered_sentence = [w for w in word_tokens if not w.lower() in stop_words]\n",
        "filtered_sentence = []\n",
        "\n",
        "for w in word_tokens:\n",
        "  if w not in stop_words:\n",
        "    filtered_sentence.append(w)\n",
        "\n",
        "print(filtered_sentence)"
      ]
    },
    {
      "cell_type": "markdown",
      "metadata": {
        "id": "rY_9R6bR2DX4"
      },
      "source": [
        "## **Task 2.2: Use SpaCy and remoce the stop words from the review text of the 'content' attribute**"
      ]
    },
    {
      "cell_type": "code",
      "execution_count": null,
      "metadata": {
        "colab": {
          "base_uri": "https://localhost:8080/"
        },
        "id": "XCz9WF-QafFw",
        "outputId": "a6795f56-9ec2-4bf1-9b26-d2f6b3b9d10b"
      },
      "outputs": [
        {
          "name": "stdout",
          "output_type": "stream",
          "text": [
            "\n",
            " \n",
            "Filtered Sentences : [chocolate, chips, cookies, crisp, chewy, cookies, like, starbucks, thank, answered, far, tip, biggest, impact, chill, rest, dough, increased, brown, sugar, ratio, increased, bit, butter, adding, maple, syrup, helped, heard, people, cooking, bacon, oven, laying, strips, cookie, sheet, method, long, cook, bacon, temperature, use, brown, extra, large, eggs, honestly, habit, point, distinct, advantages, disadvantages, like, flavor, shelf, life, etc, use, place, certain, recipes, time, tomato, sauce, pasta, sauce, little, bit, acid, taste, tried, sugar, sodium, bicarbonate, satisfied, results, recipe, calls, fresh, parsley, substituted, fresh, herbs, dried, equivalents, fresh, dried, parsley, ex, dried, herb, use, instead, parsley, know, mainly, looks, taste, pasta, recipe, calls, 2, tablespoons, parsley, sauce, 2, tablespoons, know, parsley, looks, taste, parsley, sauce, especially, like, hear, substitutes, available]\n"
          ]
        }
      ],
      "source": [
        "#using spacy remove stop words\n",
        "from spacy.lang.en.stop_words import STOP_WORDS\n",
        "filtered_sent = []\n",
        "doc = nlp(Data_string[0:1000]) # nlp : tokenization, lemmatization, etc..\n",
        "for word in doc:\n",
        "  if word.is_stop == False:\n",
        "    filtered_sent.append(word)\n",
        "print(\"\\n \\nFiltered Sentences :\", filtered_sent)"
      ]
    },
    {
      "cell_type": "markdown",
      "metadata": {
        "id": "_-tIQYhW2b6o"
      },
      "source": [
        "SpaCy is better to remove the Stop Words"
      ]
    },
    {
      "cell_type": "markdown",
      "metadata": {
        "id": "ypIB5on4x541"
      },
      "source": [
        "## **Task 3.1: Capture the first reviewed text from the first row**"
      ]
    },
    {
      "cell_type": "code",
      "execution_count": null,
      "metadata": {
        "colab": {
          "base_uri": "https://localhost:8080/"
        },
        "id": "ed0TDNc4afHG",
        "outputId": "e4230f07-393a-49fe-a4ff-d8fe4c751b97"
      },
      "outputs": [
        {
          "data": {
            "text/plain": [
              "['chocolate',\n",
              " 'chips',\n",
              " 'cookies',\n",
              " 'always',\n",
              " 'crisp',\n",
              " 'get',\n",
              " 'chewy',\n",
              " 'cookies',\n",
              " 'like',\n",
              " 'starbucks',\n",
              " 'thank',\n",
              " 'everyone',\n",
              " 'answered',\n",
              " 'far',\n",
              " 'tip',\n",
              " 'biggest',\n",
              " 'impact',\n",
              " 'chill',\n",
              " 'rest',\n",
              " 'dough',\n",
              " 'however',\n",
              " 'also',\n",
              " 'increased',\n",
              " 'brown',\n",
              " 'sugar',\n",
              " 'ratio',\n",
              " 'increased',\n",
              " 'bit',\n",
              " 'butter',\n",
              " 'also',\n",
              " 'adding',\n",
              " 'maple',\n",
              " 'syrup',\n",
              " 'helped']"
            ]
          },
          "execution_count": 23,
          "metadata": {},
          "output_type": "execute_result"
        }
      ],
      "source": [
        "a=str(Data['content'][0]).split()\n",
        "a"
      ]
    },
    {
      "cell_type": "markdown",
      "metadata": {
        "id": "w1BpZpQc2tQr"
      },
      "source": [
        "## **Task 3.2: Apply stemming using nltk on the reviewed text and print stem**"
      ]
    },
    {
      "cell_type": "code",
      "execution_count": null,
      "metadata": {
        "colab": {
          "base_uri": "https://localhost:8080/"
        },
        "id": "fq0wiJcDafK3",
        "outputId": "00695e30-c211-41cd-d6a3-046b98bf506d"
      },
      "outputs": [
        {
          "name": "stdout",
          "output_type": "stream",
          "text": [
            "chocolate | chocol\n",
            "chips | chip\n",
            "cookies | cooki\n",
            "always | alway\n",
            "crisp | crisp\n",
            "get | get\n",
            "chewy | chewi\n",
            "cookies | cooki\n",
            "like | like\n",
            "starbucks | starbuck\n",
            "thank | thank\n",
            "everyone | everyon\n",
            "answered | answer\n",
            "far | far\n",
            "tip | tip\n",
            "biggest | biggest\n",
            "impact | impact\n",
            "chill | chill\n",
            "rest | rest\n",
            "dough | dough\n",
            "however | howev\n",
            "also | also\n",
            "increased | increas\n",
            "brown | brown\n",
            "sugar | sugar\n",
            "ratio | ratio\n",
            "increased | increas\n",
            "bit | bit\n",
            "butter | butter\n",
            "also | also\n",
            "adding | ad\n",
            "maple | mapl\n",
            "syrup | syrup\n",
            "helped | help\n"
          ]
        }
      ],
      "source": [
        "from nltk.stem import snowball\n",
        "import nltk\n",
        "from nltk.stem.snowball import SnowballStemmer\n",
        "stemmer =SnowballStemmer(language='english')\n",
        "tokens = a\n",
        "\n",
        "for token in tokens:\n",
        "  print(token + \" | \" + stemmer.stem(token))"
      ]
    },
    {
      "cell_type": "markdown",
      "metadata": {
        "id": "dbId8VMk28yC"
      },
      "source": [
        "## **Task 3.3: Apply lemmitization using the SpaCy library and print stema**"
      ]
    },
    {
      "cell_type": "code",
      "execution_count": null,
      "metadata": {
        "colab": {
          "base_uri": "https://localhost:8080/"
        },
        "id": "Xh3b2AWoyorO",
        "outputId": "88d0f819-4a62-4b56-f697-aff224e87ac2"
      },
      "outputs": [
        {
          "name": "stdout",
          "output_type": "stream",
          "text": [
            "chocolate | chocolate\n",
            "chips | chip\n",
            "cookies | cookie\n",
            "always | always\n",
            "crisp | crisp\n",
            "get | get\n",
            "chewy | chewy\n",
            "cookies | cookie\n",
            "like | like\n",
            "starbucks | starbuck\n",
            "thank | thank\n",
            "everyone | everyone\n",
            "answered | answer\n",
            "far | far\n",
            "tip | tip\n",
            "biggest | big\n",
            "impact | impact\n",
            "chill | chill\n",
            "rest | rest\n",
            "dough | dough\n",
            "however | however\n",
            "also | also\n",
            "increased | increase\n",
            "brown | brown\n",
            "sugar | sugar\n",
            "ratio | ratio\n",
            "increased | increase\n",
            "bit | bit\n",
            "butter | butter\n",
            "also | also\n",
            "adding | add\n",
            "maple | maple\n",
            "syrup | syrup\n",
            "helped | help\n"
          ]
        }
      ],
      "source": [
        "doc = nlp(Data['content'][0])\n",
        "for token in doc:\n",
        "  print(token.text, \"|\",token.lemma_)"
      ]
    },
    {
      "cell_type": "markdown",
      "metadata": {
        "id": "hFWUnLAg0eIB"
      },
      "source": [
        "Lamitization show good accuracy"
      ]
    },
    {
      "cell_type": "markdown",
      "metadata": {
        "id": "OGMf9G2P0mSN"
      },
      "source": [
        "## **Task 4:**"
      ]
    },
    {
      "cell_type": "code",
      "execution_count": null,
      "metadata": {
        "colab": {
          "base_uri": "https://localhost:8080/"
        },
        "id": "H6t7TQBmyosx",
        "outputId": "5ce39a66-28df-4fca-8f27-94cd497490ad"
      },
      "outputs": [
        {
          "name": "stdout",
          "output_type": "stream",
          "text": [
            "chocolate  |  NOUN  |  NN\n",
            "chips  |  NOUN  |  NNS\n",
            "cookies  |  NOUN  |  NNS\n",
            "always  |  ADV  |  RB\n",
            "crisp  |  ADV  |  RB\n",
            "get  |  VERB  |  VB\n",
            "chewy  |  NOUN  |  NNS\n",
            "cookies  |  NOUN  |  NNS\n",
            "like  |  ADP  |  IN\n",
            "starbucks  |  NOUN  |  NNS\n",
            "thank  |  VERB  |  VBP\n",
            "everyone  |  PRON  |  NN\n",
            "answered  |  VERB  |  VBD\n",
            "far  |  ADV  |  RB\n",
            "tip  |  NOUN  |  NN\n",
            "biggest  |  ADJ  |  JJS\n",
            "impact  |  NOUN  |  NN\n",
            "chill  |  NOUN  |  NN\n",
            "rest  |  NOUN  |  NN\n",
            "dough  |  NOUN  |  NN\n",
            "however  |  ADV  |  RB\n",
            "also  |  ADV  |  RB\n",
            "increased  |  VERB  |  VBD\n",
            "brown  |  ADJ  |  JJ\n",
            "sugar  |  NOUN  |  NN\n",
            "ratio  |  NOUN  |  NN\n",
            "increased  |  VERB  |  VBD\n",
            "bit  |  NOUN  |  NN\n",
            "butter  |  NOUN  |  NN\n",
            "also  |  ADV  |  RB\n",
            "adding  |  VERB  |  VBG\n",
            "maple  |  ADJ  |  JJ\n",
            "syrup  |  NOUN  |  NN\n",
            "helped  |  VERB  |  VBD\n"
          ]
        }
      ],
      "source": [
        "# 1) print pos and tag\n",
        "for token in doc:\n",
        "  print(token.text,\" | \", token.pos_, \" | \", token.tag_ )"
      ]
    },
    {
      "cell_type": "code",
      "execution_count": null,
      "metadata": {
        "colab": {
          "base_uri": "https://localhost:8080/"
        },
        "id": "fLiZ96d5yovX",
        "outputId": "149ded2a-6a28-4261-95e5-9418beac07b4"
      },
      "outputs": [
        {
          "name": "stdout",
          "output_type": "stream",
          "text": [
            "count of noun words = 16\n",
            "count of adv words = 6\n",
            "count of verb words = 7\n",
            "count of adp words = 1\n",
            "count of adj words = 3\n"
          ]
        }
      ],
      "source": [
        "# 2) Print count of each part type of speech\n",
        "noun = []\n",
        "adv = []\n",
        "verb = []\n",
        "adp = []\n",
        "adj = []\n",
        "\n",
        "for word in doc:\n",
        "    if word.pos_=='NOUN':\n",
        "    noun.append(word)\n",
        "    if word.pos_=='ADV':\n",
        "    adv.append(word)\n",
        "    if word.pos_=='VERB':\n",
        "    verb.append(word)\n",
        "    if word.pos_ == 'ADP':\n",
        "    adp.append(word)\n",
        "    if word.pos_ == 'ADJ':\n",
        "    adj.append(word)\n",
        "\n",
        "print(\"count of noun words = {}\".format(len(noun)))\n",
        "print(\"count of adv words = {}\".format(len(adv)))\n",
        "print(\"count of verb words = {}\".format(len(verb)))\n",
        "print(\"count of adp words = {}\".format(len(adp)))\n",
        "print(\"count of adj words = {}\".format(len(adj)))"
      ]
    }
  ],
  "metadata": {
    "colab": {
      "provenance": []
    },
    "kernelspec": {
      "display_name": "Python 3 (ipykernel)",
      "language": "python",
      "name": "python3"
    },
    "language_info": {
      "codemirror_mode": {
        "name": "ipython",
        "version": 3
      },
      "file_extension": ".py",
      "mimetype": "text/x-python",
      "name": "python",
      "nbconvert_exporter": "python",
      "pygments_lexer": "ipython3",
      "version": "3.10.9"
    }
  },
  "nbformat": 4,
  "nbformat_minor": 0
}