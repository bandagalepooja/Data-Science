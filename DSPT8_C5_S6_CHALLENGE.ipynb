{
 "cells": [
  {
   "cell_type": "markdown",
   "id": "53d6088a",
   "metadata": {},
   "source": [
    "# Hypothesis Test I Challenge"
   ]
  },
  {
   "cell_type": "code",
   "execution_count": 1,
   "id": "972571ac",
   "metadata": {},
   "outputs": [],
   "source": [
    "import pandas as pd\n",
    "import numpy as np\n",
    "import matplotlib.pyplot as plt\n",
    "import seaborn as sb\n",
    "import scipy.stats as st"
   ]
  },
  {
   "cell_type": "markdown",
   "id": "e677e0ec",
   "metadata": {},
   "source": [
    "# Task-1"
   ]
  },
  {
   "cell_type": "code",
   "execution_count": 2,
   "id": "bda33041",
   "metadata": {},
   "outputs": [],
   "source": [
    "pop_mean1=4.3\n",
    "pop_std1=0.574\n",
    "sam_mean1=4.09375\n",
    "alpha1=0.1\n",
    "n1=32"
   ]
  },
  {
   "cell_type": "markdown",
   "id": "ba1c1a14",
   "metadata": {},
   "source": [
    "# A. What is Null & Alternate Hypothesis and type of tailed test to be performed"
   ]
  },
  {
   "cell_type": "markdown",
   "id": "7311cd44",
   "metadata": {},
   "source": [
    "H0: mean>=4.3\n",
    "Ha: mean<4.3\n",
    "Left Tailed Test To Be Performed"
   ]
  },
  {
   "cell_type": "markdown",
   "id": "6d27a061",
   "metadata": {},
   "source": [
    "# B. Using alpha=0.1, what is critical value of hypothesis test ?"
   ]
  },
  {
   "cell_type": "code",
   "execution_count": 3,
   "id": "8a77aed6",
   "metadata": {},
   "outputs": [
    {
     "data": {
      "text/plain": [
       "-1.2815515655446004"
      ]
     },
     "execution_count": 3,
     "metadata": {},
     "output_type": "execute_result"
    }
   ],
   "source": [
    "zc1=st.norm.ppf(alpha1)\n",
    "zc1"
   ]
  },
  {
   "cell_type": "markdown",
   "id": "41c0f3f3",
   "metadata": {},
   "source": [
    "# C. What are the test statistics for hypothesis test ?"
   ]
  },
  {
   "cell_type": "markdown",
   "id": "b79f715b",
   "metadata": {},
   "source": [
    "As Sample Size is given 32 which is greater than 30, population standard deviation 0.574 is given & data is normally distributed. Hence Z test can be performed "
   ]
  },
  {
   "cell_type": "markdown",
   "id": "4db89cb3",
   "metadata": {},
   "source": [
    "# D. Calculate the p-value for hypothesis test."
   ]
  },
  {
   "cell_type": "code",
   "execution_count": 4,
   "id": "d26adb4e",
   "metadata": {},
   "outputs": [
    {
     "data": {
      "text/plain": [
       "-2.032624022574569"
      ]
     },
     "execution_count": 4,
     "metadata": {},
     "output_type": "execute_result"
    }
   ],
   "source": [
    "zs1=(sam_mean1-pop_mean1)/(pop_std1/np.sqrt(n1))\n",
    "zs1"
   ]
  },
  {
   "cell_type": "code",
   "execution_count": 5,
   "id": "905ca508",
   "metadata": {},
   "outputs": [
    {
     "data": {
      "text/plain": [
       "0.021045261297323523"
      ]
     },
     "execution_count": 5,
     "metadata": {},
     "output_type": "execute_result"
    }
   ],
   "source": [
    "pvalue1=st.norm.cdf(zs1)\n",
    "pvalue1"
   ]
  },
  {
   "cell_type": "markdown",
   "id": "fdef85aa",
   "metadata": {},
   "source": [
    "# E. Draw the conclusion"
   ]
  },
  {
   "cell_type": "code",
   "execution_count": 6,
   "id": "1cafe2d7",
   "metadata": {},
   "outputs": [
    {
     "name": "stdout",
     "output_type": "stream",
     "text": [
      "Null Hypothesis Rejected\n"
     ]
    }
   ],
   "source": [
    "if zc1<zs1 and pvalue>alpha:\n",
    "     print('Null Hypothesis Accepted')\n",
    "else:\n",
    "    print('Null Hypothesis Rejected')"
   ]
  },
  {
   "cell_type": "markdown",
   "id": "e77c80e5",
   "metadata": {},
   "source": [
    "# Task-2"
   ]
  },
  {
   "cell_type": "code",
   "execution_count": 7,
   "id": "a3f3cead",
   "metadata": {},
   "outputs": [],
   "source": [
    "n21=33\n",
    "n22=30\n",
    "var21=0.028\n",
    "var22=0.015\n",
    "alpha2=0.01"
   ]
  },
  {
   "cell_type": "code",
   "execution_count": 8,
   "id": "46f2c20b",
   "metadata": {},
   "outputs": [
    {
     "data": {
      "text/plain": [
       "Index(['California', 'Florida'], dtype='object')"
      ]
     },
     "execution_count": 8,
     "metadata": {},
     "output_type": "execute_result"
    }
   ],
   "source": [
    "df=pd.read_csv('DS1_C5_S6_Hypothesis_I_Practice_CityPrice_Data.csv')\n",
    "df.columns"
   ]
  },
  {
   "cell_type": "code",
   "execution_count": 9,
   "id": "78b1198b",
   "metadata": {},
   "outputs": [],
   "source": [
    "sam_mean21=df['California'].sample(n21).mean()\n",
    "sam_mean22=df['Florida'].sample(n22).mean()"
   ]
  },
  {
   "cell_type": "markdown",
   "id": "1ec15581",
   "metadata": {},
   "source": [
    "# A. What is Null & Alternate Hypothesis and type of tailed test to be performed"
   ]
  },
  {
   "cell_type": "markdown",
   "id": "e9986f03",
   "metadata": {},
   "source": [
    "H0: mean1=mean2        \n",
    "#avg health drink price in california and florida is same\n",
    "Ha: mean1=!mean2      \n",
    "#avg health drink price in california and florida is not same\n",
    "Two tailed test to be perform"
   ]
  },
  {
   "cell_type": "markdown",
   "id": "f85d9fee",
   "metadata": {},
   "source": [
    "# B. Using alpha=0.01, what is critical value of hypothesis test ?"
   ]
  },
  {
   "cell_type": "code",
   "execution_count": 10,
   "id": "7d6b60f0",
   "metadata": {},
   "outputs": [
    {
     "name": "stdout",
     "output_type": "stream",
     "text": [
      "Negative Zc :  -2.575829303548901\n",
      "Positive Zc :  2.5758293035489004\n"
     ]
    }
   ],
   "source": [
    "neg_zc2=st.norm.ppf(alpha2/2)\n",
    "pos_zc2=st.norm.ppf(1-(alpha2/2))\n",
    "print('Negative Zc : ',neg_zc2)\n",
    "print('Positive Zc : ',pos_zc2)"
   ]
  },
  {
   "cell_type": "markdown",
   "id": "ac611d1b",
   "metadata": {},
   "source": [
    "# C. What are the test statistics for hypothesis test ?"
   ]
  },
  {
   "cell_type": "markdown",
   "id": "2ea74d19",
   "metadata": {},
   "source": [
    "Z test to be perform"
   ]
  },
  {
   "cell_type": "code",
   "execution_count": 11,
   "id": "a985a75c",
   "metadata": {},
   "outputs": [
    {
     "data": {
      "text/plain": [
       "2.679362510838403"
      ]
     },
     "execution_count": 11,
     "metadata": {},
     "output_type": "execute_result"
    }
   ],
   "source": [
    "Nr=sam_mean21-sam_mean22\n",
    "Dr=np.sqrt((var21/n21)+(var22/n22))\n",
    "zs2=Nr/Dr\n",
    "zs2"
   ]
  },
  {
   "cell_type": "markdown",
   "id": "0474cd55",
   "metadata": {},
   "source": [
    "# D. Calculate the p-value for hypothesis test."
   ]
  },
  {
   "cell_type": "code",
   "execution_count": 12,
   "id": "f552ad10",
   "metadata": {},
   "outputs": [
    {
     "data": {
      "text/plain": [
       "0.007376248857159335"
      ]
     },
     "execution_count": 12,
     "metadata": {},
     "output_type": "execute_result"
    }
   ],
   "source": [
    "pvalue2=2*st.norm.sf(abs(zs2))\n",
    "pvalue2"
   ]
  },
  {
   "cell_type": "markdown",
   "id": "51173ffb",
   "metadata": {},
   "source": [
    "# E. Draw the conclusion"
   ]
  },
  {
   "cell_type": "code",
   "execution_count": 13,
   "id": "b80aa427",
   "metadata": {},
   "outputs": [
    {
     "name": "stdout",
     "output_type": "stream",
     "text": [
      "Null Hypothesis is Rejected\n"
     ]
    }
   ],
   "source": [
    "if neg_zc2<zs2<pos_zc2 and pvalue2>alpha2:\n",
    "    print('Null Hypothesis is Accepted')\n",
    "else:\n",
    "    print('Null Hypothesis is Rejected')"
   ]
  },
  {
   "cell_type": "code",
   "execution_count": 14,
   "id": "8fe119b4",
   "metadata": {},
   "outputs": [],
   "source": [
    "#Avg price of helth drink in california and Florida is not same"
   ]
  },
  {
   "cell_type": "markdown",
   "id": "ff7a2250",
   "metadata": {},
   "source": [
    "# F.Compute 99 % confidence interval"
   ]
  },
  {
   "cell_type": "code",
   "execution_count": 15,
   "id": "dcaa68b5",
   "metadata": {},
   "outputs": [],
   "source": [
    "LI=(sam_mean21-sam_mean22)-(zs2*np.sqrt((var21/n21)+(var22/n22)))\n",
    "UI=(sam_mean21-sam_mean22)+(zs2*np.sqrt((var21/n21)+(var22/n22)))"
   ]
  },
  {
   "cell_type": "code",
   "execution_count": 16,
   "id": "80628e5c",
   "metadata": {},
   "outputs": [
    {
     "name": "stdout",
     "output_type": "stream",
     "text": [
      "Lower Interval :  0.0\n"
     ]
    }
   ],
   "source": [
    "print('Lower Interval : ',LI)"
   ]
  },
  {
   "cell_type": "code",
   "execution_count": 17,
   "id": "2161f347",
   "metadata": {},
   "outputs": [
    {
     "name": "stdout",
     "output_type": "stream",
     "text": [
      "Upper Interval :  0.2\n"
     ]
    }
   ],
   "source": [
    "print('Upper Interval : ',round(UI,1))"
   ]
  },
  {
   "cell_type": "markdown",
   "id": "2777d769",
   "metadata": {},
   "source": [
    "# Task 3"
   ]
  },
  {
   "cell_type": "code",
   "execution_count": 18,
   "id": "506a7838",
   "metadata": {},
   "outputs": [],
   "source": [
    "pop_mean3=44\n",
    "pop_std3=8.7\n",
    "sam_mean3=45.1\n",
    "alpha3=0.05\n",
    "n3=68"
   ]
  },
  {
   "cell_type": "markdown",
   "id": "dcc241fc",
   "metadata": {},
   "source": [
    "# A. What is Null & Alternate Hypothesis and type of tailed test to be performed"
   ]
  },
  {
   "cell_type": "markdown",
   "id": "f8622803",
   "metadata": {},
   "source": [
    "H0: mean<=44\n",
    "(Avg age of women stakeholders in New York Stock Exchange is 44)\n",
    "Ha: mean>44\n",
    "(Avg age of women stakeholders in New York Stock Exchange is greater than 44)\n",
    "Right Tailed Test To Be Performed"
   ]
  },
  {
   "cell_type": "markdown",
   "id": "9ccbe368",
   "metadata": {},
   "source": [
    "# B. Using alpha=0.05, what is critical value of hypothesis test ?"
   ]
  },
  {
   "cell_type": "code",
   "execution_count": 19,
   "id": "9f97817d",
   "metadata": {},
   "outputs": [
    {
     "data": {
      "text/plain": [
       "1.6448536269514722"
      ]
     },
     "execution_count": 19,
     "metadata": {},
     "output_type": "execute_result"
    }
   ],
   "source": [
    "zc3=st.norm.ppf(1-alpha3)\n",
    "zc3"
   ]
  },
  {
   "cell_type": "markdown",
   "id": "25cc6893",
   "metadata": {},
   "source": [
    "# C. What are the test statistics for hypothesis test ?"
   ]
  },
  {
   "cell_type": "markdown",
   "id": "e0db11d5",
   "metadata": {},
   "source": [
    "As Sample Size is given 68 which is greater than 30, population standard deviation 8.7 is given & data is normally distributed. Hence Z test can be performed "
   ]
  },
  {
   "cell_type": "code",
   "execution_count": 20,
   "id": "bbd45953",
   "metadata": {},
   "outputs": [
    {
     "data": {
      "text/plain": [
       "1.042624411075732"
      ]
     },
     "execution_count": 20,
     "metadata": {},
     "output_type": "execute_result"
    }
   ],
   "source": [
    "zs3=(sam_mean3-pop_mean3)/(pop_std3/np.sqrt(n3))\n",
    "zs3"
   ]
  },
  {
   "cell_type": "markdown",
   "id": "4505779b",
   "metadata": {},
   "source": [
    "# D. Calculate the p-value for hypothesis test."
   ]
  },
  {
   "cell_type": "code",
   "execution_count": 21,
   "id": "92538726",
   "metadata": {},
   "outputs": [
    {
     "data": {
      "text/plain": [
       "0.14856113941662097"
      ]
     },
     "execution_count": 21,
     "metadata": {},
     "output_type": "execute_result"
    }
   ],
   "source": [
    "pvalue3=1-st.norm.cdf(zs3)\n",
    "pvalue3"
   ]
  },
  {
   "cell_type": "markdown",
   "id": "7d130e13",
   "metadata": {},
   "source": [
    "# E. Draw the conclusion"
   ]
  },
  {
   "cell_type": "code",
   "execution_count": 22,
   "id": "291202d1",
   "metadata": {},
   "outputs": [
    {
     "name": "stdout",
     "output_type": "stream",
     "text": [
      "Null Hypothesis Accepted\n"
     ]
    }
   ],
   "source": [
    "if zs3<zc3 and pvalue3>alpha3:\n",
    "     print('Null Hypothesis Accepted')\n",
    "else:\n",
    "    print('Null Hypothesis Rejected')"
   ]
  },
  {
   "cell_type": "markdown",
   "id": "9095016b",
   "metadata": {},
   "source": [
    "Avg age of women stakeholders in New York Stock Exchange is 44"
   ]
  },
  {
   "cell_type": "code",
   "execution_count": null,
   "id": "1c98ef1c",
   "metadata": {},
   "outputs": [],
   "source": []
  }
 ],
 "metadata": {
  "kernelspec": {
   "display_name": "Python 3 (ipykernel)",
   "language": "python",
   "name": "python3"
  },
  "language_info": {
   "codemirror_mode": {
    "name": "ipython",
    "version": 3
   },
   "file_extension": ".py",
   "mimetype": "text/x-python",
   "name": "python",
   "nbconvert_exporter": "python",
   "pygments_lexer": "ipython3",
   "version": "3.9.13"
  }
 },
 "nbformat": 4,
 "nbformat_minor": 5
}
