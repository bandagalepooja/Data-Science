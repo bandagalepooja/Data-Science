{
 "cells": [
  {
   "cell_type": "markdown",
   "id": "9708badd",
   "metadata": {},
   "source": [
    "# Creating Data Frames Using Series"
   ]
  },
  {
   "cell_type": "code",
   "execution_count": 1,
   "id": "eb0d717b",
   "metadata": {},
   "outputs": [],
   "source": [
    "import pandas as pd\n",
    "import numpy as np"
   ]
  },
  {
   "cell_type": "markdown",
   "id": "ae3117bd",
   "metadata": {},
   "source": [
    "Task 1 : Generate student IDs for 40 students.Assign Student IDs as index values from 1001 to 1040"
   ]
  },
  {
   "cell_type": "code",
   "execution_count": 2,
   "id": "0922034a",
   "metadata": {},
   "outputs": [
    {
     "data": {
      "text/plain": [
       "1001     1\n",
       "1002     2\n",
       "1003     3\n",
       "1004     4\n",
       "1005     5\n",
       "1006     6\n",
       "1007     7\n",
       "1008     8\n",
       "1009     9\n",
       "1010    10\n",
       "1011    11\n",
       "1012    12\n",
       "1013    13\n",
       "1014    14\n",
       "1015    15\n",
       "1016    16\n",
       "1017    17\n",
       "1018    18\n",
       "1019    19\n",
       "1020    20\n",
       "1021    21\n",
       "1022    22\n",
       "1023    23\n",
       "1024    24\n",
       "1025    25\n",
       "1026    26\n",
       "1027    27\n",
       "1028    28\n",
       "1029    29\n",
       "1030    30\n",
       "1031    31\n",
       "1032    32\n",
       "1033    33\n",
       "1034    34\n",
       "1035    35\n",
       "1036    36\n",
       "1037    37\n",
       "1038    38\n",
       "1039    39\n",
       "1040    40\n",
       "dtype: int32"
      ]
     },
     "execution_count": 2,
     "metadata": {},
     "output_type": "execute_result"
    }
   ],
   "source": [
    "id=np.arange(1001,1041,1)\n",
    "x=pd.Series(np.arange(1,41,1),index=id)\n",
    "x"
   ]
  },
  {
   "cell_type": "markdown",
   "id": "f1d3b5f7",
   "metadata": {},
   "source": [
    "Task 2 : Store and display Mathematics Marks' obtained in level 1 test between 50 and 95"
   ]
  },
  {
   "cell_type": "code",
   "execution_count": 3,
   "id": "d2964b27",
   "metadata": {},
   "outputs": [
    {
     "data": {
      "text/plain": [
       "1001    64\n",
       "1002    95\n",
       "1003    61\n",
       "1004    53\n",
       "1005    50\n",
       "1006    88\n",
       "1007    88\n",
       "1008    53\n",
       "1009    93\n",
       "1010    76\n",
       "1011    56\n",
       "1012    62\n",
       "1013    60\n",
       "1014    82\n",
       "1015    87\n",
       "1016    93\n",
       "1017    81\n",
       "1018    82\n",
       "1019    56\n",
       "1020    60\n",
       "1021    65\n",
       "1022    76\n",
       "1023    68\n",
       "1024    50\n",
       "1025    94\n",
       "1026    80\n",
       "1027    80\n",
       "1028    85\n",
       "1029    76\n",
       "1030    69\n",
       "1031    68\n",
       "1032    79\n",
       "1033    52\n",
       "1034    53\n",
       "1035    59\n",
       "1036    85\n",
       "1037    58\n",
       "1038    92\n",
       "1039    85\n",
       "1040    95\n",
       "dtype: int32"
      ]
     },
     "execution_count": 3,
     "metadata": {},
     "output_type": "execute_result"
    }
   ],
   "source": [
    "math1=pd.Series(np.random.randint(50,96,40),index=id)\n",
    "math1"
   ]
  },
  {
   "cell_type": "markdown",
   "id": "355c9fba",
   "metadata": {},
   "source": [
    "Task 3: Store and display Physics Marks' obtained in level 1 test between 40 and 95"
   ]
  },
  {
   "cell_type": "code",
   "execution_count": 4,
   "id": "0a9b3db7",
   "metadata": {
    "scrolled": true
   },
   "outputs": [
    {
     "data": {
      "text/plain": [
       "1001    86\n",
       "1002    79\n",
       "1003    63\n",
       "1004    84\n",
       "1005    66\n",
       "1006    95\n",
       "1007    46\n",
       "1008    53\n",
       "1009    43\n",
       "1010    46\n",
       "1011    86\n",
       "1012    76\n",
       "1013    87\n",
       "1014    72\n",
       "1015    43\n",
       "1016    54\n",
       "1017    70\n",
       "1018    77\n",
       "1019    84\n",
       "1020    74\n",
       "1021    89\n",
       "1022    45\n",
       "1023    76\n",
       "1024    71\n",
       "1025    41\n",
       "1026    60\n",
       "1027    60\n",
       "1028    53\n",
       "1029    95\n",
       "1030    79\n",
       "1031    65\n",
       "1032    80\n",
       "1033    93\n",
       "1034    84\n",
       "1035    84\n",
       "1036    72\n",
       "1037    64\n",
       "1038    88\n",
       "1039    45\n",
       "1040    93\n",
       "dtype: int32"
      ]
     },
     "execution_count": 4,
     "metadata": {},
     "output_type": "execute_result"
    }
   ],
   "source": [
    "physics1=pd.Series(np.random.randint(40,96,40),index=id)\n",
    "physics1"
   ]
  },
  {
   "cell_type": "markdown",
   "id": "ed0073a0",
   "metadata": {},
   "source": [
    "Task 4 : Find students who are eligible to move to the level 2.Cut-off mark is 150 out of total marks."
   ]
  },
  {
   "cell_type": "code",
   "execution_count": 5,
   "id": "93a0826d",
   "metadata": {
    "scrolled": true
   },
   "outputs": [
    {
     "name": "stdout",
     "output_type": "stream",
     "text": [
      "Elligible Students for Level 2\n"
     ]
    },
    {
     "data": {
      "text/plain": [
       "1002    174\n",
       "1006    183\n",
       "1014    154\n",
       "1017    151\n",
       "1018    159\n",
       "1021    154\n",
       "1029    171\n",
       "1032    159\n",
       "1036    157\n",
       "1038    180\n",
       "1040    188\n",
       "dtype: int32"
      ]
     },
     "execution_count": 5,
     "metadata": {},
     "output_type": "execute_result"
    }
   ],
   "source": [
    "l1=pd.Series(physics1+math1,id)\n",
    "l1=l1[l1>150]\n",
    "print('Elligible Students for Level 2')\n",
    "l1"
   ]
  },
  {
   "cell_type": "markdown",
   "id": "3e835182",
   "metadata": {},
   "source": [
    "Task 5 : Generate random numbers for maths score(range 50-100) and physics(30-100) obtained by students in level 2 test.Add these along with the score of level 1"
   ]
  },
  {
   "cell_type": "code",
   "execution_count": 6,
   "id": "15764280",
   "metadata": {
    "scrolled": true
   },
   "outputs": [
    {
     "name": "stdout",
     "output_type": "stream",
     "text": [
      "1002    83\n",
      "1006    57\n",
      "1014    83\n",
      "1017    89\n",
      "1018    76\n",
      "1021    80\n",
      "1029    88\n",
      "1032    62\n",
      "1036    71\n",
      "1038    77\n",
      "1040    73\n",
      "dtype: int32\n",
      "1002    37\n",
      "1006    93\n",
      "1014    86\n",
      "1017    32\n",
      "1018    99\n",
      "1021    38\n",
      "1029    99\n",
      "1032    51\n",
      "1036    72\n",
      "1038    31\n",
      "1040    45\n",
      "dtype: int32\n"
     ]
    }
   ],
   "source": [
    "math2=pd.Series(np.random.randint(50,101,l1.size),index=l1.index)\n",
    "physics2=pd.Series(np.random.randint(30,101,l1.size),index=l1.index)\n",
    "print(math2)\n",
    "print(physics2)"
   ]
  },
  {
   "cell_type": "code",
   "execution_count": 7,
   "id": "f010a18a",
   "metadata": {},
   "outputs": [
    {
     "data": {
      "text/plain": [
       "1002    294\n",
       "1006    333\n",
       "1014    323\n",
       "1017    272\n",
       "1018    334\n",
       "1021    272\n",
       "1029    358\n",
       "1032    272\n",
       "1036    300\n",
       "1038    288\n",
       "1040    306\n",
       "dtype: int32"
      ]
     },
     "execution_count": 7,
     "metadata": {},
     "output_type": "execute_result"
    }
   ],
   "source": [
    "l2=math2+physics2+l1\n",
    "l2"
   ]
  },
  {
   "cell_type": "markdown",
   "id": "21179637",
   "metadata": {},
   "source": [
    "Task 6 :  Find students who are eligible to move to the screening test"
   ]
  },
  {
   "cell_type": "code",
   "execution_count": 8,
   "id": "4e411ec9",
   "metadata": {
    "scrolled": true
   },
   "outputs": [
    {
     "data": {
      "text/plain": [
       "1006    333\n",
       "1014    323\n",
       "1018    334\n",
       "1029    358\n",
       "1040    306\n",
       "dtype: int32"
      ]
     },
     "execution_count": 8,
     "metadata": {},
     "output_type": "execute_result"
    }
   ],
   "source": [
    "l2=l2[l2>300]\n",
    "l2  #Elligile Students to move to screening test"
   ]
  },
  {
   "cell_type": "markdown",
   "id": "f0588c2e",
   "metadata": {},
   "source": [
    "Task 7:Generate random numbers for maths score(range 50-100) and physics(50-100) obtained by students in screening test.\n",
    "    Evaluate only 40% of the total score after level-2 test and add to 60% of screening test"
   ]
  },
  {
   "cell_type": "code",
   "execution_count": 9,
   "id": "f75c2bff",
   "metadata": {},
   "outputs": [
    {
     "name": "stdout",
     "output_type": "stream",
     "text": [
      "1006    77\n",
      "1014    62\n",
      "1018    65\n",
      "1029    99\n",
      "1040    67\n",
      "dtype: int32\n",
      "1006    63\n",
      "1014    96\n",
      "1018    85\n",
      "1029    65\n",
      "1040    66\n",
      "dtype: int32\n"
     ]
    }
   ],
   "source": [
    "math3=pd.Series(np.random.randint(50,101,l2.size),index=l2.index)\n",
    "physics3=pd.Series(np.random.randint(50,101,l2.size),index=l2.index)\n",
    "print(math3)\n",
    "print(physics3)"
   ]
  },
  {
   "cell_type": "code",
   "execution_count": 10,
   "id": "7371c23b",
   "metadata": {},
   "outputs": [
    {
     "data": {
      "text/plain": [
       "1006    140\n",
       "1014    158\n",
       "1018    150\n",
       "1029    164\n",
       "1040    133\n",
       "dtype: int32"
      ]
     },
     "execution_count": 10,
     "metadata": {},
     "output_type": "execute_result"
    }
   ],
   "source": [
    "l3=math3+physics3\n",
    "l3"
   ]
  },
  {
   "cell_type": "code",
   "execution_count": 11,
   "id": "f732e562",
   "metadata": {},
   "outputs": [
    {
     "data": {
      "text/plain": [
       "1006    75.3\n",
       "1014    79.7\n",
       "1018    78.4\n",
       "1029    85.0\n",
       "1040    70.5\n",
       "dtype: float64"
      ]
     },
     "execution_count": 11,
     "metadata": {},
     "output_type": "execute_result"
    }
   ],
   "source": [
    "l3.update(((l3/200)*60)+((l2/400)*40))\n",
    "l3"
   ]
  },
  {
   "cell_type": "markdown",
   "id": "b1148422",
   "metadata": {},
   "source": [
    "Task 8 : Find the students eligible to attempt the Math Olympiad Event. The cutoff marks is 75%"
   ]
  },
  {
   "cell_type": "code",
   "execution_count": 12,
   "id": "c2310358",
   "metadata": {
    "scrolled": true
   },
   "outputs": [
    {
     "data": {
      "text/plain": [
       "1006    75.3\n",
       "1014    79.7\n",
       "1018    78.4\n",
       "1029    85.0\n",
       "dtype: float64"
      ]
     },
     "execution_count": 12,
     "metadata": {},
     "output_type": "execute_result"
    }
   ],
   "source": [
    "l3[l3>75]         #Eligile students for olympiad event"
   ]
  },
  {
   "cell_type": "markdown",
   "id": "7fb0e7d0",
   "metadata": {},
   "source": [
    "Task 9: Store final data of elible students into a dataframe object. Determine highest and lowest scores."
   ]
  },
  {
   "cell_type": "code",
   "execution_count": 13,
   "id": "6a4a7d1a",
   "metadata": {},
   "outputs": [
    {
     "data": {
      "text/html": [
       "<div>\n",
       "<style scoped>\n",
       "    .dataframe tbody tr th:only-of-type {\n",
       "        vertical-align: middle;\n",
       "    }\n",
       "\n",
       "    .dataframe tbody tr th {\n",
       "        vertical-align: top;\n",
       "    }\n",
       "\n",
       "    .dataframe thead th {\n",
       "        text-align: right;\n",
       "    }\n",
       "</style>\n",
       "<table border=\"1\" class=\"dataframe\">\n",
       "  <thead>\n",
       "    <tr style=\"text-align: right;\">\n",
       "      <th></th>\n",
       "      <th>Percentage</th>\n",
       "    </tr>\n",
       "  </thead>\n",
       "  <tbody>\n",
       "    <tr>\n",
       "      <th>1006</th>\n",
       "      <td>75.3</td>\n",
       "    </tr>\n",
       "    <tr>\n",
       "      <th>1014</th>\n",
       "      <td>79.7</td>\n",
       "    </tr>\n",
       "    <tr>\n",
       "      <th>1018</th>\n",
       "      <td>78.4</td>\n",
       "    </tr>\n",
       "    <tr>\n",
       "      <th>1029</th>\n",
       "      <td>85.0</td>\n",
       "    </tr>\n",
       "  </tbody>\n",
       "</table>\n",
       "</div>"
      ],
      "text/plain": [
       "      Percentage\n",
       "1006        75.3\n",
       "1014        79.7\n",
       "1018        78.4\n",
       "1029        85.0"
      ]
     },
     "execution_count": 13,
     "metadata": {},
     "output_type": "execute_result"
    }
   ],
   "source": [
    "final_data=pd.DataFrame(l3[l3>75],columns=['Percentage'])\n",
    "final_data"
   ]
  },
  {
   "cell_type": "code",
   "execution_count": 14,
   "id": "167a69dc",
   "metadata": {},
   "outputs": [
    {
     "name": "stdout",
     "output_type": "stream",
     "text": [
      "Lowest score among the eligible students :  Percentage    75.3\n",
      "dtype: float64\n",
      "Highest score among the eligible students :  Percentage    85.0\n",
      "dtype: float64\n"
     ]
    }
   ],
   "source": [
    "print('Lowest score among the eligible students : ',final_data.min())\n",
    "print('Highest score among the eligible students : ',final_data.max())"
   ]
  }
 ],
 "metadata": {
  "kernelspec": {
   "display_name": "Python 3 (ipykernel)",
   "language": "python",
   "name": "python3"
  },
  "language_info": {
   "codemirror_mode": {
    "name": "ipython",
    "version": 3
   },
   "file_extension": ".py",
   "mimetype": "text/x-python",
   "name": "python",
   "nbconvert_exporter": "python",
   "pygments_lexer": "ipython3",
   "version": "3.9.13"
  }
 },
 "nbformat": 4,
 "nbformat_minor": 5
}
