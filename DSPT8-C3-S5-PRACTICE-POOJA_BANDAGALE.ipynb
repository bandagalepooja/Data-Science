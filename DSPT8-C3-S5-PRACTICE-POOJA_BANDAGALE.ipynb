{
 "cells": [
  {
   "cell_type": "markdown",
   "id": "a943a00f",
   "metadata": {},
   "source": [
    "# Functions in Python"
   ]
  },
  {
   "cell_type": "markdown",
   "id": "8ea7abff",
   "metadata": {},
   "source": [
    "Task 1 : Create user defined functions to get string from user and check if the string palindrom"
   ]
  },
  {
   "cell_type": "code",
   "execution_count": 8,
   "id": "54d5a594",
   "metadata": {},
   "outputs": [],
   "source": [
    "def palindrome():\n",
    "    string=str(input('Enter any word : '))\n",
    "    revstr=''.join(reversed(string))\n",
    "    if revstr==string:\n",
    "        return '{} is palindrome'.format(string)\n",
    "    else:\n",
    "        return '{} is not palindrome'.format(string)"
   ]
  },
  {
   "cell_type": "code",
   "execution_count": 9,
   "id": "0a044a93",
   "metadata": {},
   "outputs": [
    {
     "name": "stdout",
     "output_type": "stream",
     "text": [
      "Enter any word : madam\n"
     ]
    },
    {
     "data": {
      "text/plain": [
       "'madam is palindrome'"
      ]
     },
     "execution_count": 9,
     "metadata": {},
     "output_type": "execute_result"
    }
   ],
   "source": [
    "palindrome()"
   ]
  },
  {
   "cell_type": "raw",
   "id": "370f3a38",
   "metadata": {},
   "source": [
    "Task 2 : Create user defined functions to get a string from user and sort the words of string in alphabetic order"
   ]
  },
  {
   "cell_type": "code",
   "execution_count": 12,
   "id": "e6c3ed4d",
   "metadata": {},
   "outputs": [
    {
     "name": "stdout",
     "output_type": "stream",
     "text": [
      "Enter any word : python\n"
     ]
    },
    {
     "data": {
      "text/plain": [
       "'hnopty'"
      ]
     },
     "execution_count": 12,
     "metadata": {},
     "output_type": "execute_result"
    }
   ],
   "source": [
    "def sort_str(string):\n",
    "    string=str(input('Enter any word : '))\n",
    "    sorted_string=''.join(sorted(string))\n",
    "    return sorted_string\n",
    "\n",
    "sort_str('string')\n",
    "    "
   ]
  },
  {
   "cell_type": "markdown",
   "id": "9681d6d1",
   "metadata": {},
   "source": [
    "Task 3 : Create user defined functions to convert a list of character into string."
   ]
  },
  {
   "cell_type": "code",
   "execution_count": 20,
   "id": "3c0d7162",
   "metadata": {},
   "outputs": [],
   "source": [
    "def conv():\n",
    "    list1=[]\n",
    "    no_of_char=int(input('Enter number of characters : '))\n",
    "    for i in range (0,no_of_char,1):\n",
    "        l=input('Enter characters : ')\n",
    "        list1.append(l)\n",
    "    print(list1)\n",
    "    print('--------------------------------------------------')\n",
    "    converted_string=''.join(list1)\n",
    "    return converted_string"
   ]
  },
  {
   "cell_type": "code",
   "execution_count": 21,
   "id": "c04aec77",
   "metadata": {},
   "outputs": [
    {
     "name": "stdout",
     "output_type": "stream",
     "text": [
      "Enter number of characters : 6\n",
      "Enter characters : p\n",
      "Enter characters : y\n",
      "Enter characters : t\n",
      "Enter characters : h\n",
      "Enter characters : o\n",
      "Enter characters : n\n",
      "['p', 'y', 't', 'h', 'o', 'n']\n",
      "--------------------------------------------------\n"
     ]
    },
    {
     "data": {
      "text/plain": [
       "'python'"
      ]
     },
     "execution_count": 21,
     "metadata": {},
     "output_type": "execute_result"
    }
   ],
   "source": [
    "conv()"
   ]
  },
  {
   "cell_type": "markdown",
   "id": "3ef0de27",
   "metadata": {},
   "source": [
    "Task 4 : Create user defined functions to let the user input a list of numbers and then print smallest and the largest number from list."
   ]
  },
  {
   "cell_type": "code",
   "execution_count": 24,
   "id": "fb6a5720",
   "metadata": {},
   "outputs": [],
   "source": [
    "def maxmin():\n",
    "    list=[]\n",
    "    n=int(input(\"Enter count of numbers : \"))\n",
    "    for i in range(0,n,1):\n",
    "        x=int(input(\"Enter the number : \"))\n",
    "        list.append(x)\n",
    "    print(list)\n",
    "    print('--------------------------------------------------')\n",
    "    print(\"{} max and {} min number in list\".format(max(list),min(list)))\n"
   ]
  },
  {
   "cell_type": "code",
   "execution_count": 25,
   "id": "11debf3c",
   "metadata": {},
   "outputs": [
    {
     "name": "stdout",
     "output_type": "stream",
     "text": [
      "Enter count of numbers : 5\n",
      "Enter the number : 2\n",
      "Enter the number : 6\n",
      "Enter the number : 10\n",
      "Enter the number : 69\n",
      "Enter the number : 30\n",
      "[2, 6, 10, 69, 30]\n",
      "--------------------------------------------------\n",
      "69 max and 2 min number in list\n"
     ]
    }
   ],
   "source": [
    "maxmin()"
   ]
  },
  {
   "cell_type": "markdown",
   "id": "c256e657",
   "metadata": {},
   "source": [
    "Task 5 : Create user defined function for storing values in a dictionary and print maximum and minimum values."
   ]
  },
  {
   "cell_type": "code",
   "execution_count": 28,
   "id": "9a01fac1",
   "metadata": {},
   "outputs": [],
   "source": [
    "def dectionary():\n",
    "    dic={}\n",
    "    for i in range(0,5,1):\n",
    "        i=i+1\n",
    "        x='item'+str(i)\n",
    "        y=input(\"Enter Value : \")\n",
    "        dic[x]=y\n",
    "    print(dic)\n",
    "    print('--------------------------------------------------')\n",
    "    l=[]\n",
    "    for k,v in dic.items():\n",
    "        l.append(v)\n",
    "    print('Max = {}\\nMin= {}'.format(max(l),min(l)))"
   ]
  },
  {
   "cell_type": "code",
   "execution_count": 29,
   "id": "814cb6a2",
   "metadata": {},
   "outputs": [
    {
     "name": "stdout",
     "output_type": "stream",
     "text": [
      "Enter Value : 45.50\n",
      "Enter Value : 35\n",
      "Enter Value : 41.3\n",
      "Enter Value : 29\n",
      "Enter Value : 49.89\n",
      "{'item1': '45.50', 'item2': '35', 'item3': '41.3', 'item4': '29', 'item5': '49.89'}\n",
      "--------------------------------------------------\n",
      "Max = 49.89\n",
      "Min= 29\n"
     ]
    }
   ],
   "source": [
    "dectionary()"
   ]
  },
  {
   "cell_type": "markdown",
   "id": "17aeacdf",
   "metadata": {},
   "source": [
    "# Generate Profile Card"
   ]
  },
  {
   "cell_type": "markdown",
   "id": "51caf762",
   "metadata": {},
   "source": [
    "Task 6 : Create a python program to create profile card of a person. Define a function to take input from user like name,age and gender. Create another user defined function to print values entered by user."
   ]
  },
  {
   "cell_type": "code",
   "execution_count": 32,
   "id": "0bc7f885",
   "metadata": {},
   "outputs": [],
   "source": [
    "def fun1():\n",
    "    global name\n",
    "    global age\n",
    "    global gender\n",
    "    name=input(\"Enter name : \")\n",
    "    age=int(input(\"Enter age : \"))\n",
    "    gender=input(\"Enter gender : \")\n",
    "    \n",
    "    \n",
    "def fun2():\n",
    "    print('%20s %10s %10s'%('name','age','gender'))\n",
    "    print('%20s %10.f %10s'%(name,age,gender))"
   ]
  },
  {
   "cell_type": "code",
   "execution_count": 33,
   "id": "151fc417",
   "metadata": {},
   "outputs": [
    {
     "name": "stdout",
     "output_type": "stream",
     "text": [
      "Enter name : Pooja Bandagale\n",
      "Enter age : 22\n",
      "Enter gender : Female\n",
      "                name        age     gender\n",
      "     Pooja Bandagale         22     Female\n"
     ]
    }
   ],
   "source": [
    "fun1()\n",
    "fun2()"
   ]
  },
  {
   "cell_type": "markdown",
   "id": "8206b87d",
   "metadata": {},
   "source": [
    "# Nested Function"
   ]
  },
  {
   "cell_type": "markdown",
   "id": "00949b7b",
   "metadata": {},
   "source": [
    "TASK 7 : Take input of two integers from user.Create a nested function in which value of x and y are passed as parameters from outer function to inner function. The inner function will calculate a**2*b and return valueto outer function.Outer function will print final result."
   ]
  },
  {
   "cell_type": "code",
   "execution_count": 34,
   "id": "1f93b47d",
   "metadata": {},
   "outputs": [],
   "source": [
    "def func1(a,b):\n",
    "    global x\n",
    "    x=a**2*b"
   ]
  },
  {
   "cell_type": "code",
   "execution_count": 37,
   "id": "5e092bce",
   "metadata": {},
   "outputs": [],
   "source": [
    "def func2():\n",
    "    a=int(input(\"Enter first number : \"))\n",
    "    b=int(input(\"Enter second number : \"))\n",
    "    func1(a,b)\n",
    "    return '{} ** 2 * {} = {}'.format(a,b,x)"
   ]
  },
  {
   "cell_type": "code",
   "execution_count": 38,
   "id": "de99c22c",
   "metadata": {},
   "outputs": [
    {
     "name": "stdout",
     "output_type": "stream",
     "text": [
      "Enter first number : 5\n",
      "Enter second number : 2\n"
     ]
    },
    {
     "data": {
      "text/plain": [
       "'5 ** 2 * 2 = 50'"
      ]
     },
     "execution_count": 38,
     "metadata": {},
     "output_type": "execute_result"
    }
   ],
   "source": [
    "func2()"
   ]
  },
  {
   "cell_type": "markdown",
   "id": "55039bba",
   "metadata": {},
   "source": [
    "# Lambda Function"
   ]
  },
  {
   "cell_type": "markdown",
   "id": "75e91642",
   "metadata": {},
   "source": [
    "Task 9 : Write a python program to find intersection of list a and b."
   ]
  },
  {
   "cell_type": "code",
   "execution_count": 14,
   "id": "e4376364",
   "metadata": {},
   "outputs": [
    {
     "name": "stdout",
     "output_type": "stream",
     "text": [
      "Intersection :  ['Mandy']\n"
     ]
    }
   ],
   "source": [
    "a=['Andy','Mandy','Sandy']\n",
    "b=['Handy','Brandy','Mandy']\n",
    "intersection=list(filter(lambda x:x in a,b))\n",
    "print(\"Intersection : \",intersection)"
   ]
  },
  {
   "cell_type": "markdown",
   "id": "561a7690",
   "metadata": {},
   "source": [
    "# map function with Lambda"
   ]
  },
  {
   "cell_type": "markdown",
   "id": "9bd7ecf9",
   "metadata": {},
   "source": [
    "Task 10 : Write a program to addd two lists c and d "
   ]
  },
  {
   "cell_type": "code",
   "execution_count": 13,
   "id": "038c0646",
   "metadata": {},
   "outputs": [
    {
     "data": {
      "text/plain": [
       "[29, 29, 29]"
      ]
     },
     "execution_count": 13,
     "metadata": {},
     "output_type": "execute_result"
    }
   ],
   "source": [
    "c=[12,13,14]\n",
    "d=[17,16,15]\n",
    "list_addition=map(lambda c,d:c+d,c,d)\n",
    "list(list_addition)"
   ]
  },
  {
   "cell_type": "markdown",
   "id": "e7dcb780",
   "metadata": {},
   "source": [
    "# Sorting Color Frequency Tuples"
   ]
  },
  {
   "cell_type": "markdown",
   "id": "4001904d",
   "metadata": {},
   "source": [
    "Task 8 : Write a program to sort color frequency tupple [('black',4),('green',1),('red',5),('blue',2),('yellow',3)] in ascending order. Output should be as folllows:\n",
    "[('green', 1), ('blue', 2), ('yellow', 3), ('black', 4), ('red', 5)]"
   ]
  },
  {
   "cell_type": "code",
   "execution_count": 39,
   "id": "03957a8c",
   "metadata": {},
   "outputs": [
    {
     "name": "stdout",
     "output_type": "stream",
     "text": [
      "[('green', 1), ('blue', 2), ('yellow', 3), ('black', 4), ('red', 5)]\n"
     ]
    }
   ],
   "source": [
    "# Method 1\n",
    "\n",
    "color=[('black',4),('green',1),('red',5),('blue',2),('yellow',3)]\n",
    "def sortf(color):\n",
    "    result=sorted(color,key=lambda x:x[1])\n",
    "    print(result)\n",
    "sortf(color)"
   ]
  },
  {
   "cell_type": "code",
   "execution_count": 40,
   "id": "7c02a5bf",
   "metadata": {},
   "outputs": [
    {
     "name": "stdout",
     "output_type": "stream",
     "text": [
      "[('green', 1), ('blue', 2), ('yellow', 3), ('black', 4), ('red', 5)]\n"
     ]
    }
   ],
   "source": [
    "# Method 2\n",
    "\n",
    "color=[('black',4),('green',1),('red',5),('blue',2),('yellow',3)]\n",
    "def sortf(color):\n",
    "    result=sorted(color,key=pooja)\n",
    "    print(result)\n",
    "def pooja(x):\n",
    "     return x[1]\n",
    "sortf(color)"
   ]
  }
 ],
 "metadata": {
  "kernelspec": {
   "display_name": "Python 3 (ipykernel)",
   "language": "python",
   "name": "python3"
  },
  "language_info": {
   "codemirror_mode": {
    "name": "ipython",
    "version": 3
   },
   "file_extension": ".py",
   "mimetype": "text/x-python",
   "name": "python",
   "nbconvert_exporter": "python",
   "pygments_lexer": "ipython3",
   "version": "3.9.13"
  }
 },
 "nbformat": 4,
 "nbformat_minor": 5
}
