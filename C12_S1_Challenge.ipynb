{
 "cells": [
  {
   "cell_type": "markdown",
   "id": "cf816bc0",
   "metadata": {},
   "source": [
    "# Text Preprocessing Using Regular Expressions"
   ]
  },
  {
   "cell_type": "markdown",
   "id": "cba0b62d",
   "metadata": {},
   "source": [
    "# Challenge"
   ]
  },
  {
   "cell_type": "markdown",
   "id": "87c0938c",
   "metadata": {},
   "source": [
    "# Problem Statement\n",
    "\n",
    "Disaster Tweets Analysis\n",
    "\n",
    "AM_CARES is one of the top disaster relief organizations. It provides emergency assistance including mass and mobile feeding, temporary shelter, counseling, search and rescue, medical assistance, and resource distribution. Nowadays, Twitter has become an important communication channel in times of emergency. The iniquitousness of smartphones enables people to announce an emergency they are observing in real time. As a result, more agencies, such as disaster relief organizations and news agencies, are interested in programmatically Monitoring Twitter.\n",
    "\n",
    "How ever, it's not always clear whether a person's words are announcing a disaster. Look at the data present in\n",
    "\"DS3 C2 S1 Tweets Data Practice.csv\". AM CARES wishes to utilize this file so that it can provide better services at the time of disaster."
   ]
  },
  {
   "cell_type": "markdown",
   "id": "6baf1c8b",
   "metadata": {},
   "source": [
    "# Objective\n",
    "\n",
    "Review Text Preprocessing Using Regular Expressions"
   ]
  },
  {
   "cell_type": "code",
   "execution_count": 1,
   "id": "5aa59644",
   "metadata": {},
   "outputs": [],
   "source": [
    "# importing libraries\n",
    "import pandas as pd    # importing pandas library to read csv file\n",
    "import numpy as np     # working with array\n",
    "import re              # for regular expressions"
   ]
  },
  {
   "cell_type": "code",
   "execution_count": 2,
   "id": "36a5bebc",
   "metadata": {},
   "outputs": [
    {
     "data": {
      "text/plain": [
       "(11370, 5)"
      ]
     },
     "execution_count": 2,
     "metadata": {},
     "output_type": "execute_result"
    }
   ],
   "source": [
    "# importing the csv file into a Pandas dataframe\n",
    "df = pd.read_csv(r\"C:\\Users\\Admin\\Desktop\\Level -1\\C2\\Repository\\DS3_C2_S1_Tweets_Data_Challenge.csv\")\n",
    "\n",
    "# viewing the shape of the data (the number of rows and columns)\n",
    "df.shape"
   ]
  },
  {
   "cell_type": "code",
   "execution_count": 3,
   "id": "b69519ac",
   "metadata": {},
   "outputs": [
    {
     "data": {
      "text/plain": [
       "Index(['id', 'keyword', 'location', 'text', 'target'], dtype='object')"
      ]
     },
     "execution_count": 3,
     "metadata": {},
     "output_type": "execute_result"
    }
   ],
   "source": [
    "# viewing columns in the data\n",
    "df.columns"
   ]
  },
  {
   "cell_type": "markdown",
   "id": "6bf4200a",
   "metadata": {},
   "source": [
    "# Task 1\n",
    "\n",
    "The disaster relief organization AM_CARES wishes to know the tweets that contain disaster words such as 'crash', 'quarantine', and 'brush fires'. This will enable them to plan their activities at a particular location. How can you accomplish this task?"
   ]
  },
  {
   "cell_type": "code",
   "execution_count": 4,
   "id": "a6bc5663",
   "metadata": {},
   "outputs": [
    {
     "data": {
      "text/plain": [
       "'Communal violence in Bhainsa, Telangana. \"Stones were pelted on Muslims\\' houses and some houses and vehicles were set ablaze… Telangana: Section 144 has been imposed in Bhainsa from January 13 to 15, '"
      ]
     },
     "execution_count": 4,
     "metadata": {},
     "output_type": "execute_result"
    }
   ],
   "source": [
    "text_string = \" \".join(x for x in df[\"text\"]) # creating a single string containing all the texts, as this will be needed to be able to perform some operation\n",
    "                                              # joining the each value of column 'text' with a single space\n",
    "text_string[0:200]                            # viewing the first 200 elements of the string to check this worked as expected"
   ]
  },
  {
   "cell_type": "code",
   "execution_count": 5,
   "id": "d36193c0",
   "metadata": {},
   "outputs": [
    {
     "name": "stdout",
     "output_type": "stream",
     "text": [
      "88\n"
     ]
    }
   ],
   "source": [
    "crash = re.findall(\"crash\", text_string)           #re.findall() matches all instances of a pattern in a string and returns them in a list\n",
    "print(len(crash))                                  # viewing the number of times a crash word appeared in tweets"
   ]
  },
  {
   "cell_type": "code",
   "execution_count": 6,
   "id": "913f8b5c",
   "metadata": {},
   "outputs": [
    {
     "name": "stdout",
     "output_type": "stream",
     "text": [
      "70\n"
     ]
    }
   ],
   "source": [
    "quarantine = re.findall(\"quarantine\", text_string)      #re.findall() matches all instances of a pattern in a string and returns them in a list\n",
    "print(len(quarantine))                                  # viewing the number of times a quarantine word appeared in tweets"
   ]
  },
  {
   "cell_type": "code",
   "execution_count": 7,
   "id": "c824f750",
   "metadata": {},
   "outputs": [
    {
     "name": "stdout",
     "output_type": "stream",
     "text": [
      "1\n"
     ]
    }
   ],
   "source": [
    "brush_fires = re.findall(\"brush fires\", text_string)     #re.findall() matches all instances of a pattern in a string and returns them in a list\n",
    "print(len(brush_fires))                                  # viewing the number of times a brush fires word appeared in tweets"
   ]
  },
  {
   "cell_type": "markdown",
   "id": "1eae863b",
   "metadata": {},
   "source": [
    "# Task 2\n",
    "\n",
    "After finding the disaster words in the tweets, AM_CARES wishes to know the tweets that denote a real disaster along with their locations. Help the disaster relief organization accomplish this task."
   ]
  },
  {
   "cell_type": "code",
   "execution_count": 8,
   "id": "cffbbbf1",
   "metadata": {},
   "outputs": [
    {
     "data": {
      "text/html": [
       "<div>\n",
       "<style scoped>\n",
       "    .dataframe tbody tr th:only-of-type {\n",
       "        vertical-align: middle;\n",
       "    }\n",
       "\n",
       "    .dataframe tbody tr th {\n",
       "        vertical-align: top;\n",
       "    }\n",
       "\n",
       "    .dataframe thead th {\n",
       "        text-align: right;\n",
       "    }\n",
       "</style>\n",
       "<table border=\"1\" class=\"dataframe\">\n",
       "  <thead>\n",
       "    <tr style=\"text-align: right;\">\n",
       "      <th></th>\n",
       "      <th>id</th>\n",
       "      <th>keyword</th>\n",
       "      <th>location</th>\n",
       "      <th>text</th>\n",
       "      <th>target</th>\n",
       "    </tr>\n",
       "  </thead>\n",
       "  <tbody>\n",
       "    <tr>\n",
       "      <th>687</th>\n",
       "      <td>687</td>\n",
       "      <td>avalanche</td>\n",
       "      <td>NaN</td>\n",
       "      <td>#SONDAKİKA #breakingsound Avalanche disaster i...</td>\n",
       "      <td>1</td>\n",
       "    </tr>\n",
       "    <tr>\n",
       "      <th>817</th>\n",
       "      <td>817</td>\n",
       "      <td>bioterrorism</td>\n",
       "      <td>MX-TX-TN-CA-MI-IN-GA</td>\n",
       "      <td>Similarly, there are lots of different disaste...</td>\n",
       "      <td>0</td>\n",
       "    </tr>\n",
       "    <tr>\n",
       "      <th>1037</th>\n",
       "      <td>1037</td>\n",
       "      <td>blew%20up</td>\n",
       "      <td>Pilipinz</td>\n",
       "      <td>here in the ph, we experienced the taal disast...</td>\n",
       "      <td>0</td>\n",
       "    </tr>\n",
       "    <tr>\n",
       "      <th>1852</th>\n",
       "      <td>1852</td>\n",
       "      <td>burned</td>\n",
       "      <td>au</td>\n",
       "      <td>Australia’s government called bushfire damage ...</td>\n",
       "      <td>0</td>\n",
       "    </tr>\n",
       "    <tr>\n",
       "      <th>1925</th>\n",
       "      <td>1925</td>\n",
       "      <td>bush%20fires</td>\n",
       "      <td>United States</td>\n",
       "      <td>Linking the bushfire disaster in NSW to climat...</td>\n",
       "      <td>0</td>\n",
       "    </tr>\n",
       "  </tbody>\n",
       "</table>\n",
       "</div>"
      ],
      "text/plain": [
       "        id       keyword              location  \\\n",
       "687    687     avalanche                   NaN   \n",
       "817    817  bioterrorism  MX-TX-TN-CA-MI-IN-GA   \n",
       "1037  1037     blew%20up              Pilipinz   \n",
       "1852  1852        burned                    au   \n",
       "1925  1925  bush%20fires         United States   \n",
       "\n",
       "                                                   text  target  \n",
       "687   #SONDAKİKA #breakingsound Avalanche disaster i...       1  \n",
       "817   Similarly, there are lots of different disaste...       0  \n",
       "1037  here in the ph, we experienced the taal disast...       0  \n",
       "1852  Australia’s government called bushfire damage ...       0  \n",
       "1925  Linking the bushfire disaster in NSW to climat...       0  "
      ]
     },
     "execution_count": 8,
     "metadata": {},
     "output_type": "execute_result"
    }
   ],
   "source": [
    "disaster = df.loc[df['text'].str.contains('disaster')]  #fetching tweets containing 'disaster' word\n",
    "disaster.head()                                         #viewing the number of twwets that contain a 'disaster' word"
   ]
  },
  {
   "cell_type": "code",
   "execution_count": 9,
   "id": "88d81884",
   "metadata": {},
   "outputs": [
    {
     "name": "stderr",
     "output_type": "stream",
     "text": [
      "C:\\Users\\Admin\\AppData\\Local\\Temp\\ipykernel_8848\\3506442541.py:2: FutureWarning: this method is deprecated in favour of `Styler.hide(axis='index')`\n",
      "  disaster[['text','location']].style.set_properties(subset=['text'], **{'width': '800px'}).hide_index()\n"
     ]
    },
    {
     "data": {
      "text/html": [
       "<style type=\"text/css\">\n",
       "#T_e5889_row0_col0, #T_e5889_row1_col0, #T_e5889_row2_col0, #T_e5889_row3_col0, #T_e5889_row4_col0, #T_e5889_row5_col0, #T_e5889_row6_col0, #T_e5889_row7_col0, #T_e5889_row8_col0, #T_e5889_row9_col0, #T_e5889_row10_col0, #T_e5889_row11_col0, #T_e5889_row12_col0, #T_e5889_row13_col0, #T_e5889_row14_col0, #T_e5889_row15_col0, #T_e5889_row16_col0, #T_e5889_row17_col0, #T_e5889_row18_col0, #T_e5889_row19_col0, #T_e5889_row20_col0, #T_e5889_row21_col0, #T_e5889_row22_col0, #T_e5889_row23_col0, #T_e5889_row24_col0, #T_e5889_row25_col0, #T_e5889_row26_col0, #T_e5889_row27_col0, #T_e5889_row28_col0, #T_e5889_row29_col0, #T_e5889_row30_col0, #T_e5889_row31_col0, #T_e5889_row32_col0, #T_e5889_row33_col0, #T_e5889_row34_col0, #T_e5889_row35_col0, #T_e5889_row36_col0, #T_e5889_row37_col0, #T_e5889_row38_col0, #T_e5889_row39_col0, #T_e5889_row40_col0, #T_e5889_row41_col0, #T_e5889_row42_col0, #T_e5889_row43_col0, #T_e5889_row44_col0, #T_e5889_row45_col0, #T_e5889_row46_col0, #T_e5889_row47_col0, #T_e5889_row48_col0, #T_e5889_row49_col0, #T_e5889_row50_col0, #T_e5889_row51_col0, #T_e5889_row52_col0, #T_e5889_row53_col0, #T_e5889_row54_col0, #T_e5889_row55_col0, #T_e5889_row56_col0, #T_e5889_row57_col0, #T_e5889_row58_col0, #T_e5889_row59_col0, #T_e5889_row60_col0, #T_e5889_row61_col0, #T_e5889_row62_col0, #T_e5889_row63_col0, #T_e5889_row64_col0, #T_e5889_row65_col0, #T_e5889_row66_col0, #T_e5889_row67_col0, #T_e5889_row68_col0, #T_e5889_row69_col0, #T_e5889_row70_col0, #T_e5889_row71_col0, #T_e5889_row72_col0, #T_e5889_row73_col0, #T_e5889_row74_col0, #T_e5889_row75_col0, #T_e5889_row76_col0, #T_e5889_row77_col0, #T_e5889_row78_col0, #T_e5889_row79_col0, #T_e5889_row80_col0, #T_e5889_row81_col0, #T_e5889_row82_col0, #T_e5889_row83_col0, #T_e5889_row84_col0, #T_e5889_row85_col0, #T_e5889_row86_col0, #T_e5889_row87_col0, #T_e5889_row88_col0, #T_e5889_row89_col0, #T_e5889_row90_col0, #T_e5889_row91_col0, #T_e5889_row92_col0, #T_e5889_row93_col0, #T_e5889_row94_col0, #T_e5889_row95_col0, #T_e5889_row96_col0, #T_e5889_row97_col0, #T_e5889_row98_col0 {\n",
       "  width: 800px;\n",
       "}\n",
       "</style>\n",
       "<table id=\"T_e5889\">\n",
       "  <thead>\n",
       "    <tr>\n",
       "      <th id=\"T_e5889_level0_col0\" class=\"col_heading level0 col0\" >text</th>\n",
       "      <th id=\"T_e5889_level0_col1\" class=\"col_heading level0 col1\" >location</th>\n",
       "    </tr>\n",
       "  </thead>\n",
       "  <tbody>\n",
       "    <tr>\n",
       "      <td id=\"T_e5889_row0_col0\" class=\"data row0 col0\" >#SONDAKİKA #breakingsound Avalanche disaster in Pakistan Kashmir: 57 dead https://t.co/LJwe842mMN</td>\n",
       "      <td id=\"T_e5889_row0_col1\" class=\"data row0 col1\" >nan</td>\n",
       "    </tr>\n",
       "    <tr>\n",
       "      <td id=\"T_e5889_row1_col0\" class=\"data row1 col0\" >Similarly, there are lots of different disasters including epidemics, natural disasters, wars, bioterrorism, and we… https://t.co/NRP53sUN5C</td>\n",
       "      <td id=\"T_e5889_row1_col1\" class=\"data row1 col1\" >MX-TX-TN-CA-MI-IN-GA</td>\n",
       "    </tr>\n",
       "    <tr>\n",
       "      <td id=\"T_e5889_row2_col0\" class=\"data row2 col0\" >here in the ph, we experienced the taal disaster then my dad sent us a msg saying their ship's engine blew up 😭 tha… https://t.co/8cB1UzUCNm</td>\n",
       "      <td id=\"T_e5889_row2_col1\" class=\"data row2 col1\" >Pilipinz</td>\n",
       "    </tr>\n",
       "    <tr>\n",
       "      <td id=\"T_e5889_row3_col0\" class=\"data row3 col0\" >Australia’s government called bushfire damage to wildlife an \"ecological disaster.\" The military is clearing up scores of dead…</td>\n",
       "      <td id=\"T_e5889_row3_col1\" class=\"data row3 col1\" >au</td>\n",
       "    </tr>\n",
       "    <tr>\n",
       "      <td id=\"T_e5889_row4_col0\" class=\"data row4 col0\" >Linking the bushfire disaster in NSW to climate change is \"an absolute nonsense\" and reducing fuel loads in the Australi…</td>\n",
       "      <td id=\"T_e5889_row4_col1\" class=\"data row4 col1\" >United States</td>\n",
       "    </tr>\n",
       "    <tr>\n",
       "      <td id=\"T_e5889_row5_col0\" class=\"data row5 col0\" >In pairs, our workshop participants designed &amp; coded a disaster detector system! 🚨 This pair designed a rural fire detect…</td>\n",
       "      <td id=\"T_e5889_row5_col1\" class=\"data row5 col1\" >Brisbane, Queensland</td>\n",
       "    </tr>\n",
       "    <tr>\n",
       "      <td id=\"T_e5889_row6_col0\" class=\"data row6 col0\" >In pairs, our workshop participants designed &amp; coded a disaster detector system! 🚨 This pair designed a rural fire… https://t.co/tQFhDH1fys</td>\n",
       "      <td id=\"T_e5889_row6_col1\" class=\"data row6 col1\" >Brisbane, Australia</td>\n",
       "    </tr>\n",
       "    <tr>\n",
       "      <td id=\"T_e5889_row7_col0\" class=\"data row7 col0\" >The sweet relief of rain after bushfires threaten disaster for our rivers Fire debris flowing into the Murray-Darling Basin w…</td>\n",
       "      <td id=\"T_e5889_row7_col1\" class=\"data row7 col1\" >Georgia, USA</td>\n",
       "    </tr>\n",
       "    <tr>\n",
       "      <td id=\"T_e5889_row8_col0\" class=\"data row8 col0\" >Train cars scattered all over the derailment area in Mississauga. #disasters #railroad #raildisaster #derailment… https://t.co/YUVB1wWzCd</td>\n",
       "      <td id=\"T_e5889_row8_col1\" class=\"data row8 col1\" >United States</td>\n",
       "    </tr>\n",
       "    <tr>\n",
       "      <td id=\"T_e5889_row9_col0\" class=\"data row9 col0\" >As we grapple w. mass extinction of species, destruction of cities &amp; displacement of millions due to natural disasters, th…</td>\n",
       "      <td id=\"T_e5889_row9_col1\" class=\"data row9 col1\" >nan</td>\n",
       "    </tr>\n",
       "    <tr>\n",
       "      <td id=\"T_e5889_row10_col0\" class=\"data row10 col0\" >The Philippines during a natural disaster is like a real-life ad for anarchy : you get to see all the wonderful things p…</td>\n",
       "      <td id=\"T_e5889_row10_col1\" class=\"data row10 col1\" >Manila, Philippines</td>\n",
       "    </tr>\n",
       "    <tr>\n",
       "      <td id=\"T_e5889_row11_col0\" class=\"data row11 col0\" >My mind is a disaster rn. We get DK and Levanter in English, I get to see Monsta X (which also means I get to see K… https://t.co/eHZJ2eULT7</td>\n",
       "      <td id=\"T_e5889_row11_col1\" class=\"data row11 col1\" >Behind this foolish m̷a̷s̷k̷ ♡</td>\n",
       "    </tr>\n",
       "    <tr>\n",
       "      <td id=\"T_e5889_row12_col0\" class=\"data row12 col0\" >FAO sounded locust disaster warming as early as MARCH 2019. Now we're being asked by CS Kiunjuri to take a picture and post it o…</td>\n",
       "      <td id=\"T_e5889_row12_col1\" class=\"data row12 col1\" >eTown</td>\n",
       "    </tr>\n",
       "    <tr>\n",
       "      <td id=\"T_e5889_row13_col0\" class=\"data row13 col0\" >Makes sense. Better to be proactive and not need it than to be reactive and have a disaster on your hands.🤷‍♂️</td>\n",
       "      <td id=\"T_e5889_row13_col1\" class=\"data row13 col1\" >nan</td>\n",
       "    </tr>\n",
       "    <tr>\n",
       "      <td id=\"T_e5889_row14_col0\" class=\"data row14 col0\" >Can someone please explain why “debt &amp; deficit disaster”, “pink batts”, “LNP better economic managers” got currency, &amp; mo…</td>\n",
       "      <td id=\"T_e5889_row14_col1\" class=\"data row14 col1\" >Suffolk Park, New South Wales</td>\n",
       "    </tr>\n",
       "    <tr>\n",
       "      <td id=\"T_e5889_row15_col0\" class=\"data row15 col0\" >Friendly reminder that this administration, with its legislative super-majority, hacked 60% off the national disaster fund…</td>\n",
       "      <td id=\"T_e5889_row15_col1\" class=\"data row15 col1\" >Manila, Philippines</td>\n",
       "    </tr>\n",
       "    <tr>\n",
       "      <td id=\"T_e5889_row16_col0\" class=\"data row16 col0\" >And no thanks. We’re seeing right now what a disaster electing inexperienced celebrities is</td>\n",
       "      <td id=\"T_e5889_row16_col1\" class=\"data row16 col1\" >Dallas, Texas</td>\n",
       "    </tr>\n",
       "    <tr>\n",
       "      <td id=\"T_e5889_row17_col0\" class=\"data row17 col0\" >Pres. Trump's impeachment trial will be overseen by a judge he once called an “absolute disaster,” Chief Justice Roberts. …</td>\n",
       "      <td id=\"T_e5889_row17_col1\" class=\"data row17 col1\" >United States</td>\n",
       "    </tr>\n",
       "    <tr>\n",
       "      <td id=\"T_e5889_row18_col0\" class=\"data row18 col0\" >This might be normal, I’m not sure. But there are thousands and thousands of them. And after a disaster that’s kill… https://t.co/Raw9V8LAOa</td>\n",
       "      <td id=\"T_e5889_row18_col1\" class=\"data row18 col1\" >Bangkok, Thailand</td>\n",
       "    </tr>\n",
       "    <tr>\n",
       "      <td id=\"T_e5889_row19_col0\" class=\"data row19 col0\" >#127LivesLost I need to speak to the President of the Republic of Kenya 🇰🇪. Road safety is a national disaster… https://t.co/FAJGbK7Aau</td>\n",
       "      <td id=\"T_e5889_row19_col1\" class=\"data row19 col1\" >Nairobi, Kenya</td>\n",
       "    </tr>\n",
       "    <tr>\n",
       "      <td id=\"T_e5889_row20_col0\" class=\"data row20 col0\" >Trump's Education Secretary has been a disaster for student borrowers. She's gutted the much needed Public Service Loan Forg…</td>\n",
       "      <td id=\"T_e5889_row20_col1\" class=\"data row20 col1\" >nan</td>\n",
       "    </tr>\n",
       "    <tr>\n",
       "      <td id=\"T_e5889_row21_col0\" class=\"data row21 col0\" >In this time of disaster, our government should be giving away quality face mask for FREE to everyone. Being safe from thi…</td>\n",
       "      <td id=\"T_e5889_row21_col1\" class=\"data row21 col1\" >nan</td>\n",
       "    </tr>\n",
       "    <tr>\n",
       "      <td id=\"T_e5889_row22_col0\" class=\"data row22 col0\" >Taehyung's reply will create more awareness among people regarding the disaster. His kind gesture has more meaning to…</td>\n",
       "      <td id=\"T_e5889_row22_col1\" class=\"data row22 col1\" >nan</td>\n",
       "    </tr>\n",
       "    <tr>\n",
       "      <td id=\"T_e5889_row23_col0\" class=\"data row23 col0\" >Everything is a “disaster” for y’all until it turns out oops it’s really nothing. Have you heard… https://t.co/dtCh0lSftF</td>\n",
       "      <td id=\"T_e5889_row23_col1\" class=\"data row23 col1\" >nan</td>\n",
       "    </tr>\n",
       "    <tr>\n",
       "      <td id=\"T_e5889_row24_col0\" class=\"data row24 col0\" >Iran’s Airborne Chernobyl The incompetence and lies that killed the Soviet Union following the Chernobyl disaster… https://t.co/Dvmh11JD0N</td>\n",
       "      <td id=\"T_e5889_row24_col1\" class=\"data row24 col1\" >Home of The MASTERS ⛳️</td>\n",
       "    </tr>\n",
       "    <tr>\n",
       "      <td id=\"T_e5889_row25_col0\" class=\"data row25 col0\" >The massive global news interest in #AustraliaBurning shows the scale of the disaster. And every interviewer and writer w…</td>\n",
       "      <td id=\"T_e5889_row25_col1\" class=\"data row25 col1\" >Sydney, New South Wales</td>\n",
       "    </tr>\n",
       "    <tr>\n",
       "      <td id=\"T_e5889_row26_col0\" class=\"data row26 col0\" >Flirt with disaster, but never become its bitch.</td>\n",
       "      <td id=\"T_e5889_row26_col1\" class=\"data row26 col1\" >nan</td>\n",
       "    </tr>\n",
       "    <tr>\n",
       "      <td id=\"T_e5889_row27_col0\" class=\"data row27 col0\" >All natural disaster can be affected by global warming, but doesn't mean they didn't exist before. Taehyung showed his co…</td>\n",
       "      <td id=\"T_e5889_row27_col1\" class=\"data row27 col1\" >taekook</td>\n",
       "    </tr>\n",
       "    <tr>\n",
       "      <td id=\"T_e5889_row28_col0\" class=\"data row28 col0\" >The Philippine government is asking private individuals for donations while 1. Cutting the disaster fund by 11 billion 2. Doub…</td>\n",
       "      <td id=\"T_e5889_row28_col1\" class=\"data row28 col1\" >nan</td>\n",
       "    </tr>\n",
       "    <tr>\n",
       "      <td id=\"T_e5889_row29_col0\" class=\"data row29 col0\" >Market fundamentalism has brought the world to the edge of environmental disaster. Yet Boris Johnson and his govern… https://t.co/xJuoTkJ94p</td>\n",
       "      <td id=\"T_e5889_row29_col1\" class=\"data row29 col1\" >London</td>\n",
       "    </tr>\n",
       "    <tr>\n",
       "      <td id=\"T_e5889_row30_col0\" class=\"data row30 col0\" >GA. voters &amp; election officials--Here's a radical, yet traditional idea given the looming disaster of the March preside…</td>\n",
       "      <td id=\"T_e5889_row30_col1\" class=\"data row30 col1\" >Princeton, NJ</td>\n",
       "    </tr>\n",
       "    <tr>\n",
       "      <td id=\"T_e5889_row31_col0\" class=\"data row31 col0\" >12 days into 2020 &amp; we’re facing another natural disaster. #TaalVolcano just 90 km south of Manila is currently erupting. I…</td>\n",
       "      <td id=\"T_e5889_row31_col1\" class=\"data row31 col1\" >nan</td>\n",
       "    </tr>\n",
       "    <tr>\n",
       "      <td id=\"T_e5889_row32_col0\" class=\"data row32 col0\" >VentureBeat: Facebook’s Displacement Maps track daily movements of populations displaced by natural disasters https://t.co/DzXnbdUNBv</td>\n",
       "      <td id=\"T_e5889_row32_col1\" class=\"data row32 col1\" >Orange County, CA.</td>\n",
       "    </tr>\n",
       "    <tr>\n",
       "      <td id=\"T_e5889_row33_col0\" class=\"data row33 col0\" >Facebook’s Displacement Maps track daily movements of populations displaced by natural disasters &gt;… https://t.co/4SGwRwCb3I</td>\n",
       "      <td id=\"T_e5889_row33_col1\" class=\"data row33 col1\" >UK</td>\n",
       "    </tr>\n",
       "    <tr>\n",
       "      <td id=\"T_e5889_row34_col0\" class=\"data row34 col0\" >Facebook’s Displacement Maps track daily movements of populations displaced by natural disasters https://t.co/lJkm4YSOrF</td>\n",
       "      <td id=\"T_e5889_row34_col1\" class=\"data row34 col1\" >Verona</td>\n",
       "    </tr>\n",
       "    <tr>\n",
       "      <td id=\"T_e5889_row35_col0\" class=\"data row35 col0\" >Each financial year money is allocated for disaster management, but we still raise paybills during famine and floods #UhuruAddress</td>\n",
       "      <td id=\"T_e5889_row35_col1\" class=\"data row35 col1\" >Nairobi</td>\n",
       "    </tr>\n",
       "    <tr>\n",
       "      <td id=\"T_e5889_row36_col0\" class=\"data row36 col0\" >The way the Clinton fam uses poor black nation's disasters &amp; famine as a piggybank is disgus… https://t.co/R0kL8326T0</td>\n",
       "      <td id=\"T_e5889_row36_col1\" class=\"data row36 col1\" >Unsustained</td>\n",
       "    </tr>\n",
       "    <tr>\n",
       "      <td id=\"T_e5889_row37_col0\" class=\"data row37 col0\" >Through drought and famine, natural disasters My baby has been around for me</td>\n",
       "      <td id=\"T_e5889_row37_col1\" class=\"data row37 col1\" >Naas Inyung Bay nag Tago</td>\n",
       "    </tr>\n",
       "    <tr>\n",
       "      <td id=\"T_e5889_row38_col0\" class=\"data row38 col0\" >#OPINION The latest mining fatality has left us numb! If eight miners died in a single disaster, we'd see a Royal C… https://t.co/dyxcbRKZZC</td>\n",
       "      <td id=\"T_e5889_row38_col1\" class=\"data row38 col1\" >Australia</td>\n",
       "    </tr>\n",
       "    <tr>\n",
       "      <td id=\"T_e5889_row39_col0\" class=\"data row39 col0\" >Deadliest disasters: Earthquakes Floods Forest Fire Volcanic Eruption M0d! &amp; $h</td>\n",
       "      <td id=\"T_e5889_row39_col1\" class=\"data row39 col1\" >Mumbai, India</td>\n",
       "    </tr>\n",
       "    <tr>\n",
       "      <td id=\"T_e5889_row40_col0\" class=\"data row40 col0\" >Once he's stolen your cookes, he can revel in a rambunctious shopping rampage--on your dime. #cybersecurity #disasterrec…</td>\n",
       "      <td id=\"T_e5889_row40_col1\" class=\"data row40 col1\" >Internet</td>\n",
       "    </tr>\n",
       "    <tr>\n",
       "      <td id=\"T_e5889_row41_col0\" class=\"data row41 col0\" >By page three, I could buy all the tools needed to engage in the crime. #CyberSecurity #ITConsulting #disasterrecovery h…</td>\n",
       "      <td id=\"T_e5889_row41_col1\" class=\"data row41 col1\" >Internet</td>\n",
       "    </tr>\n",
       "    <tr>\n",
       "      <td id=\"T_e5889_row42_col0\" class=\"data row42 col0\" >Indonesia 🇮🇩 is facing its own climate disaster. 🌏 The sinking capital of Jakarta and the surrounding areas have been…</td>\n",
       "      <td id=\"T_e5889_row42_col1\" class=\"data row42 col1\" >Africa</td>\n",
       "    </tr>\n",
       "    <tr>\n",
       "      <td id=\"T_e5889_row43_col0\" class=\"data row43 col0\" >It’s not just Australia — Indonesia is facing its own climate disaster. The sinking capital of Jakarta and the surrounding ar…</td>\n",
       "      <td id=\"T_e5889_row43_col1\" class=\"data row43 col1\" >Los Angeles, CA</td>\n",
       "    </tr>\n",
       "    <tr>\n",
       "      <td id=\"T_e5889_row44_col0\" class=\"data row44 col0\" >We’re even tall poppy’ing our own natural disaster. The fires and smoke are VERY serious people. Don’t need to bring it dow…</td>\n",
       "      <td id=\"T_e5889_row44_col1\" class=\"data row44 col1\" >Orelia</td>\n",
       "    </tr>\n",
       "    <tr>\n",
       "      <td id=\"T_e5889_row45_col0\" class=\"data row45 col0\" >Terrible natural/man-made disaster: *happens* 1-3 Godzilla fans on twitter: “dude it’s just like what happened in this…</td>\n",
       "      <td id=\"T_e5889_row45_col1\" class=\"data row45 col1\" >my home</td>\n",
       "    </tr>\n",
       "    <tr>\n",
       "      <td id=\"T_e5889_row46_col0\" class=\"data row46 col0\" >ATTENTION UAENAS (MAAENAS) We will be having an outreach program for the evacuees and victims of the natural disaster(Taal v…</td>\n",
       "      <td id=\"T_e5889_row46_col1\" class=\"data row46 col1\" >Republic of the Philippines</td>\n",
       "    </tr>\n",
       "    <tr>\n",
       "      <td id=\"T_e5889_row47_col0\" class=\"data row47 col0\" >The Philippines during a natural disaster is like a real-life ad for anarchy : you get to see all the wonderful thi… https://t.co/sP0FIx0eTD</td>\n",
       "      <td id=\"T_e5889_row47_col1\" class=\"data row47 col1\" >Manila City, National Capital </td>\n",
       "    </tr>\n",
       "    <tr>\n",
       "      <td id=\"T_e5889_row48_col0\" class=\"data row48 col0\" >#MaineMendoza is using her influence for a good cause: information dissemination in this time of natural disaster.., thank y…</td>\n",
       "      <td id=\"T_e5889_row48_col1\" class=\"data row48 col1\" >nan</td>\n",
       "    </tr>\n",
       "    <tr>\n",
       "      <td id=\"T_e5889_row49_col0\" class=\"data row49 col0\" >Ironic how the world has been predicted to end by a natural disaster or an asteroid strike, where in reality it’ll… https://t.co/M0m3WkKWmT</td>\n",
       "      <td id=\"T_e5889_row49_col1\" class=\"data row49 col1\" >New Orleans, LA</td>\n",
       "    </tr>\n",
       "    <tr>\n",
       "      <td id=\"T_e5889_row50_col0\" class=\"data row50 col0\" >I hope Kim Taehyung realize that what he said meant so much to me as a Filipino, we can't truly avoid such natural disaster…</td>\n",
       "      <td id=\"T_e5889_row50_col1\" class=\"data row50 col1\" >Tunisia</td>\n",
       "    </tr>\n",
       "    <tr>\n",
       "      <td id=\"T_e5889_row51_col0\" class=\"data row51 col0\" >We're not blaming the president for the volcanic eruption. However, cutting the disaster risk reduction &amp; management b…</td>\n",
       "      <td id=\"T_e5889_row51_col1\" class=\"data row51 col1\" >nan</td>\n",
       "    </tr>\n",
       "    <tr>\n",
       "      <td id=\"T_e5889_row52_col0\" class=\"data row52 col0\" >Many irate farmers around here, absolutely spewing actually. I know how it works, fires are a natural disaster &amp; d… https://t.co/5vU8ZdVOCB</td>\n",
       "      <td id=\"T_e5889_row52_col1\" class=\"data row52 col1\" >Central NSW</td>\n",
       "    </tr>\n",
       "    <tr>\n",
       "      <td id=\"T_e5889_row53_col0\" class=\"data row53 col0\" >with that being said, there’s more you can do than pray for those that have suffered from this natural disaster. https://t.co/YcalHdV2lO</td>\n",
       "      <td id=\"T_e5889_row53_col1\" class=\"data row53 col1\" >sd, ca</td>\n",
       "    </tr>\n",
       "    <tr>\n",
       "      <td id=\"T_e5889_row54_col0\" class=\"data row54 col0\" >We are about to expose you to 6 incredible disaster proof homes to keep you safe from a variety of natural and man-… https://t.co/JPDHYABGsN</td>\n",
       "      <td id=\"T_e5889_row54_col1\" class=\"data row54 col1\" >NY, London</td>\n",
       "    </tr>\n",
       "    <tr>\n",
       "      <td id=\"T_e5889_row55_col0\" class=\"data row55 col0\" >Fuck disaster capitalism and the greed for profit. Basic necessities for natural calamities that should be freely provided o…</td>\n",
       "      <td id=\"T_e5889_row55_col1\" class=\"data row55 col1\" >RN, MD fr. daniel angelo</td>\n",
       "    </tr>\n",
       "    <tr>\n",
       "      <td id=\"T_e5889_row56_col0\" class=\"data row56 col0\" >That is Natural disaster... that is not 9th wonder of world.. very cheap minds 🤣🤣🤣</td>\n",
       "      <td id=\"T_e5889_row56_col1\" class=\"data row56 col1\" >India</td>\n",
       "    </tr>\n",
       "    <tr>\n",
       "      <td id=\"T_e5889_row57_col0\" class=\"data row57 col0\" >RT NamugerwaLeah: \"Time is running out. Right now we're facing a man made disaster of global scale. Climate change… https://t.co/QY2Zx4rwhc</td>\n",
       "      <td id=\"T_e5889_row57_col1\" class=\"data row57 col1\" >Cayman Islands</td>\n",
       "    </tr>\n",
       "    <tr>\n",
       "      <td id=\"T_e5889_row58_col0\" class=\"data row58 col0\" >My only goal this year is to have a storm named after me or, at least, some type of natural disaster.</td>\n",
       "      <td id=\"T_e5889_row58_col1\" class=\"data row58 col1\" >New York, USA</td>\n",
       "    </tr>\n",
       "    <tr>\n",
       "      <td id=\"T_e5889_row59_col0\" class=\"data row59 col0\" >Toxic Filipino mindset is whenever a natural disaster happens, they’d use it as an opportunity to relate it to their faith…</td>\n",
       "      <td id=\"T_e5889_row59_col1\" class=\"data row59 col1\" >lost</td>\n",
       "    </tr>\n",
       "    <tr>\n",
       "      <td id=\"T_e5889_row60_col0\" class=\"data row60 col0\" >An app that will check if the home you are going to buy is exposed to natural disaster or not based on historical data. #thatoneidea #ideas</td>\n",
       "      <td id=\"T_e5889_row60_col1\" class=\"data row60 col1\" >Worldwide</td>\n",
       "    </tr>\n",
       "    <tr>\n",
       "      <td id=\"T_e5889_row61_col0\" class=\"data row61 col0\" >We’re even tall poppy’ing our own natural disaster. The fires and smoke are VERY serious people. Don’t need to brin… https://t.co/QTXJ3y7ZR9</td>\n",
       "      <td id=\"T_e5889_row61_col1\" class=\"data row61 col1\" >Australia</td>\n",
       "    </tr>\n",
       "    <tr>\n",
       "      <td id=\"T_e5889_row62_col0\" class=\"data row62 col0\" >Its a natural disaster, stop this. #TaalErruption2020 https://t.co/Cj86PDecyB</td>\n",
       "      <td id=\"T_e5889_row62_col1\" class=\"data row62 col1\" >nan</td>\n",
       "    </tr>\n",
       "    <tr>\n",
       "      <td id=\"T_e5889_row63_col0\" class=\"data row63 col0\" >The PM is accurate.Trump pulling out of the JCPOA started this disaster. He pulled out because Oba…</td>\n",
       "      <td id=\"T_e5889_row63_col1\" class=\"data row63 col1\" >Snohomish County, WA</td>\n",
       "    </tr>\n",
       "    <tr>\n",
       "      <td id=\"T_e5889_row64_col0\" class=\"data row64 col0\" >Fukushima nuclear disaster evacuation zone now teems with wildlife https://t.co/IRYE3KHP5u via</td>\n",
       "      <td id=\"T_e5889_row64_col1\" class=\"data row64 col1\" >New York, USA</td>\n",
       "    </tr>\n",
       "    <tr>\n",
       "      <td id=\"T_e5889_row65_col0\" class=\"data row65 col0\" >Philippines lifts restrictions on importing food from Fukushima, Japan, site of 2011 nuclear disaster. https://t.co/uxE4Gk…</td>\n",
       "      <td id=\"T_e5889_row65_col1\" class=\"data row65 col1\" >Pilipinas</td>\n",
       "    </tr>\n",
       "    <tr>\n",
       "      <td id=\"T_e5889_row66_col0\" class=\"data row66 col0\" >.From nuclear disaster to Olympics host: Fukushima will be in the limelight during Tokyo 2020 https://t.co/Gij2Vvpd83</td>\n",
       "      <td id=\"T_e5889_row66_col1\" class=\"data row66 col1\" >Kota Surabaya, Jawa Timur</td>\n",
       "    </tr>\n",
       "    <tr>\n",
       "      <td id=\"T_e5889_row67_col0\" class=\"data row67 col0\" >👉 Directly from Secretary of State Mike Pompeo On the JCPOA, Iran Nuclear \"deal\" 🤝 disaster and farce https://t.co/MZMbdFUxkQ</td>\n",
       "      <td id=\"T_e5889_row67_col1\" class=\"data row67 col1\" >London, England</td>\n",
       "    </tr>\n",
       "    <tr>\n",
       "      <td id=\"T_e5889_row68_col0\" class=\"data row68 col0\" >9 years after “Fukushima” became synonymous with nuclear disaster, the area will help kick off the 2020 Summer Olympics i…</td>\n",
       "      <td id=\"T_e5889_row68_col1\" class=\"data row68 col1\" >nan</td>\n",
       "    </tr>\n",
       "    <tr>\n",
       "      <td id=\"T_e5889_row69_col0\" class=\"data row69 col0\" >I feel like “an incident at the nuclear facility” and “no need for concern” is exactly how EVERY disaster movie starts... #p…</td>\n",
       "      <td id=\"T_e5889_row69_col1\" class=\"data row69 col1\" >Treaty 4 territory</td>\n",
       "    </tr>\n",
       "    <tr>\n",
       "      <td id=\"T_e5889_row70_col0\" class=\"data row70 col0\" >They don't want America to know what an unmitigating disaster the Iran payola deal was. P… https://t.co/GsDxVRG1kV</td>\n",
       "      <td id=\"T_e5889_row70_col1\" class=\"data row70 col1\" >Heart of Texas, United States</td>\n",
       "    </tr>\n",
       "    <tr>\n",
       "      <td id=\"T_e5889_row71_col0\" class=\"data row71 col0\" >in case of a nuclear attack to a sprawling bureaucratic agency tasked with mobilizing help in the midst of disaster.</td>\n",
       "      <td id=\"T_e5889_row71_col1\" class=\"data row71 col1\" >USA</td>\n",
       "    </tr>\n",
       "    <tr>\n",
       "      <td id=\"T_e5889_row72_col0\" class=\"data row72 col0\" >in case of a nuclear attack to a sprawling bureaucratic agency tasked with mobilizing help in the midst of disaster.</td>\n",
       "      <td id=\"T_e5889_row72_col1\" class=\"data row72 col1\" >God's country= The USofA</td>\n",
       "    </tr>\n",
       "    <tr>\n",
       "      <td id=\"T_e5889_row73_col0\" class=\"data row73 col0\" >Using thermal technology, Giles Price photographs the aftermath of the Fukushima nuclear disaster https://t.co/ZsIwq4pjVk</td>\n",
       "      <td id=\"T_e5889_row73_col1\" class=\"data row73 col1\" >toronto, canada</td>\n",
       "    </tr>\n",
       "    <tr>\n",
       "      <td id=\"T_e5889_row74_col0\" class=\"data row74 col0\" >Matt Gurney: False nuclear alert shows Canadians are on their own in case of disaster https://t.co/cjhVfhIXbV</td>\n",
       "      <td id=\"T_e5889_row74_col1\" class=\"data row74 col1\" >Toronto, Ontario, Canada</td>\n",
       "    </tr>\n",
       "    <tr>\n",
       "      <td id=\"T_e5889_row75_col0\" class=\"data row75 col0\" >The PM is accurate.Trump pulling out of the JCPOA started this disaster. He pulled out becaus… https://t.co/9aIlDb9Y8m</td>\n",
       "      <td id=\"T_e5889_row75_col1\" class=\"data row75 col1\" >British Columbia, Canada</td>\n",
       "    </tr>\n",
       "    <tr>\n",
       "      <td id=\"T_e5889_row76_col0\" class=\"data row76 col0\" >Don’t forget that part of that is nuclear powered cruise missiles that create a nuclear disaster on ev… https://t.co/OVRvzeESeq</td>\n",
       "      <td id=\"T_e5889_row76_col1\" class=\"data row76 col1\" >nan</td>\n",
       "    </tr>\n",
       "    <tr>\n",
       "      <td id=\"T_e5889_row77_col0\" class=\"data row77 col0\" >The mud war was a total disaster... Flying llamas, nuclear robots, time travel...</td>\n",
       "      <td id=\"T_e5889_row77_col1\" class=\"data row77 col1\" >Brazil</td>\n",
       "    </tr>\n",
       "    <tr>\n",
       "      <td id=\"T_e5889_row78_col0\" class=\"data row78 col0\" >9 years after Fukushima became synonymous with nuclear disaster, the area will help kick off the 2020 Summer Olympics in Tokyo…</td>\n",
       "      <td id=\"T_e5889_row78_col1\" class=\"data row78 col1\" >nan</td>\n",
       "    </tr>\n",
       "    <tr>\n",
       "      <td id=\"T_e5889_row79_col0\" class=\"data row79 col0\" >9 years after “Fukushima” became synonymous with nuclear disaster, the area will help kick off the 2020 Summer Olym… https://t.co/I4hNGepnvU</td>\n",
       "      <td id=\"T_e5889_row79_col1\" class=\"data row79 col1\" >London, England</td>\n",
       "    </tr>\n",
       "    <tr>\n",
       "      <td id=\"T_e5889_row80_col0\" class=\"data row80 col0\" >Matt Gurney: False nuclear alert shows Canadians are on their own in case of disaster https://t.co/VfRe9xSQl2 via</td>\n",
       "      <td id=\"T_e5889_row80_col1\" class=\"data row80 col1\" >nan</td>\n",
       "    </tr>\n",
       "    <tr>\n",
       "      <td id=\"T_e5889_row81_col0\" class=\"data row81 col0\" >Incredible. The liberal Atlantic admits Obama's Iran deal was a disaster because: - it was seen by Iran as a surrender…</td>\n",
       "      <td id=\"T_e5889_row81_col1\" class=\"data row81 col1\" >United States</td>\n",
       "    </tr>\n",
       "    <tr>\n",
       "      <td id=\"T_e5889_row82_col0\" class=\"data row82 col0\" >Scott Radley Podcast - Pickering nuclear disaster, kale eating hatred, and the Houston Astros https://t.co/1mfQl7lyOe</td>\n",
       "      <td id=\"T_e5889_row82_col1\" class=\"data row82 col1\" >Hamilton, Ontario</td>\n",
       "    </tr>\n",
       "    <tr>\n",
       "      <td id=\"T_e5889_row83_col0\" class=\"data row83 col0\" >Mullahs regime became very powerful as a result of that disaster Obama nuclear deal and protestors yet t… https://t.co/vQcARBxJSX</td>\n",
       "      <td id=\"T_e5889_row83_col1\" class=\"data row83 col1\" >Melbourne</td>\n",
       "    </tr>\n",
       "    <tr>\n",
       "      <td id=\"T_e5889_row84_col0\" class=\"data row84 col0\" >Nine years after “Fukushima” became synonymous with nuclear disaster, the area will help kick off the 2020 Summer O… https://t.co/BTKmuQpFm1</td>\n",
       "      <td id=\"T_e5889_row84_col1\" class=\"data row84 col1\" >Gurgaon, India</td>\n",
       "    </tr>\n",
       "    <tr>\n",
       "      <td id=\"T_e5889_row85_col0\" class=\"data row85 col0\" >Return to Fukushima: Inside ground zero nearly nine years after nuclear disaster https://t.co/6qt3aRllzh</td>\n",
       "      <td id=\"T_e5889_row85_col1\" class=\"data row85 col1\" >Bismarck, North Dakota</td>\n",
       "    </tr>\n",
       "    <tr>\n",
       "      <td id=\"T_e5889_row86_col0\" class=\"data row86 col0\" >. on - Return to Fukushima: Inside ground zero nearly nine years after nuclear disaster https://t.co/pElTprMOB6</td>\n",
       "      <td id=\"T_e5889_row86_col1\" class=\"data row86 col1\" >My House</td>\n",
       "    </tr>\n",
       "    <tr>\n",
       "      <td id=\"T_e5889_row87_col0\" class=\"data row87 col0\" >Nearly a decade after Japan's Fukushima nuclear disaster, researchers have discovered that wildlife is thriving in the areas evacu…</td>\n",
       "      <td id=\"T_e5889_row87_col1\" class=\"data row87 col1\" >nan</td>\n",
       "    </tr>\n",
       "    <tr>\n",
       "      <td id=\"T_e5889_row88_col0\" class=\"data row88 col0\" >This is exactly how every movie about a nuclear disaster begins... Don’t panic, though. (Oh, and, if you want more infor…</td>\n",
       "      <td id=\"T_e5889_row88_col1\" class=\"data row88 col1\" >nan</td>\n",
       "    </tr>\n",
       "    <tr>\n",
       "      <td id=\"T_e5889_row89_col0\" class=\"data row89 col0\" >At Abukuma #river bed, middle of #Fukushima city, 5 years after #nuclear #disaster. 20μSv/h #radiation https://t.co/6vabiTbz5U #japan</td>\n",
       "      <td id=\"T_e5889_row89_col1\" class=\"data row89 col1\" >nan</td>\n",
       "    </tr>\n",
       "    <tr>\n",
       "      <td id=\"T_e5889_row90_col0\" class=\"data row90 col0\" >At least until the next nuclear disaster</td>\n",
       "      <td id=\"T_e5889_row90_col1\" class=\"data row90 col1\" >Toronto, Ontario, Canada</td>\n",
       "    </tr>\n",
       "    <tr>\n",
       "      <td id=\"T_e5889_row91_col0\" class=\"data row91 col0\" >Return to Fukushima: Inside ground zero nearly nine years after nuclear disaster https://t.co/i1hi4L03XO</td>\n",
       "      <td id=\"T_e5889_row91_col1\" class=\"data row91 col1\" >nan</td>\n",
       "    </tr>\n",
       "    <tr>\n",
       "      <td id=\"T_e5889_row92_col0\" class=\"data row92 col0\" >Return to Fukushima: Inside ground zero nearly nine years after nuclear disaster https://t.co/o7uWEdwFMW</td>\n",
       "      <td id=\"T_e5889_row92_col1\" class=\"data row92 col1\" >nan</td>\n",
       "    </tr>\n",
       "    <tr>\n",
       "      <td id=\"T_e5889_row93_col0\" class=\"data row93 col0\" >This Presidency is the political equivalent to the Chernobyl nuclear disaster. The fallout is extensive and far reaching. A…</td>\n",
       "      <td id=\"T_e5889_row93_col1\" class=\"data row93 col1\" >New York, USA</td>\n",
       "    </tr>\n",
       "    <tr>\n",
       "      <td id=\"T_e5889_row94_col0\" class=\"data row94 col0\" >Fukashima, Japan's nuclear power plant disaster has been leaking since 2011 into the Pacific Ocean. The Japanese wa… https://t.co/R4fCcYlkZm</td>\n",
       "      <td id=\"T_e5889_row94_col1\" class=\"data row94 col1\" >Washington, DC</td>\n",
       "    </tr>\n",
       "    <tr>\n",
       "      <td id=\"T_e5889_row95_col0\" class=\"data row95 col0\" >okay wow the Provincial Nuclear Emergency Response Plan is only 200 pages long to deal with a nuclear disaster?!? 🤨 it has…</td>\n",
       "      <td id=\"T_e5889_row95_col1\" class=\"data row95 col1\" >Montréal</td>\n",
       "    </tr>\n",
       "    <tr>\n",
       "      <td id=\"T_e5889_row96_col0\" class=\"data row96 col0\" >Rolling back oil spill prevention regulations would put Alaska’s ocean and coasts at risk for disaster. We can’t afford to ta…</td>\n",
       "      <td id=\"T_e5889_row96_col1\" class=\"data row96 col1\" >Own Private Idaho</td>\n",
       "    </tr>\n",
       "    <tr>\n",
       "      <td id=\"T_e5889_row97_col0\" class=\"data row97 col0\" >\"The inadequate response to this disaster highlights the importance of establishing science-based solutions to prevent…</td>\n",
       "      <td id=\"T_e5889_row97_col1\" class=\"data row97 col1\" >Natal/RN</td>\n",
       "    </tr>\n",
       "    <tr>\n",
       "      <td id=\"T_e5889_row98_col0\" class=\"data row98 col0\" >Smoke in disasters: *exists* Peenoise: https://t.co/tZB1N3zgH4</td>\n",
       "      <td id=\"T_e5889_row98_col1\" class=\"data row98 col1\" >nan</td>\n",
       "    </tr>\n",
       "  </tbody>\n",
       "</table>\n"
      ],
      "text/plain": [
       "<pandas.io.formats.style.Styler at 0x2218cdb5b80>"
      ]
     },
     "execution_count": 9,
     "metadata": {},
     "output_type": "execute_result"
    }
   ],
   "source": [
    "# viewing the data with the \"text\" column widened to 800px so that the full tweet is displayed and hiding the index column\n",
    "disaster[['text','location']].style.set_properties(subset=['text'], **{'width': '800px'}).hide_index() "
   ]
  },
  {
   "cell_type": "markdown",
   "id": "c2362718",
   "metadata": {},
   "source": [
    "# Task 3\n",
    "\n",
    "To ensure the data present in the tweet (text) is consistent, correct, and usable, AM_CARES needs to perform data cleaning in the text of tweets. Help AM_CARES accomplish this task."
   ]
  },
  {
   "cell_type": "code",
   "execution_count": 10,
   "id": "1c1610bc",
   "metadata": {},
   "outputs": [
    {
     "data": {
      "text/plain": [
       "'Communal violence in Bhainsa, Telangana. \"Stones were pelted on Muslims\\' houses and some houses and vehicles were set ablaze… Telangana: Section 144 has been imposed in Bhainsa from January 13 to 15, '"
      ]
     },
     "execution_count": 10,
     "metadata": {},
     "output_type": "execute_result"
    }
   ],
   "source": [
    "# re.sub() : replacing a string that matches a regular expression.In re.sub(), specify a regular expression pattern in the first argument, a new string in the second argument, and a string to be processed in the third argument.\n",
    "\n",
    "text_string = re.sub(r\"\\s+\",\" \",text_string)  #\\s+ is the pattern used to find spaces. This should be followed with a '+' so that the previous element is matched one or more times.\n",
    "text_string[0 : 200]                  # viewing the first 200 elements of the string to check this worked as expected"
   ]
  },
  {
   "cell_type": "code",
   "execution_count": 11,
   "id": "c722ba3e",
   "metadata": {},
   "outputs": [
    {
     "data": {
      "text/plain": [
       "'Communal violence in Bhainsa, Telangana. \"Stones were pelted on Muslims\\' houses and some houses and vehicles were set ablaze… Telangana: Section 144 has been imposed in Bhainsa from January 13 to 15, '"
      ]
     },
     "execution_count": 11,
     "metadata": {},
     "output_type": "execute_result"
    }
   ],
   "source": [
    "text_string = re.sub(\"http\\S+\",\"_URL_\", text_string)  # to replace all the url start with http by the '_URL_', so let's use the sub() function\n",
    "                                        # \\S matches any non-white space character # + for one or more occurance of the pattern specified to its left\n",
    "text_string[0 : 200]                          # viewing the first 200 elements of the string to check this worked as expected"
   ]
  },
  {
   "cell_type": "code",
   "execution_count": 12,
   "id": "9bf014e4",
   "metadata": {},
   "outputs": [
    {
     "data": {
      "text/plain": [
       "'Communal violence in Bhainsa Telangana Stones were pelted on Muslims houses and some houses and vehicles were set ablaze Telangana Section 144 has been imposed in Bhainsa from January 13 to 15 after c'"
      ]
     },
     "execution_count": 12,
     "metadata": {},
     "output_type": "execute_result"
    }
   ],
   "source": [
    "text_string = re.sub(\"\\W+\",\" \", text_string)          # to replace all special characters with white space, so let's use the sub() function\n",
    "                                        # \\W matches non alphanumeric (special) character # + one or more occurance of the pattern specified to its left\n",
    "text_string[0 : 200]                          # viewing the first 200 elements of the string to check this worked as expected"
   ]
  },
  {
   "cell_type": "code",
   "execution_count": 13,
   "id": "4d68d320",
   "metadata": {},
   "outputs": [
    {
     "data": {
      "text/plain": [
       "'communal violence in bhainsa telangana stones were pelted on muslims houses and some houses and vehicles were set ablaze telangana section 144 has been imposed in bhainsa from january 13 to 15 after c'"
      ]
     },
     "execution_count": 13,
     "metadata": {},
     "output_type": "execute_result"
    }
   ],
   "source": [
    "text_string = text_string.lower()         # converting to lowercase\n",
    "text_string[0 : 200] "
   ]
  },
  {
   "cell_type": "markdown",
   "id": "e24b7d53",
   "metadata": {},
   "source": [
    "# Task 4\n",
    "\n",
    "During earthquake disasters, AM_CARES delivers lifesaving aid and vital assistance to help communities rebuild. To deliver these services efficiently, the company needs to know the tweets that contain the word 'magnitude' in the tweet text and the earthquake location. Can you help the company find all tweets containing 'magnitude' and locate the earthquake location? Also, find the average strength of the earthquake."
   ]
  },
  {
   "cell_type": "code",
   "execution_count": 14,
   "id": "23d26cba",
   "metadata": {},
   "outputs": [
    {
     "data": {
      "text/plain": [
       "17"
      ]
     },
     "execution_count": 14,
     "metadata": {},
     "output_type": "execute_result"
    }
   ],
   "source": [
    "magnitude = df.loc[df['text'].str.contains('magnitude')]  # fetching tweets containing 'magnitude' word\n",
    "len(magnitude)                                            # viewing the number of tweets that contain a 'magnitude' word"
   ]
  },
  {
   "cell_type": "code",
   "execution_count": 15,
   "id": "36a1273a",
   "metadata": {},
   "outputs": [
    {
     "name": "stderr",
     "output_type": "stream",
     "text": [
      "C:\\Users\\Admin\\AppData\\Local\\Temp\\ipykernel_8848\\896757910.py:2: FutureWarning: this method is deprecated in favour of `Styler.hide(axis='index')`\n",
      "  magnitude.style.set_properties(subset=['text'], **{'width':'800px'}).hide_index()  # viewing the data with the \"text\" column widened to 800px so that the full tweet is displayed,\n"
     ]
    },
    {
     "data": {
      "text/html": [
       "<style type=\"text/css\">\n",
       "#T_619e1_row0_col0, #T_619e1_row1_col0, #T_619e1_row2_col0, #T_619e1_row3_col0, #T_619e1_row4_col0, #T_619e1_row5_col0, #T_619e1_row6_col0, #T_619e1_row7_col0, #T_619e1_row8_col0, #T_619e1_row9_col0, #T_619e1_row10_col0, #T_619e1_row11_col0, #T_619e1_row12_col0, #T_619e1_row13_col0, #T_619e1_row14_col0, #T_619e1_row15_col0, #T_619e1_row16_col0 {\n",
       "  width: 800px;\n",
       "}\n",
       "</style>\n",
       "<table id=\"T_619e1\">\n",
       "  <thead>\n",
       "    <tr>\n",
       "      <th id=\"T_619e1_level0_col0\" class=\"col_heading level0 col0\" >text</th>\n",
       "      <th id=\"T_619e1_level0_col1\" class=\"col_heading level0 col1\" >location</th>\n",
       "    </tr>\n",
       "  </thead>\n",
       "  <tbody>\n",
       "    <tr>\n",
       "      <td id=\"T_619e1_row0_col0\" class=\"data row0 col0\" >Puerto Rico hit by another 5.9 magnitude aftershock - KYMA https://t.co/SF2wBVd5me</td>\n",
       "      <td id=\"T_619e1_row0_col1\" class=\"data row0 col1\" >Global</td>\n",
       "    </tr>\n",
       "    <tr>\n",
       "      <td id=\"T_619e1_row1_col0\" class=\"data row1 col0\" >Puerto Rico hit by another 5.9 magnitude aftershock - KYMA https://t.co/rrTNTMA8NR</td>\n",
       "      <td id=\"T_619e1_row1_col1\" class=\"data row1 col1\" >Texas</td>\n",
       "    </tr>\n",
       "    <tr>\n",
       "      <td id=\"T_619e1_row2_col0\" class=\"data row2 col0\" >Puerto Rico hit by another 5.9 magnitude aftershock - KYMA https://t.co/wW3CdsvDV2</td>\n",
       "      <td id=\"T_619e1_row2_col1\" class=\"data row2 col1\" >são paulo -sp</td>\n",
       "    </tr>\n",
       "    <tr>\n",
       "      <td id=\"T_619e1_row3_col0\" class=\"data row3 col0\" >Puerto Rico hit by another 5.9 magnitude aftershock - KYMA https://t.co/vRAdkSZaLn</td>\n",
       "      <td id=\"T_619e1_row3_col1\" class=\"data row3 col1\" >Flatbush, Brooklyn</td>\n",
       "    </tr>\n",
       "    <tr>\n",
       "      <td id=\"T_619e1_row4_col0\" class=\"data row4 col0\" >Puerto Rico hit by another 5.9 magnitude aftershock - KYMA https://t.co/MMxXzwBpaF</td>\n",
       "      <td id=\"T_619e1_row4_col1\" class=\"data row4 col1\" >nan</td>\n",
       "    </tr>\n",
       "    <tr>\n",
       "      <td id=\"T_619e1_row5_col0\" class=\"data row5 col0\" >Puerto Rico hit by another 5.9 magnitude aftershock - KYMA https://t.co/lRTLlbB9TV</td>\n",
       "      <td id=\"T_619e1_row5_col1\" class=\"data row5 col1\" >ethers</td>\n",
       "    </tr>\n",
       "    <tr>\n",
       "      <td id=\"T_619e1_row6_col0\" class=\"data row6 col0\" >If two quakes have about the same magnitude, you cannot say one is the other's preshock or aftershock. Only when one is obv…</td>\n",
       "      <td id=\"T_619e1_row6_col1\" class=\"data row6 col1\" >nan</td>\n",
       "    </tr>\n",
       "    <tr>\n",
       "      <td id=\"T_619e1_row7_col0\" class=\"data row7 col0\" >Puerto Rico hit by another 5.9 magnitude aftershock - KYMA https://t.co/P9Th3vpTak</td>\n",
       "      <td id=\"T_619e1_row7_col1\" class=\"data row7 col1\" >Wilmington, NC- USA</td>\n",
       "    </tr>\n",
       "    <tr>\n",
       "      <td id=\"T_619e1_row8_col0\" class=\"data row8 col0\" >The magnitude 5.9 quake in #PuertoRico this morning caused our 7-day aftershock forecast to change. We now estimate an increased…</td>\n",
       "      <td id=\"T_619e1_row8_col1\" class=\"data row8 col1\" >NYC</td>\n",
       "    </tr>\n",
       "    <tr>\n",
       "      <td id=\"T_619e1_row9_col0\" class=\"data row9 col0\" >This timelapse of #Sentinel3 🇪🇺🛰 imagery shows the magnitude of the #AustralianBushfire crisis in terms of burned areas…</td>\n",
       "      <td id=\"T_619e1_row9_col1\" class=\"data row9 col1\" >Japan</td>\n",
       "    </tr>\n",
       "    <tr>\n",
       "      <td id=\"T_619e1_row10_col0\" class=\"data row10 col0\" >Thousands in #PuertoRico still don't have permanent shelter after a 6.4 magnitude #earthquake, the strongest earthquake i…</td>\n",
       "      <td id=\"T_619e1_row10_col1\" class=\"data row10 col1\" >California, USA, Earth</td>\n",
       "    </tr>\n",
       "    <tr>\n",
       "      <td id=\"T_619e1_row11_col0\" class=\"data row11 col0\" >Hey, loves! Tip lang coming from someone who survived a 7.2 magnitude earthquake and volunteered all around the province…</td>\n",
       "      <td id=\"T_619e1_row11_col1\" class=\"data row11 col1\" >Send me</td>\n",
       "    </tr>\n",
       "    <tr>\n",
       "      <td id=\"T_619e1_row12_col0\" class=\"data row12 col0\" >Another quake: A 4.0 magnitude earthquake occurred 6km NW of Agoncillo (Batangas) at 11:39 PM. It was felt in Tagaytay…</td>\n",
       "      <td id=\"T_619e1_row12_col1\" class=\"data row12 col1\" >nan</td>\n",
       "    </tr>\n",
       "    <tr>\n",
       "      <td id=\"T_619e1_row13_col0\" class=\"data row13 col0\" >3.1 magnitude #earthquake. 14 km from #Volcano, HI, United States https://t.co/kszc5iyIVl</td>\n",
       "      <td id=\"T_619e1_row13_col1\" class=\"data row13 col1\" >United States</td>\n",
       "    </tr>\n",
       "    <tr>\n",
       "      <td id=\"T_619e1_row14_col0\" class=\"data row14 col0\" >3.5 magnitude earthquake recorded in Bulgan aimag #MONTSAME #Mongolia https://t.co/yteSvu24Q8</td>\n",
       "      <td id=\"T_619e1_row14_col1\" class=\"data row14 col1\" >Jigjidjav St, Ulaanbaatar</td>\n",
       "    </tr>\n",
       "    <tr>\n",
       "      <td id=\"T_619e1_row15_col0\" class=\"data row15 col0\" >A January heat wave engulfed the eastern half of the country.... The magnitude of the warmth was yet another remind… https://t.co/BVZASp3GAY</td>\n",
       "      <td id=\"T_619e1_row15_col1\" class=\"data row15 col1\" >Illinois, USA</td>\n",
       "    </tr>\n",
       "    <tr>\n",
       "      <td id=\"T_619e1_row16_col0\" class=\"data row16 col0\" >BREAKING: no tsunami watch or warning following the 6.0 magnitude earthquake that just rocked Puerto Rico.</td>\n",
       "      <td id=\"T_619e1_row16_col1\" class=\"data row16 col1\" >nan</td>\n",
       "    </tr>\n",
       "  </tbody>\n",
       "</table>\n"
      ],
      "text/plain": [
       "<pandas.io.formats.style.Styler at 0x2218e1195e0>"
      ]
     },
     "execution_count": 15,
     "metadata": {},
     "output_type": "execute_result"
    }
   ],
   "source": [
    "magnitude = magnitude[['text','location']]                                 # text and location of the tweets containing 'magnitude' word\n",
    "magnitude.style.set_properties(subset=['text'], **{'width':'800px'}).hide_index()  # viewing the data with the \"text\" column widened to 800px so that the full tweet is displayed,\n",
    "                                                                                         # and hide the index column"
   ]
  },
  {
   "cell_type": "code",
   "execution_count": 16,
   "id": "147bd903",
   "metadata": {},
   "outputs": [
    {
     "data": {
      "text/plain": [
       "'Puerto Rico hit by another 5.9 magnitude aftershock - KYMA https://t.co/SF2wBVd5me Puerto Rico hit by another 5.9 magnitude aftershock - KYMA https://t.co/rrTNTMA8NR Puerto Rico hit by another 5.9 magnitude aftershock - KYMA https://t.co/wW3CdsvDV2 Puerto Rico hit by another 5.9 magnitude aftershock - KYMA https://t.co/vRAdkSZaLn Puerto Rico hit by another 5.9 magnitude aftershock - KYMA https://t.co/MMxXzwBpaF Puerto Rico hit by another 5.9 magnitude aftershock - KYMA https://t.co/lRTLlbB9TV If'"
      ]
     },
     "execution_count": 16,
     "metadata": {},
     "output_type": "execute_result"
    }
   ],
   "source": [
    "string = ' '.join(x for x in magnitude['text'])         # Joining the each value of column 'text' with a single space\n",
    "string[0:500]                                           # viewing the first 500 elements of the string to check this worked as expected"
   ]
  },
  {
   "cell_type": "code",
   "execution_count": 17,
   "id": "48fd57e2",
   "metadata": {},
   "outputs": [
    {
     "name": "stdout",
     "output_type": "stream",
     "text": [
      "14\n",
      "<class 'str'>\n"
     ]
    }
   ],
   "source": [
    "num = re.findall('\\d\\.\\d+',string)      # '\\d' matches with digit, '+' one or more occurance digits. Fetching numeric values from string\n",
    "print(len(num))                         # count of numeric values\n",
    "print(type(num[0]))                     # to check datatype"
   ]
  },
  {
   "cell_type": "code",
   "execution_count": 18,
   "id": "9005274f",
   "metadata": {},
   "outputs": [
    {
     "name": "stdout",
     "output_type": "stream",
     "text": [
      "<class 'float'>\n"
     ]
    }
   ],
   "source": [
    "num = list(map(float, num))            # mapping to int from string\n",
    "print(type(num[0]))                   # checking datatype"
   ]
  },
  {
   "cell_type": "code",
   "execution_count": 19,
   "id": "1be9a58a",
   "metadata": {},
   "outputs": [
    {
     "name": "stdout",
     "output_type": "stream",
     "text": [
      "Average = 5.528571428571429\n"
     ]
    }
   ],
   "source": [
    "avg = np.mean(num)                   # finding average\n",
    "print(f\"Average = {avg}\")"
   ]
  },
  {
   "cell_type": "markdown",
   "id": "7c103887",
   "metadata": {},
   "source": [
    "# Task 5\n",
    "\n",
    "AM CARES is interested to read the tweet text of all the people who are talking about the accident. For this, the company needs to know the tweet text that contains the keyword 'accident' and also needs to determine the tweets that denote a real disaster so that it can read the tweets and plan activities. Help AM_CARES to accomplish this task. Also, remove the special characters from the tweet text. ??"
   ]
  },
  {
   "cell_type": "code",
   "execution_count": 20,
   "id": "fbb06e3d",
   "metadata": {},
   "outputs": [
    {
     "data": {
      "text/plain": [
       "78"
      ]
     },
     "execution_count": 20,
     "metadata": {},
     "output_type": "execute_result"
    }
   ],
   "source": [
    "accident = df.loc[df['text'].str.contains('accident')]  # fetching tweets containing 'accident' word\n",
    "len(accident)                                            # viewing the number of tweets that contain a 'accident' word"
   ]
  },
  {
   "cell_type": "code",
   "execution_count": 21,
   "id": "01b73da3",
   "metadata": {},
   "outputs": [
    {
     "data": {
      "text/plain": [
       "'#WATCH Former CM Akhilesh Yadav who went to meet injured of Kannauj accident, at a hospital in Chhibramau asks Emergency Med… 😁yeah! His new swag is on point 100%, since the accident! Like this is a totally transformed Bob… my back and neck are still fucked up from the accident 😡😡😭😭 RT! Prince Harry just confirmed that his mother’s (Princess Diana) death was not an accident! https://t.co/1ADe3uZ3eR Juwan Johnson/Oregon is one big dude. Looks like a tight end stuck in the receiver group by accide'"
      ]
     },
     "execution_count": 21,
     "metadata": {},
     "output_type": "execute_result"
    }
   ],
   "source": [
    "accident_str = ' '.join(accident[\"text\"])      # joining the each value of column 'text' with a single space\n",
    "accident_str[0:500]                      # viewing the first 500 elements of the string to check this worked as expected"
   ]
  },
  {
   "cell_type": "code",
   "execution_count": 22,
   "id": "9f9988e3",
   "metadata": {},
   "outputs": [
    {
     "data": {
      "text/plain": [
       "' WATCH Former CM Akhilesh Yadav who went to meet injured of Kannauj accident at a hospital in Chhibramau asks Emergency Med yeah His new swag is on point 100 since the accident Like this is a totally transformed Bob my back and neck are still fucked up from the accident RT Prince Harry just confirmed that his mother s Princess Diana death was not an accident https t co 1ADe3uZ3eR Juwan Johnson Oregon is one big dude Looks like a tight end stuck in the receiver group by accident My friend an army'"
      ]
     },
     "execution_count": 22,
     "metadata": {},
     "output_type": "execute_result"
    }
   ],
   "source": [
    "accident_str = re.sub(\"\\W+\",\" \", accident_str)          # to replace all special characters with white space, so let's use the sub() function\n",
    "                                            # \\W matches non alphanumeric (special) character # + one or more occurance of the pattern specified to its left\n",
    "accident_str[0 : 500]                          # viewing the first 500 elements of the string to check this worked as expected"
   ]
  }
 ],
 "metadata": {
  "kernelspec": {
   "display_name": "Python 3 (ipykernel)",
   "language": "python",
   "name": "python3"
  },
  "language_info": {
   "codemirror_mode": {
    "name": "ipython",
    "version": 3
   },
   "file_extension": ".py",
   "mimetype": "text/x-python",
   "name": "python",
   "nbconvert_exporter": "python",
   "pygments_lexer": "ipython3",
   "version": "3.9.13"
  }
 },
 "nbformat": 4,
 "nbformat_minor": 5
}
