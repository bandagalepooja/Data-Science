{
 "cells": [
  {
   "cell_type": "markdown",
   "id": "c96e70c4",
   "metadata": {},
   "source": [
    "TASK 1 : CHECK THE INPUT YEAR IS LEAP YEAR OR NOT FOR YEAR BETWEEN 1900 AND 2100"
   ]
  },
  {
   "cell_type": "code",
   "execution_count": 1,
   "id": "7094fe57",
   "metadata": {},
   "outputs": [
    {
     "name": "stdout",
     "output_type": "stream",
     "text": [
      "Enter a year between 1900 and 2100: 1947\n",
      "1947 is not a leap year\n"
     ]
    }
   ],
   "source": [
    "Year=int(input(\"Enter a year between 1900 and 2100: \"))\n",
    "\n",
    "if Year>=1900 and Year<=2100:\n",
    "    \n",
    "    if Year%400==0 and Year%100==0:\n",
    "        print(\"{} is a leap year\".format(Year))\n",
    "    elif Year%4==0 and Year%100!=0:\n",
    "        print(\"{} is a leap year\".format(Year))\n",
    "    else:\n",
    "        print(\"{} is not a leap year\".format(Year))\n",
    "\n",
    "else:\n",
    "    print('Invalid input')"
   ]
  },
  {
   "cell_type": "markdown",
   "id": "42b0956d",
   "metadata": {},
   "source": [
    "TASK 2 : DISPLAY NAME OF MONTH AND NUMBER OF DAYS IN MONTH FOR INPUT BETWEEN 1 TO 10"
   ]
  },
  {
   "cell_type": "code",
   "execution_count": 14,
   "id": "415326c0",
   "metadata": {},
   "outputs": [
    {
     "name": "stdout",
     "output_type": "stream",
     "text": [
      "Enter a number between 1 and 12 : 7\n",
      "The month is July. No of days : 31\n"
     ]
    }
   ],
   "source": [
    "month=int(input(\"Enter a number between 1 and 12 : \"))\n",
    "a=[1,2,3,4,5,6,7,8,9,10,11,12]\n",
    "b=['January','February','March','April','May','June','July','August','September','October','November','December']\n",
    "if month==a[0]:\n",
    "    print(\"The month is {}. No of days : 31\".format(b[0]))\n",
    "elif month==a[1]:\n",
    "    print(\"The month is {}. No of days : 30\".format(b[1]))\n",
    "elif month==a[2]:\n",
    "    print(\"The month is {}. No of days : 31\".format(b[2]))\n",
    "elif month==a[3]:\n",
    "    print(\"The month is {}. No of days : 30\".format(b[3]))\n",
    "elif month==a[4]:\n",
    "    print(\"The month is {}. No of days : 31\".format(b[4])) \n",
    "elif month==a[5]:\n",
    "    print(\"The month is {}. No of days : 30\".format(b[5])) \n",
    "elif month==a[6]:\n",
    "    print(\"The month is {}. No of days : 31\".format(b[6])) \n",
    "elif month==a[7]:\n",
    "    print(\"The month is {}. No of days : 31\".format(b[7]))\n",
    "elif month==a[8]:\n",
    "    print(\"The month is {}. No of days : 30\".format(b[8]))\n",
    "elif month==a[9]:\n",
    "    print(\"The month is {}. No of days : 31\".format(b[9]))\n",
    "elif month==a[10]:\n",
    "    print(\"The month is {}. No of days : 30\".format(b[10])) \n",
    "elif month==a[11]:\n",
    "    print(\"The month is {}. No of days : 31\".format(b[11])) \n",
    "else:\n",
    "    print('Invalid input')"
   ]
  },
  {
   "cell_type": "markdown",
   "id": "e1c61ec0",
   "metadata": {},
   "source": [
    "TASK 3 : ASK USER TO ENTER TOTAL PURCHASE AMOUNT AND DISPLAY THE DISCOUNT AS PER AMOUNT"
   ]
  },
  {
   "cell_type": "code",
   "execution_count": 16,
   "id": "b5ec730a",
   "metadata": {},
   "outputs": [
    {
     "name": "stdout",
     "output_type": "stream",
     "text": [
      "Enter Total_purchase_amount : 180\n",
      "Discount is 15 %\n"
     ]
    }
   ],
   "source": [
    "Total_purchase_amount=int(input(\"Enter Total_purchase_amount : \"))\n",
    "if Total_purchase_amount<100:\n",
    "    print(\"No discount\")\n",
    "elif Total_purchase_amount>=100 and Total_purchase_amount<150:\n",
    "    print(\"Discount is 10 %\")\n",
    "elif Total_purchase_amount>=150 and Total_purchase_amount<200:\n",
    "    print(\"Discount is 15 %\")\n",
    "elif Total_purchase_amount>=200 and Total_purchase_amount<250:\n",
    "    print(\"Discount is 20 %\")\n",
    "else:\n",
    "    print(\"Discount is 25 %\")"
   ]
  },
  {
   "cell_type": "markdown",
   "id": "2c302bed",
   "metadata": {},
   "source": [
    "TASK 4 : MATH QUIZ GAME"
   ]
  },
  {
   "cell_type": "code",
   "execution_count": 1,
   "id": "c1a3a04b",
   "metadata": {},
   "outputs": [
    {
     "name": "stdout",
     "output_type": "stream",
     "text": [
      "What is 5 x 2 ? 10\n",
      "Correct!\n",
      "What is 8 x 9 + 2 ?74\n",
      "Correct!\n",
      "What is 56 - 50 ?6\n",
      "Correct!\n",
      "---------------------------------------------------\n",
      "Score is 3\n",
      "---------------------------------------------------\n",
      "Well done! Thanks for playing.\n"
     ]
    }
   ],
   "source": [
    "m=0\n",
    "num1=int(input('What is 5 x 2 ? '))\n",
    "if num1==(5*2):\n",
    "    print('Correct!')\n",
    "    m=m+1\n",
    "else:\n",
    "    print('Incorrect! please try again')\n",
    "    \n",
    "num2=int(input('What is 8 x 9 + 2 ?'))\n",
    "if num2==8*9+2:\n",
    "    print('Correct!')\n",
    "    m=m+1\n",
    "else:\n",
    "    print('Incorrect! please try again')\n",
    "\n",
    "num3=int(input('What is 56 - 50 ?'))\n",
    "if num3==56-50:\n",
    "    print('Correct!')\n",
    "    m=m+1\n",
    "else:\n",
    "    print('Incorrect! please try again')\n",
    "\n",
    "print('---------------------------------------------------')\n",
    "    \n",
    "print('Score is {}'.format(m))\n",
    "\n",
    "print('---------------------------------------------------')\n",
    "\n",
    "if m>=2:\n",
    "    print('Well done! Thanks for playing.')\n",
    "else:\n",
    "    pass\n"
   ]
  },
  {
   "cell_type": "markdown",
   "id": "b047d3b0",
   "metadata": {},
   "source": [
    "TASK 5 : ROCK PAPER SCISSOR GAME"
   ]
  },
  {
   "cell_type": "code",
   "execution_count": 13,
   "id": "393f83e3",
   "metadata": {},
   "outputs": [
    {
     "name": "stdout",
     "output_type": "stream",
     "text": [
      "Type your choice between 'rock','paper' and 'scissor'scissor\n",
      "user=  scissor\n",
      "computer=  paper\n",
      "User won\n"
     ]
    }
   ],
   "source": [
    "import random\n",
    "\n",
    "user=input(\"Type your choice between 'rock','paper' and 'scissor'\")\n",
    "\n",
    "possibilities=['rock','paper','scissor']\n",
    "computer=random.choice(possibilities)\n",
    "\n",
    "print('user= ',user)\n",
    "print('computer= ',computer)\n",
    "\n",
    "if user=='rock' and computer=='rock':\n",
    "    print('Tie')\n",
    "if user=='rock' and computer=='paper':\n",
    "    print('Computer won')\n",
    "if user=='rock' and computer=='scissor':\n",
    "    print('User won')\n",
    "elif user=='paper' and computer=='paper':\n",
    "    print('Tie')\n",
    "elif user=='paper' and computer=='rock':\n",
    "    print('User won')\n",
    "elif user=='paper' and computer=='scissor':\n",
    "    print('computer won')\n",
    "elif user=='scissor' and computer=='scissor':\n",
    "    print('Tie')\n",
    "elif user=='scissor' and computer=='paper':\n",
    "    print('User won')\n",
    "elif user=='scissor' and computer=='rock':\n",
    "    print('Computer won')\n",
    "else:\n",
    "    print('Invalid input')"
   ]
  }
 ],
 "metadata": {
  "kernelspec": {
   "display_name": "Python 3 (ipykernel)",
   "language": "python",
   "name": "python3"
  },
  "language_info": {
   "codemirror_mode": {
    "name": "ipython",
    "version": 3
   },
   "file_extension": ".py",
   "mimetype": "text/x-python",
   "name": "python",
   "nbconvert_exporter": "python",
   "pygments_lexer": "ipython3",
   "version": "3.9.13"
  }
 },
 "nbformat": 4,
 "nbformat_minor": 5
}
