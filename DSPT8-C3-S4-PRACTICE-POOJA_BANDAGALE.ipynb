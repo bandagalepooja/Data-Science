{
 "cells": [
  {
   "cell_type": "markdown",
   "id": "0da26cab",
   "metadata": {},
   "source": [
    "# SPRINT 4 : LOOPING OVER DATA STRUCTURE-PRACTICE"
   ]
  },
  {
   "cell_type": "markdown",
   "id": "132f5a49",
   "metadata": {},
   "source": [
    "# Factorial of a Number"
   ]
  },
  {
   "cell_type": "markdown",
   "id": "2ea9cacb",
   "metadata": {},
   "source": [
    "Task 1 : Create a program to calculate factorial of given number n."
   ]
  },
  {
   "cell_type": "code",
   "execution_count": 64,
   "id": "216b5473",
   "metadata": {},
   "outputs": [
    {
     "name": "stdout",
     "output_type": "stream",
     "text": [
      "Enter any number : 5\n",
      "Factorial of a number :  120\n"
     ]
    }
   ],
   "source": [
    "n=int(input('Enter any number : '))\n",
    "i=n-1\n",
    "while i>=1:\n",
    "    n=n*i\n",
    "    i-=1    \n",
    "print('Factorial of a number : ',n)"
   ]
  },
  {
   "cell_type": "markdown",
   "id": "92367b59",
   "metadata": {},
   "source": [
    "# Prime Numbers"
   ]
  },
  {
   "cell_type": "markdown",
   "id": "95269b32",
   "metadata": {},
   "source": [
    "Task 2 : Create program to print all prime numbers upto 20"
   ]
  },
  {
   "cell_type": "code",
   "execution_count": 65,
   "id": "b1e56ed6",
   "metadata": {},
   "outputs": [
    {
     "name": "stdout",
     "output_type": "stream",
     "text": [
      "2 3 5 7 11 13 17 19 "
     ]
    }
   ],
   "source": [
    "n=2\n",
    "\n",
    "while n<=20:\n",
    "    c=0\n",
    "    for i in range(2,n):\n",
    "        if n%i==0:\n",
    "            c=1\n",
    "    if c==0:\n",
    "        print(n,end=' ')\n",
    "    n=n+1\n",
    "        \n",
    "        \n",
    "        \n",
    "        "
   ]
  },
  {
   "cell_type": "markdown",
   "id": "2a5aafde",
   "metadata": {},
   "source": [
    "# Sum of all Digits"
   ]
  },
  {
   "cell_type": "markdown",
   "id": "8aaca6f1",
   "metadata": {},
   "source": [
    "Task 3 : Take input of a number from user. Write a program using while loop to calculate the sum of digits of numbers"
   ]
  },
  {
   "cell_type": "code",
   "execution_count": 67,
   "id": "2281b30c",
   "metadata": {},
   "outputs": [
    {
     "name": "stdout",
     "output_type": "stream",
     "text": [
      "Enter any five digit number = 12345\n",
      "Sum=  15\n"
     ]
    }
   ],
   "source": [
    "n=int(input('Enter any five digit number = '))\n",
    "\n",
    "x=0\n",
    "\n",
    "while n>0:\n",
    "    dig=n%10\n",
    "    x=x+dig\n",
    "    n=n//10\n",
    "\n",
    "print('Sum= ',x)\n",
    "\n",
    "\n"
   ]
  },
  {
   "cell_type": "markdown",
   "id": "d4e83ce9",
   "metadata": {},
   "source": [
    "# Fibonacci Series"
   ]
  },
  {
   "cell_type": "markdown",
   "id": "0c666653",
   "metadata": {},
   "source": [
    "Task 4 : Using while loop, create program to display Fibonacci series upto 7 values. The first two numbers can be selected as 1 & 2."
   ]
  },
  {
   "cell_type": "code",
   "execution_count": 18,
   "id": "50a578ba",
   "metadata": {},
   "outputs": [
    {
     "name": "stdout",
     "output_type": "stream",
     "text": [
      "1 2 3 5 8 13 21 "
     ]
    }
   ],
   "source": [
    "# Method 1\n",
    "\n",
    "a=1\n",
    "b=2\n",
    "n=1\n",
    "print(a,b,end=' ')\n",
    "while n<=5:\n",
    "    c=a+b\n",
    "    print(c,end=' ')\n",
    "    a=b\n",
    "    b=c\n",
    "    n=n+1"
   ]
  },
  {
   "cell_type": "markdown",
   "id": "aa0fa236",
   "metadata": {},
   "source": [
    "# Adding two objects"
   ]
  },
  {
   "cell_type": "markdown",
   "id": "b8401c09",
   "metadata": {},
   "source": [
    "Task 5 : \n",
    "    Create two tuples t1 and t2\n",
    "    Display ID of both tuples\n",
    "    Execute command t1=t1+t2\n",
    "    Display ID of both tupples"
   ]
  },
  {
   "cell_type": "code",
   "execution_count": 68,
   "id": "bc49321f",
   "metadata": {},
   "outputs": [
    {
     "name": "stdout",
     "output_type": "stream",
     "text": [
      "ID of t1 :  2698702955904\n",
      "ID of t2 :  2698704352640\n"
     ]
    }
   ],
   "source": [
    "t1=(11,15,18)\n",
    "t2=(1,2)\n",
    "print('ID of t1 : ',id(t1))\n",
    "print('ID of t2 : ',id(t2))\n"
   ]
  },
  {
   "cell_type": "code",
   "execution_count": 69,
   "id": "cd6d6392",
   "metadata": {},
   "outputs": [
    {
     "name": "stdout",
     "output_type": "stream",
     "text": [
      "ID of t1 :  2698660841408\n",
      "ID of t2 :  2698704352640\n"
     ]
    }
   ],
   "source": [
    "t1=t1+t2\n",
    "print('ID of t1 : ',id(t1))\n",
    "print('ID of t2 : ',id(t2))\n"
   ]
  },
  {
   "cell_type": "code",
   "execution_count": null,
   "id": "78e7ea3e",
   "metadata": {},
   "outputs": [],
   "source": [
    "## Yes there is change in ID of tuple t1 as new mwmory space is allocated"
   ]
  },
  {
   "cell_type": "markdown",
   "id": "94084d35",
   "metadata": {},
   "source": [
    "# Extending first object with another"
   ]
  },
  {
   "cell_type": "markdown",
   "id": "38c848b2",
   "metadata": {},
   "source": [
    "Task 6 : Add elements of set n in m"
   ]
  },
  {
   "cell_type": "code",
   "execution_count": 31,
   "id": "1b23b426",
   "metadata": {},
   "outputs": [
    {
     "name": "stdout",
     "output_type": "stream",
     "text": [
      "[10, 20, 30, 40, 50, 60, 70]\n"
     ]
    }
   ],
   "source": [
    "m={10,20,30,40,50}\n",
    "n={30,40,50,60,70}\n",
    "m.update(n)\n",
    "print(sorted(m))"
   ]
  },
  {
   "cell_type": "code",
   "execution_count": null,
   "id": "f29eba17",
   "metadata": {},
   "outputs": [],
   "source": [
    "# Here duplicate items are deleted as duplicate items are not allowed in set"
   ]
  },
  {
   "cell_type": "markdown",
   "id": "cc4ac7dd",
   "metadata": {
    "slideshow": {
     "slide_type": "skip"
    }
   },
   "source": [
    "# Iterations over Data Structures"
   ]
  },
  {
   "cell_type": "raw",
   "id": "05274d48",
   "metadata": {},
   "source": [
    "Task 7 : Using loops, create a program to print only even values from port 1 Data Structure"
   ]
  },
  {
   "cell_type": "code",
   "execution_count": 52,
   "id": "d386048a",
   "metadata": {
    "slideshow": {
     "slide_type": "subslide"
    }
   },
   "outputs": [
    {
     "name": "stdout",
     "output_type": "stream",
     "text": [
      "2\n",
      "4\n"
     ]
    }
   ],
   "source": [
    "port1={'FTP':1,'SSH':2,'telnet':3,'http':4}\n",
    "\n",
    "for k,v in port1.items():\n",
    "    if v%2==0:\n",
    "        print(v)\n",
    " \n",
    "    \n",
    "    "
   ]
  },
  {
   "cell_type": "code",
   "execution_count": null,
   "id": "28b481f1",
   "metadata": {},
   "outputs": [],
   "source": [
    "Task 8 : Create Python program to create a dictionary where keys are numbers between 1 and 15 and the values are squares\n",
    "of keys. Add new key {100 : 10000} to this dictionary"
   ]
  },
  {
   "cell_type": "code",
   "execution_count": 50,
   "id": "0a53ad7a",
   "metadata": {},
   "outputs": [
    {
     "name": "stdout",
     "output_type": "stream",
     "text": [
      "Original Dictionary :  {1: 1, 2: 4, 3: 9, 4: 16, 5: 25, 6: 36, 7: 49, 8: 64, 9: 81, 10: 100, 11: 121, 12: 144, 13: 169, 14: 196, 15: 225}\n",
      "Updated Dictionary :  {1: 1, 2: 4, 3: 9, 4: 16, 5: 25, 6: 36, 7: 49, 8: 64, 9: 81, 10: 100, 11: 121, 12: 144, 13: 169, 14: 196, 15: 225, 100: 1000}\n"
     ]
    }
   ],
   "source": [
    "dictionary={}\n",
    "\n",
    "for i in range(1,16):\n",
    "    dictionary[i]=i*i\n",
    "    \n",
    "print('Original Dictionary : ',dictionary)\n",
    "\n",
    "dictionary[100]=1000\n",
    "\n",
    "print('Updated Dictionary : ',dictionary)"
   ]
  },
  {
   "cell_type": "markdown",
   "id": "9c27f11d",
   "metadata": {},
   "source": [
    "Task 9 : Use the dictionary port1 and make a new dictionary where keys become values and values become keys."
   ]
  },
  {
   "cell_type": "code",
   "execution_count": 55,
   "id": "94c8593d",
   "metadata": {},
   "outputs": [
    {
     "name": "stdout",
     "output_type": "stream",
     "text": [
      "{1: 'FTP', 2: 'SSH', 3: 'telnet', 4: 'http'}\n"
     ]
    }
   ],
   "source": [
    "port1={'FTP':1,'SSH':2,'telnet':3,'http':4}\n",
    "port2={}\n",
    "for k,v in port1.items():\n",
    "    port2[v]=k\n",
    "print(port2)"
   ]
  },
  {
   "cell_type": "markdown",
   "id": "ca361e98",
   "metadata": {},
   "source": [
    "Task 10 : Write a python program to remove duplicate entries of Emp3 and Emp4 without swapping keys & values"
   ]
  },
  {
   "cell_type": "code",
   "execution_count": 61,
   "id": "5752d315",
   "metadata": {},
   "outputs": [
    {
     "name": "stdout",
     "output_type": "stream",
     "text": [
      "{'Emp1': {'name': 'Sara', 'Dept': 'IT', 'Designation': 'Team Lead'}, 'Emp2': {'name': 'Anna', 'Dept': 'IT', 'Designation': 'Senior Software Engineer'}, 'Emp3': {'name': 'Andy', 'Dept': 'Biotech', 'Designation': 'Senior Software Engineer'}}\n"
     ]
    }
   ],
   "source": [
    "Employee={\n",
    "    'Emp1':{'name':'Sara','Dept':'IT','Designation':'Team Lead'},\n",
    "    'Emp2':{'name':'Anna','Dept':'IT','Designation':'Senior Software Engineer'},\n",
    "    'Emp3':{'name':'Andy','Dept':'Biotech','Designation':'Senior Software Engineer'},\n",
    "    'Emp4':{'name':'Andy','Dept':'Biotech','Designation':'Senior Software Engineer'}\n",
    "}\n",
    "\n",
    "Employee2={}\n",
    "\n",
    "for key,value in Employee.items():\n",
    "    if value not in Employee2.values():\n",
    "        Employee2[key]=value\n",
    "        \n",
    "print(Employee2)"
   ]
  }
 ],
 "metadata": {
  "kernelspec": {
   "display_name": "Python 3 (ipykernel)",
   "language": "python",
   "name": "python3"
  },
  "language_info": {
   "codemirror_mode": {
    "name": "ipython",
    "version": 3
   },
   "file_extension": ".py",
   "mimetype": "text/x-python",
   "name": "python",
   "nbconvert_exporter": "python",
   "pygments_lexer": "ipython3",
   "version": "3.9.13"
  }
 },
 "nbformat": 4,
 "nbformat_minor": 5
}
