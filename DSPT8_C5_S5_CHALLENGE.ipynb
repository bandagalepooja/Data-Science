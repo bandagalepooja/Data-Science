{
 "cells": [
  {
   "cell_type": "markdown",
   "id": "d14c6ad0",
   "metadata": {},
   "source": [
    "# Continuous Probability Distribution Challenge"
   ]
  },
  {
   "cell_type": "code",
   "execution_count": 1,
   "id": "a306caa4",
   "metadata": {},
   "outputs": [],
   "source": [
    "import pandas as pd\n",
    "import numpy as np\n",
    "import matplotlib.pyplot as plt\n",
    "import scipy.stats as st\n",
    "import seaborn as sb\n",
    "import warnings\n",
    "warnings.filterwarnings('ignore')"
   ]
  },
  {
   "cell_type": "markdown",
   "id": "26c6bad6",
   "metadata": {},
   "source": [
    "# TASK 1"
   ]
  },
  {
   "cell_type": "code",
   "execution_count": 3,
   "id": "bd1fb978",
   "metadata": {},
   "outputs": [],
   "source": [
    "mean=1332\n",
    "std=725"
   ]
  },
  {
   "cell_type": "markdown",
   "id": "d1744ea4",
   "metadata": {},
   "source": [
    "1: What proportion of tax returns are greater than $2,000?"
   ]
  },
  {
   "cell_type": "code",
   "execution_count": 17,
   "id": "fd79455f",
   "metadata": {},
   "outputs": [
    {
     "name": "stdout",
     "output_type": "stream",
     "text": [
      "Proportion of tax returns are greater than $2,000 is  0.178\n"
     ]
    }
   ],
   "source": [
    "x=2000\n",
    "z=(x-mean)/std\n",
    "p=st.norm.cdf(z)\n",
    "print('Proportion of tax returns are greater than $2,000 is ',round(1-p,3))"
   ]
  },
  {
   "cell_type": "markdown",
   "id": "a086ae45",
   "metadata": {},
   "source": [
    "2: What proportion of tax indicates that a taxpayer owes money to the government?"
   ]
  },
  {
   "cell_type": "code",
   "execution_count": 16,
   "id": "251b68a2",
   "metadata": {},
   "outputs": [
    {
     "name": "stdout",
     "output_type": "stream",
     "text": [
      "Proportion of tax indicates that a taxpayer owes money to the government  0.033\n"
     ]
    }
   ],
   "source": [
    "x=0\n",
    "z=(x-mean)/std\n",
    "p=st.norm.cdf(z)\n",
    "print('Proportion of tax indicates that a taxpayer owes money to the government ',round(p,3))"
   ]
  },
  {
   "cell_type": "markdown",
   "id": "d2a4cbb2",
   "metadata": {},
   "source": [
    "3: What proportion of tax returns indicates a refund between $100 and $700?\n",
    "\n"
   ]
  },
  {
   "cell_type": "code",
   "execution_count": 23,
   "id": "5b3cb2ca",
   "metadata": {},
   "outputs": [
    {
     "name": "stdout",
     "output_type": "stream",
     "text": [
      "proportion of tax returns indicates a refund between $100 and $700 :  0.147\n"
     ]
    }
   ],
   "source": [
    "x1=100\n",
    "z1=(x1-mean)/std\n",
    "x2=700\n",
    "z2=(x2-mean)/std\n",
    "p=st.norm.cdf(z2)-st.norm.cdf(z1)\n",
    "print('proportion of tax returns indicates a refund between $100 and $700 : ',round(p,3) )"
   ]
  },
  {
   "cell_type": "markdown",
   "id": "40aa4ab0",
   "metadata": {},
   "source": [
    "# Task 2"
   ]
  },
  {
   "cell_type": "code",
   "execution_count": 7,
   "id": "0c8dc7a0",
   "metadata": {},
   "outputs": [],
   "source": [
    "df=pd.read_csv('DS1_C5_S5_Computers_Data_Challenge.csv')"
   ]
  },
  {
   "cell_type": "code",
   "execution_count": 8,
   "id": "eea23f7e",
   "metadata": {},
   "outputs": [
    {
     "data": {
      "text/plain": [
       "Index(['index', 'price', 'speed', 'hd', 'ram', 'screen', 'cd', 'multi',\n",
       "       'premium', 'ads', 'trend'],\n",
       "      dtype='object')"
      ]
     },
     "execution_count": 8,
     "metadata": {},
     "output_type": "execute_result"
    }
   ],
   "source": [
    "df.columns"
   ]
  },
  {
   "cell_type": "markdown",
   "id": "79f0527a",
   "metadata": {},
   "source": [
    "1:Extract sample data using an appropriate sampling technique. (Make sure that the sample has a minimum size of 50, contain device screen size data, and the computer price does not exceed $4,000.)"
   ]
  },
  {
   "cell_type": "code",
   "execution_count": 9,
   "id": "9d353507",
   "metadata": {},
   "outputs": [
    {
     "data": {
      "text/html": [
       "<div>\n",
       "<style scoped>\n",
       "    .dataframe tbody tr th:only-of-type {\n",
       "        vertical-align: middle;\n",
       "    }\n",
       "\n",
       "    .dataframe tbody tr th {\n",
       "        vertical-align: top;\n",
       "    }\n",
       "\n",
       "    .dataframe thead th {\n",
       "        text-align: right;\n",
       "    }\n",
       "</style>\n",
       "<table border=\"1\" class=\"dataframe\">\n",
       "  <thead>\n",
       "    <tr style=\"text-align: right;\">\n",
       "      <th></th>\n",
       "      <th>index</th>\n",
       "      <th>price</th>\n",
       "      <th>speed</th>\n",
       "      <th>hd</th>\n",
       "      <th>ram</th>\n",
       "      <th>screen</th>\n",
       "      <th>cd</th>\n",
       "      <th>multi</th>\n",
       "      <th>premium</th>\n",
       "      <th>ads</th>\n",
       "      <th>trend</th>\n",
       "    </tr>\n",
       "  </thead>\n",
       "  <tbody>\n",
       "    <tr>\n",
       "      <th>0</th>\n",
       "      <td>16.0</td>\n",
       "      <td>2225.0</td>\n",
       "      <td>50.0</td>\n",
       "      <td>130.0</td>\n",
       "      <td>4.0</td>\n",
       "      <td>14.0</td>\n",
       "      <td>no</td>\n",
       "      <td>no</td>\n",
       "      <td>yes</td>\n",
       "      <td>94.0</td>\n",
       "      <td>1.0</td>\n",
       "    </tr>\n",
       "    <tr>\n",
       "      <th>1</th>\n",
       "      <td>2416.0</td>\n",
       "      <td>2643.0</td>\n",
       "      <td>66.0</td>\n",
       "      <td>212.0</td>\n",
       "      <td>4.0</td>\n",
       "      <td>14.0</td>\n",
       "      <td>yes</td>\n",
       "      <td>no</td>\n",
       "      <td>no</td>\n",
       "      <td>216.0</td>\n",
       "      <td>13.0</td>\n",
       "    </tr>\n",
       "    <tr>\n",
       "      <th>2</th>\n",
       "      <td>2962.0</td>\n",
       "      <td>3089.0</td>\n",
       "      <td>66.0</td>\n",
       "      <td>424.0</td>\n",
       "      <td>8.0</td>\n",
       "      <td>14.0</td>\n",
       "      <td>no</td>\n",
       "      <td>no</td>\n",
       "      <td>no</td>\n",
       "      <td>267.0</td>\n",
       "      <td>15.0</td>\n",
       "    </tr>\n",
       "    <tr>\n",
       "      <th>3</th>\n",
       "      <td>104.0</td>\n",
       "      <td>2999.0</td>\n",
       "      <td>66.0</td>\n",
       "      <td>330.0</td>\n",
       "      <td>4.0</td>\n",
       "      <td>15.0</td>\n",
       "      <td>no</td>\n",
       "      <td>no</td>\n",
       "      <td>yes</td>\n",
       "      <td>95.0</td>\n",
       "      <td>2.0</td>\n",
       "    </tr>\n",
       "    <tr>\n",
       "      <th>4</th>\n",
       "      <td>2835.0</td>\n",
       "      <td>2495.0</td>\n",
       "      <td>66.0</td>\n",
       "      <td>424.0</td>\n",
       "      <td>8.0</td>\n",
       "      <td>15.0</td>\n",
       "      <td>yes</td>\n",
       "      <td>no</td>\n",
       "      <td>yes</td>\n",
       "      <td>267.0</td>\n",
       "      <td>15.0</td>\n",
       "    </tr>\n",
       "    <tr>\n",
       "      <th>...</th>\n",
       "      <td>...</td>\n",
       "      <td>...</td>\n",
       "      <td>...</td>\n",
       "      <td>...</td>\n",
       "      <td>...</td>\n",
       "      <td>...</td>\n",
       "      <td>...</td>\n",
       "      <td>...</td>\n",
       "      <td>...</td>\n",
       "      <td>...</td>\n",
       "      <td>...</td>\n",
       "    </tr>\n",
       "    <tr>\n",
       "      <th>95</th>\n",
       "      <td>5958.0</td>\n",
       "      <td>1199.0</td>\n",
       "      <td>50.0</td>\n",
       "      <td>545.0</td>\n",
       "      <td>4.0</td>\n",
       "      <td>14.0</td>\n",
       "      <td>no</td>\n",
       "      <td>no</td>\n",
       "      <td>yes</td>\n",
       "      <td>129.0</td>\n",
       "      <td>29.0</td>\n",
       "    </tr>\n",
       "    <tr>\n",
       "      <th>96</th>\n",
       "      <td>6113.0</td>\n",
       "      <td>1994.0</td>\n",
       "      <td>100.0</td>\n",
       "      <td>850.0</td>\n",
       "      <td>8.0</td>\n",
       "      <td>14.0</td>\n",
       "      <td>yes</td>\n",
       "      <td>no</td>\n",
       "      <td>yes</td>\n",
       "      <td>51.0</td>\n",
       "      <td>32.0</td>\n",
       "    </tr>\n",
       "    <tr>\n",
       "      <th>97</th>\n",
       "      <td>3849.0</td>\n",
       "      <td>1495.0</td>\n",
       "      <td>33.0</td>\n",
       "      <td>214.0</td>\n",
       "      <td>4.0</td>\n",
       "      <td>14.0</td>\n",
       "      <td>no</td>\n",
       "      <td>no</td>\n",
       "      <td>yes</td>\n",
       "      <td>273.0</td>\n",
       "      <td>18.0</td>\n",
       "    </tr>\n",
       "    <tr>\n",
       "      <th>98</th>\n",
       "      <td>5096.0</td>\n",
       "      <td>2195.0</td>\n",
       "      <td>33.0</td>\n",
       "      <td>720.0</td>\n",
       "      <td>16.0</td>\n",
       "      <td>15.0</td>\n",
       "      <td>yes</td>\n",
       "      <td>no</td>\n",
       "      <td>yes</td>\n",
       "      <td>182.0</td>\n",
       "      <td>24.0</td>\n",
       "    </tr>\n",
       "    <tr>\n",
       "      <th>99</th>\n",
       "      <td>563.0</td>\n",
       "      <td>2999.0</td>\n",
       "      <td>50.0</td>\n",
       "      <td>240.0</td>\n",
       "      <td>4.0</td>\n",
       "      <td>14.0</td>\n",
       "      <td>no</td>\n",
       "      <td>no</td>\n",
       "      <td>no</td>\n",
       "      <td>176.0</td>\n",
       "      <td>6.0</td>\n",
       "    </tr>\n",
       "  </tbody>\n",
       "</table>\n",
       "<p>100 rows × 11 columns</p>\n",
       "</div>"
      ],
      "text/plain": [
       "     index   price  speed     hd   ram  screen   cd multi premium    ads  \\\n",
       "0     16.0  2225.0   50.0  130.0   4.0    14.0   no    no     yes   94.0   \n",
       "1   2416.0  2643.0   66.0  212.0   4.0    14.0  yes    no      no  216.0   \n",
       "2   2962.0  3089.0   66.0  424.0   8.0    14.0   no    no      no  267.0   \n",
       "3    104.0  2999.0   66.0  330.0   4.0    15.0   no    no     yes   95.0   \n",
       "4   2835.0  2495.0   66.0  424.0   8.0    15.0  yes    no     yes  267.0   \n",
       "..     ...     ...    ...    ...   ...     ...  ...   ...     ...    ...   \n",
       "95  5958.0  1199.0   50.0  545.0   4.0    14.0   no    no     yes  129.0   \n",
       "96  6113.0  1994.0  100.0  850.0   8.0    14.0  yes    no     yes   51.0   \n",
       "97  3849.0  1495.0   33.0  214.0   4.0    14.0   no    no     yes  273.0   \n",
       "98  5096.0  2195.0   33.0  720.0  16.0    15.0  yes    no     yes  182.0   \n",
       "99   563.0  2999.0   50.0  240.0   4.0    14.0   no    no      no  176.0   \n",
       "\n",
       "    trend  \n",
       "0     1.0  \n",
       "1    13.0  \n",
       "2    15.0  \n",
       "3     2.0  \n",
       "4    15.0  \n",
       "..    ...  \n",
       "95   29.0  \n",
       "96   32.0  \n",
       "97   18.0  \n",
       "98   24.0  \n",
       "99    6.0  \n",
       "\n",
       "[100 rows x 11 columns]"
      ]
     },
     "execution_count": 9,
     "metadata": {},
     "output_type": "execute_result"
    }
   ],
   "source": [
    "sam_100=df.where(df['price']<=4000).sample(100,random_state=2,ignore_index=True)\n",
    "sam_100"
   ]
  },
  {
   "cell_type": "markdown",
   "id": "f53c1772",
   "metadata": {},
   "source": [
    "Task 2 : Calculate the central tendency and dispersion for the sample and population data to check if they are equal and justify that the samples follow the central limit theorem."
   ]
  },
  {
   "cell_type": "code",
   "execution_count": 25,
   "id": "c24897ca",
   "metadata": {},
   "outputs": [
    {
     "data": {
      "text/html": [
       "<div>\n",
       "<style scoped>\n",
       "    .dataframe tbody tr th:only-of-type {\n",
       "        vertical-align: middle;\n",
       "    }\n",
       "\n",
       "    .dataframe tbody tr th {\n",
       "        vertical-align: top;\n",
       "    }\n",
       "\n",
       "    .dataframe thead th {\n",
       "        text-align: right;\n",
       "    }\n",
       "</style>\n",
       "<table border=\"1\" class=\"dataframe\">\n",
       "  <thead>\n",
       "    <tr style=\"text-align: right;\">\n",
       "      <th></th>\n",
       "      <th>Measures</th>\n",
       "      <th>Population</th>\n",
       "      <th>Sample</th>\n",
       "    </tr>\n",
       "  </thead>\n",
       "  <tbody>\n",
       "    <tr>\n",
       "      <th>0</th>\n",
       "      <td>Mean</td>\n",
       "      <td>2219.58</td>\n",
       "      <td>2199.38</td>\n",
       "    </tr>\n",
       "    <tr>\n",
       "      <th>1</th>\n",
       "      <td>Median</td>\n",
       "      <td>580.80</td>\n",
       "      <td>569.33</td>\n",
       "    </tr>\n",
       "  </tbody>\n",
       "</table>\n",
       "</div>"
      ],
      "text/plain": [
       "  Measures  Population   Sample\n",
       "0     Mean     2219.58  2199.38\n",
       "1   Median      580.80   569.33"
      ]
     },
     "execution_count": 25,
     "metadata": {},
     "output_type": "execute_result"
    }
   ],
   "source": [
    "# Central Tendancy\n",
    "\n",
    "data=pd.DataFrame()\n",
    "data['Measures']=['Mean','Median']\n",
    "data['Population']=[round(df['price'].mean(),2),round(df['price'].std(),2)]\n",
    "data['Sample']=[round(sam_100['price'].mean(),2),round(sam_100['price'].std(),2)]\n",
    "data"
   ]
  },
  {
   "cell_type": "code",
   "execution_count": 24,
   "id": "a9458b42",
   "metadata": {},
   "outputs": [],
   "source": [
    "Pop_std=df['price'].std()\n",
    "Pop_var=pow(Pop_std,0.5)\n",
    "Pop_skew=st.skew(df['price'])\n",
    "Pop_kur=st.kurtosis(df['price'],fisher=False)"
   ]
  },
  {
   "cell_type": "code",
   "execution_count": 27,
   "id": "0b206dee",
   "metadata": {},
   "outputs": [],
   "source": [
    "Sam_std=sam_100['price'].std()\n",
    "Sam_var=pow(Sam_std,0.5)\n",
    "Sam_skew=st.skew(sam_100['price'])\n",
    "Sam_kur=st.kurtosis(sam_100['price'],fisher=False)"
   ]
  },
  {
   "cell_type": "code",
   "execution_count": 28,
   "id": "32a76946",
   "metadata": {},
   "outputs": [
    {
     "data": {
      "text/html": [
       "<div>\n",
       "<style scoped>\n",
       "    .dataframe tbody tr th:only-of-type {\n",
       "        vertical-align: middle;\n",
       "    }\n",
       "\n",
       "    .dataframe tbody tr th {\n",
       "        vertical-align: top;\n",
       "    }\n",
       "\n",
       "    .dataframe thead th {\n",
       "        text-align: right;\n",
       "    }\n",
       "</style>\n",
       "<table border=\"1\" class=\"dataframe\">\n",
       "  <thead>\n",
       "    <tr style=\"text-align: right;\">\n",
       "      <th></th>\n",
       "      <th>Measures</th>\n",
       "      <th>Population</th>\n",
       "      <th>Sample</th>\n",
       "    </tr>\n",
       "  </thead>\n",
       "  <tbody>\n",
       "    <tr>\n",
       "      <th>0</th>\n",
       "      <td>Standard Deviation</td>\n",
       "      <td>580.803956</td>\n",
       "      <td>569.326268</td>\n",
       "    </tr>\n",
       "    <tr>\n",
       "      <th>1</th>\n",
       "      <td>Variance</td>\n",
       "      <td>24.099875</td>\n",
       "      <td>23.860559</td>\n",
       "    </tr>\n",
       "    <tr>\n",
       "      <th>2</th>\n",
       "      <td>Skewness</td>\n",
       "      <td>0.711554</td>\n",
       "      <td>0.467214</td>\n",
       "    </tr>\n",
       "    <tr>\n",
       "      <th>3</th>\n",
       "      <td>Kurtosis</td>\n",
       "      <td>3.728875</td>\n",
       "      <td>2.842529</td>\n",
       "    </tr>\n",
       "  </tbody>\n",
       "</table>\n",
       "</div>"
      ],
      "text/plain": [
       "             Measures  Population      Sample\n",
       "0  Standard Deviation  580.803956  569.326268\n",
       "1            Variance   24.099875   23.860559\n",
       "2            Skewness    0.711554    0.467214\n",
       "3            Kurtosis    3.728875    2.842529"
      ]
     },
     "execution_count": 28,
     "metadata": {},
     "output_type": "execute_result"
    }
   ],
   "source": [
    "# Dispersion\n",
    "\n",
    "data=pd.DataFrame()\n",
    "data['Measures']=['Standard Deviation','Variance','Skewness','Kurtosis']\n",
    "data['Population']=[Pop_std,Pop_var,Pop_skew,Pop_kur]\n",
    "data['Sample']=[Sam_std,Sam_var,Sam_skew,Sam_kur]\n",
    "data"
   ]
  },
  {
   "cell_type": "markdown",
   "id": "b18d464c",
   "metadata": {},
   "source": [
    "3 : Draw the normal distribution plot of the population."
   ]
  },
  {
   "cell_type": "code",
   "execution_count": 29,
   "id": "b240bcc2",
   "metadata": {},
   "outputs": [],
   "source": [
    "mean=df['price'].mean()\n",
    "std=df['price'].std()\n",
    "lower=mean-3*std\n",
    "upper=mean+3*std\n",
    "data=np.arange(lower,upper,0.1)\n",
    "norm_prob=st.norm.pdf(data,loc=mean,scale=std)"
   ]
  },
  {
   "cell_type": "code",
   "execution_count": 32,
   "id": "c3b383ed",
   "metadata": {},
   "outputs": [
    {
     "data": {
      "text/plain": [
       "Text(0.5, 1.0, 'Normal Distribution Plot Of Population')"
      ]
     },
     "execution_count": 32,
     "metadata": {},
     "output_type": "execute_result"
    },
    {
     "data": {
      "image/png": "[encoded data removed]",
      "text/plain": [
       "<Figure size 640x480 with 1 Axes>"
      ]
     },
     "metadata": {},
     "output_type": "display_data"
    }
   ],
   "source": [
    "plt.plot(data,norm_prob,)\n",
    "plt.xlabel('Price')\n",
    "plt.ylabel('Probability')\n",
    "plt.title('Normal Distribution Plot Of Population')"
   ]
  },
  {
   "cell_type": "markdown",
   "id": "52bd4fc6",
   "metadata": {},
   "source": [
    "4 : Draw the normal distribution plot of the sample."
   ]
  },
  {
   "cell_type": "code",
   "execution_count": 33,
   "id": "22ba53d0",
   "metadata": {},
   "outputs": [],
   "source": [
    "mean=sam_100['price'].mean()\n",
    "std=sam_100['price'].std()\n",
    "lower=mean-3*std\n",
    "upper=mean+3*std\n",
    "data=np.arange(lower,upper,0.1)\n",
    "norm_prob=st.norm.pdf(data,loc=mean,scale=std)"
   ]
  },
  {
   "cell_type": "code",
   "execution_count": 38,
   "id": "63c633d9",
   "metadata": {},
   "outputs": [
    {
     "data": {
      "image/png": "[encoded data removed]",
      "text/plain": [
       "<Figure size 640x480 with 1 Axes>"
      ]
     },
     "metadata": {},
     "output_type": "display_data"
    }
   ],
   "source": [
    "plt.plot(data,norm_prob)\n",
    "plt.xlabel('Price')\n",
    "plt.ylabel('Probability')\n",
    "plt.title('Normal Distribution Plot Of Sample');"
   ]
  },
  {
   "cell_type": "markdown",
   "id": "9fa1c68c",
   "metadata": {},
   "source": [
    "5 : Calculate z-scores"
   ]
  },
  {
   "cell_type": "code",
   "execution_count": 36,
   "id": "6db46ad3",
   "metadata": {},
   "outputs": [
    {
     "data": {
      "text/html": [
       "<div>\n",
       "<style scoped>\n",
       "    .dataframe tbody tr th:only-of-type {\n",
       "        vertical-align: middle;\n",
       "    }\n",
       "\n",
       "    .dataframe tbody tr th {\n",
       "        vertical-align: top;\n",
       "    }\n",
       "\n",
       "    .dataframe thead th {\n",
       "        text-align: right;\n",
       "    }\n",
       "</style>\n",
       "<table border=\"1\" class=\"dataframe\">\n",
       "  <thead>\n",
       "    <tr style=\"text-align: right;\">\n",
       "      <th></th>\n",
       "      <th>index</th>\n",
       "      <th>price</th>\n",
       "      <th>speed</th>\n",
       "      <th>hd</th>\n",
       "      <th>ram</th>\n",
       "      <th>screen</th>\n",
       "      <th>cd</th>\n",
       "      <th>multi</th>\n",
       "      <th>premium</th>\n",
       "      <th>ads</th>\n",
       "      <th>trend</th>\n",
       "      <th>Zscore</th>\n",
       "    </tr>\n",
       "  </thead>\n",
       "  <tbody>\n",
       "    <tr>\n",
       "      <th>0</th>\n",
       "      <td>1</td>\n",
       "      <td>1499</td>\n",
       "      <td>25</td>\n",
       "      <td>80</td>\n",
       "      <td>4</td>\n",
       "      <td>14</td>\n",
       "      <td>no</td>\n",
       "      <td>no</td>\n",
       "      <td>yes</td>\n",
       "      <td>94</td>\n",
       "      <td>1</td>\n",
       "      <td>-1.240654</td>\n",
       "    </tr>\n",
       "    <tr>\n",
       "      <th>1</th>\n",
       "      <td>2</td>\n",
       "      <td>1795</td>\n",
       "      <td>33</td>\n",
       "      <td>85</td>\n",
       "      <td>2</td>\n",
       "      <td>14</td>\n",
       "      <td>no</td>\n",
       "      <td>no</td>\n",
       "      <td>yes</td>\n",
       "      <td>94</td>\n",
       "      <td>1</td>\n",
       "      <td>-0.731015</td>\n",
       "    </tr>\n",
       "    <tr>\n",
       "      <th>2</th>\n",
       "      <td>3</td>\n",
       "      <td>1595</td>\n",
       "      <td>25</td>\n",
       "      <td>170</td>\n",
       "      <td>4</td>\n",
       "      <td>15</td>\n",
       "      <td>no</td>\n",
       "      <td>no</td>\n",
       "      <td>yes</td>\n",
       "      <td>94</td>\n",
       "      <td>1</td>\n",
       "      <td>-1.075366</td>\n",
       "    </tr>\n",
       "    <tr>\n",
       "      <th>3</th>\n",
       "      <td>4</td>\n",
       "      <td>1849</td>\n",
       "      <td>25</td>\n",
       "      <td>170</td>\n",
       "      <td>8</td>\n",
       "      <td>14</td>\n",
       "      <td>no</td>\n",
       "      <td>no</td>\n",
       "      <td>no</td>\n",
       "      <td>94</td>\n",
       "      <td>1</td>\n",
       "      <td>-0.638041</td>\n",
       "    </tr>\n",
       "    <tr>\n",
       "      <th>4</th>\n",
       "      <td>5</td>\n",
       "      <td>3295</td>\n",
       "      <td>33</td>\n",
       "      <td>340</td>\n",
       "      <td>16</td>\n",
       "      <td>14</td>\n",
       "      <td>no</td>\n",
       "      <td>no</td>\n",
       "      <td>yes</td>\n",
       "      <td>94</td>\n",
       "      <td>1</td>\n",
       "      <td>1.851612</td>\n",
       "    </tr>\n",
       "    <tr>\n",
       "      <th>...</th>\n",
       "      <td>...</td>\n",
       "      <td>...</td>\n",
       "      <td>...</td>\n",
       "      <td>...</td>\n",
       "      <td>...</td>\n",
       "      <td>...</td>\n",
       "      <td>...</td>\n",
       "      <td>...</td>\n",
       "      <td>...</td>\n",
       "      <td>...</td>\n",
       "      <td>...</td>\n",
       "      <td>...</td>\n",
       "    </tr>\n",
       "    <tr>\n",
       "      <th>6254</th>\n",
       "      <td>6255</td>\n",
       "      <td>1690</td>\n",
       "      <td>100</td>\n",
       "      <td>528</td>\n",
       "      <td>8</td>\n",
       "      <td>15</td>\n",
       "      <td>no</td>\n",
       "      <td>no</td>\n",
       "      <td>yes</td>\n",
       "      <td>39</td>\n",
       "      <td>35</td>\n",
       "      <td>-0.911799</td>\n",
       "    </tr>\n",
       "    <tr>\n",
       "      <th>6255</th>\n",
       "      <td>6256</td>\n",
       "      <td>2223</td>\n",
       "      <td>66</td>\n",
       "      <td>850</td>\n",
       "      <td>16</td>\n",
       "      <td>15</td>\n",
       "      <td>yes</td>\n",
       "      <td>yes</td>\n",
       "      <td>yes</td>\n",
       "      <td>39</td>\n",
       "      <td>35</td>\n",
       "      <td>0.005894</td>\n",
       "    </tr>\n",
       "    <tr>\n",
       "      <th>6256</th>\n",
       "      <td>6257</td>\n",
       "      <td>2654</td>\n",
       "      <td>100</td>\n",
       "      <td>1200</td>\n",
       "      <td>24</td>\n",
       "      <td>15</td>\n",
       "      <td>yes</td>\n",
       "      <td>no</td>\n",
       "      <td>yes</td>\n",
       "      <td>39</td>\n",
       "      <td>35</td>\n",
       "      <td>0.747969</td>\n",
       "    </tr>\n",
       "    <tr>\n",
       "      <th>6257</th>\n",
       "      <td>6258</td>\n",
       "      <td>2195</td>\n",
       "      <td>100</td>\n",
       "      <td>850</td>\n",
       "      <td>16</td>\n",
       "      <td>15</td>\n",
       "      <td>yes</td>\n",
       "      <td>no</td>\n",
       "      <td>yes</td>\n",
       "      <td>39</td>\n",
       "      <td>35</td>\n",
       "      <td>-0.042315</td>\n",
       "    </tr>\n",
       "    <tr>\n",
       "      <th>6258</th>\n",
       "      <td>6259</td>\n",
       "      <td>2490</td>\n",
       "      <td>100</td>\n",
       "      <td>850</td>\n",
       "      <td>16</td>\n",
       "      <td>17</td>\n",
       "      <td>yes</td>\n",
       "      <td>no</td>\n",
       "      <td>yes</td>\n",
       "      <td>39</td>\n",
       "      <td>35</td>\n",
       "      <td>0.465602</td>\n",
       "    </tr>\n",
       "  </tbody>\n",
       "</table>\n",
       "<p>6259 rows × 12 columns</p>\n",
       "</div>"
      ],
      "text/plain": [
       "      index  price  speed    hd  ram  screen   cd multi premium  ads  trend  \\\n",
       "0         1   1499     25    80    4      14   no    no     yes   94      1   \n",
       "1         2   1795     33    85    2      14   no    no     yes   94      1   \n",
       "2         3   1595     25   170    4      15   no    no     yes   94      1   \n",
       "3         4   1849     25   170    8      14   no    no      no   94      1   \n",
       "4         5   3295     33   340   16      14   no    no     yes   94      1   \n",
       "...     ...    ...    ...   ...  ...     ...  ...   ...     ...  ...    ...   \n",
       "6254   6255   1690    100   528    8      15   no    no     yes   39     35   \n",
       "6255   6256   2223     66   850   16      15  yes   yes     yes   39     35   \n",
       "6256   6257   2654    100  1200   24      15  yes    no     yes   39     35   \n",
       "6257   6258   2195    100   850   16      15  yes    no     yes   39     35   \n",
       "6258   6259   2490    100   850   16      17  yes    no     yes   39     35   \n",
       "\n",
       "        Zscore  \n",
       "0    -1.240654  \n",
       "1    -0.731015  \n",
       "2    -1.075366  \n",
       "3    -0.638041  \n",
       "4     1.851612  \n",
       "...        ...  \n",
       "6254 -0.911799  \n",
       "6255  0.005894  \n",
       "6256  0.747969  \n",
       "6257 -0.042315  \n",
       "6258  0.465602  \n",
       "\n",
       "[6259 rows x 12 columns]"
      ]
     },
     "execution_count": 36,
     "metadata": {},
     "output_type": "execute_result"
    }
   ],
   "source": [
    "df['Zscore']=(df['price']-df['price'].mean())/df['price'].std()\n",
    "df"
   ]
  },
  {
   "cell_type": "markdown",
   "id": "c326066a",
   "metadata": {},
   "source": [
    "6 : Calculate probability values of the z-score"
   ]
  },
  {
   "cell_type": "code",
   "execution_count": 37,
   "id": "00e26a26",
   "metadata": {},
   "outputs": [
    {
     "data": {
      "text/html": [
       "<div>\n",
       "<style scoped>\n",
       "    .dataframe tbody tr th:only-of-type {\n",
       "        vertical-align: middle;\n",
       "    }\n",
       "\n",
       "    .dataframe tbody tr th {\n",
       "        vertical-align: top;\n",
       "    }\n",
       "\n",
       "    .dataframe thead th {\n",
       "        text-align: right;\n",
       "    }\n",
       "</style>\n",
       "<table border=\"1\" class=\"dataframe\">\n",
       "  <thead>\n",
       "    <tr style=\"text-align: right;\">\n",
       "      <th></th>\n",
       "      <th>index</th>\n",
       "      <th>price</th>\n",
       "      <th>speed</th>\n",
       "      <th>hd</th>\n",
       "      <th>ram</th>\n",
       "      <th>screen</th>\n",
       "      <th>cd</th>\n",
       "      <th>multi</th>\n",
       "      <th>premium</th>\n",
       "      <th>ads</th>\n",
       "      <th>trend</th>\n",
       "      <th>Zscore</th>\n",
       "      <th>Probability</th>\n",
       "    </tr>\n",
       "  </thead>\n",
       "  <tbody>\n",
       "    <tr>\n",
       "      <th>0</th>\n",
       "      <td>1</td>\n",
       "      <td>1499</td>\n",
       "      <td>25</td>\n",
       "      <td>80</td>\n",
       "      <td>4</td>\n",
       "      <td>14</td>\n",
       "      <td>no</td>\n",
       "      <td>no</td>\n",
       "      <td>yes</td>\n",
       "      <td>94</td>\n",
       "      <td>1</td>\n",
       "      <td>-1.240654</td>\n",
       "      <td>0.184787</td>\n",
       "    </tr>\n",
       "    <tr>\n",
       "      <th>1</th>\n",
       "      <td>2</td>\n",
       "      <td>1795</td>\n",
       "      <td>33</td>\n",
       "      <td>85</td>\n",
       "      <td>2</td>\n",
       "      <td>14</td>\n",
       "      <td>no</td>\n",
       "      <td>no</td>\n",
       "      <td>yes</td>\n",
       "      <td>94</td>\n",
       "      <td>1</td>\n",
       "      <td>-0.731015</td>\n",
       "      <td>0.305401</td>\n",
       "    </tr>\n",
       "    <tr>\n",
       "      <th>2</th>\n",
       "      <td>3</td>\n",
       "      <td>1595</td>\n",
       "      <td>25</td>\n",
       "      <td>170</td>\n",
       "      <td>4</td>\n",
       "      <td>15</td>\n",
       "      <td>no</td>\n",
       "      <td>no</td>\n",
       "      <td>yes</td>\n",
       "      <td>94</td>\n",
       "      <td>1</td>\n",
       "      <td>-1.075366</td>\n",
       "      <td>0.223768</td>\n",
       "    </tr>\n",
       "    <tr>\n",
       "      <th>3</th>\n",
       "      <td>4</td>\n",
       "      <td>1849</td>\n",
       "      <td>25</td>\n",
       "      <td>170</td>\n",
       "      <td>8</td>\n",
       "      <td>14</td>\n",
       "      <td>no</td>\n",
       "      <td>no</td>\n",
       "      <td>no</td>\n",
       "      <td>94</td>\n",
       "      <td>1</td>\n",
       "      <td>-0.638041</td>\n",
       "      <td>0.325469</td>\n",
       "    </tr>\n",
       "    <tr>\n",
       "      <th>4</th>\n",
       "      <td>5</td>\n",
       "      <td>3295</td>\n",
       "      <td>33</td>\n",
       "      <td>340</td>\n",
       "      <td>16</td>\n",
       "      <td>14</td>\n",
       "      <td>no</td>\n",
       "      <td>no</td>\n",
       "      <td>yes</td>\n",
       "      <td>94</td>\n",
       "      <td>1</td>\n",
       "      <td>1.851612</td>\n",
       "      <td>0.071850</td>\n",
       "    </tr>\n",
       "    <tr>\n",
       "      <th>...</th>\n",
       "      <td>...</td>\n",
       "      <td>...</td>\n",
       "      <td>...</td>\n",
       "      <td>...</td>\n",
       "      <td>...</td>\n",
       "      <td>...</td>\n",
       "      <td>...</td>\n",
       "      <td>...</td>\n",
       "      <td>...</td>\n",
       "      <td>...</td>\n",
       "      <td>...</td>\n",
       "      <td>...</td>\n",
       "      <td>...</td>\n",
       "    </tr>\n",
       "    <tr>\n",
       "      <th>6254</th>\n",
       "      <td>6255</td>\n",
       "      <td>1690</td>\n",
       "      <td>100</td>\n",
       "      <td>528</td>\n",
       "      <td>8</td>\n",
       "      <td>15</td>\n",
       "      <td>no</td>\n",
       "      <td>no</td>\n",
       "      <td>yes</td>\n",
       "      <td>39</td>\n",
       "      <td>35</td>\n",
       "      <td>-0.911799</td>\n",
       "      <td>0.263256</td>\n",
       "    </tr>\n",
       "    <tr>\n",
       "      <th>6255</th>\n",
       "      <td>6256</td>\n",
       "      <td>2223</td>\n",
       "      <td>66</td>\n",
       "      <td>850</td>\n",
       "      <td>16</td>\n",
       "      <td>15</td>\n",
       "      <td>yes</td>\n",
       "      <td>yes</td>\n",
       "      <td>yes</td>\n",
       "      <td>39</td>\n",
       "      <td>35</td>\n",
       "      <td>0.005894</td>\n",
       "      <td>0.398935</td>\n",
       "    </tr>\n",
       "    <tr>\n",
       "      <th>6256</th>\n",
       "      <td>6257</td>\n",
       "      <td>2654</td>\n",
       "      <td>100</td>\n",
       "      <td>1200</td>\n",
       "      <td>24</td>\n",
       "      <td>15</td>\n",
       "      <td>yes</td>\n",
       "      <td>no</td>\n",
       "      <td>yes</td>\n",
       "      <td>39</td>\n",
       "      <td>35</td>\n",
       "      <td>0.747969</td>\n",
       "      <td>0.301596</td>\n",
       "    </tr>\n",
       "    <tr>\n",
       "      <th>6257</th>\n",
       "      <td>6258</td>\n",
       "      <td>2195</td>\n",
       "      <td>100</td>\n",
       "      <td>850</td>\n",
       "      <td>16</td>\n",
       "      <td>15</td>\n",
       "      <td>yes</td>\n",
       "      <td>no</td>\n",
       "      <td>yes</td>\n",
       "      <td>39</td>\n",
       "      <td>35</td>\n",
       "      <td>-0.042315</td>\n",
       "      <td>0.398585</td>\n",
       "    </tr>\n",
       "    <tr>\n",
       "      <th>6258</th>\n",
       "      <td>6259</td>\n",
       "      <td>2490</td>\n",
       "      <td>100</td>\n",
       "      <td>850</td>\n",
       "      <td>16</td>\n",
       "      <td>17</td>\n",
       "      <td>yes</td>\n",
       "      <td>no</td>\n",
       "      <td>yes</td>\n",
       "      <td>39</td>\n",
       "      <td>35</td>\n",
       "      <td>0.465602</td>\n",
       "      <td>0.357961</td>\n",
       "    </tr>\n",
       "  </tbody>\n",
       "</table>\n",
       "<p>6259 rows × 13 columns</p>\n",
       "</div>"
      ],
      "text/plain": [
       "      index  price  speed    hd  ram  screen   cd multi premium  ads  trend  \\\n",
       "0         1   1499     25    80    4      14   no    no     yes   94      1   \n",
       "1         2   1795     33    85    2      14   no    no     yes   94      1   \n",
       "2         3   1595     25   170    4      15   no    no     yes   94      1   \n",
       "3         4   1849     25   170    8      14   no    no      no   94      1   \n",
       "4         5   3295     33   340   16      14   no    no     yes   94      1   \n",
       "...     ...    ...    ...   ...  ...     ...  ...   ...     ...  ...    ...   \n",
       "6254   6255   1690    100   528    8      15   no    no     yes   39     35   \n",
       "6255   6256   2223     66   850   16      15  yes   yes     yes   39     35   \n",
       "6256   6257   2654    100  1200   24      15  yes    no     yes   39     35   \n",
       "6257   6258   2195    100   850   16      15  yes    no     yes   39     35   \n",
       "6258   6259   2490    100   850   16      17  yes    no     yes   39     35   \n",
       "\n",
       "        Zscore  Probability  \n",
       "0    -1.240654     0.184787  \n",
       "1    -0.731015     0.305401  \n",
       "2    -1.075366     0.223768  \n",
       "3    -0.638041     0.325469  \n",
       "4     1.851612     0.071850  \n",
       "...        ...          ...  \n",
       "6254 -0.911799     0.263256  \n",
       "6255  0.005894     0.398935  \n",
       "6256  0.747969     0.301596  \n",
       "6257 -0.042315     0.398585  \n",
       "6258  0.465602     0.357961  \n",
       "\n",
       "[6259 rows x 13 columns]"
      ]
     },
     "execution_count": 37,
     "metadata": {},
     "output_type": "execute_result"
    }
   ],
   "source": [
    "df['Probability']=st.norm.pdf(df['Zscore'])\n",
    "df"
   ]
  },
  {
   "cell_type": "markdown",
   "id": "e6567ee7",
   "metadata": {},
   "source": [
    "7 : Draw the standard normal probability distribution curve"
   ]
  },
  {
   "cell_type": "code",
   "execution_count": 39,
   "id": "0891d734",
   "metadata": {},
   "outputs": [
    {
     "data": {
      "image/png": "[encoded data removed]",
      "text/plain": [
       "<Figure size 640x480 with 1 Axes>"
      ]
     },
     "metadata": {},
     "output_type": "display_data"
    }
   ],
   "source": [
    "d=np.arange(df['Zscore'].min(),df['Zscore'].max(),0.1)\n",
    "p=st.norm.pdf(d)\n",
    "plt.plot(d,p)\n",
    "plt.xlabel('Zscore')\n",
    "plt.ylabel('Probability')\n",
    "plt.title('Standard Normal Distribution Plot Of Sample');"
   ]
  },
  {
   "cell_type": "markdown",
   "id": "23656162",
   "metadata": {},
   "source": [
    "8 : Find the probability of the occurrence of the prices greater than $2,700"
   ]
  },
  {
   "cell_type": "code",
   "execution_count": 40,
   "id": "09c61761",
   "metadata": {},
   "outputs": [
    {
     "name": "stdout",
     "output_type": "stream",
     "text": [
      "Probability of the occurrence of the prices greater than $2,700 :  0.41431919423709784\n"
     ]
    }
   ],
   "source": [
    "mean=df['price'].mean()\n",
    "std=df['price'].mean()\n",
    "x=2700\n",
    "z=(x-mean)/std\n",
    "p=1-st.norm.cdf(z)\n",
    "print('Probability of the occurrence of the prices greater than $2,700 : ',p)"
   ]
  },
  {
   "cell_type": "markdown",
   "id": "cddaac1e",
   "metadata": {},
   "source": [
    "9 : Find the probability of the occurrence of the prices less than $1,301"
   ]
  },
  {
   "cell_type": "code",
   "execution_count": 41,
   "id": "ba7c6e85",
   "metadata": {},
   "outputs": [
    {
     "name": "stdout",
     "output_type": "stream",
     "text": [
      "Probability of the occurrence of the prices less than $1,301 :  0.3394911849311998\n"
     ]
    }
   ],
   "source": [
    "x=1301\n",
    "z=(x-mean)/std\n",
    "p=st.norm.cdf(z)\n",
    "print('Probability of the occurrence of the prices less than $1,301 : ',p)"
   ]
  },
  {
   "cell_type": "markdown",
   "id": "c8cade82",
   "metadata": {},
   "source": [
    "10 :  Find the probability of the occurrence of the prices between $2,000 and $2,900"
   ]
  },
  {
   "cell_type": "code",
   "execution_count": 42,
   "id": "01f41577",
   "metadata": {},
   "outputs": [
    {
     "name": "stdout",
     "output_type": "stream",
     "text": [
      "Probability of the occurrence of the prices between $2,000 and $2,900 :  0.15981111419355115\n"
     ]
    }
   ],
   "source": [
    "x1=2000\n",
    "z1=(x1-mean)/std\n",
    "\n",
    "x2=2900\n",
    "z2=(x2-mean)/std\n",
    "p=st.norm.cdf(z2)-st.norm.cdf(z1)\n",
    "print('Probability of the occurrence of the prices between $2,000 and $2,900 : ',p)"
   ]
  }
 ],
 "metadata": {
  "kernelspec": {
   "display_name": "Python 3 (ipykernel)",
   "language": "python",
   "name": "python3"
  },
  "language_info": {
   "codemirror_mode": {
    "name": "ipython",
    "version": 3
   },
   "file_extension": ".py",
   "mimetype": "text/x-python",
   "name": "python",
   "nbconvert_exporter": "python",
   "pygments_lexer": "ipython3",
   "version": "3.9.13"
  }
 },
 "nbformat": 4,
 "nbformat_minor": 5
}
