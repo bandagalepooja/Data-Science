{
 "cells": [
  {
   "cell_type": "markdown",
   "id": "644711ea",
   "metadata": {},
   "source": [
    "# SPRINT 2:   DESCISION MAKING USING CONDITIONAL STATEMENT (PRACTICE)"
   ]
  },
  {
   "cell_type": "code",
   "execution_count": null,
   "id": "b2c4aef1",
   "metadata": {},
   "outputs": [],
   "source": [
    "# TASK 1 : TAKE INPUT FROM USER AND DISPLAY OUTPUT BASED ON INPUT"
   ]
  },
  {
   "cell_type": "code",
   "execution_count": 5,
   "id": "c504fef9",
   "metadata": {},
   "outputs": [
    {
     "name": "stdout",
     "output_type": "stream",
     "text": [
      "Enter the character :b\n",
      "Holiday\n"
     ]
    }
   ],
   "source": [
    "a=input('Enter the character :')\n",
    "if a=='A':\n",
    "    print('Python')\n",
    "elif a=='B':\n",
    "    print('MySQL')\n",
    "elif a=='C':\n",
    "    print('Excel')\n",
    "else:\n",
    "    print('Holiday')"
   ]
  },
  {
   "cell_type": "markdown",
   "id": "70083ede",
   "metadata": {},
   "source": [
    "TASK 2 :  DISPLAY HIGHEST NUMBER AMONG TWO"
   ]
  },
  {
   "cell_type": "code",
   "execution_count": 20,
   "id": "4fc3ff52",
   "metadata": {},
   "outputs": [
    {
     "name": "stdout",
     "output_type": "stream",
     "text": [
      "Enter first number : 3\n",
      "Enter second number : 5\n",
      "Highest number is : 5\n"
     ]
    }
   ],
   "source": [
    "num1=int(input('Enter first number : '))\n",
    "num2=int(input('Enter second number : '))\n",
    "if num1>num2:\n",
    "    print('Highest number is : {}.'.format(num1))\n",
    "else:\n",
    "    print('Highest number is : {}'.format(num2))"
   ]
  },
  {
   "cell_type": "markdown",
   "id": "031f6a9f",
   "metadata": {},
   "source": [
    "TASK 3: DISPLAY NET INCOME"
   ]
  },
  {
   "cell_type": "code",
   "execution_count": 19,
   "id": "b605fcc9",
   "metadata": {},
   "outputs": [
    {
     "name": "stdout",
     "output_type": "stream",
     "text": [
      "Enter your basic salary: 5000\n",
      "Net Income = 5750.0\n"
     ]
    }
   ],
   "source": [
    "basic_sal=int(input(\"Enter your basic salary: \"))\n",
    "if basic_sal>0 and basic_sal<4000:\n",
    "    HRA=basic_sal*0.1\n",
    "    DA=basic_sal*0.05\n",
    "    TAX=0\n",
    "elif basic_sal>400 and basic_sal<10000:\n",
    "    HRA=basic_sal*0.2\n",
    "    DA=basic_sal*0.1\n",
    "    TAX=basic_sal*0.15\n",
    "else:\n",
    "    HRA=basic_sal*0.25\n",
    "    DA=basic_sal*0.15\n",
    "    TAX=basic_sal*0.20\n",
    "print('Net Income = {}'.format(basic_sal+HRA+DA-TAX))\n"
   ]
  },
  {
   "cell_type": "markdown",
   "id": "ae529839",
   "metadata": {},
   "source": [
    "TASK 4: CHECK WHETER INPUT WORD EXISTS IN var OR NOT"
   ]
  },
  {
   "cell_type": "code",
   "execution_count": 25,
   "id": "48cebaf1",
   "metadata": {},
   "outputs": [
    {
     "name": "stdout",
     "output_type": "stream",
     "text": [
      "Enter a word : python\n",
      "Word python does not exist in variable\n"
     ]
    }
   ],
   "source": [
    "d=input(\"Enter a word : \")\n",
    "var = \"Python is an interpreted high level general purpose programming language.Its design philosophy emphasizes code readability with its use of significant indentation. Its language constructs as well as its object oriented approach aim to help programmers write clear, logical code for small and large-scale projects.\"\n",
    "if d in var:\n",
    "    print(\"Word exists in variable\")\n",
    "else:\n",
    "     print(\"Word {} does not exist in variable\".format(d))"
   ]
  },
  {
   "cell_type": "markdown",
   "id": "31ddb9b6",
   "metadata": {},
   "source": [
    "TASK 5: CHECK WEATHER THE INPUT CHARACTER IS UPPERCASE OR LOWERCASE"
   ]
  },
  {
   "cell_type": "code",
   "execution_count": 15,
   "id": "9ce302fe",
   "metadata": {},
   "outputs": [
    {
     "name": "stdout",
     "output_type": "stream",
     "text": [
      "Enter a characterA\n",
      "Lowercase\n"
     ]
    }
   ],
   "source": [
    "# Method 1\n",
    "\n",
    "w=input(\"Enter a character\")\n",
    "if w.isupper():\n",
    "    print(\"Lowercase\")\n",
    "else:\n",
    "    print(\"Uppercase\")"
   ]
  },
  {
   "cell_type": "code",
   "execution_count": 24,
   "id": "f0138417",
   "metadata": {},
   "outputs": [
    {
     "name": "stdout",
     "output_type": "stream",
     "text": [
      "Enter a characterb\n",
      "Lowercase\n"
     ]
    }
   ],
   "source": [
    "# Method 2\n",
    "\n",
    "letter=input(\"Enter a character\")\n",
    "for check in letter:\n",
    "    k= letter.islower()\n",
    "    if k==True:\n",
    "        print('Lowercase')\n",
    "    else:\n",
    "        print('Uppercase')"
   ]
  },
  {
   "cell_type": "markdown",
   "id": "be53a07a",
   "metadata": {},
   "source": [
    "TASK 6: CHECK WEATHER THE INPUT CHARACTER IS VOWEL OR CONSONANT"
   ]
  },
  {
   "cell_type": "code",
   "execution_count": 1,
   "id": "b3a2f7c8",
   "metadata": {},
   "outputs": [
    {
     "name": "stdout",
     "output_type": "stream",
     "text": [
      "Enter a character :a\n",
      "Vowel\n"
     ]
    }
   ],
   "source": [
    "letter1=input(\"Enter a character :\")\n",
    "\n",
    "if letter1 in ('a','e','i','o','u','A','E','I','O','U'):\n",
    "    print(\"Vowel\")\n",
    "else:\n",
    "     print(\"Consonant\")"
   ]
  }
 ],
 "metadata": {
  "kernelspec": {
   "display_name": "Python 3 (ipykernel)",
   "language": "python",
   "name": "python3"
  },
  "language_info": {
   "codemirror_mode": {
    "name": "ipython",
    "version": 3
   },
   "file_extension": ".py",
   "mimetype": "text/x-python",
   "name": "python",
   "nbconvert_exporter": "python",
   "pygments_lexer": "ipython3",
   "version": "3.9.13"
  }
 },
 "nbformat": 4,
 "nbformat_minor": 5
}
