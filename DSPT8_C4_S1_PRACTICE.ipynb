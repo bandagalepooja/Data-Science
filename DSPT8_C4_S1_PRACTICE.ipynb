{
 "cells": [
  {
   "cell_type": "markdown",
   "id": "5a69b082",
   "metadata": {},
   "source": [
    "# Creating and Manipulating NumPy Arrays"
   ]
  },
  {
   "cell_type": "code",
   "execution_count": null,
   "id": "87537b59",
   "metadata": {},
   "outputs": [],
   "source": [
    "import numpy as np"
   ]
  },
  {
   "cell_type": "markdown",
   "id": "0accc936",
   "metadata": {},
   "source": [
    "Task 1: Allocate employee codes to employees as below:\n",
    "1 to 500-employess of HR department,\n",
    "501 to 1000-employess of Finance department,\n",
    "1001 to 1501-employess of IT department,\n",
    "1501 to 2000-employess of Sales department"
   ]
  },
  {
   "cell_type": "code",
   "execution_count": 42,
   "id": "d26fbd1e",
   "metadata": {},
   "outputs": [],
   "source": [
    "#creating array\n",
    "\n",
    "HR=np.arange(1,501,1,int) \n",
    "Finance=np.arange(501,1001,1,int)\n",
    "IT=np.arange(1001,1501,1,int)\n",
    "Sales=np.arange(1501,2001,1,int)"
   ]
  },
  {
   "cell_type": "markdown",
   "id": "29ac86f7",
   "metadata": {},
   "source": [
    "Task 2: Generate the salary for all employees of each departmet"
   ]
  },
  {
   "cell_type": "code",
   "execution_count": 43,
   "id": "ff1fe9b0",
   "metadata": {},
   "outputs": [],
   "source": [
    "#creating array\n",
    "\n",
    "HR_salary=np.random.randint(25000,50001,500,int)\n",
    "Finance_salary=HR_salary*1.25\n",
    "Sales_salary=Finance_salary/2\n",
    "IT_salary=HR_salary+5000"
   ]
  },
  {
   "cell_type": "markdown",
   "id": "2fa31ead",
   "metadata": {},
   "source": [
    "Task 3: Departmentwise total cost to the company"
   ]
  },
  {
   "cell_type": "code",
   "execution_count": 50,
   "id": "f64584d9",
   "metadata": {},
   "outputs": [
    {
     "name": "stdout",
     "output_type": "stream",
     "text": [
      "Total Expense of HR Department :  18452950\n",
      "Total Expense of Finance Department :  23066187.5\n",
      "Total Expense of Sales Department :  11533093.75\n",
      "Total Expense of IT Department :  22934275\n"
     ]
    },
    {
     "data": {
      "text/plain": [
       "23066187.5"
      ]
     },
     "execution_count": 50,
     "metadata": {},
     "output_type": "execute_result"
    }
   ],
   "source": [
    "#sum of elements of an array\n",
    "\n",
    "a=np.sum(HR_salary)\n",
    "b=np.sum(Finance_salary)\n",
    "c=np.sum(Sales_salary)\n",
    "d=np.sum(IT_salary)\n",
    "print('Total Expense of HR Department : ',a)\n",
    "print('Total Expense of Finance Department : ',b)\n",
    "print('Total Expense of Sales Department : ',c)\n",
    "print('Total Expense of IT Department : ',d)\n",
    "max(a,b,c,d)"
   ]
  },
  {
   "cell_type": "code",
   "execution_count": null,
   "id": "0c5dffc8",
   "metadata": {},
   "outputs": [],
   "source": [
    "# Finance costs most to the company"
   ]
  },
  {
   "cell_type": "markdown",
   "id": "b7c1496c",
   "metadata": {},
   "source": [
    "Task 4: Top 10 highest salaries in the HR and Finance Department"
   ]
  },
  {
   "cell_type": "code",
   "execution_count": 36,
   "id": "ae7037e1",
   "metadata": {},
   "outputs": [
    {
     "name": "stdout",
     "output_type": "stream",
     "text": [
      "Top 10 Highest Salaries in HR Department :  [49910 49905 49836 49824 49729 49718 49695 49636 49628 49604]\n",
      "Top 10 Highest Salaries in Finance Department :  [62387 62381 62295 62280 62161 62147 62118 62045 62035 62005]\n"
     ]
    }
   ],
   "source": [
    "#Sorting\n",
    "\n",
    "print('Top 10 Highest Salaries in HR Department : ',np.sort(HR_salary)[::-1][0:10])\n",
    "print('Top 10 Highest Salaries in Finance Department : ',np.sort(Finance_salary)[::-1][0:10].astype('int64'))"
   ]
  },
  {
   "cell_type": "markdown",
   "id": "5a80744d",
   "metadata": {},
   "source": [
    "Task 5: Count of employees in Sales & IT whose annual salary is more than $45000"
   ]
  },
  {
   "cell_type": "code",
   "execution_count": 51,
   "id": "6721acbf",
   "metadata": {},
   "outputs": [
    {
     "name": "stdout",
     "output_type": "stream",
     "text": [
      "0 number of employees in Sales Department having salary > $45000\n",
      "190 number of employees in IT Department having salary > $45000\n"
     ]
    }
   ],
   "source": [
    "#Sorting and size of an array\n",
    "\n",
    "print('{} number of employees in Sales Department having salary > $45000'.format(np.size(Sales_salary[Sales_salary>45000])))\n",
    "print('{} number of employees in IT Department having salary > $45000'.format(np.size(IT_salary[IT_salary>45000])))"
   ]
  },
  {
   "cell_type": "markdown",
   "id": "8ff0cd14",
   "metadata": {},
   "source": [
    "Task 6: Update salaries of sales & IT department. Increase salaries of employees whose salary greater than $45000 by 10%"
   ]
  },
  {
   "cell_type": "code",
   "execution_count": 47,
   "id": "15f9aec6",
   "metadata": {},
   "outputs": [],
   "source": [
    "ind_s=Sales_salary>45000               #index value of array\n",
    "Sales_salary[ind_s]=1.1*Sales_salary[ind_s]   #updating salaries in original arrays\n",
    "\n",
    "ind_i=IT_salary>45000                  #index value of array\n",
    "IT_salary[ind_i]=1.1*IT_salary[ind_i]  #updating salaries in original arrays"
   ]
  },
  {
   "cell_type": "markdown",
   "id": "9c76f872",
   "metadata": {},
   "source": [
    "# PRACTICE 2"
   ]
  },
  {
   "cell_type": "code",
   "execution_count": 2,
   "id": "9826ca23",
   "metadata": {},
   "outputs": [],
   "source": [
    "import numpy as np"
   ]
  },
  {
   "cell_type": "markdown",
   "id": "27a0c2a6",
   "metadata": {},
   "source": [
    "Task 1: Total count of students whose GRE score is greater than 320"
   ]
  },
  {
   "cell_type": "code",
   "execution_count": 26,
   "id": "ed6281c0",
   "metadata": {},
   "outputs": [
    {
     "name": "stdout",
     "output_type": "stream",
     "text": [
      "Number of students with gre_score greater than 320 :  163\n"
     ]
    }
   ],
   "source": [
    "#converting csv file to an array\n",
    "data=np.genfromtxt('DS1_C4_S1_AdmissionPredict_Data_Practice.csv',delimiter=',',skip_header=1) \n",
    "#accessing GRE score column\n",
    "gre_score=data[:,1]\n",
    "#Filtering based on condition and storing in matrix a\n",
    "a=np.where(gre_score>320)\n",
    "print('Number of students with gre_score greater than 320 : ',np.size(a))"
   ]
  },
  {
   "cell_type": "markdown",
   "id": "cf76369b",
   "metadata": {},
   "source": [
    "Task 2: Admission possibility of students with TOEFEL score greater than 100"
   ]
  },
  {
   "cell_type": "code",
   "execution_count": 48,
   "id": "d36f0558",
   "metadata": {},
   "outputs": [
    {
     "name": "stdout",
     "output_type": "stream",
     "text": [
      "Number of students with TOEFEL score greater than 320 :  120\n"
     ]
    },
    {
     "data": {
      "text/plain": [
       "array([0.92, 0.9 , 0.84, 0.78, 0.7 , 0.94, 0.95, 0.97, 0.94, 0.91, 0.9 ,\n",
       "       0.94, 0.87, 0.91, 0.86, 0.89, 0.78, 0.78, 0.72, 0.52, 0.55, 0.61,\n",
       "       0.78, 0.94, 0.96, 0.93, 0.72, 0.74, 0.96, 0.92, 0.94, 0.86, 0.9 ,\n",
       "       0.79, 0.74, 0.87, 0.91, 0.93, 0.94, 0.94, 0.85, 0.78, 0.84, 0.92,\n",
       "       0.96, 0.79, 0.89, 0.8 , 0.9 , 0.92, 0.97, 0.8 , 0.81, 0.83, 0.96,\n",
       "       0.93, 0.94, 0.86, 0.81, 0.89, 0.89, 0.87, 0.85, 0.9 , 0.89, 0.93,\n",
       "       0.93, 0.88, 0.9 , 0.86, 0.94, 0.97, 0.97, 0.95, 0.96, 0.94, 0.93,\n",
       "       0.91, 0.76, 0.71, 0.82, 0.91, 0.88, 0.85, 0.86, 0.7 , 0.76, 0.77,\n",
       "       0.93, 0.85, 0.9 , 0.7 , 0.83, 0.89, 0.8 , 0.94, 0.93, 0.92, 0.89,\n",
       "       0.86, 0.9 , 0.71, 0.8 , 0.79, 0.8 , 0.81, 0.8 , 0.8 , 0.83, 0.94,\n",
       "       0.93, 0.91, 0.86, 0.95, 0.96, 0.96, 0.84, 0.89, 0.91, 0.95])"
      ]
     },
     "execution_count": 48,
     "metadata": {},
     "output_type": "execute_result"
    }
   ],
   "source": [
    "#accessing TOEFEL score column of an array\n",
    "toefl_score=data[:,2]\n",
    "#Filtering based on condition and storing in matrix b\n",
    "b=np.where(toefl_score>110)\n",
    "print('Number of students with TOEFEL score greater than 320 : ',np.size(b))\n",
    "#accessing Addition Possibility column of an array\n",
    "data[toefl_score>110,[8]]"
   ]
  },
  {
   "cell_type": "markdown",
   "id": "42feadcd",
   "metadata": {},
   "source": [
    "Task 3: Display serial number of all students whose GRE score above 315, TOEFL score above 115 and having some research experience"
   ]
  },
  {
   "cell_type": "code",
   "execution_count": 49,
   "id": "96763a6e",
   "metadata": {},
   "outputs": [
    {
     "data": {
      "text/plain": [
       "array([  1.,  23.,  24.,  25.,  26.,  33.,  53.,  71.,  82.,  98.,  99.,\n",
       "       108., 109., 121., 122., 130., 139., 142., 144., 149., 152., 172.,\n",
       "       177., 188., 194., 203., 204., 213., 214., 215., 216., 260., 286.,\n",
       "       287., 326., 338., 362., 373., 386., 398., 400.])"
      ]
     },
     "execution_count": 49,
     "metadata": {},
     "output_type": "execute_result"
    }
   ],
   "source": [
    "#accessing GRE score column\n",
    "gre_score=data[:,1]\n",
    "#accessing TOEFEL score column of an array\n",
    "tofel_score=data[:,2]\n",
    "#accessing research column of an array\n",
    "research=data[:,7]\n",
    "#Filtering elements of an array\n",
    "gt=data[np.where((gre_score>315)&(toefl_score>115)&(research>0))]\n",
    "#printing serial number\n",
    "gt[:,0]"
   ]
  }
 ],
 "metadata": {
  "kernelspec": {
   "display_name": "Python 3 (ipykernel)",
   "language": "python",
   "name": "python3"
  },
  "language_info": {
   "codemirror_mode": {
    "name": "ipython",
    "version": 3
   },
   "file_extension": ".py",
   "mimetype": "text/x-python",
   "name": "python",
   "nbconvert_exporter": "python",
   "pygments_lexer": "ipython3",
   "version": "3.9.13"
  }
 },
 "nbformat": 4,
 "nbformat_minor": 5
}
