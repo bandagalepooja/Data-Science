{
 "cells": [
  {
   "cell_type": "code",
   "execution_count": 1,
   "id": "38ca6f1e",
   "metadata": {},
   "outputs": [],
   "source": [
    "import numpy as np"
   ]
  },
  {
   "cell_type": "markdown",
   "id": "f3b1f26e",
   "metadata": {},
   "source": [
    "# ABC Technologies-IT Consulting"
   ]
  },
  {
   "cell_type": "markdown",
   "id": "f9435771",
   "metadata": {},
   "source": [
    "Task 1: Read data from employee data file and find the average age of all the employees"
   ]
  },
  {
   "cell_type": "code",
   "execution_count": 2,
   "id": "6266d594",
   "metadata": {},
   "outputs": [
    {
     "name": "stdout",
     "output_type": "stream",
     "text": [
      "28.26 is the average age of all the employees\n"
     ]
    }
   ],
   "source": [
    "#Converting csv file to an array\n",
    "employee_data=np.genfromtxt('DS1_C4_S1_Employee_Data_Challenge.csv',delimiter=',',skip_header=1).astype(int)\n",
    "\n",
    "#Accessing Age column\n",
    "x=employee_data[:,1]\n",
    "\n",
    "#Calculation Average Age and storing in a avg_age variable\n",
    "avg_age=np.sum(x)/np.size(x)\n",
    "\n",
    "#Printing Average Age\n",
    "print('{} is the average age of all the employees'.format(avg_age))"
   ]
  },
  {
   "cell_type": "markdown",
   "id": "1b0fc107",
   "metadata": {},
   "source": [
    "Task 2:Find total number of employees who are over 25 years old. Display such employees along with employee code"
   ]
  },
  {
   "cell_type": "code",
   "execution_count": 3,
   "id": "b57344ee",
   "metadata": {},
   "outputs": [
    {
     "name": "stdout",
     "output_type": "stream",
     "text": [
      "Total number of employees who are over 25 years old :  38\n",
      "[[ 2 27]\n",
      " [ 3 31]\n",
      " [ 4 29]\n",
      " [ 5 27]\n",
      " [ 6 26]\n",
      " [ 7 27]\n",
      " [ 9 27]\n",
      " [10 32]\n",
      " [11 28]\n",
      " [12 27]\n",
      " [14 27]\n",
      " [15 35]\n",
      " [16 33]\n",
      " [17 28]\n",
      " [20 27]\n",
      " [21 37]\n",
      " [22 27]\n",
      " [24 27]\n",
      " [25 28]\n",
      " [26 26]\n",
      " [27 27]\n",
      " [28 27]\n",
      " [29 29]\n",
      " [30 49]\n",
      " [31 26]\n",
      " [32 32]\n",
      " [33 26]\n",
      " [37 28]\n",
      " [38 28]\n",
      " [40 26]\n",
      " [41 32]\n",
      " [42 35]\n",
      " [43 33]\n",
      " [44 31]\n",
      " [45 30]\n",
      " [46 36]\n",
      " [49 32]\n",
      " [50 34]]\n"
     ]
    }
   ],
   "source": [
    "print('Total number of employees who are over 25 years old : ',(np.size(np.where(x>25))))\n",
    "ind=x>25\n",
    "a=employee_data[ind,0:2]\n",
    "print(a)"
   ]
  },
  {
   "cell_type": "markdown",
   "id": "5e309779",
   "metadata": {},
   "source": [
    "Task 3: Find total number of employeees whose age is in between 30 & 35 years. Display all such employees along with their employee code."
   ]
  },
  {
   "cell_type": "code",
   "execution_count": 5,
   "id": "706aa482",
   "metadata": {},
   "outputs": [
    {
     "name": "stdout",
     "output_type": "stream",
     "text": [
      "Total number of employees having age in between 30 & 35  : 9\n",
      "[[[ 3 31]\n",
      "  [10 32]\n",
      "  [16 33]\n",
      "  [32 32]\n",
      "  [41 32]\n",
      "  [43 33]\n",
      "  [44 31]\n",
      "  [49 32]\n",
      "  [50 34]]]\n"
     ]
    }
   ],
   "source": [
    "print('Total number of employees having age in between 30 & 35  :',np.size(np.where((x>30)&(x<35))))\n",
    "\n",
    "ind=np.where ((x>30)&(x<35))\n",
    "\n",
    "a=employee_data[ind,0:2]\n",
    "\n",
    "print(a)"
   ]
  },
  {
   "cell_type": "markdown",
   "id": "2ff847f5",
   "metadata": {},
   "source": [
    "# Axess-Customer Retention"
   ]
  },
  {
   "cell_type": "markdown",
   "id": "39fd9f31",
   "metadata": {},
   "source": [
    "Task 1: Identify customers whose spending score is more than 80.Find total number of such customers and display each of their details."
   ]
  },
  {
   "cell_type": "code",
   "execution_count": 7,
   "id": "9e791cbe",
   "metadata": {},
   "outputs": [
    {
     "name": "stdout",
     "output_type": "stream",
     "text": [
      "Number of customers whose spending score is more than 80 :  30\n",
      " \n",
      "Details of customers :\n",
      "[[[  2  21  15  81]\n",
      "  [  8  23  18  94]\n",
      "  [ 12  35  19  99]\n",
      "  [ 20  35  23  98]\n",
      "  [ 26  29  28  82]\n",
      "  [ 30  23  29  87]\n",
      "  [ 34  18  33  92]\n",
      "  [ 36  21  33  81]\n",
      "  [ 42  24  38  92]\n",
      "  [124  39  69  91]\n",
      "  [128  40  71  95]\n",
      "  [136  29  73  88]\n",
      "  [142  32  75  93]\n",
      "  [144  32  76  87]\n",
      "  [146  28  77  97]\n",
      "  [150  34  78  90]\n",
      "  [152  39  78  88]\n",
      "  [156  27  78  89]\n",
      "  [162  29  79  83]\n",
      "  [164  31  81  93]\n",
      "  [168  33  86  95]\n",
      "  [174  36  87  92]\n",
      "  [176  30  88  86]\n",
      "  [180  35  93  90]\n",
      "  [182  32  97  86]\n",
      "  [184  29  98  88]\n",
      "  [186  30  99  97]\n",
      "  [190  36 103  85]\n",
      "  [194  38 113  91]\n",
      "  [200  30 137  83]]]\n"
     ]
    }
   ],
   "source": [
    "#Converting csv file to an array\n",
    "shopping_data=np.genfromtxt('DS1_C4_S1_Shopping_Data_Challenge.csv',delimiter=',',skip_header=1).astype(int)\n",
    "\n",
    "#Accessing spending score column\n",
    "x=shopping_data[:,3]\n",
    "\n",
    "#Identifying count of customers whose salary score is more than 80\n",
    "print('Number of customers whose spending score is more than 80 : ',np.size(np.where(x>80)))\n",
    "print(' ')\n",
    "\n",
    "#Displaying Details of those customers\n",
    "ind=np.where(x>80)\n",
    "print('Details of customers :')\n",
    "print(shopping_data[ind,0:4])"
   ]
  },
  {
   "cell_type": "markdown",
   "id": "6e931f2d",
   "metadata": {},
   "source": [
    "Task 2:Fetch the rows corresponding to ages between 20 and 24"
   ]
  },
  {
   "cell_type": "code",
   "execution_count": 8,
   "id": "594c3da7",
   "metadata": {},
   "outputs": [
    {
     "data": {
      "text/plain": [
       "array([[[149,  34,  78,  22],\n",
       "        [153,  44,  78,  20],\n",
       "        [167,  42,  86,  20],\n",
       "        [187,  54, 101,  24],\n",
       "        [191,  34, 103,  23]]])"
      ]
     },
     "execution_count": 8,
     "metadata": {},
     "output_type": "execute_result"
    }
   ],
   "source": [
    "#Storing index values\n",
    "ind=np.where((x>19)&(x<25)) \n",
    "\n",
    "#Fetching details\n",
    "shopping_data[ind,0:4]"
   ]
  },
  {
   "cell_type": "markdown",
   "id": "6af174af",
   "metadata": {},
   "source": [
    "Task 3: Find lowest and highest annual incomes & display their customer code\n",
    "    \n",
    "  "
   ]
  },
  {
   "cell_type": "code",
   "execution_count": 15,
   "id": "48c1460b",
   "metadata": {},
   "outputs": [
    {
     "name": "stdout",
     "output_type": "stream",
     "text": [
      "Highest annual income :  137\n",
      "Lowest annual income :  15\n",
      "[[[199 137]\n",
      "  [200 137]]]\n",
      "[[[ 1 15]\n",
      "  [ 2 15]]]\n"
     ]
    }
   ],
   "source": [
    "#Printing maximum and minimum annual income\n",
    "print('Highest annual income : ',max(shopping_data[:,2]))\n",
    "print('Lowest annual income : ',min(shopping_data[:,2]))\n",
    "\n",
    "ind_1=np.where((shopping_data[:,2]==max(shopping_data[:,2]))) #index value for maximum annual income\n",
    "ind_2=np.where((shopping_data[:,2]==min(shopping_data[:,2]))) #index value for minimum annual income\n",
    "\n",
    "\n",
    "print(shopping_data[ind_1,0:3:2])  #Customer code of maximum annual income\n",
    "print(shopping_data[ind_2,0:3:2])   #Customer code of minimum annual income\n"
   ]
  },
  {
   "cell_type": "markdown",
   "id": "e346f446",
   "metadata": {},
   "source": [
    "Task 4: Fetch details of the customers whose spending score is more than 75 with a minimum annual salary of at least $35K and age less than 45. How many such customers are there."
   ]
  },
  {
   "cell_type": "code",
   "execution_count": 10,
   "id": "d1980987",
   "metadata": {},
   "outputs": [
    {
     "name": "stdout",
     "output_type": "stream",
     "text": [
      "Number of customers:  26\n"
     ]
    }
   ],
   "source": [
    "print('Number of customers: ',np.size([np.where((shopping_data[:,3]>75)&(shopping_data[:,2]>=35)&(shopping_data[:,1]<45))]))"
   ]
  },
  {
   "cell_type": "markdown",
   "id": "b87d65d7",
   "metadata": {},
   "source": [
    "Task 5: The company wishes to offer random discount coupons between 10% and 50% to all customers.Maintain a new column about discount details along with main data."
   ]
  },
  {
   "cell_type": "code",
   "execution_count": 13,
   "id": "c4725ce8",
   "metadata": {},
   "outputs": [
    {
     "name": "stdout",
     "output_type": "stream",
     "text": [
      "(200, 5)\n",
      "[[  1  19  15  39  33  30]\n",
      " [  2  21  15  81  19  14]\n",
      " [  3  20  16   6  42  26]\n",
      " ...\n",
      " [198  32 126  74  18  10]\n",
      " [199  32 137  18  43  11]\n",
      " [200  30 137  83  24  22]]\n"
     ]
    }
   ],
   "source": [
    "#Counting number of rows in original dataset\n",
    "print(shopping_data.shape)\n",
    "#200 numbers of rows in main dataset\n",
    "\n",
    "#Creating additional column of discount_percentage\n",
    "discount=np.random.randint(10,51,200,int).reshape(200,1)\n",
    "\n",
    "#Adding one column in original dataset\n",
    "shopping_data=np.append(shopping_data,discount,axis=1)\n",
    "print(shopping_data)\n",
    "\n"
   ]
  },
  {
   "cell_type": "markdown",
   "id": "e94b512d",
   "metadata": {},
   "source": [
    "Task 6: Identify the customers who get discount more than 45% "
   ]
  },
  {
   "cell_type": "code",
   "execution_count": 14,
   "id": "0f277e14",
   "metadata": {},
   "outputs": [
    {
     "name": "stdout",
     "output_type": "stream",
     "text": [
      "The number of customers getting discount more than 45% :  21\n",
      "Details of customers : \n"
     ]
    },
    {
     "data": {
      "text/plain": [
       "array([[[  5,  31,  17,  40,  43],\n",
       "        [  8,  23,  18,  94,  39],\n",
       "        [ 13,  58,  20,  15,  18],\n",
       "        [ 21,  35,  24,  35,  13],\n",
       "        [ 25,  54,  28,  14,  21],\n",
       "        [ 35,  49,  33,  14,  21],\n",
       "        [ 39,  36,  37,  26,  41],\n",
       "        [ 40,  20,  37,  75,  18],\n",
       "        [ 45,  49,  39,  28,  38],\n",
       "        [ 55,  50,  43,  45,  16],\n",
       "        [ 58,  69,  44,  46,  43],\n",
       "        [ 67,  43,  48,  50,  35],\n",
       "        [ 84,  46,  54,  44,  20],\n",
       "        [ 92,  18,  59,  41,  45],\n",
       "        [115,  18,  65,  48,  21],\n",
       "        [127,  43,  71,  35,  32],\n",
       "        [134,  31,  72,  71,  21],\n",
       "        [153,  44,  78,  20,  31],\n",
       "        [177,  58,  88,  15,  43],\n",
       "        [183,  46,  98,  15,  45],\n",
       "        [184,  29,  98,  88,  26]]])"
      ]
     },
     "execution_count": 14,
     "metadata": {},
     "output_type": "execute_result"
    }
   ],
   "source": [
    "ind=np.where(shopping_data[:,5]>45)\n",
    "\n",
    "print('The number of customers getting discount more than 45% : ',np.size(np.where(shopping_data[:,5]>45)))\n",
    "\n",
    "print('Details of customers : ')\n",
    "shopping_data[ind,0:5]"
   ]
  },
  {
   "cell_type": "code",
   "execution_count": null,
   "id": "c9ba2c10",
   "metadata": {},
   "outputs": [],
   "source": []
  }
 ],
 "metadata": {
  "kernelspec": {
   "display_name": "Python 3 (ipykernel)",
   "language": "python",
   "name": "python3"
  },
  "language_info": {
   "codemirror_mode": {
    "name": "ipython",
    "version": 3
   },
   "file_extension": ".py",
   "mimetype": "text/x-python",
   "name": "python",
   "nbconvert_exporter": "python",
   "pygments_lexer": "ipython3",
   "version": "3.9.13"
  }
 },
 "nbformat": 4,
 "nbformat_minor": 5
}
