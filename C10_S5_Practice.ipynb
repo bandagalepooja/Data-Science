{
 "cells": [
  {
   "cell_type": "markdown",
   "id": "b11ee756",
   "metadata": {},
   "source": [
    "# Task 1.1:"
   ]
  },
  {
   "cell_type": "code",
   "execution_count": 1,
   "id": "b2c80b8f",
   "metadata": {},
   "outputs": [],
   "source": [
    "import pandas as pd\n",
    "import numpy as np\n",
    "import matplotlib.pyplot as plt\n",
    "import matplotlib\n",
    "\n",
    "from sklearn import metrics\n",
    "\n",
    "import warnings\n",
    "warnings.filterwarnings('ignore')"
   ]
  },
  {
   "cell_type": "markdown",
   "id": "da24b680",
   "metadata": {},
   "source": [
    "# Task 1.2:"
   ]
  },
  {
   "cell_type": "code",
   "execution_count": 71,
   "id": "b79c16e6",
   "metadata": {},
   "outputs": [],
   "source": [
    "from sklearn.datasets import load_wine      # importing the inbuild wine data\n",
    "Data=load_wine()\n",
    "x=Data.data\n",
    "y=Data.target"
   ]
  },
  {
   "cell_type": "code",
   "execution_count": 72,
   "id": "a9cbd38b",
   "metadata": {},
   "outputs": [
    {
     "data": {
      "text/html": [
       "<div>\n",
       "<style scoped>\n",
       "    .dataframe tbody tr th:only-of-type {\n",
       "        vertical-align: middle;\n",
       "    }\n",
       "\n",
       "    .dataframe tbody tr th {\n",
       "        vertical-align: top;\n",
       "    }\n",
       "\n",
       "    .dataframe thead th {\n",
       "        text-align: right;\n",
       "    }\n",
       "</style>\n",
       "<table border=\"1\" class=\"dataframe\">\n",
       "  <thead>\n",
       "    <tr style=\"text-align: right;\">\n",
       "      <th></th>\n",
       "      <th>alcohol</th>\n",
       "      <th>malic_acid</th>\n",
       "      <th>ash</th>\n",
       "      <th>alcalinity_of_ash</th>\n",
       "      <th>magnesium</th>\n",
       "      <th>total_phenols</th>\n",
       "      <th>flavanoids</th>\n",
       "      <th>nonflavanoid_phenols</th>\n",
       "      <th>proanthocyanins</th>\n",
       "      <th>color_intensity</th>\n",
       "      <th>hue</th>\n",
       "      <th>od280/od315_of_diluted_wines</th>\n",
       "      <th>proline</th>\n",
       "      <th>target</th>\n",
       "    </tr>\n",
       "  </thead>\n",
       "  <tbody>\n",
       "    <tr>\n",
       "      <th>0</th>\n",
       "      <td>14.23</td>\n",
       "      <td>1.71</td>\n",
       "      <td>2.43</td>\n",
       "      <td>15.6</td>\n",
       "      <td>127.0</td>\n",
       "      <td>2.80</td>\n",
       "      <td>3.06</td>\n",
       "      <td>0.28</td>\n",
       "      <td>2.29</td>\n",
       "      <td>5.64</td>\n",
       "      <td>1.04</td>\n",
       "      <td>3.92</td>\n",
       "      <td>1065.0</td>\n",
       "      <td>0.0</td>\n",
       "    </tr>\n",
       "    <tr>\n",
       "      <th>1</th>\n",
       "      <td>13.20</td>\n",
       "      <td>1.78</td>\n",
       "      <td>2.14</td>\n",
       "      <td>11.2</td>\n",
       "      <td>100.0</td>\n",
       "      <td>2.65</td>\n",
       "      <td>2.76</td>\n",
       "      <td>0.26</td>\n",
       "      <td>1.28</td>\n",
       "      <td>4.38</td>\n",
       "      <td>1.05</td>\n",
       "      <td>3.40</td>\n",
       "      <td>1050.0</td>\n",
       "      <td>0.0</td>\n",
       "    </tr>\n",
       "    <tr>\n",
       "      <th>2</th>\n",
       "      <td>13.16</td>\n",
       "      <td>2.36</td>\n",
       "      <td>2.67</td>\n",
       "      <td>18.6</td>\n",
       "      <td>101.0</td>\n",
       "      <td>2.80</td>\n",
       "      <td>3.24</td>\n",
       "      <td>0.30</td>\n",
       "      <td>2.81</td>\n",
       "      <td>5.68</td>\n",
       "      <td>1.03</td>\n",
       "      <td>3.17</td>\n",
       "      <td>1185.0</td>\n",
       "      <td>0.0</td>\n",
       "    </tr>\n",
       "    <tr>\n",
       "      <th>3</th>\n",
       "      <td>14.37</td>\n",
       "      <td>1.95</td>\n",
       "      <td>2.50</td>\n",
       "      <td>16.8</td>\n",
       "      <td>113.0</td>\n",
       "      <td>3.85</td>\n",
       "      <td>3.49</td>\n",
       "      <td>0.24</td>\n",
       "      <td>2.18</td>\n",
       "      <td>7.80</td>\n",
       "      <td>0.86</td>\n",
       "      <td>3.45</td>\n",
       "      <td>1480.0</td>\n",
       "      <td>0.0</td>\n",
       "    </tr>\n",
       "    <tr>\n",
       "      <th>4</th>\n",
       "      <td>13.24</td>\n",
       "      <td>2.59</td>\n",
       "      <td>2.87</td>\n",
       "      <td>21.0</td>\n",
       "      <td>118.0</td>\n",
       "      <td>2.80</td>\n",
       "      <td>2.69</td>\n",
       "      <td>0.39</td>\n",
       "      <td>1.82</td>\n",
       "      <td>4.32</td>\n",
       "      <td>1.04</td>\n",
       "      <td>2.93</td>\n",
       "      <td>735.0</td>\n",
       "      <td>0.0</td>\n",
       "    </tr>\n",
       "    <tr>\n",
       "      <th>5</th>\n",
       "      <td>14.20</td>\n",
       "      <td>1.76</td>\n",
       "      <td>2.45</td>\n",
       "      <td>15.2</td>\n",
       "      <td>112.0</td>\n",
       "      <td>3.27</td>\n",
       "      <td>3.39</td>\n",
       "      <td>0.34</td>\n",
       "      <td>1.97</td>\n",
       "      <td>6.75</td>\n",
       "      <td>1.05</td>\n",
       "      <td>2.85</td>\n",
       "      <td>1450.0</td>\n",
       "      <td>0.0</td>\n",
       "    </tr>\n",
       "    <tr>\n",
       "      <th>6</th>\n",
       "      <td>14.39</td>\n",
       "      <td>1.87</td>\n",
       "      <td>2.45</td>\n",
       "      <td>14.6</td>\n",
       "      <td>96.0</td>\n",
       "      <td>2.50</td>\n",
       "      <td>2.52</td>\n",
       "      <td>0.30</td>\n",
       "      <td>1.98</td>\n",
       "      <td>5.25</td>\n",
       "      <td>1.02</td>\n",
       "      <td>3.58</td>\n",
       "      <td>1290.0</td>\n",
       "      <td>0.0</td>\n",
       "    </tr>\n",
       "    <tr>\n",
       "      <th>7</th>\n",
       "      <td>14.06</td>\n",
       "      <td>2.15</td>\n",
       "      <td>2.61</td>\n",
       "      <td>17.6</td>\n",
       "      <td>121.0</td>\n",
       "      <td>2.60</td>\n",
       "      <td>2.51</td>\n",
       "      <td>0.31</td>\n",
       "      <td>1.25</td>\n",
       "      <td>5.05</td>\n",
       "      <td>1.06</td>\n",
       "      <td>3.58</td>\n",
       "      <td>1295.0</td>\n",
       "      <td>0.0</td>\n",
       "    </tr>\n",
       "    <tr>\n",
       "      <th>8</th>\n",
       "      <td>14.83</td>\n",
       "      <td>1.64</td>\n",
       "      <td>2.17</td>\n",
       "      <td>14.0</td>\n",
       "      <td>97.0</td>\n",
       "      <td>2.80</td>\n",
       "      <td>2.98</td>\n",
       "      <td>0.29</td>\n",
       "      <td>1.98</td>\n",
       "      <td>5.20</td>\n",
       "      <td>1.08</td>\n",
       "      <td>2.85</td>\n",
       "      <td>1045.0</td>\n",
       "      <td>0.0</td>\n",
       "    </tr>\n",
       "    <tr>\n",
       "      <th>9</th>\n",
       "      <td>13.86</td>\n",
       "      <td>1.35</td>\n",
       "      <td>2.27</td>\n",
       "      <td>16.0</td>\n",
       "      <td>98.0</td>\n",
       "      <td>2.98</td>\n",
       "      <td>3.15</td>\n",
       "      <td>0.22</td>\n",
       "      <td>1.85</td>\n",
       "      <td>7.22</td>\n",
       "      <td>1.01</td>\n",
       "      <td>3.55</td>\n",
       "      <td>1045.0</td>\n",
       "      <td>0.0</td>\n",
       "    </tr>\n",
       "  </tbody>\n",
       "</table>\n",
       "</div>"
      ],
      "text/plain": [
       "   alcohol  malic_acid   ash  alcalinity_of_ash  magnesium  total_phenols  \\\n",
       "0    14.23        1.71  2.43               15.6      127.0           2.80   \n",
       "1    13.20        1.78  2.14               11.2      100.0           2.65   \n",
       "2    13.16        2.36  2.67               18.6      101.0           2.80   \n",
       "3    14.37        1.95  2.50               16.8      113.0           3.85   \n",
       "4    13.24        2.59  2.87               21.0      118.0           2.80   \n",
       "5    14.20        1.76  2.45               15.2      112.0           3.27   \n",
       "6    14.39        1.87  2.45               14.6       96.0           2.50   \n",
       "7    14.06        2.15  2.61               17.6      121.0           2.60   \n",
       "8    14.83        1.64  2.17               14.0       97.0           2.80   \n",
       "9    13.86        1.35  2.27               16.0       98.0           2.98   \n",
       "\n",
       "   flavanoids  nonflavanoid_phenols  proanthocyanins  color_intensity   hue  \\\n",
       "0        3.06                  0.28             2.29             5.64  1.04   \n",
       "1        2.76                  0.26             1.28             4.38  1.05   \n",
       "2        3.24                  0.30             2.81             5.68  1.03   \n",
       "3        3.49                  0.24             2.18             7.80  0.86   \n",
       "4        2.69                  0.39             1.82             4.32  1.04   \n",
       "5        3.39                  0.34             1.97             6.75  1.05   \n",
       "6        2.52                  0.30             1.98             5.25  1.02   \n",
       "7        2.51                  0.31             1.25             5.05  1.06   \n",
       "8        2.98                  0.29             1.98             5.20  1.08   \n",
       "9        3.15                  0.22             1.85             7.22  1.01   \n",
       "\n",
       "   od280/od315_of_diluted_wines  proline  target  \n",
       "0                          3.92   1065.0     0.0  \n",
       "1                          3.40   1050.0     0.0  \n",
       "2                          3.17   1185.0     0.0  \n",
       "3                          3.45   1480.0     0.0  \n",
       "4                          2.93    735.0     0.0  \n",
       "5                          2.85   1450.0     0.0  \n",
       "6                          3.58   1290.0     0.0  \n",
       "7                          3.58   1295.0     0.0  \n",
       "8                          2.85   1045.0     0.0  \n",
       "9                          3.55   1045.0     0.0  "
      ]
     },
     "execution_count": 72,
     "metadata": {},
     "output_type": "execute_result"
    }
   ],
   "source": [
    "Data=pd.DataFrame(data=np.c_[Data['data'],Data['target']],columns=Data['feature_names']+['target'])\n",
    "Data.head(10)"
   ]
  },
  {
   "cell_type": "code",
   "execution_count": 36,
   "id": "216cc4b3",
   "metadata": {},
   "outputs": [
    {
     "data": {
      "text/plain": [
       "Index(['alcohol', 'malic_acid', 'ash', 'alcalinity_of_ash', 'magnesium',\n",
       "       'total_phenols', 'flavanoids', 'nonflavanoid_phenols',\n",
       "       'proanthocyanins', 'color_intensity', 'hue',\n",
       "       'od280/od315_of_diluted_wines', 'proline', 'target'],\n",
       "      dtype='object')"
      ]
     },
     "execution_count": 36,
     "metadata": {},
     "output_type": "execute_result"
    }
   ],
   "source": [
    "Data.columns"
   ]
  },
  {
   "cell_type": "code",
   "execution_count": 37,
   "id": "a61d2ff0",
   "metadata": {},
   "outputs": [
    {
     "name": "stdout",
     "output_type": "stream",
     "text": [
      "<class 'pandas.core.frame.DataFrame'>\n",
      "RangeIndex: 178 entries, 0 to 177\n",
      "Data columns (total 14 columns):\n",
      " #   Column                        Non-Null Count  Dtype  \n",
      "---  ------                        --------------  -----  \n",
      " 0   alcohol                       178 non-null    float64\n",
      " 1   malic_acid                    178 non-null    float64\n",
      " 2   ash                           178 non-null    float64\n",
      " 3   alcalinity_of_ash             178 non-null    float64\n",
      " 4   magnesium                     178 non-null    float64\n",
      " 5   total_phenols                 178 non-null    float64\n",
      " 6   flavanoids                    178 non-null    float64\n",
      " 7   nonflavanoid_phenols          178 non-null    float64\n",
      " 8   proanthocyanins               178 non-null    float64\n",
      " 9   color_intensity               178 non-null    float64\n",
      " 10  hue                           178 non-null    float64\n",
      " 11  od280/od315_of_diluted_wines  178 non-null    float64\n",
      " 12  proline                       178 non-null    float64\n",
      " 13  target                        178 non-null    float64\n",
      "dtypes: float64(14)\n",
      "memory usage: 19.6 KB\n"
     ]
    }
   ],
   "source": [
    "Data.info()"
   ]
  },
  {
   "cell_type": "code",
   "execution_count": 38,
   "id": "94d6209b",
   "metadata": {},
   "outputs": [
    {
     "data": {
      "text/html": [
       "<div>\n",
       "<style scoped>\n",
       "    .dataframe tbody tr th:only-of-type {\n",
       "        vertical-align: middle;\n",
       "    }\n",
       "\n",
       "    .dataframe tbody tr th {\n",
       "        vertical-align: top;\n",
       "    }\n",
       "\n",
       "    .dataframe thead th {\n",
       "        text-align: right;\n",
       "    }\n",
       "</style>\n",
       "<table border=\"1\" class=\"dataframe\">\n",
       "  <thead>\n",
       "    <tr style=\"text-align: right;\">\n",
       "      <th></th>\n",
       "      <th>alcohol</th>\n",
       "      <th>malic_acid</th>\n",
       "      <th>ash</th>\n",
       "      <th>alcalinity_of_ash</th>\n",
       "      <th>magnesium</th>\n",
       "      <th>total_phenols</th>\n",
       "      <th>flavanoids</th>\n",
       "      <th>nonflavanoid_phenols</th>\n",
       "      <th>proanthocyanins</th>\n",
       "      <th>color_intensity</th>\n",
       "      <th>hue</th>\n",
       "      <th>od280/od315_of_diluted_wines</th>\n",
       "      <th>proline</th>\n",
       "      <th>target</th>\n",
       "    </tr>\n",
       "  </thead>\n",
       "  <tbody>\n",
       "    <tr>\n",
       "      <th>count</th>\n",
       "      <td>178.000000</td>\n",
       "      <td>178.000000</td>\n",
       "      <td>178.000000</td>\n",
       "      <td>178.000000</td>\n",
       "      <td>178.000000</td>\n",
       "      <td>178.000000</td>\n",
       "      <td>178.000000</td>\n",
       "      <td>178.000000</td>\n",
       "      <td>178.000000</td>\n",
       "      <td>178.000000</td>\n",
       "      <td>178.000000</td>\n",
       "      <td>178.000000</td>\n",
       "      <td>178.000000</td>\n",
       "      <td>178.000000</td>\n",
       "    </tr>\n",
       "    <tr>\n",
       "      <th>mean</th>\n",
       "      <td>13.000618</td>\n",
       "      <td>2.336348</td>\n",
       "      <td>2.366517</td>\n",
       "      <td>19.494944</td>\n",
       "      <td>99.741573</td>\n",
       "      <td>2.295112</td>\n",
       "      <td>2.029270</td>\n",
       "      <td>0.361854</td>\n",
       "      <td>1.590899</td>\n",
       "      <td>5.058090</td>\n",
       "      <td>0.957449</td>\n",
       "      <td>2.611685</td>\n",
       "      <td>746.893258</td>\n",
       "      <td>0.938202</td>\n",
       "    </tr>\n",
       "    <tr>\n",
       "      <th>std</th>\n",
       "      <td>0.811827</td>\n",
       "      <td>1.117146</td>\n",
       "      <td>0.274344</td>\n",
       "      <td>3.339564</td>\n",
       "      <td>14.282484</td>\n",
       "      <td>0.625851</td>\n",
       "      <td>0.998859</td>\n",
       "      <td>0.124453</td>\n",
       "      <td>0.572359</td>\n",
       "      <td>2.318286</td>\n",
       "      <td>0.228572</td>\n",
       "      <td>0.709990</td>\n",
       "      <td>314.907474</td>\n",
       "      <td>0.775035</td>\n",
       "    </tr>\n",
       "    <tr>\n",
       "      <th>min</th>\n",
       "      <td>11.030000</td>\n",
       "      <td>0.740000</td>\n",
       "      <td>1.360000</td>\n",
       "      <td>10.600000</td>\n",
       "      <td>70.000000</td>\n",
       "      <td>0.980000</td>\n",
       "      <td>0.340000</td>\n",
       "      <td>0.130000</td>\n",
       "      <td>0.410000</td>\n",
       "      <td>1.280000</td>\n",
       "      <td>0.480000</td>\n",
       "      <td>1.270000</td>\n",
       "      <td>278.000000</td>\n",
       "      <td>0.000000</td>\n",
       "    </tr>\n",
       "    <tr>\n",
       "      <th>25%</th>\n",
       "      <td>12.362500</td>\n",
       "      <td>1.602500</td>\n",
       "      <td>2.210000</td>\n",
       "      <td>17.200000</td>\n",
       "      <td>88.000000</td>\n",
       "      <td>1.742500</td>\n",
       "      <td>1.205000</td>\n",
       "      <td>0.270000</td>\n",
       "      <td>1.250000</td>\n",
       "      <td>3.220000</td>\n",
       "      <td>0.782500</td>\n",
       "      <td>1.937500</td>\n",
       "      <td>500.500000</td>\n",
       "      <td>0.000000</td>\n",
       "    </tr>\n",
       "    <tr>\n",
       "      <th>50%</th>\n",
       "      <td>13.050000</td>\n",
       "      <td>1.865000</td>\n",
       "      <td>2.360000</td>\n",
       "      <td>19.500000</td>\n",
       "      <td>98.000000</td>\n",
       "      <td>2.355000</td>\n",
       "      <td>2.135000</td>\n",
       "      <td>0.340000</td>\n",
       "      <td>1.555000</td>\n",
       "      <td>4.690000</td>\n",
       "      <td>0.965000</td>\n",
       "      <td>2.780000</td>\n",
       "      <td>673.500000</td>\n",
       "      <td>1.000000</td>\n",
       "    </tr>\n",
       "    <tr>\n",
       "      <th>75%</th>\n",
       "      <td>13.677500</td>\n",
       "      <td>3.082500</td>\n",
       "      <td>2.557500</td>\n",
       "      <td>21.500000</td>\n",
       "      <td>107.000000</td>\n",
       "      <td>2.800000</td>\n",
       "      <td>2.875000</td>\n",
       "      <td>0.437500</td>\n",
       "      <td>1.950000</td>\n",
       "      <td>6.200000</td>\n",
       "      <td>1.120000</td>\n",
       "      <td>3.170000</td>\n",
       "      <td>985.000000</td>\n",
       "      <td>2.000000</td>\n",
       "    </tr>\n",
       "    <tr>\n",
       "      <th>max</th>\n",
       "      <td>14.830000</td>\n",
       "      <td>5.800000</td>\n",
       "      <td>3.230000</td>\n",
       "      <td>30.000000</td>\n",
       "      <td>162.000000</td>\n",
       "      <td>3.880000</td>\n",
       "      <td>5.080000</td>\n",
       "      <td>0.660000</td>\n",
       "      <td>3.580000</td>\n",
       "      <td>13.000000</td>\n",
       "      <td>1.710000</td>\n",
       "      <td>4.000000</td>\n",
       "      <td>1680.000000</td>\n",
       "      <td>2.000000</td>\n",
       "    </tr>\n",
       "  </tbody>\n",
       "</table>\n",
       "</div>"
      ],
      "text/plain": [
       "          alcohol  malic_acid         ash  alcalinity_of_ash   magnesium  \\\n",
       "count  178.000000  178.000000  178.000000         178.000000  178.000000   \n",
       "mean    13.000618    2.336348    2.366517          19.494944   99.741573   \n",
       "std      0.811827    1.117146    0.274344           3.339564   14.282484   \n",
       "min     11.030000    0.740000    1.360000          10.600000   70.000000   \n",
       "25%     12.362500    1.602500    2.210000          17.200000   88.000000   \n",
       "50%     13.050000    1.865000    2.360000          19.500000   98.000000   \n",
       "75%     13.677500    3.082500    2.557500          21.500000  107.000000   \n",
       "max     14.830000    5.800000    3.230000          30.000000  162.000000   \n",
       "\n",
       "       total_phenols  flavanoids  nonflavanoid_phenols  proanthocyanins  \\\n",
       "count     178.000000  178.000000            178.000000       178.000000   \n",
       "mean        2.295112    2.029270              0.361854         1.590899   \n",
       "std         0.625851    0.998859              0.124453         0.572359   \n",
       "min         0.980000    0.340000              0.130000         0.410000   \n",
       "25%         1.742500    1.205000              0.270000         1.250000   \n",
       "50%         2.355000    2.135000              0.340000         1.555000   \n",
       "75%         2.800000    2.875000              0.437500         1.950000   \n",
       "max         3.880000    5.080000              0.660000         3.580000   \n",
       "\n",
       "       color_intensity         hue  od280/od315_of_diluted_wines      proline  \\\n",
       "count       178.000000  178.000000                    178.000000   178.000000   \n",
       "mean          5.058090    0.957449                      2.611685   746.893258   \n",
       "std           2.318286    0.228572                      0.709990   314.907474   \n",
       "min           1.280000    0.480000                      1.270000   278.000000   \n",
       "25%           3.220000    0.782500                      1.937500   500.500000   \n",
       "50%           4.690000    0.965000                      2.780000   673.500000   \n",
       "75%           6.200000    1.120000                      3.170000   985.000000   \n",
       "max          13.000000    1.710000                      4.000000  1680.000000   \n",
       "\n",
       "           target  \n",
       "count  178.000000  \n",
       "mean     0.938202  \n",
       "std      0.775035  \n",
       "min      0.000000  \n",
       "25%      0.000000  \n",
       "50%      1.000000  \n",
       "75%      2.000000  \n",
       "max      2.000000  "
      ]
     },
     "execution_count": 38,
     "metadata": {},
     "output_type": "execute_result"
    }
   ],
   "source": [
    "Data.describe()"
   ]
  },
  {
   "cell_type": "code",
   "execution_count": 39,
   "id": "664ab278",
   "metadata": {},
   "outputs": [
    {
     "data": {
      "text/plain": [
       "alcohol                         0\n",
       "malic_acid                      0\n",
       "ash                             0\n",
       "alcalinity_of_ash               0\n",
       "magnesium                       0\n",
       "total_phenols                   0\n",
       "flavanoids                      0\n",
       "nonflavanoid_phenols            0\n",
       "proanthocyanins                 0\n",
       "color_intensity                 0\n",
       "hue                             0\n",
       "od280/od315_of_diluted_wines    0\n",
       "proline                         0\n",
       "target                          0\n",
       "dtype: int64"
      ]
     },
     "execution_count": 39,
     "metadata": {},
     "output_type": "execute_result"
    }
   ],
   "source": [
    "Data.isnull().sum()"
   ]
  },
  {
   "cell_type": "markdown",
   "id": "64a4ea3d",
   "metadata": {},
   "source": [
    "# Task 1.3:"
   ]
  },
  {
   "cell_type": "code",
   "execution_count": 73,
   "id": "cda767b8",
   "metadata": {},
   "outputs": [
    {
     "data": {
      "text/plain": [
       "array([[ 1.51861254, -0.5622498 ,  0.23205254, ...,  1.84791957,\n",
       "         1.01300893, -1.21394365],\n",
       "       [ 0.24628963, -0.49941338, -0.82799632, ...,  1.1134493 ,\n",
       "         0.96524152, -1.21394365],\n",
       "       [ 0.19687903,  0.02123125,  1.10933436, ...,  0.78858745,\n",
       "         1.39514818, -1.21394365],\n",
       "       ...,\n",
       "       [ 0.33275817,  1.74474449, -0.38935541, ..., -1.48544548,\n",
       "         0.28057537,  1.37386437],\n",
       "       [ 0.20923168,  0.22769377,  0.01273209, ..., -1.40069891,\n",
       "         0.29649784,  1.37386437],\n",
       "       [ 1.39508604,  1.58316512,  1.36520822, ..., -1.42894777,\n",
       "        -0.59516041,  1.37386437]])"
      ]
     },
     "execution_count": 73,
     "metadata": {},
     "output_type": "execute_result"
    }
   ],
   "source": [
    "from sklearn.preprocessing import StandardScaler\n",
    "SC=StandardScaler()\n",
    "sc_data=SC.fit_transform(Data) \n",
    "sc_data"
   ]
  },
  {
   "cell_type": "markdown",
   "id": "8caeec08",
   "metadata": {},
   "source": [
    "# Task 2:"
   ]
  },
  {
   "cell_type": "markdown",
   "id": "287db507",
   "metadata": {},
   "source": [
    "# PCA"
   ]
  },
  {
   "cell_type": "code",
   "execution_count": 6,
   "id": "71d50aaa",
   "metadata": {},
   "outputs": [
    {
     "data": {
      "text/plain": [
       "(178, 14)"
      ]
     },
     "execution_count": 6,
     "metadata": {},
     "output_type": "execute_result"
    }
   ],
   "source": [
    "Data.shape"
   ]
  },
  {
   "cell_type": "code",
   "execution_count": 74,
   "id": "0dbb8759",
   "metadata": {},
   "outputs": [],
   "source": [
    "from sklearn.decomposition import PCA\n",
    "pca=PCA(n_components=14)   # Creating the object of PCA # n_components=14 because here we have 14 maximum features.\n",
    "pd_data1=pca.fit(Data)"
   ]
  },
  {
   "cell_type": "code",
   "execution_count": 75,
   "id": "582d5e1a",
   "metadata": {},
   "outputs": [
    {
     "data": {
      "text/plain": [
       "array([9.98087625e-01, 1.73591851e-03, 9.58948998e-05, 5.13200714e-05,\n",
       "       1.29365230e-05, 8.73476385e-06, 2.88762342e-06, 1.56228669e-06,\n",
       "       1.14428924e-06, 8.69067273e-07, 4.64851997e-07, 3.51409235e-07,\n",
       "       2.08896603e-07, 8.14215462e-08])"
      ]
     },
     "execution_count": 75,
     "metadata": {},
     "output_type": "execute_result"
    }
   ],
   "source": [
    "pd_data1.explained_variance_ratio_   # here we are getting 14 variance for each of the 14 features from the data."
   ]
  },
  {
   "cell_type": "code",
   "execution_count": 76,
   "id": "087a64e5",
   "metadata": {},
   "outputs": [
    {
     "data": {
      "text/plain": [
       "1.0000000000000002"
      ]
     },
     "execution_count": 76,
     "metadata": {},
     "output_type": "execute_result"
    }
   ],
   "source": [
    "sum(pd_data1.explained_variance_ratio_)"
   ]
  },
  {
   "cell_type": "code",
   "execution_count": 77,
   "id": "a790ca98",
   "metadata": {},
   "outputs": [
    {
     "data": {
      "text/plain": [
       "{2: 0.5737874490085586,\n",
       " 3: 0.6770784649085955,\n",
       " 4: 0.743358309776332,\n",
       " 5: 0.8060370610547871,\n",
       " 6: 0.8540926568319017,\n",
       " 7: 0.8936497252567082,\n",
       " 8: 0.9186521659731062,\n",
       " 9: 0.9396908760725871,\n",
       " 10: 0.9584270259947618,\n",
       " 11: 0.9745590560894808,\n",
       " 12: 0.9866159643311616,\n",
       " 13: 0.9958705485261239,\n",
       " 14: 0.9999999999999999}"
      ]
     },
     "execution_count": 77,
     "metadata": {},
     "output_type": "execute_result"
    }
   ],
   "source": [
    "var_ratio={}\n",
    "for i in range (2,15):\n",
    "    pca=PCA(n_components=i) # Creating the object of PCA # n_components=15 because here we have 14 maximum features.\n",
    "    pd_data1=pca.fit(sc_data)\n",
    "    var_ratio[i]=sum(pd_data1.explained_variance_ratio_)\n",
    "var_ratio   # High Variance is good below in dictionary we can see the Key= no. of components and Value= Variance Ratio.\n",
    "            # Variance between 80%-85% is good"
   ]
  },
  {
   "cell_type": "code",
   "execution_count": 78,
   "id": "6d1b5c62",
   "metadata": {},
   "outputs": [
    {
     "data": {
      "text/plain": [
       "<Axes: >"
      ]
     },
     "execution_count": 78,
     "metadata": {},
     "output_type": "execute_result"
    },
    {
     "data": {
      "image/png": "[encoded data removed]",
      "text/plain": [
       "<Figure size 640x480 with 1 Axes>"
      ]
     },
     "metadata": {},
     "output_type": "display_data"
    }
   ],
   "source": [
    "pd.Series(var_ratio).plot(kind='line')  # here we are chaking the turning point like elbow method. (between 6-8)\n",
    "                                        # Here we have converted in Series as we cant plot using Dictionary. \n",
    "                                        # we have all values in Dictionary thats why we converted in Series."
   ]
  },
  {
   "cell_type": "code",
   "execution_count": 79,
   "id": "ca57cdfc",
   "metadata": {},
   "outputs": [],
   "source": [
    "pca=PCA(n_components=6)    # n_components=6 because we have variance= 6:0.854 i.e 85% for 6 features thats why we are using 6\n",
    "pd_data1=pca.fit(sc_data)\n",
    "pd_data2=pca.fit_transform(sc_data)"
   ]
  },
  {
   "cell_type": "code",
   "execution_count": 80,
   "id": "8749a765",
   "metadata": {},
   "outputs": [
    {
     "data": {
      "text/html": [
       "<div>\n",
       "<style scoped>\n",
       "    .dataframe tbody tr th:only-of-type {\n",
       "        vertical-align: middle;\n",
       "    }\n",
       "\n",
       "    .dataframe tbody tr th {\n",
       "        vertical-align: top;\n",
       "    }\n",
       "\n",
       "    .dataframe thead th {\n",
       "        text-align: right;\n",
       "    }\n",
       "</style>\n",
       "<table border=\"1\" class=\"dataframe\">\n",
       "  <thead>\n",
       "    <tr style=\"text-align: right;\">\n",
       "      <th></th>\n",
       "      <th>0</th>\n",
       "      <th>1</th>\n",
       "      <th>2</th>\n",
       "      <th>3</th>\n",
       "      <th>4</th>\n",
       "      <th>5</th>\n",
       "    </tr>\n",
       "  </thead>\n",
       "  <tbody>\n",
       "    <tr>\n",
       "      <th>0</th>\n",
       "      <td>-3.522934</td>\n",
       "      <td>-1.453098</td>\n",
       "      <td>-0.164795</td>\n",
       "      <td>-0.013273</td>\n",
       "      <td>0.737345</td>\n",
       "      <td>-0.300716</td>\n",
       "    </tr>\n",
       "    <tr>\n",
       "      <th>1</th>\n",
       "      <td>-2.528858</td>\n",
       "      <td>0.330019</td>\n",
       "      <td>-2.026707</td>\n",
       "      <td>-0.417144</td>\n",
       "      <td>-0.283214</td>\n",
       "      <td>-0.884309</td>\n",
       "    </tr>\n",
       "    <tr>\n",
       "      <th>2</th>\n",
       "      <td>-2.785029</td>\n",
       "      <td>-1.036936</td>\n",
       "      <td>0.983238</td>\n",
       "      <td>0.664232</td>\n",
       "      <td>-0.387565</td>\n",
       "      <td>0.468842</td>\n",
       "    </tr>\n",
       "    <tr>\n",
       "      <th>3</th>\n",
       "      <td>-3.922588</td>\n",
       "      <td>-2.768210</td>\n",
       "      <td>-0.174968</td>\n",
       "      <td>0.565088</td>\n",
       "      <td>-0.324360</td>\n",
       "      <td>0.262616</td>\n",
       "    </tr>\n",
       "    <tr>\n",
       "      <th>4</th>\n",
       "      <td>-1.407511</td>\n",
       "      <td>-0.867773</td>\n",
       "      <td>2.025829</td>\n",
       "      <td>-0.440906</td>\n",
       "      <td>0.227949</td>\n",
       "      <td>-0.593762</td>\n",
       "    </tr>\n",
       "    <tr>\n",
       "      <th>...</th>\n",
       "      <td>...</td>\n",
       "      <td>...</td>\n",
       "      <td>...</td>\n",
       "      <td>...</td>\n",
       "      <td>...</td>\n",
       "      <td>...</td>\n",
       "    </tr>\n",
       "    <tr>\n",
       "      <th>173</th>\n",
       "      <td>3.627996</td>\n",
       "      <td>-2.206617</td>\n",
       "      <td>-0.343668</td>\n",
       "      <td>0.751705</td>\n",
       "      <td>-1.004109</td>\n",
       "      <td>-1.143155</td>\n",
       "    </tr>\n",
       "    <tr>\n",
       "      <th>174</th>\n",
       "      <td>2.942729</td>\n",
       "      <td>-1.752263</td>\n",
       "      <td>0.207480</td>\n",
       "      <td>0.399381</td>\n",
       "      <td>0.154223</td>\n",
       "      <td>-0.062465</td>\n",
       "    </tr>\n",
       "    <tr>\n",
       "      <th>175</th>\n",
       "      <td>3.027272</td>\n",
       "      <td>-2.756040</td>\n",
       "      <td>-0.940803</td>\n",
       "      <td>0.607758</td>\n",
       "      <td>1.128136</td>\n",
       "      <td>0.005290</td>\n",
       "    </tr>\n",
       "    <tr>\n",
       "      <th>176</th>\n",
       "      <td>2.755222</td>\n",
       "      <td>-2.293784</td>\n",
       "      <td>-0.550474</td>\n",
       "      <td>-0.391570</td>\n",
       "      <td>1.067083</td>\n",
       "      <td>1.012562</td>\n",
       "    </tr>\n",
       "    <tr>\n",
       "      <th>177</th>\n",
       "      <td>3.496336</td>\n",
       "      <td>-2.760608</td>\n",
       "      <td>1.013151</td>\n",
       "      <td>0.349630</td>\n",
       "      <td>-1.005136</td>\n",
       "      <td>0.377223</td>\n",
       "    </tr>\n",
       "  </tbody>\n",
       "</table>\n",
       "<p>178 rows × 6 columns</p>\n",
       "</div>"
      ],
      "text/plain": [
       "            0         1         2         3         4         5\n",
       "0   -3.522934 -1.453098 -0.164795 -0.013273  0.737345 -0.300716\n",
       "1   -2.528858  0.330019 -2.026707 -0.417144 -0.283214 -0.884309\n",
       "2   -2.785029 -1.036936  0.983238  0.664232 -0.387565  0.468842\n",
       "3   -3.922588 -2.768210 -0.174968  0.565088 -0.324360  0.262616\n",
       "4   -1.407511 -0.867773  2.025829 -0.440906  0.227949 -0.593762\n",
       "..        ...       ...       ...       ...       ...       ...\n",
       "173  3.627996 -2.206617 -0.343668  0.751705 -1.004109 -1.143155\n",
       "174  2.942729 -1.752263  0.207480  0.399381  0.154223 -0.062465\n",
       "175  3.027272 -2.756040 -0.940803  0.607758  1.128136  0.005290\n",
       "176  2.755222 -2.293784 -0.550474 -0.391570  1.067083  1.012562\n",
       "177  3.496336 -2.760608  1.013151  0.349630 -1.005136  0.377223\n",
       "\n",
       "[178 rows x 6 columns]"
      ]
     },
     "execution_count": 80,
     "metadata": {},
     "output_type": "execute_result"
    }
   ],
   "source": [
    "df1=pd.DataFrame(pd_data2)\n",
    "df1"
   ]
  },
  {
   "cell_type": "code",
   "execution_count": 13,
   "id": "9535f746",
   "metadata": {},
   "outputs": [
    {
     "data": {
      "text/plain": [
       "0.8540926568319017"
      ]
     },
     "execution_count": 13,
     "metadata": {},
     "output_type": "execute_result"
    }
   ],
   "source": [
    "sum(pd_data1.explained_variance_ratio_)   # Here we an see the total variance of 6 features. which are there in pd_data1."
   ]
  },
  {
   "cell_type": "code",
   "execution_count": 14,
   "id": "dc8f7517",
   "metadata": {},
   "outputs": [
    {
     "data": {
      "text/plain": [
       "array([5.56722458, 2.51118402, 1.45424413, 0.9331603 , 0.88246016,\n",
       "       0.67657935])"
      ]
     },
     "execution_count": 14,
     "metadata": {},
     "output_type": "execute_result"
    }
   ],
   "source": [
    "pd_data1.explained_variance_  # Here we are chaking the variance of 6 features which are there in pd_data1."
   ]
  },
  {
   "cell_type": "code",
   "execution_count": null,
   "id": "ee170f0c",
   "metadata": {},
   "outputs": [],
   "source": []
  },
  {
   "cell_type": "markdown",
   "id": "dd1b45b1",
   "metadata": {},
   "source": [
    "# LDA"
   ]
  },
  {
   "cell_type": "code",
   "execution_count": 15,
   "id": "8f31669e",
   "metadata": {},
   "outputs": [],
   "source": [
    "from sklearn.discriminant_analysis import LinearDiscriminantAnalysis # Importing LDA \n",
    "lda=LinearDiscriminantAnalysis()\n",
    "lda_df1=lda.fit(x,y)\n",
    "lda_df2=lda.fit_transform(x,y)    # Main Data"
   ]
  },
  {
   "cell_type": "code",
   "execution_count": 16,
   "id": "ce28a2d6",
   "metadata": {},
   "outputs": [
    {
     "data": {
      "text/html": [
       "<style>#sk-container-id-1 {color: black;background-color: white;}#sk-container-id-1 pre{padding: 0;}#sk-container-id-1 div.sk-toggleable {background-color: white;}#sk-container-id-1 label.sk-toggleable__label {cursor: pointer;display: block;width: 100%;margin-bottom: 0;padding: 0.3em;box-sizing: border-box;text-align: center;}#sk-container-id-1 label.sk-toggleable__label-arrow:before {content: \"▸\";float: left;margin-right: 0.25em;color: #696969;}#sk-container-id-1 label.sk-toggleable__label-arrow:hover:before {color: black;}#sk-container-id-1 div.sk-estimator:hover label.sk-toggleable__label-arrow:before {color: black;}#sk-container-id-1 div.sk-toggleable__content {max-height: 0;max-width: 0;overflow: hidden;text-align: left;background-color: #f0f8ff;}#sk-container-id-1 div.sk-toggleable__content pre {margin: 0.2em;color: black;border-radius: 0.25em;background-color: #f0f8ff;}#sk-container-id-1 input.sk-toggleable__control:checked~div.sk-toggleable__content {max-height: 200px;max-width: 100%;overflow: auto;}#sk-container-id-1 input.sk-toggleable__control:checked~label.sk-toggleable__label-arrow:before {content: \"▾\";}#sk-container-id-1 div.sk-estimator input.sk-toggleable__control:checked~label.sk-toggleable__label {background-color: #d4ebff;}#sk-container-id-1 div.sk-label input.sk-toggleable__control:checked~label.sk-toggleable__label {background-color: #d4ebff;}#sk-container-id-1 input.sk-hidden--visually {border: 0;clip: rect(1px 1px 1px 1px);clip: rect(1px, 1px, 1px, 1px);height: 1px;margin: -1px;overflow: hidden;padding: 0;position: absolute;width: 1px;}#sk-container-id-1 div.sk-estimator {font-family: monospace;background-color: #f0f8ff;border: 1px dotted black;border-radius: 0.25em;box-sizing: border-box;margin-bottom: 0.5em;}#sk-container-id-1 div.sk-estimator:hover {background-color: #d4ebff;}#sk-container-id-1 div.sk-parallel-item::after {content: \"\";width: 100%;border-bottom: 1px solid gray;flex-grow: 1;}#sk-container-id-1 div.sk-label:hover label.sk-toggleable__label {background-color: #d4ebff;}#sk-container-id-1 div.sk-serial::before {content: \"\";position: absolute;border-left: 1px solid gray;box-sizing: border-box;top: 0;bottom: 0;left: 50%;z-index: 0;}#sk-container-id-1 div.sk-serial {display: flex;flex-direction: column;align-items: center;background-color: white;padding-right: 0.2em;padding-left: 0.2em;position: relative;}#sk-container-id-1 div.sk-item {position: relative;z-index: 1;}#sk-container-id-1 div.sk-parallel {display: flex;align-items: stretch;justify-content: center;background-color: white;position: relative;}#sk-container-id-1 div.sk-item::before, #sk-container-id-1 div.sk-parallel-item::before {content: \"\";position: absolute;border-left: 1px solid gray;box-sizing: border-box;top: 0;bottom: 0;left: 50%;z-index: -1;}#sk-container-id-1 div.sk-parallel-item {display: flex;flex-direction: column;z-index: 1;position: relative;background-color: white;}#sk-container-id-1 div.sk-parallel-item:first-child::after {align-self: flex-end;width: 50%;}#sk-container-id-1 div.sk-parallel-item:last-child::after {align-self: flex-start;width: 50%;}#sk-container-id-1 div.sk-parallel-item:only-child::after {width: 0;}#sk-container-id-1 div.sk-dashed-wrapped {border: 1px dashed gray;margin: 0 0.4em 0.5em 0.4em;box-sizing: border-box;padding-bottom: 0.4em;background-color: white;}#sk-container-id-1 div.sk-label label {font-family: monospace;font-weight: bold;display: inline-block;line-height: 1.2em;}#sk-container-id-1 div.sk-label-container {text-align: center;}#sk-container-id-1 div.sk-container {/* jupyter's `normalize.less` sets `[hidden] { display: none; }` but bootstrap.min.css set `[hidden] { display: none !important; }` so we also need the `!important` here to be able to override the default hidden behavior on the sphinx rendered scikit-learn.org. See: https://github.com/scikit-learn/scikit-learn/issues/21755 */display: inline-block !important;position: relative;}#sk-container-id-1 div.sk-text-repr-fallback {display: none;}</style><div id=\"sk-container-id-1\" class=\"sk-top-container\"><div class=\"sk-text-repr-fallback\"><pre>LinearDiscriminantAnalysis()</pre><b>In a Jupyter environment, please rerun this cell to show the HTML representation or trust the notebook. <br />On GitHub, the HTML representation is unable to render, please try loading this page with nbviewer.org.</b></div><div class=\"sk-container\" hidden><div class=\"sk-item\"><div class=\"sk-estimator sk-toggleable\"><input class=\"sk-toggleable__control sk-hidden--visually\" id=\"sk-estimator-id-1\" type=\"checkbox\" checked><label for=\"sk-estimator-id-1\" class=\"sk-toggleable__label sk-toggleable__label-arrow\">LinearDiscriminantAnalysis</label><div class=\"sk-toggleable__content\"><pre>LinearDiscriminantAnalysis()</pre></div></div></div></div></div>"
      ],
      "text/plain": [
       "LinearDiscriminantAnalysis()"
      ]
     },
     "execution_count": 16,
     "metadata": {},
     "output_type": "execute_result"
    }
   ],
   "source": [
    "lda_df1"
   ]
  },
  {
   "cell_type": "code",
   "execution_count": 17,
   "id": "75b60770",
   "metadata": {},
   "outputs": [
    {
     "data": {
      "text/plain": [
       "array([[ 4.70024401,  1.97913835],\n",
       "       [ 4.30195811,  1.17041286],\n",
       "       [ 3.42071952,  1.42910139],\n",
       "       [ 4.20575366,  4.00287148],\n",
       "       [ 1.50998168,  0.4512239 ],\n",
       "       [ 4.51868934,  3.21313756],\n",
       "       [ 4.52737794,  3.26912179],\n",
       "       [ 4.14834781,  3.10411765],\n",
       "       [ 3.86082876,  1.95338263],\n",
       "       [ 3.36662444,  1.67864327],\n",
       "       [ 4.80587907,  2.23536271],\n",
       "       [ 3.42807646,  2.17510939],\n",
       "       [ 3.66610246,  2.26248961],\n",
       "       [ 5.58824635,  2.05478773],\n",
       "       [ 5.50131449,  3.61304865],\n",
       "       [ 3.18475189,  2.88952528],\n",
       "       [ 3.28936988,  2.76584266],\n",
       "       [ 2.99809262,  1.42511132],\n",
       "       [ 5.24640372,  3.70982655],\n",
       "       [ 3.13653106,  1.97689922],\n",
       "       [ 3.57747791,  0.5624599 ],\n",
       "       [ 1.69077135,  0.91342136],\n",
       "       [ 4.83515033,  0.9147628 ],\n",
       "       [ 3.09588961,  0.61735888],\n",
       "       [ 3.32164716,  0.29847734],\n",
       "       [ 2.14482223,  0.16369247],\n",
       "       [ 3.9824285 ,  2.17515679],\n",
       "       [ 2.68591432,  1.21850924],\n",
       "       [ 3.56309464,  1.03817651],\n",
       "       [ 3.17301573,  1.37789624],\n",
       "       [ 2.99626797,  1.32419896],\n",
       "       [ 3.56866244,  2.34065478],\n",
       "       [ 3.38506383,  0.20123426],\n",
       "       [ 3.5275375 ,  1.71592739],\n",
       "       [ 2.85190852,  1.47070771],\n",
       "       [ 2.79411996,  0.23793093],\n",
       "       [ 2.75808511,  1.56970421],\n",
       "       [ 2.17734477,  1.01036455],\n",
       "       [ 3.02926382, -0.23509583],\n",
       "       [ 3.27105228,  2.6040459 ],\n",
       "       [ 2.92065533,  0.25523343],\n",
       "       [ 2.23721062,  0.91946116],\n",
       "       [ 4.69972568,  2.56075339],\n",
       "       [ 1.23036133,  0.42259515],\n",
       "       [ 2.58203904, -0.35029195],\n",
       "       [ 2.58312049,  2.87686572],\n",
       "       [ 3.88887889,  2.05160408],\n",
       "       [ 3.44975356,  0.95183917],\n",
       "       [ 2.34223331,  1.4325895 ],\n",
       "       [ 3.52062596,  2.08155356],\n",
       "       [ 3.21840912,  0.8791287 ],\n",
       "       [ 4.38214896,  2.16471573],\n",
       "       [ 4.36311727,  2.27182928],\n",
       "       [ 3.51917293,  3.00737373],\n",
       "       [ 3.12277475,  1.59356669],\n",
       "       [ 1.8024054 ,  1.33006156],\n",
       "       [ 2.87378754,  1.72989942],\n",
       "       [ 3.61690518,  2.29115753],\n",
       "       [ 3.73868551,  2.46011803],\n",
       "       [-1.58618749, -2.42384416],\n",
       "       [-0.79967216, -1.39406461],\n",
       "       [-2.38015446, -1.45188659],\n",
       "       [ 0.45917726, -1.19045365],\n",
       "       [ 0.50726885, -3.16662403],\n",
       "       [-0.39398359, -2.7798417 ],\n",
       "       [ 0.92256616, -1.38872368],\n",
       "       [ 1.95549377, -2.69360629],\n",
       "       [ 0.34732815, -2.59289903],\n",
       "       [-0.20371212,  0.01962135],\n",
       "       [ 0.24831914, -2.7561761 ],\n",
       "       [-1.17987999, -0.90034277],\n",
       "       [ 1.07718925, -1.82670118],\n",
       "       [-0.64100179, -1.44531367],\n",
       "       [ 1.74684421, -1.78455859],\n",
       "       [ 0.34721117, -1.48810682],\n",
       "       [-1.14274222, -3.089249  ],\n",
       "       [-0.18665882, -2.67317096],\n",
       "       [-0.900525  , -1.81942357],\n",
       "       [ 0.70709551, -2.12304449],\n",
       "       [ 0.59562833, -2.48962245],\n",
       "       [ 0.55761818, -4.65303778],\n",
       "       [ 1.80430417, -1.48714945],\n",
       "       [-0.23077079, -2.84287547],\n",
       "       [-2.03482711, -0.79032003],\n",
       "       [ 0.62113021, -1.69689588],\n",
       "       [ 1.03372742, -2.44143762],\n",
       "       [-0.76598781, -3.44641402],\n",
       "       [-0.35042568, -3.22935698],\n",
       "       [-0.15324508, -2.11287767],\n",
       "       [ 0.14962842, -2.9919321 ],\n",
       "       [-0.48079504, -2.54002408],\n",
       "       [-1.39689016, -2.54082291],\n",
       "       [-0.91972331, -2.24859665],\n",
       "       [ 0.59102937, -2.93845393],\n",
       "       [-0.49411386, -2.93631076],\n",
       "       [ 1.62614426, -2.02049545],\n",
       "       [-2.00044562, -0.63448464],\n",
       "       [ 1.00534818, -3.33112586],\n",
       "       [ 2.07121314, -2.7144542 ],\n",
       "       [ 1.6381589 , -3.87739654],\n",
       "       [ 1.0589434 , -2.99987263],\n",
       "       [-0.02594549, -2.35411388],\n",
       "       [ 0.21887407, -1.64289601],\n",
       "       [-1.3643764 , -3.81747174],\n",
       "       [ 1.12901245, -2.32685245],\n",
       "       [ 0.21263094, -2.99677582],\n",
       "       [ 0.77946884, -2.47277392],\n",
       "       [-0.61546732, -2.17823987],\n",
       "       [-0.22550192, -3.79734159],\n",
       "       [ 2.03869851, -2.18532522],\n",
       "       [-0.79274716, -3.66157598],\n",
       "       [-0.30229545, -2.79527873],\n",
       "       [ 0.50664882, -1.09527341],\n",
       "       [-0.99837397, -3.44598675],\n",
       "       [ 0.21954922, -2.79759769],\n",
       "       [ 0.37131517, -6.00561031],\n",
       "       [-0.05545894, -3.4784697 ],\n",
       "       [ 0.09137874, -3.61977733],\n",
       "       [-1.79755252, -0.85012177],\n",
       "       [ 0.17405009, -2.63224971],\n",
       "       [ 1.17870281, -2.20519226],\n",
       "       [ 3.2105439 , -2.90531169],\n",
       "       [-0.62605202, -1.99570866],\n",
       "       [-0.03366613, -1.38435976],\n",
       "       [ 0.6993008 , -2.45943957],\n",
       "       [ 0.72061079, -3.2466652 ],\n",
       "       [ 0.51933512, -2.86969325],\n",
       "       [-1.17030045, -3.31947864],\n",
       "       [-0.10824791, -3.79876143],\n",
       "       [-1.12319783, -1.28784815],\n",
       "       [-2.24632419,  0.18734787],\n",
       "       [-3.28527755,  0.69608625],\n",
       "       [-4.07236441,  0.14425752],\n",
       "       [-3.86691235,  0.53503357],\n",
       "       [-3.45088333, -0.21734536],\n",
       "       [-3.71583899,  0.5651013 ],\n",
       "       [-3.9222051 ,  0.89352622],\n",
       "       [-4.8516102 ,  0.31406852],\n",
       "       [-3.54993389,  0.9159633 ],\n",
       "       [-3.76889174,  0.22554113],\n",
       "       [-2.6694225 ,  1.14109076],\n",
       "       [-2.32491492,  1.9484833 ],\n",
       "       [-3.17712883,  1.05985317],\n",
       "       [-2.88964418,  1.15705922],\n",
       "       [-3.78325562,  2.00739304],\n",
       "       [-3.04411324,  0.9812437 ],\n",
       "       [-4.70697017,  1.81778277],\n",
       "       [-4.85021393,  2.20818213],\n",
       "       [-4.98359184,  2.0349552 ],\n",
       "       [-4.86968293,  1.80832861],\n",
       "       [-4.5986919 ,  1.87224228],\n",
       "       [-5.67447884,  1.82580271],\n",
       "       [-5.32986123,  0.58218515],\n",
       "       [-5.03401031,  2.27732076],\n",
       "       [-4.52080087, -0.0067342 ],\n",
       "       [-5.0978371 ,  2.0016203 ],\n",
       "       [-5.04368277,  2.5119033 ],\n",
       "       [-4.86980829,  1.09158074],\n",
       "       [-5.61316558,  2.98439332],\n",
       "       [-5.67046737,  2.27306996],\n",
       "       [-5.37413513,  0.76247223],\n",
       "       [-3.09975377,  1.94106484],\n",
       "       [-3.35888137,  0.54868961],\n",
       "       [-3.04007194,  1.45698898],\n",
       "       [-4.94861303,  2.18992458],\n",
       "       [-4.54504458,  1.21989845],\n",
       "       [-5.27255844,  2.71623061],\n",
       "       [-5.13016117,  2.29172536],\n",
       "       [-4.30468082,  2.39112531],\n",
       "       [-5.08336782,  3.15766665],\n",
       "       [-4.06743571,  0.31892192],\n",
       "       [-5.74212961,  1.46708165],\n",
       "       [-4.4820514 ,  3.30708382],\n",
       "       [-4.29150758,  3.39033191],\n",
       "       [-4.50329623,  2.08354592],\n",
       "       [-5.04747033,  3.19623136],\n",
       "       [-4.27615505,  2.43138798],\n",
       "       [-5.5380861 ,  3.04205709]])"
      ]
     },
     "execution_count": 17,
     "metadata": {},
     "output_type": "execute_result"
    }
   ],
   "source": [
    "lda_df2"
   ]
  },
  {
   "cell_type": "code",
   "execution_count": 41,
   "id": "f45522c7",
   "metadata": {},
   "outputs": [
    {
     "data": {
      "text/plain": [
       "array([0.68747889, 0.31252111])"
      ]
     },
     "execution_count": 41,
     "metadata": {},
     "output_type": "execute_result"
    }
   ],
   "source": [
    "lda_df1.explained_variance_ratio_"
   ]
  },
  {
   "cell_type": "markdown",
   "id": "7a281331",
   "metadata": {},
   "source": [
    "# Task 3: Apply the Agglomerative Clustering algorithm"
   ]
  },
  {
   "cell_type": "markdown",
   "id": "34d8fd83",
   "metadata": {},
   "source": [
    "# Agglomerative Clustering without Feature Reduction"
   ]
  },
  {
   "cell_type": "code",
   "execution_count": 18,
   "id": "196efa3f",
   "metadata": {},
   "outputs": [
    {
     "name": "stdout",
     "output_type": "stream",
     "text": [
      "2 0.2917093910425583\n",
      "3 0.3005913531964526\n",
      "4 0.29660814676148517\n",
      "5 0.2414109478484613\n",
      "6 0.2450520411744691\n",
      "7 0.24752646930736494\n",
      "8 0.20928788869678955\n",
      "9 0.14546715467259375\n",
      "10 0.1501533502201438\n",
      "11 0.1340471133315091\n",
      "12 0.13291310173934692\n",
      "13 0.13637008839153925\n",
      "14 0.14451230058128492\n"
     ]
    }
   ],
   "source": [
    "from sklearn.cluster import AgglomerativeClustering\n",
    "from sklearn.metrics import silhouette_score\n",
    "for k in range(2,15):\n",
    "    hc=AgglomerativeClustering(n_clusters=k, affinity='euclidean', linkage='ward')\n",
    "    y_hc=hc.fit_predict(sc_data)\n",
    "    print(k,silhouette_score(sc_data,y_hc))"
   ]
  },
  {
   "cell_type": "markdown",
   "id": "d3506b25",
   "metadata": {},
   "source": [
    "Here we are getting the best K value as 3 = 0.30"
   ]
  },
  {
   "cell_type": "code",
   "execution_count": 19,
   "id": "7a865bdd",
   "metadata": {},
   "outputs": [
    {
     "data": {
      "text/html": [
       "<div>\n",
       "<style scoped>\n",
       "    .dataframe tbody tr th:only-of-type {\n",
       "        vertical-align: middle;\n",
       "    }\n",
       "\n",
       "    .dataframe tbody tr th {\n",
       "        vertical-align: top;\n",
       "    }\n",
       "\n",
       "    .dataframe thead th {\n",
       "        text-align: right;\n",
       "    }\n",
       "</style>\n",
       "<table border=\"1\" class=\"dataframe\">\n",
       "  <thead>\n",
       "    <tr style=\"text-align: right;\">\n",
       "      <th></th>\n",
       "      <th>alcohol</th>\n",
       "      <th>malic_acid</th>\n",
       "      <th>ash</th>\n",
       "      <th>alcalinity_of_ash</th>\n",
       "      <th>magnesium</th>\n",
       "      <th>total_phenols</th>\n",
       "      <th>flavanoids</th>\n",
       "      <th>nonflavanoid_phenols</th>\n",
       "      <th>proanthocyanins</th>\n",
       "      <th>color_intensity</th>\n",
       "      <th>hue</th>\n",
       "      <th>od280/od315_of_diluted_wines</th>\n",
       "      <th>proline</th>\n",
       "      <th>target</th>\n",
       "    </tr>\n",
       "  </thead>\n",
       "  <tbody>\n",
       "    <tr>\n",
       "      <th>0</th>\n",
       "      <td>14.23</td>\n",
       "      <td>1.71</td>\n",
       "      <td>2.43</td>\n",
       "      <td>15.6</td>\n",
       "      <td>127.0</td>\n",
       "      <td>2.80</td>\n",
       "      <td>3.06</td>\n",
       "      <td>0.28</td>\n",
       "      <td>2.29</td>\n",
       "      <td>5.64</td>\n",
       "      <td>1.04</td>\n",
       "      <td>3.92</td>\n",
       "      <td>1065.0</td>\n",
       "      <td>0.0</td>\n",
       "    </tr>\n",
       "    <tr>\n",
       "      <th>1</th>\n",
       "      <td>13.20</td>\n",
       "      <td>1.78</td>\n",
       "      <td>2.14</td>\n",
       "      <td>11.2</td>\n",
       "      <td>100.0</td>\n",
       "      <td>2.65</td>\n",
       "      <td>2.76</td>\n",
       "      <td>0.26</td>\n",
       "      <td>1.28</td>\n",
       "      <td>4.38</td>\n",
       "      <td>1.05</td>\n",
       "      <td>3.40</td>\n",
       "      <td>1050.0</td>\n",
       "      <td>0.0</td>\n",
       "    </tr>\n",
       "    <tr>\n",
       "      <th>2</th>\n",
       "      <td>13.16</td>\n",
       "      <td>2.36</td>\n",
       "      <td>2.67</td>\n",
       "      <td>18.6</td>\n",
       "      <td>101.0</td>\n",
       "      <td>2.80</td>\n",
       "      <td>3.24</td>\n",
       "      <td>0.30</td>\n",
       "      <td>2.81</td>\n",
       "      <td>5.68</td>\n",
       "      <td>1.03</td>\n",
       "      <td>3.17</td>\n",
       "      <td>1185.0</td>\n",
       "      <td>0.0</td>\n",
       "    </tr>\n",
       "    <tr>\n",
       "      <th>3</th>\n",
       "      <td>14.37</td>\n",
       "      <td>1.95</td>\n",
       "      <td>2.50</td>\n",
       "      <td>16.8</td>\n",
       "      <td>113.0</td>\n",
       "      <td>3.85</td>\n",
       "      <td>3.49</td>\n",
       "      <td>0.24</td>\n",
       "      <td>2.18</td>\n",
       "      <td>7.80</td>\n",
       "      <td>0.86</td>\n",
       "      <td>3.45</td>\n",
       "      <td>1480.0</td>\n",
       "      <td>0.0</td>\n",
       "    </tr>\n",
       "    <tr>\n",
       "      <th>4</th>\n",
       "      <td>13.24</td>\n",
       "      <td>2.59</td>\n",
       "      <td>2.87</td>\n",
       "      <td>21.0</td>\n",
       "      <td>118.0</td>\n",
       "      <td>2.80</td>\n",
       "      <td>2.69</td>\n",
       "      <td>0.39</td>\n",
       "      <td>1.82</td>\n",
       "      <td>4.32</td>\n",
       "      <td>1.04</td>\n",
       "      <td>2.93</td>\n",
       "      <td>735.0</td>\n",
       "      <td>0.0</td>\n",
       "    </tr>\n",
       "    <tr>\n",
       "      <th>...</th>\n",
       "      <td>...</td>\n",
       "      <td>...</td>\n",
       "      <td>...</td>\n",
       "      <td>...</td>\n",
       "      <td>...</td>\n",
       "      <td>...</td>\n",
       "      <td>...</td>\n",
       "      <td>...</td>\n",
       "      <td>...</td>\n",
       "      <td>...</td>\n",
       "      <td>...</td>\n",
       "      <td>...</td>\n",
       "      <td>...</td>\n",
       "      <td>...</td>\n",
       "    </tr>\n",
       "    <tr>\n",
       "      <th>173</th>\n",
       "      <td>13.71</td>\n",
       "      <td>5.65</td>\n",
       "      <td>2.45</td>\n",
       "      <td>20.5</td>\n",
       "      <td>95.0</td>\n",
       "      <td>1.68</td>\n",
       "      <td>0.61</td>\n",
       "      <td>0.52</td>\n",
       "      <td>1.06</td>\n",
       "      <td>7.70</td>\n",
       "      <td>0.64</td>\n",
       "      <td>1.74</td>\n",
       "      <td>740.0</td>\n",
       "      <td>2.0</td>\n",
       "    </tr>\n",
       "    <tr>\n",
       "      <th>174</th>\n",
       "      <td>13.40</td>\n",
       "      <td>3.91</td>\n",
       "      <td>2.48</td>\n",
       "      <td>23.0</td>\n",
       "      <td>102.0</td>\n",
       "      <td>1.80</td>\n",
       "      <td>0.75</td>\n",
       "      <td>0.43</td>\n",
       "      <td>1.41</td>\n",
       "      <td>7.30</td>\n",
       "      <td>0.70</td>\n",
       "      <td>1.56</td>\n",
       "      <td>750.0</td>\n",
       "      <td>2.0</td>\n",
       "    </tr>\n",
       "    <tr>\n",
       "      <th>175</th>\n",
       "      <td>13.27</td>\n",
       "      <td>4.28</td>\n",
       "      <td>2.26</td>\n",
       "      <td>20.0</td>\n",
       "      <td>120.0</td>\n",
       "      <td>1.59</td>\n",
       "      <td>0.69</td>\n",
       "      <td>0.43</td>\n",
       "      <td>1.35</td>\n",
       "      <td>10.20</td>\n",
       "      <td>0.59</td>\n",
       "      <td>1.56</td>\n",
       "      <td>835.0</td>\n",
       "      <td>2.0</td>\n",
       "    </tr>\n",
       "    <tr>\n",
       "      <th>176</th>\n",
       "      <td>13.17</td>\n",
       "      <td>2.59</td>\n",
       "      <td>2.37</td>\n",
       "      <td>20.0</td>\n",
       "      <td>120.0</td>\n",
       "      <td>1.65</td>\n",
       "      <td>0.68</td>\n",
       "      <td>0.53</td>\n",
       "      <td>1.46</td>\n",
       "      <td>9.30</td>\n",
       "      <td>0.60</td>\n",
       "      <td>1.62</td>\n",
       "      <td>840.0</td>\n",
       "      <td>2.0</td>\n",
       "    </tr>\n",
       "    <tr>\n",
       "      <th>177</th>\n",
       "      <td>14.13</td>\n",
       "      <td>4.10</td>\n",
       "      <td>2.74</td>\n",
       "      <td>24.5</td>\n",
       "      <td>96.0</td>\n",
       "      <td>2.05</td>\n",
       "      <td>0.76</td>\n",
       "      <td>0.56</td>\n",
       "      <td>1.35</td>\n",
       "      <td>9.20</td>\n",
       "      <td>0.61</td>\n",
       "      <td>1.60</td>\n",
       "      <td>560.0</td>\n",
       "      <td>2.0</td>\n",
       "    </tr>\n",
       "  </tbody>\n",
       "</table>\n",
       "<p>178 rows × 14 columns</p>\n",
       "</div>"
      ],
      "text/plain": [
       "     alcohol  malic_acid   ash  alcalinity_of_ash  magnesium  total_phenols  \\\n",
       "0      14.23        1.71  2.43               15.6      127.0           2.80   \n",
       "1      13.20        1.78  2.14               11.2      100.0           2.65   \n",
       "2      13.16        2.36  2.67               18.6      101.0           2.80   \n",
       "3      14.37        1.95  2.50               16.8      113.0           3.85   \n",
       "4      13.24        2.59  2.87               21.0      118.0           2.80   \n",
       "..       ...         ...   ...                ...        ...            ...   \n",
       "173    13.71        5.65  2.45               20.5       95.0           1.68   \n",
       "174    13.40        3.91  2.48               23.0      102.0           1.80   \n",
       "175    13.27        4.28  2.26               20.0      120.0           1.59   \n",
       "176    13.17        2.59  2.37               20.0      120.0           1.65   \n",
       "177    14.13        4.10  2.74               24.5       96.0           2.05   \n",
       "\n",
       "     flavanoids  nonflavanoid_phenols  proanthocyanins  color_intensity   hue  \\\n",
       "0          3.06                  0.28             2.29             5.64  1.04   \n",
       "1          2.76                  0.26             1.28             4.38  1.05   \n",
       "2          3.24                  0.30             2.81             5.68  1.03   \n",
       "3          3.49                  0.24             2.18             7.80  0.86   \n",
       "4          2.69                  0.39             1.82             4.32  1.04   \n",
       "..          ...                   ...              ...              ...   ...   \n",
       "173        0.61                  0.52             1.06             7.70  0.64   \n",
       "174        0.75                  0.43             1.41             7.30  0.70   \n",
       "175        0.69                  0.43             1.35            10.20  0.59   \n",
       "176        0.68                  0.53             1.46             9.30  0.60   \n",
       "177        0.76                  0.56             1.35             9.20  0.61   \n",
       "\n",
       "     od280/od315_of_diluted_wines  proline  target  \n",
       "0                            3.92   1065.0     0.0  \n",
       "1                            3.40   1050.0     0.0  \n",
       "2                            3.17   1185.0     0.0  \n",
       "3                            3.45   1480.0     0.0  \n",
       "4                            2.93    735.0     0.0  \n",
       "..                            ...      ...     ...  \n",
       "173                          1.74    740.0     2.0  \n",
       "174                          1.56    750.0     2.0  \n",
       "175                          1.56    835.0     2.0  \n",
       "176                          1.62    840.0     2.0  \n",
       "177                          1.60    560.0     2.0  \n",
       "\n",
       "[178 rows x 14 columns]"
      ]
     },
     "execution_count": 19,
     "metadata": {},
     "output_type": "execute_result"
    }
   ],
   "source": [
    "hc=AgglomerativeClustering(n_clusters=3, affinity='euclidean',linkage='ward') # here we train the model with best K value i.e 2\n",
    "y_hc=hc.fit_predict(Data)\n",
    "Data"
   ]
  },
  {
   "cell_type": "code",
   "execution_count": 20,
   "id": "3f079cb4",
   "metadata": {},
   "outputs": [
    {
     "data": {
      "image/png": "[encoded data removed]",
      "text/plain": [
       "<Figure size 600x400 with 1 Axes>"
      ]
     },
     "metadata": {},
     "output_type": "display_data"
    }
   ],
   "source": [
    "Data=Data.to_numpy()\n",
    "plt.figure(figsize=(6,4))\n",
    "plt.scatter(Data[y_hc==0,0],Data[y_hc==0,1],color='red',label='Clust-1')\n",
    "plt.scatter(Data[y_hc==1,0],Data[y_hc==1,1],color='blue',label='Clust-2')\n",
    "plt.scatter(Data[y_hc==2,0],Data[y_hc==2,1],color='green',label='Clust-3')\n",
    "plt.legend()\n",
    "plt.xlabel('Feature-1')\n",
    "plt.ylabel('Feature-2')\n",
    "plt.show()"
   ]
  },
  {
   "cell_type": "code",
   "execution_count": 40,
   "id": "65a08d20",
   "metadata": {},
   "outputs": [
    {
     "data": {
      "text/plain": [
       "0.5644713399355327"
      ]
     },
     "execution_count": 40,
     "metadata": {},
     "output_type": "execute_result"
    }
   ],
   "source": [
    "hc.fit(Data)\n",
    "Data['hc.labels_']=hc.labels_\n",
    "metrics.silhouette_score(Data,Data['hc.labels_'])"
   ]
  },
  {
   "cell_type": "markdown",
   "id": "d90af060",
   "metadata": {},
   "source": [
    "# Agglomerative Clustering with Feature Reduction"
   ]
  },
  {
   "cell_type": "code",
   "execution_count": 67,
   "id": "23256e0e",
   "metadata": {},
   "outputs": [
    {
     "name": "stdout",
     "output_type": "stream",
     "text": [
      "2 0.3437185266377889\n",
      "3 0.3631387389789705\n",
      "4 0.37944206099472394\n",
      "5 0.31921286091360324\n",
      "6 0.2724544384775447\n",
      "7 0.2603807815142549\n",
      "8 0.2674599666022487\n",
      "9 0.18863015701015348\n",
      "10 0.19054320086691556\n",
      "11 0.19363494347970187\n",
      "12 0.18893083517317785\n",
      "13 0.1897354057079032\n",
      "14 0.19718270892253614\n"
     ]
    }
   ],
   "source": [
    "from sklearn.cluster import AgglomerativeClustering\n",
    "from sklearn.metrics import silhouette_score\n",
    "for k in range(2,15):\n",
    "    hc=AgglomerativeClustering(n_clusters=k, affinity='euclidean', linkage='ward')\n",
    "    y_hc=hc.fit_predict(df1)\n",
    "    print(k,silhouette_score(df1,y_hc))"
   ]
  },
  {
   "cell_type": "markdown",
   "id": "d7eefc1e",
   "metadata": {},
   "source": [
    "Here we are getting the best K value as 4=0.379"
   ]
  },
  {
   "cell_type": "code",
   "execution_count": 68,
   "id": "6d703d8b",
   "metadata": {},
   "outputs": [
    {
     "data": {
      "text/html": [
       "<div>\n",
       "<style scoped>\n",
       "    .dataframe tbody tr th:only-of-type {\n",
       "        vertical-align: middle;\n",
       "    }\n",
       "\n",
       "    .dataframe tbody tr th {\n",
       "        vertical-align: top;\n",
       "    }\n",
       "\n",
       "    .dataframe thead th {\n",
       "        text-align: right;\n",
       "    }\n",
       "</style>\n",
       "<table border=\"1\" class=\"dataframe\">\n",
       "  <thead>\n",
       "    <tr style=\"text-align: right;\">\n",
       "      <th></th>\n",
       "      <th>0</th>\n",
       "      <th>1</th>\n",
       "      <th>2</th>\n",
       "      <th>3</th>\n",
       "      <th>4</th>\n",
       "      <th>5</th>\n",
       "    </tr>\n",
       "  </thead>\n",
       "  <tbody>\n",
       "    <tr>\n",
       "      <th>0</th>\n",
       "      <td>-3.522934</td>\n",
       "      <td>-1.453098</td>\n",
       "      <td>-0.164795</td>\n",
       "      <td>-0.013273</td>\n",
       "      <td>0.737345</td>\n",
       "      <td>-0.300716</td>\n",
       "    </tr>\n",
       "    <tr>\n",
       "      <th>1</th>\n",
       "      <td>-2.528858</td>\n",
       "      <td>0.330019</td>\n",
       "      <td>-2.026707</td>\n",
       "      <td>-0.417144</td>\n",
       "      <td>-0.283214</td>\n",
       "      <td>-0.884309</td>\n",
       "    </tr>\n",
       "    <tr>\n",
       "      <th>2</th>\n",
       "      <td>-2.785029</td>\n",
       "      <td>-1.036936</td>\n",
       "      <td>0.983238</td>\n",
       "      <td>0.664232</td>\n",
       "      <td>-0.387565</td>\n",
       "      <td>0.468842</td>\n",
       "    </tr>\n",
       "    <tr>\n",
       "      <th>3</th>\n",
       "      <td>-3.922588</td>\n",
       "      <td>-2.768210</td>\n",
       "      <td>-0.174968</td>\n",
       "      <td>0.565088</td>\n",
       "      <td>-0.324360</td>\n",
       "      <td>0.262616</td>\n",
       "    </tr>\n",
       "    <tr>\n",
       "      <th>4</th>\n",
       "      <td>-1.407511</td>\n",
       "      <td>-0.867773</td>\n",
       "      <td>2.025829</td>\n",
       "      <td>-0.440906</td>\n",
       "      <td>0.227949</td>\n",
       "      <td>-0.593762</td>\n",
       "    </tr>\n",
       "    <tr>\n",
       "      <th>...</th>\n",
       "      <td>...</td>\n",
       "      <td>...</td>\n",
       "      <td>...</td>\n",
       "      <td>...</td>\n",
       "      <td>...</td>\n",
       "      <td>...</td>\n",
       "    </tr>\n",
       "    <tr>\n",
       "      <th>173</th>\n",
       "      <td>3.627996</td>\n",
       "      <td>-2.206617</td>\n",
       "      <td>-0.343668</td>\n",
       "      <td>0.751705</td>\n",
       "      <td>-1.004109</td>\n",
       "      <td>-1.143155</td>\n",
       "    </tr>\n",
       "    <tr>\n",
       "      <th>174</th>\n",
       "      <td>2.942729</td>\n",
       "      <td>-1.752263</td>\n",
       "      <td>0.207480</td>\n",
       "      <td>0.399381</td>\n",
       "      <td>0.154223</td>\n",
       "      <td>-0.062465</td>\n",
       "    </tr>\n",
       "    <tr>\n",
       "      <th>175</th>\n",
       "      <td>3.027272</td>\n",
       "      <td>-2.756040</td>\n",
       "      <td>-0.940803</td>\n",
       "      <td>0.607758</td>\n",
       "      <td>1.128136</td>\n",
       "      <td>0.005290</td>\n",
       "    </tr>\n",
       "    <tr>\n",
       "      <th>176</th>\n",
       "      <td>2.755222</td>\n",
       "      <td>-2.293784</td>\n",
       "      <td>-0.550474</td>\n",
       "      <td>-0.391570</td>\n",
       "      <td>1.067083</td>\n",
       "      <td>1.012562</td>\n",
       "    </tr>\n",
       "    <tr>\n",
       "      <th>177</th>\n",
       "      <td>3.496336</td>\n",
       "      <td>-2.760608</td>\n",
       "      <td>1.013151</td>\n",
       "      <td>0.349630</td>\n",
       "      <td>-1.005136</td>\n",
       "      <td>0.377223</td>\n",
       "    </tr>\n",
       "  </tbody>\n",
       "</table>\n",
       "<p>178 rows × 6 columns</p>\n",
       "</div>"
      ],
      "text/plain": [
       "            0         1         2         3         4         5\n",
       "0   -3.522934 -1.453098 -0.164795 -0.013273  0.737345 -0.300716\n",
       "1   -2.528858  0.330019 -2.026707 -0.417144 -0.283214 -0.884309\n",
       "2   -2.785029 -1.036936  0.983238  0.664232 -0.387565  0.468842\n",
       "3   -3.922588 -2.768210 -0.174968  0.565088 -0.324360  0.262616\n",
       "4   -1.407511 -0.867773  2.025829 -0.440906  0.227949 -0.593762\n",
       "..        ...       ...       ...       ...       ...       ...\n",
       "173  3.627996 -2.206617 -0.343668  0.751705 -1.004109 -1.143155\n",
       "174  2.942729 -1.752263  0.207480  0.399381  0.154223 -0.062465\n",
       "175  3.027272 -2.756040 -0.940803  0.607758  1.128136  0.005290\n",
       "176  2.755222 -2.293784 -0.550474 -0.391570  1.067083  1.012562\n",
       "177  3.496336 -2.760608  1.013151  0.349630 -1.005136  0.377223\n",
       "\n",
       "[178 rows x 6 columns]"
      ]
     },
     "execution_count": 68,
     "metadata": {},
     "output_type": "execute_result"
    }
   ],
   "source": [
    "hc=AgglomerativeClustering(n_clusters=4, affinity='euclidean',linkage='ward') # here we train the model with best K value i.e 4\n",
    "y_hc=hc.fit_predict(df1)\n",
    "df1"
   ]
  },
  {
   "cell_type": "code",
   "execution_count": 69,
   "id": "85061aac",
   "metadata": {},
   "outputs": [
    {
     "data": {
      "image/png": "[encoded data removed]",
      "text/plain": [
       "<Figure size 600x400 with 1 Axes>"
      ]
     },
     "metadata": {},
     "output_type": "display_data"
    }
   ],
   "source": [
    "df1=df1.to_numpy()\n",
    "plt.figure(figsize=(6,4))\n",
    "plt.scatter(df1[y_hc==0,0],df1[y_hc==0,1],color='red',label='Clust-1')\n",
    "plt.scatter(df1[y_hc==1,0],df1[y_hc==1,1],color='blue',label='Clust-2')\n",
    "plt.scatter(df1[y_hc==2,0],df1[y_hc==2,1],color='green',label='Clust-3')\n",
    "plt.scatter(df1[y_hc==3,0],df1[y_hc==3,1],color='black',label='Clust-4')\n",
    "plt.legend()\n",
    "plt.xlabel('Feature-1')\n",
    "plt.ylabel('Feature-2')\n",
    "plt.show()"
   ]
  },
  {
   "cell_type": "code",
   "execution_count": 81,
   "id": "4b3a2bd4",
   "metadata": {},
   "outputs": [
    {
     "data": {
      "text/plain": [
       "0.4261125416003461"
      ]
     },
     "execution_count": 81,
     "metadata": {},
     "output_type": "execute_result"
    }
   ],
   "source": [
    "hc.fit(df1)\n",
    "df1['hc.labels_']=hc.labels_\n",
    "metrics.silhouette_score(df1,df1['hc.labels_'])"
   ]
  },
  {
   "cell_type": "markdown",
   "id": "3c25b1c6",
   "metadata": {},
   "source": [
    "Interpretation: Here we can see in the Agglomeritive silhouette_score without feature reduction is 0.56 and with feature reduction is 0.42"
   ]
  },
  {
   "cell_type": "markdown",
   "id": "f67cdab0",
   "metadata": {},
   "source": [
    "# Task 4: Apply the KMeans algorithm"
   ]
  },
  {
   "cell_type": "markdown",
   "id": "c6193449",
   "metadata": {},
   "source": [
    "# KMean Clustering without Feature Reduction"
   ]
  },
  {
   "cell_type": "code",
   "execution_count": 59,
   "id": "db407791",
   "metadata": {},
   "outputs": [
    {
     "data": {
      "image/png": "[encoded data removed]",
      "text/plain": [
       "<Figure size 640x480 with 1 Axes>"
      ]
     },
     "metadata": {},
     "output_type": "display_data"
    }
   ],
   "source": [
    "from sklearn.cluster import KMeans\n",
    "km_model=KMeans(n_clusters=3)\n",
    "km_model.fit(Data[['alcohol','malic_acid']])\n",
    "Data['km_model.labels_']=km_model.labels_\n",
    "plt.scatter(Data['alcohol'],Data['malic_acid'],s=20,c=Data['km_model.labels_'])\n",
    "plt.title('KMean Data')\n",
    "plt.xlabel('Feature-1')\n",
    "plt.ylabel('Feature-2')\n",
    "plt.show()"
   ]
  },
  {
   "cell_type": "code",
   "execution_count": 60,
   "id": "5036f141",
   "metadata": {},
   "outputs": [
    {
     "data": {
      "text/plain": [
       "0.07949697035427723"
      ]
     },
     "execution_count": 60,
     "metadata": {},
     "output_type": "execute_result"
    }
   ],
   "source": [
    "metrics.silhouette_score(Data,Data['km_model.labels_'])"
   ]
  },
  {
   "cell_type": "markdown",
   "id": "be7edf9b",
   "metadata": {},
   "source": [
    "# KMean Clustering with Feature Reduction"
   ]
  },
  {
   "cell_type": "code",
   "execution_count": 73,
   "id": "662791ba",
   "metadata": {},
   "outputs": [
    {
     "data": {
      "image/png": "[encoded data removed]",
      "text/plain": [
       "<Figure size 640x480 with 1 Axes>"
      ]
     },
     "metadata": {},
     "output_type": "display_data"
    }
   ],
   "source": [
    "from sklearn.cluster import KMeans\n",
    "km_model2=KMeans(n_clusters=4)\n",
    "km_model2.fit(df1[[0,1]])\n",
    "df1['km_model2.labels_']=km_model2.labels_\n",
    "plt.scatter(df1[0],df1[1],s=20,c=df1['km_model2.labels_'])\n",
    "plt.title('KMean Data')\n",
    "plt.xlabel('Feature-1')\n",
    "plt.ylabel('Feature-2')\n",
    "plt.show()"
   ]
  },
  {
   "cell_type": "code",
   "execution_count": 75,
   "id": "4c29e947",
   "metadata": {},
   "outputs": [
    {
     "data": {
      "text/plain": [
       "0.39525083613005835"
      ]
     },
     "execution_count": 75,
     "metadata": {},
     "output_type": "execute_result"
    }
   ],
   "source": [
    "metrics.silhouette_score(df1,df1['km_model2.labels_'])"
   ]
  },
  {
   "cell_type": "markdown",
   "id": "3e70364a",
   "metadata": {},
   "source": [
    "Interpretation: Here we can see in the KMean silhouette_score without feature reduction is 0.07 and with feature reduction is 0.39"
   ]
  },
  {
   "cell_type": "markdown",
   "id": "61129d21",
   "metadata": {},
   "source": [
    "# Task 5: Apply the DBSCAN algorithm"
   ]
  },
  {
   "cell_type": "markdown",
   "id": "448eb2e5",
   "metadata": {},
   "source": [
    "# DBSCAN Clusturing without Feature Reduction"
   ]
  },
  {
   "cell_type": "code",
   "execution_count": 86,
   "id": "46e80163",
   "metadata": {},
   "outputs": [
    {
     "data": {
      "image/png": "[encoded data removed]",
      "text/plain": [
       "<Figure size 640x480 with 1 Axes>"
      ]
     },
     "metadata": {},
     "output_type": "display_data"
    }
   ],
   "source": [
    "from sklearn.cluster import DBSCAN\n",
    "dbscan=DBSCAN()  # Creating the Object (DBSCAN is hyper-parameter here we are using the default setting of DBSCAN)\n",
    "dbscan.fit(Data[['alcohol','malic_acid']])\n",
    "Data['dbscan.labels_']=dbscan.labels_\n",
    "plt.scatter(Data['alcohol'], Data['malic_acid'],s=20,c=Data['dbscan.labels_'])\n",
    "plt.title('DBSCAN Data')\n",
    "plt.xlabel('Feature-1')\n",
    "plt.ylabel('Feature-2')\n",
    "plt.show()"
   ]
  },
  {
   "cell_type": "code",
   "execution_count": 87,
   "id": "5bb02495",
   "metadata": {},
   "outputs": [
    {
     "data": {
      "text/plain": [
       "-0.2319639859245194"
      ]
     },
     "execution_count": 87,
     "metadata": {},
     "output_type": "execute_result"
    }
   ],
   "source": [
    "metrics.silhouette_score(Data,Data['dbscan.labels_'])"
   ]
  },
  {
   "cell_type": "markdown",
   "id": "c2db34d4",
   "metadata": {},
   "source": [
    "# DBSCAN Clusturing with Feature Reduction"
   ]
  },
  {
   "cell_type": "code",
   "execution_count": 88,
   "id": "3fb69a37",
   "metadata": {},
   "outputs": [
    {
     "data": {
      "image/png": "[encoded data removed]",
      "text/plain": [
       "<Figure size 640x480 with 1 Axes>"
      ]
     },
     "metadata": {},
     "output_type": "display_data"
    }
   ],
   "source": [
    "dbscan2=DBSCAN()   # DBSCAN is hyper-parameter here we are using the default setting of DBSCAN\n",
    "dbscan2.fit(df1[[0,1]])\n",
    "df1['dbscan2.labels_']=dbscan2.labels_\n",
    "plt.scatter(df1[0],df1[1],s=20,c=df1['dbscan2.labels_'])\n",
    "plt.title('DBSCAN Data')\n",
    "plt.xlabel('Feature-1')\n",
    "plt.ylabel('Feature-2')\n",
    "plt.show()"
   ]
  },
  {
   "cell_type": "code",
   "execution_count": 89,
   "id": "e62464fc",
   "metadata": {},
   "outputs": [
    {
     "data": {
      "text/plain": [
       "0.280135425596903"
      ]
     },
     "execution_count": 89,
     "metadata": {},
     "output_type": "execute_result"
    }
   ],
   "source": [
    "metrics.silhouette_score(df1,df1['dbscan2.labels_'])"
   ]
  },
  {
   "cell_type": "markdown",
   "id": "e09bf86b",
   "metadata": {},
   "source": [
    "Interpretation: Here we can see in the DBSCAN silhouette_score without feature reduction is -0.23 and with feature reduction is 0.28"
   ]
  },
  {
   "cell_type": "markdown",
   "id": "83261162",
   "metadata": {},
   "source": [
    "# Conclusion: We are getting best score in Agglomeritive Algorithm."
   ]
  }
 ],
 "metadata": {
  "kernelspec": {
   "display_name": "Python 3 (ipykernel)",
   "language": "python",
   "name": "python3"
  },
  "language_info": {
   "codemirror_mode": {
    "name": "ipython",
    "version": 3
   },
   "file_extension": ".py",
   "mimetype": "text/x-python",
   "name": "python",
   "nbconvert_exporter": "python",
   "pygments_lexer": "ipython3",
   "version": "3.10.9"
  }
 },
 "nbformat": 4,
 "nbformat_minor": 5
}
