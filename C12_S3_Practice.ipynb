{
  "nbformat": 4,
  "nbformat_minor": 0,
  "metadata": {
    "colab": {
      "provenance": []
    },
    "kernelspec": {
      "name": "python3",
      "display_name": "Python 3"
    },
    "language_info": {
      "name": "python"
    }
  },
  "cells": [
    {
      "cell_type": "markdown",
      "source": [
        "## **Text Preprocessing Using spaCy**\n",
        "\n",
        "Practice"
      ],
      "metadata": {
        "id": "NIEnjvsVTiv6"
      }
    },
    {
      "cell_type": "markdown",
      "source": [
        "Task 1 :\n",
        "\n",
        "---\n",
        "\n",
        "Using spacy, print the first fifteen stop words provided by the library. Find the total number of stop words available in spacy."
      ],
      "metadata": {
        "id": "cvSYeGGDMDll"
      }
    },
    {
      "cell_type": "code",
      "execution_count": 1,
      "metadata": {
        "colab": {
          "base_uri": "https://localhost:8080/"
        },
        "id": "MWQX0tZoJDca",
        "outputId": "bd9edacb-b82a-4d92-ee00-b215ebd61a75"
      },
      "outputs": [
        {
          "output_type": "stream",
          "name": "stdout",
          "text": [
            "Number of stop words : 326\n",
            "First ten stop words : ['fifteen', 'used', 'is', 'per', \"'ll\", 'anything', 'had', '’re', 'whereupon', 'either', 'yet', '’d', 'anyhow', 'least', 'whatever']\n"
          ]
        }
      ],
      "source": [
        "import spacy\n",
        "from spacy.lang.en import English\n",
        "\n",
        "stop_words = spacy.lang.en.stop_words.STOP_WORDS\n",
        "print(\"Number of stop words : %d\" %len(stop_words))\n",
        "print(\"First ten stop words : %s\" %list(stop_words)[0:15])"
      ]
    },
    {
      "cell_type": "markdown",
      "source": [
        "Task 2 :\n",
        "\n",
        "---\n",
        "\n",
        "\n",
        "\n",
        "Apply stemming and lemmatization on the tokens given below\n",
        "\n",
        "Which token gives better output, and why?\n",
        "\n",
        "Tokens = ['cries', 'this', 'lied', 'computing', 'organizing'. 'matches']\n",
        "\n",
        "For stemming, import the NLTK library. For lem matization, spacy can be used. Compare the results of both methods.\n"
      ],
      "metadata": {
        "id": "j-K4o4QtOBQd"
      }
    },
    {
      "cell_type": "code",
      "source": [
        "# Stemming\n",
        "\n",
        "import nltk\n",
        "from nltk.stem.snowball import SnowballStemmer\n",
        "stemmer = SnowballStemmer(language=\"english\")\n",
        "\n",
        "tokens = ['cries', 'this', 'lied', 'computing', 'organizing', 'matches']\n",
        "for token in tokens:\n",
        "  print(token + \"->\" + stemmer.stem(token))"
      ],
      "metadata": {
        "colab": {
          "base_uri": "https://localhost:8080/"
        },
        "id": "kcMtSm4AN8Le",
        "outputId": "a7fbee06-4098-41a7-d6bb-7ac0b7708794"
      },
      "execution_count": 2,
      "outputs": [
        {
          "output_type": "stream",
          "name": "stdout",
          "text": [
            "cries->cri\n",
            "this->this\n",
            "lied->lie\n",
            "computing->comput\n",
            "organizing->organ\n",
            "matches->match\n"
          ]
        }
      ]
    },
    {
      "cell_type": "code",
      "source": [
        "# Lemmatization\n",
        "\n",
        "nlp = spacy.load(\"en_core_web_sm\")\n",
        "doc = nlp('cries this lied computing organizing matches')\n",
        "for word in doc:\n",
        "  print(word.text , \"->\", word.lemma_)"
      ],
      "metadata": {
        "colab": {
          "base_uri": "https://localhost:8080/"
        },
        "id": "tOMg-942Pa07",
        "outputId": "adc15ace-9b43-4468-bff4-4fd30b50b2e1"
      },
      "execution_count": 3,
      "outputs": [
        {
          "output_type": "stream",
          "name": "stdout",
          "text": [
            "cries -> cry\n",
            "this -> this\n",
            "lied -> lie\n",
            "computing -> computing\n",
            "organizing -> organize\n",
            "matches -> match\n"
          ]
        }
      ]
    },
    {
      "cell_type": "markdown",
      "source": [
        "Interpretation :\n",
        "\n",
        "Stemming removes last few characters from a word, often leading to incorrect meanings and spelling for ex in 'cries', it only removed last 'es' and gave output as 'cri' which is meaningless. Lemmatization considers the context and converts the word to its meaningful base form, which is called Lemma."
      ],
      "metadata": {
        "id": "Rev8q-dbcLik"
      }
    },
    {
      "cell_type": "markdown",
      "source": [
        "Task 3 :\n",
        "\n",
        "---\n",
        "\n",
        "\n",
        "Write the output ater the removal of stop words for the bollowing text data.\n",
        "\n",
        "a) Input text file scifiscripts_intro.txt\n",
        "\n",
        "b) Five sentences of your choice using spaCy\n",
        "\n",
        "Print the result after the removal of stop words.\n",
        "\n",
        "For the second part, take any five sentences as input."
      ],
      "metadata": {
        "id": "Xs6XOPzfRI_G"
      }
    },
    {
      "cell_type": "code",
      "source": [
        "from google.colab import files\n",
        "upload = files.upload()"
      ],
      "metadata": {
        "colab": {
          "base_uri": "https://localhost:8080/",
          "height": 73
        },
        "id": "RU-nnKpLRIV4",
        "outputId": "e5173e28-20b2-4306-b366-7674ceeb1297"
      },
      "execution_count": 4,
      "outputs": [
        {
          "output_type": "display_data",
          "data": {
            "text/plain": [
              "<IPython.core.display.HTML object>"
            ],
            "text/html": [
              "\n",
              "     <input type=\"file\" id=\"files-85e210d7-915f-4b0b-830c-26abf0387c13\" name=\"files[]\" multiple disabled\n",
              "        style=\"border:none\" />\n",
              "     <output id=\"result-85e210d7-915f-4b0b-830c-26abf0387c13\">\n",
              "      Upload widget is only available when the cell has been executed in the\n",
              "      current browser session. Please rerun this cell to enable.\n",
              "      </output>\n",
              "      <script>// Copyright 2017 Google LLC\n",
              "//\n",
              "// Licensed under the Apache License, Version 2.0 (the \"License\");\n",
              "// you may not use this file except in compliance with the License.\n",
              "// You may obtain a copy of the License at\n",
              "//\n",
              "//      http://www.apache.org/licenses/LICENSE-2.0\n",
              "//\n",
              "// Unless required by applicable law or agreed to in writing, software\n",
              "// distributed under the License is distributed on an \"AS IS\" BASIS,\n",
              "// WITHOUT WARRANTIES OR CONDITIONS OF ANY KIND, either express or implied.\n",
              "// See the License for the specific language governing permissions and\n",
              "// limitations under the License.\n",
              "\n",
              "/**\n",
              " * @fileoverview Helpers for google.colab Python module.\n",
              " */\n",
              "(function(scope) {\n",
              "function span(text, styleAttributes = {}) {\n",
              "  const element = document.createElement('span');\n",
              "  element.textContent = text;\n",
              "  for (const key of Object.keys(styleAttributes)) {\n",
              "    element.style[key] = styleAttributes[key];\n",
              "  }\n",
              "  return element;\n",
              "}\n",
              "\n",
              "// Max number of bytes which will be uploaded at a time.\n",
              "const MAX_PAYLOAD_SIZE = 100 * 1024;\n",
              "\n",
              "function _uploadFiles(inputId, outputId) {\n",
              "  const steps = uploadFilesStep(inputId, outputId);\n",
              "  const outputElement = document.getElementById(outputId);\n",
              "  // Cache steps on the outputElement to make it available for the next call\n",
              "  // to uploadFilesContinue from Python.\n",
              "  outputElement.steps = steps;\n",
              "\n",
              "  return _uploadFilesContinue(outputId);\n",
              "}\n",
              "\n",
              "// This is roughly an async generator (not supported in the browser yet),\n",
              "// where there are multiple asynchronous steps and the Python side is going\n",
              "// to poll for completion of each step.\n",
              "// This uses a Promise to block the python side on completion of each step,\n",
              "// then passes the result of the previous step as the input to the next step.\n",
              "function _uploadFilesContinue(outputId) {\n",
              "  const outputElement = document.getElementById(outputId);\n",
              "  const steps = outputElement.steps;\n",
              "\n",
              "  const next = steps.next(outputElement.lastPromiseValue);\n",
              "  return Promise.resolve(next.value.promise).then((value) => {\n",
              "    // Cache the last promise value to make it available to the next\n",
              "    // step of the generator.\n",
              "    outputElement.lastPromiseValue = value;\n",
              "    return next.value.response;\n",
              "  });\n",
              "}\n",
              "\n",
              "/**\n",
              " * Generator function which is called between each async step of the upload\n",
              " * process.\n",
              " * @param {string} inputId Element ID of the input file picker element.\n",
              " * @param {string} outputId Element ID of the output display.\n",
              " * @return {!Iterable<!Object>} Iterable of next steps.\n",
              " */\n",
              "function* uploadFilesStep(inputId, outputId) {\n",
              "  const inputElement = document.getElementById(inputId);\n",
              "  inputElement.disabled = false;\n",
              "\n",
              "  const outputElement = document.getElementById(outputId);\n",
              "  outputElement.innerHTML = '';\n",
              "\n",
              "  const pickedPromise = new Promise((resolve) => {\n",
              "    inputElement.addEventListener('change', (e) => {\n",
              "      resolve(e.target.files);\n",
              "    });\n",
              "  });\n",
              "\n",
              "  const cancel = document.createElement('button');\n",
              "  inputElement.parentElement.appendChild(cancel);\n",
              "  cancel.textContent = 'Cancel upload';\n",
              "  const cancelPromise = new Promise((resolve) => {\n",
              "    cancel.onclick = () => {\n",
              "      resolve(null);\n",
              "    };\n",
              "  });\n",
              "\n",
              "  // Wait for the user to pick the files.\n",
              "  const files = yield {\n",
              "    promise: Promise.race([pickedPromise, cancelPromise]),\n",
              "    response: {\n",
              "      action: 'starting',\n",
              "    }\n",
              "  };\n",
              "\n",
              "  cancel.remove();\n",
              "\n",
              "  // Disable the input element since further picks are not allowed.\n",
              "  inputElement.disabled = true;\n",
              "\n",
              "  if (!files) {\n",
              "    return {\n",
              "      response: {\n",
              "        action: 'complete',\n",
              "      }\n",
              "    };\n",
              "  }\n",
              "\n",
              "  for (const file of files) {\n",
              "    const li = document.createElement('li');\n",
              "    li.append(span(file.name, {fontWeight: 'bold'}));\n",
              "    li.append(span(\n",
              "        `(${file.type || 'n/a'}) - ${file.size} bytes, ` +\n",
              "        `last modified: ${\n",
              "            file.lastModifiedDate ? file.lastModifiedDate.toLocaleDateString() :\n",
              "                                    'n/a'} - `));\n",
              "    const percent = span('0% done');\n",
              "    li.appendChild(percent);\n",
              "\n",
              "    outputElement.appendChild(li);\n",
              "\n",
              "    const fileDataPromise = new Promise((resolve) => {\n",
              "      const reader = new FileReader();\n",
              "      reader.onload = (e) => {\n",
              "        resolve(e.target.result);\n",
              "      };\n",
              "      reader.readAsArrayBuffer(file);\n",
              "    });\n",
              "    // Wait for the data to be ready.\n",
              "    let fileData = yield {\n",
              "      promise: fileDataPromise,\n",
              "      response: {\n",
              "        action: 'continue',\n",
              "      }\n",
              "    };\n",
              "\n",
              "    // Use a chunked sending to avoid message size limits. See b/62115660.\n",
              "    let position = 0;\n",
              "    do {\n",
              "      const length = Math.min(fileData.byteLength - position, MAX_PAYLOAD_SIZE);\n",
              "      const chunk = new Uint8Array(fileData, position, length);\n",
              "      position += length;\n",
              "\n",
              "      const base64 = btoa(String.fromCharCode.apply(null, chunk));\n",
              "      yield {\n",
              "        response: {\n",
              "          action: 'append',\n",
              "          file: file.name,\n",
              "          data: base64,\n",
              "        },\n",
              "      };\n",
              "\n",
              "      let percentDone = fileData.byteLength === 0 ?\n",
              "          100 :\n",
              "          Math.round((position / fileData.byteLength) * 100);\n",
              "      percent.textContent = `${percentDone}% done`;\n",
              "\n",
              "    } while (position < fileData.byteLength);\n",
              "  }\n",
              "\n",
              "  // All done.\n",
              "  yield {\n",
              "    response: {\n",
              "      action: 'complete',\n",
              "    }\n",
              "  };\n",
              "}\n",
              "\n",
              "scope.google = scope.google || {};\n",
              "scope.google.colab = scope.google.colab || {};\n",
              "scope.google.colab._files = {\n",
              "  _uploadFiles,\n",
              "  _uploadFilesContinue,\n",
              "};\n",
              "})(self);\n",
              "</script> "
            ]
          },
          "metadata": {}
        },
        {
          "output_type": "stream",
          "name": "stdout",
          "text": [
            "Saving DS3_C2_S3_ScifiscriptsIntro_Data_Practice.txt to DS3_C2_S3_ScifiscriptsIntro_Data_Practice.txt\n"
          ]
        }
      ]
    },
    {
      "cell_type": "code",
      "source": [
        "import pandas as pd\n",
        "\n",
        "file = open(\"DS3_C2_S3_ScifiscriptsIntro_Data_Practice.txt\")\n",
        "content = file.read()\n",
        "text = str(content)\n",
        "print(text)"
      ],
      "metadata": {
        "colab": {
          "base_uri": "https://localhost:8080/"
        },
        "id": "MdVODUZ4RzmN",
        "outputId": "b4dbd6c8-3b4f-4d0e-da1e-979fb79e4151"
      },
      "execution_count": 5,
      "outputs": [
        {
          "output_type": "stream",
          "name": "stdout",
          "text": [
            "Note from poster to Kubrick newsgroup:\n",
            "\n",
            "I found this on a bbs a while ago and I thought I'd pass it along to all \n",
            "of you Kubrick freaks out there.\n",
            "\n",
            "02/23/89\n",
            "Transcriber's note:\n",
            "\n",
            "For all you Clarke/Kubrick/2001 fans,\n",
            "\n",
            "I found the original paper copy of this screenplay a while back and felt \n",
            "compelled to transcribe it to disk and upload it to various bulletin \n",
            "boards for the enjoyment of all.\n",
            "\n",
            "The final movie deviates from this screenplay in a number of interesting \n",
            "ways. I've tried to maintain the format of the original document except \n",
            "the number of lines per page of the original. In order to reduce the \n",
            "length of this file I've used a bar of \"------\" to delimit the pages as \n",
            "there was a lot of whitespace per original screenplay page.\n",
            "\n"
          ]
        }
      ]
    },
    {
      "cell_type": "code",
      "source": [
        "doc = nlp(text)\n",
        "filtered_text = []\n",
        "\n",
        "for word in doc:\n",
        "  if word.is_stop==False:\n",
        "    filtered_text.append(word)\n",
        "\n",
        "print(filtered_text)"
      ],
      "metadata": {
        "colab": {
          "base_uri": "https://localhost:8080/"
        },
        "id": "Z7r7xUF-SKpV",
        "outputId": "467e0978-16e0-4fd8-b8ef-ce7ea5cea373"
      },
      "execution_count": 6,
      "outputs": [
        {
          "output_type": "stream",
          "name": "stdout",
          "text": [
            "[Note, poster, Kubrick, newsgroup, :, \n",
            "\n",
            ", found, bbs, ago, thought, pass, \n",
            ", Kubrick, freaks, ., \n",
            "\n",
            ", 02/23/89, \n",
            ", Transcriber, note, :, \n",
            "\n",
            ", Clarke, /, Kubrick/2001, fans, ,, \n",
            "\n",
            ", found, original, paper, copy, screenplay, felt, \n",
            ", compelled, transcribe, disk, upload, bulletin, \n",
            ", boards, enjoyment, ., \n",
            "\n",
            ", final, movie, deviates, screenplay, number, interesting, \n",
            ", ways, ., tried, maintain, format, original, document, \n",
            ", number, lines, page, original, ., order, reduce, \n",
            ", length, file, bar, \", ------, \", delimit, pages, \n",
            ", lot, whitespace, original, screenplay, page, ., \n",
            "]\n"
          ]
        }
      ]
    },
    {
      "cell_type": "code",
      "source": [
        "text = \"In the tapestry of life, each day is a new thread, weaving a story of our existence. We navigate through the highs and lows, learning lessons from the past and embracing the mysteries of tomorrow. Love and laughter punctuate our journey, reminding us of the beauty in connection. Challenges test our resilience, forging us into stronger beings. Ultimately, life's true essence lies in the moments we create and the impact we leave behind\"\n",
        "\n",
        "doc = nlp(text)\n",
        "filtered_text = []\n",
        "\n",
        "for word in doc:\n",
        "  if word.is_stop==False:\n",
        "    filtered_text.append(word)\n",
        "\n",
        "print(filtered_text)"
      ],
      "metadata": {
        "colab": {
          "base_uri": "https://localhost:8080/"
        },
        "id": "EWciurT0SxA7",
        "outputId": "23b1154d-c594-448d-e592-b024ddbfce78"
      },
      "execution_count": 7,
      "outputs": [
        {
          "output_type": "stream",
          "name": "stdout",
          "text": [
            "[tapestry, life, ,, day, new, thread, ,, weaving, story, existence, ., navigate, highs, lows, ,, learning, lessons, past, embracing, mysteries, tomorrow, ., Love, laughter, punctuate, journey, ,, reminding, beauty, connection, ., Challenges, test, resilience, ,, forging, stronger, beings, ., Ultimately, ,, life, true, essence, lies, moments, create, impact, leave]\n"
          ]
        }
      ]
    },
    {
      "cell_type": "markdown",
      "source": [
        "Task 4 :\n",
        "\n",
        "---\n",
        "\n",
        "\n",
        "For each word in the sentence given below, write the corresponding POS and tag it with a description.\n",
        "\n",
        "'Bryan visited his friend for a while and then went home at 10 p.m.\"\n",
        "\n",
        "Apply POS using spacy and check the results."
      ],
      "metadata": {
        "id": "A_gE70LMT184"
      }
    },
    {
      "cell_type": "code",
      "source": [
        "text = \"Bryan visited his friend for a while and then went home at 10 p.m.\"\n",
        "doc = nlp(text)\n",
        "\n",
        "for word in doc:\n",
        "  print(word.text, \"->\", word.pos_, \"->\", word.tag_)"
      ],
      "metadata": {
        "colab": {
          "base_uri": "https://localhost:8080/"
        },
        "id": "Evc679iPTxpo",
        "outputId": "85c51d7d-7832-4e05-fdff-383dc7f6e6cf"
      },
      "execution_count": 8,
      "outputs": [
        {
          "output_type": "stream",
          "name": "stdout",
          "text": [
            "Bryan -> PROPN -> NNP\n",
            "visited -> VERB -> VBD\n",
            "his -> PRON -> PRP$\n",
            "friend -> NOUN -> NN\n",
            "for -> ADP -> IN\n",
            "a -> DET -> DT\n",
            "while -> NOUN -> NN\n",
            "and -> CCONJ -> CC\n",
            "then -> ADV -> RB\n",
            "went -> VERB -> VBD\n",
            "home -> ADV -> RB\n",
            "at -> ADP -> IN\n",
            "10 -> NUM -> CD\n",
            "p.m. -> NOUN -> NN\n"
          ]
        }
      ]
    },
    {
      "cell_type": "markdown",
      "source": [
        "Task 5\n",
        "\n",
        "---\n",
        "\n",
        "\n",
        "\n",
        "For the Random .txt fle, which words are proper nouns and numerics?\n",
        "\n",
        "Determine which spacy feature should be used here."
      ],
      "metadata": {
        "id": "Hi4eaDsjUmvH"
      }
    },
    {
      "cell_type": "code",
      "source": [
        "upload = files.upload()"
      ],
      "metadata": {
        "colab": {
          "base_uri": "https://localhost:8080/",
          "height": 73
        },
        "id": "-Vk-R1TtUxU2",
        "outputId": "822e8a32-eead-4cb2-8d3b-5ddcfd77601f"
      },
      "execution_count": 9,
      "outputs": [
        {
          "output_type": "display_data",
          "data": {
            "text/plain": [
              "<IPython.core.display.HTML object>"
            ],
            "text/html": [
              "\n",
              "     <input type=\"file\" id=\"files-2e521e94-2db5-4450-9625-087560ac2cb4\" name=\"files[]\" multiple disabled\n",
              "        style=\"border:none\" />\n",
              "     <output id=\"result-2e521e94-2db5-4450-9625-087560ac2cb4\">\n",
              "      Upload widget is only available when the cell has been executed in the\n",
              "      current browser session. Please rerun this cell to enable.\n",
              "      </output>\n",
              "      <script>// Copyright 2017 Google LLC\n",
              "//\n",
              "// Licensed under the Apache License, Version 2.0 (the \"License\");\n",
              "// you may not use this file except in compliance with the License.\n",
              "// You may obtain a copy of the License at\n",
              "//\n",
              "//      http://www.apache.org/licenses/LICENSE-2.0\n",
              "//\n",
              "// Unless required by applicable law or agreed to in writing, software\n",
              "// distributed under the License is distributed on an \"AS IS\" BASIS,\n",
              "// WITHOUT WARRANTIES OR CONDITIONS OF ANY KIND, either express or implied.\n",
              "// See the License for the specific language governing permissions and\n",
              "// limitations under the License.\n",
              "\n",
              "/**\n",
              " * @fileoverview Helpers for google.colab Python module.\n",
              " */\n",
              "(function(scope) {\n",
              "function span(text, styleAttributes = {}) {\n",
              "  const element = document.createElement('span');\n",
              "  element.textContent = text;\n",
              "  for (const key of Object.keys(styleAttributes)) {\n",
              "    element.style[key] = styleAttributes[key];\n",
              "  }\n",
              "  return element;\n",
              "}\n",
              "\n",
              "// Max number of bytes which will be uploaded at a time.\n",
              "const MAX_PAYLOAD_SIZE = 100 * 1024;\n",
              "\n",
              "function _uploadFiles(inputId, outputId) {\n",
              "  const steps = uploadFilesStep(inputId, outputId);\n",
              "  const outputElement = document.getElementById(outputId);\n",
              "  // Cache steps on the outputElement to make it available for the next call\n",
              "  // to uploadFilesContinue from Python.\n",
              "  outputElement.steps = steps;\n",
              "\n",
              "  return _uploadFilesContinue(outputId);\n",
              "}\n",
              "\n",
              "// This is roughly an async generator (not supported in the browser yet),\n",
              "// where there are multiple asynchronous steps and the Python side is going\n",
              "// to poll for completion of each step.\n",
              "// This uses a Promise to block the python side on completion of each step,\n",
              "// then passes the result of the previous step as the input to the next step.\n",
              "function _uploadFilesContinue(outputId) {\n",
              "  const outputElement = document.getElementById(outputId);\n",
              "  const steps = outputElement.steps;\n",
              "\n",
              "  const next = steps.next(outputElement.lastPromiseValue);\n",
              "  return Promise.resolve(next.value.promise).then((value) => {\n",
              "    // Cache the last promise value to make it available to the next\n",
              "    // step of the generator.\n",
              "    outputElement.lastPromiseValue = value;\n",
              "    return next.value.response;\n",
              "  });\n",
              "}\n",
              "\n",
              "/**\n",
              " * Generator function which is called between each async step of the upload\n",
              " * process.\n",
              " * @param {string} inputId Element ID of the input file picker element.\n",
              " * @param {string} outputId Element ID of the output display.\n",
              " * @return {!Iterable<!Object>} Iterable of next steps.\n",
              " */\n",
              "function* uploadFilesStep(inputId, outputId) {\n",
              "  const inputElement = document.getElementById(inputId);\n",
              "  inputElement.disabled = false;\n",
              "\n",
              "  const outputElement = document.getElementById(outputId);\n",
              "  outputElement.innerHTML = '';\n",
              "\n",
              "  const pickedPromise = new Promise((resolve) => {\n",
              "    inputElement.addEventListener('change', (e) => {\n",
              "      resolve(e.target.files);\n",
              "    });\n",
              "  });\n",
              "\n",
              "  const cancel = document.createElement('button');\n",
              "  inputElement.parentElement.appendChild(cancel);\n",
              "  cancel.textContent = 'Cancel upload';\n",
              "  const cancelPromise = new Promise((resolve) => {\n",
              "    cancel.onclick = () => {\n",
              "      resolve(null);\n",
              "    };\n",
              "  });\n",
              "\n",
              "  // Wait for the user to pick the files.\n",
              "  const files = yield {\n",
              "    promise: Promise.race([pickedPromise, cancelPromise]),\n",
              "    response: {\n",
              "      action: 'starting',\n",
              "    }\n",
              "  };\n",
              "\n",
              "  cancel.remove();\n",
              "\n",
              "  // Disable the input element since further picks are not allowed.\n",
              "  inputElement.disabled = true;\n",
              "\n",
              "  if (!files) {\n",
              "    return {\n",
              "      response: {\n",
              "        action: 'complete',\n",
              "      }\n",
              "    };\n",
              "  }\n",
              "\n",
              "  for (const file of files) {\n",
              "    const li = document.createElement('li');\n",
              "    li.append(span(file.name, {fontWeight: 'bold'}));\n",
              "    li.append(span(\n",
              "        `(${file.type || 'n/a'}) - ${file.size} bytes, ` +\n",
              "        `last modified: ${\n",
              "            file.lastModifiedDate ? file.lastModifiedDate.toLocaleDateString() :\n",
              "                                    'n/a'} - `));\n",
              "    const percent = span('0% done');\n",
              "    li.appendChild(percent);\n",
              "\n",
              "    outputElement.appendChild(li);\n",
              "\n",
              "    const fileDataPromise = new Promise((resolve) => {\n",
              "      const reader = new FileReader();\n",
              "      reader.onload = (e) => {\n",
              "        resolve(e.target.result);\n",
              "      };\n",
              "      reader.readAsArrayBuffer(file);\n",
              "    });\n",
              "    // Wait for the data to be ready.\n",
              "    let fileData = yield {\n",
              "      promise: fileDataPromise,\n",
              "      response: {\n",
              "        action: 'continue',\n",
              "      }\n",
              "    };\n",
              "\n",
              "    // Use a chunked sending to avoid message size limits. See b/62115660.\n",
              "    let position = 0;\n",
              "    do {\n",
              "      const length = Math.min(fileData.byteLength - position, MAX_PAYLOAD_SIZE);\n",
              "      const chunk = new Uint8Array(fileData, position, length);\n",
              "      position += length;\n",
              "\n",
              "      const base64 = btoa(String.fromCharCode.apply(null, chunk));\n",
              "      yield {\n",
              "        response: {\n",
              "          action: 'append',\n",
              "          file: file.name,\n",
              "          data: base64,\n",
              "        },\n",
              "      };\n",
              "\n",
              "      let percentDone = fileData.byteLength === 0 ?\n",
              "          100 :\n",
              "          Math.round((position / fileData.byteLength) * 100);\n",
              "      percent.textContent = `${percentDone}% done`;\n",
              "\n",
              "    } while (position < fileData.byteLength);\n",
              "  }\n",
              "\n",
              "  // All done.\n",
              "  yield {\n",
              "    response: {\n",
              "      action: 'complete',\n",
              "    }\n",
              "  };\n",
              "}\n",
              "\n",
              "scope.google = scope.google || {};\n",
              "scope.google.colab = scope.google.colab || {};\n",
              "scope.google.colab._files = {\n",
              "  _uploadFiles,\n",
              "  _uploadFilesContinue,\n",
              "};\n",
              "})(self);\n",
              "</script> "
            ]
          },
          "metadata": {}
        },
        {
          "output_type": "stream",
          "name": "stdout",
          "text": [
            "Saving DS3_C2_S3_Random_Data_Practice.txt to DS3_C2_S3_Random_Data_Practice.txt\n"
          ]
        }
      ]
    },
    {
      "cell_type": "code",
      "source": [
        "file = open(\"DS3_C2_S3_Random_Data_Practice.txt\")\n",
        "content = file.read()\n",
        "text = str(content)\n",
        "print(text)"
      ],
      "metadata": {
        "colab": {
          "base_uri": "https://localhost:8080/"
        },
        "id": "F13DFnX4U49J",
        "outputId": "893f8d7c-1816-442c-de21-2d56fe752908"
      },
      "execution_count": 39,
      "outputs": [
        {
          "output_type": "stream",
          "name": "stdout",
          "text": [
            "PADUA HIGH SCHOOL - DAY\n",
            "Revision November 12, 1997\n",
            "\n"
          ]
        }
      ]
    },
    {
      "cell_type": "code",
      "source": [
        "doc = nlp(text)"
      ],
      "metadata": {
        "id": "EXJUPbLPQ2xR"
      },
      "execution_count": 40,
      "outputs": []
    },
    {
      "cell_type": "code",
      "source": [
        "PROPN = []\n",
        "\n",
        "for word in doc:\n",
        "  if word.pos_ == 'PROPN':\n",
        "    PROPN.append(word)\n",
        "\n",
        "print(\"Proper noun words are {}\".format(PROPN))"
      ],
      "metadata": {
        "colab": {
          "base_uri": "https://localhost:8080/"
        },
        "id": "PaMzWFBAQvns",
        "outputId": "ef521fe9-2ac8-4af1-c046-534fe4b2b877"
      },
      "execution_count": 44,
      "outputs": [
        {
          "output_type": "stream",
          "name": "stdout",
          "text": [
            "Proper noun words are [SCHOOL, DAY, Revision, November]\n"
          ]
        }
      ]
    },
    {
      "cell_type": "code",
      "source": [
        "NUM = []\n",
        "\n",
        "for word in doc:\n",
        "  if word.pos_ == 'NUM':\n",
        "    NUM.append(word)\n",
        "\n",
        "print(\"Proper noun words are {}\".format(NUM))"
      ],
      "metadata": {
        "colab": {
          "base_uri": "https://localhost:8080/"
        },
        "id": "mLOMtmZeRRf4",
        "outputId": "9dff56c3-9c84-45d9-e2a8-aab304bd2d59"
      },
      "execution_count": 43,
      "outputs": [
        {
          "output_type": "stream",
          "name": "stdout",
          "text": [
            "Proper noun words are [12, 1997]\n"
          ]
        }
      ]
    },
    {
      "cell_type": "markdown",
      "source": [
        "Task 6\n",
        "\n",
        "---\n",
        "\n",
        "Add your own five stop words to the de fault list of available stop words in spacy and print the result. Remove these four stop words from the default spacy list and print the result again:\n",
        "\n",
        "'always', 'never', 'between', 'becomes'\n"
      ],
      "metadata": {
        "id": "HfOJFwIQW3mD"
      }
    },
    {
      "cell_type": "code",
      "source": [
        "nlp.Defaults.stop_words |= {\"my_new_stopwards1\",\"my_new_stopwards2\",\"my_new_stopwards3\",\"my_new_stopwards4\",\"my_new_stopwards5\"}\n",
        "\n",
        "print(nlp.Defaults.stop_words)"
      ],
      "metadata": {
        "colab": {
          "base_uri": "https://localhost:8080/"
        },
        "id": "Hz4R6ewIW2yE",
        "outputId": "2afe40cd-a811-44e9-f3d0-407df2bc9972"
      },
      "execution_count": 11,
      "outputs": [
        {
          "output_type": "stream",
          "name": "stdout",
          "text": [
            "{'fifteen', 'used', 'is', 'per', \"'ll\", 'anything', 'had', '’re', 'whereupon', 'either', 'yet', '’d', 'anyhow', 'least', 'whatever', 'themselves', 'does', 'what', 'when', 'hereafter', 'meanwhile', 'ever', 'but', 'again', 'latterly', 'should', 'yours', 'a', 'only', 'now', 'twenty', 'himself', 'same', 'back', 'into', 'several', 'before', 'became', 'beyond', '’ve', 'could', 'did', 'might', 'thereby', 'nobody', 'latter', 'regarding', \"'m\", 'else', 'due', 'yourself', \"'d\", 'none', 'through', 'the', 'between', 'thereupon', 'my_new_stopwards4', 'beforehand', 'which', 'n‘t', 'then', 'however', '’m', 'his', 'those', 'four', 'hence', 'all', 'thus', 'everyone', 'last', 'and', 'whenever', 'against', 'across', 'forty', 'during', 'wherein', 'bottom', 'nothing', 'becoming', 'anyway', 'noone', 'throughout', 'such', 'ten', 'as', 'onto', 'twelve', 'were', 'it', 'ca', 'part', 'being', 'around', 'how', 'done', 'seems', 'indeed', '’ll', 'its', 'my_new_stopwards1', 'enough', 'over', 'nor', 'get', 'whereby', 'so', 'mine', 'call', 'hereupon', 'in', 'after', 'three', 'whereafter', 'many', \"'s\", 'once', 'everywhere', 'nevertheless', 'wherever', 'via', 'less', 'unless', 'become', 'whoever', 'your', 'using', 'anyone', 'therein', 'he', 'two', 'my', 'too', 'without', 'them', 'above', 'together', 'us', 'move', 'ours', 'cannot', '‘ll', 'therefore', 'nine', 'because', 'myself', 'perhaps', 'who', 'others', 'off', 'upon', 'more', 'empty', 'from', 'up', 'various', 'they', 'quite', 'there', 'thence', 'never', 'our', 'five', 'that', 'if', 'has', 'no', 'name', 'side', 'was', 'full', 'elsewhere', 'six', 'ourselves', 'former', 'on', 'thru', 'with', 'though', 'somewhere', \"'ve\", 'give', 'sometimes', 'any', 'seeming', 'n’t', 'serious', 'nowhere', 'am', 'sometime', 'show', 'take', 'whence', 'where', 'than', 'further', 'becomes', 'go', 'may', 'be', 'something', 'will', '‘d', 'namely', 'every', 'next', 'of', 'one', 'why', 'down', 'someone', 'below', 'other', 'also', 'afterwards', 'can', 'itself', 'since', 'whither', 'must', 'my_new_stopwards3', 'eight', 'please', 'besides', 'here', 'while', 'each', '‘re', 'most', 'you', 'front', 'almost', 'say', 'everything', 'by', 'among', 'see', 'both', 'beside', 'amongst', '‘s', 'these', 'very', 'doing', 'much', 'otherwise', 'me', 'my_new_stopwards2', 'at', 'herein', 'even', 'within', 'third', 'eleven', 'formerly', 'towards', 'whom', '‘m', 'herself', 'whereas', 'thereafter', 'seem', 'always', 'seemed', 'until', 'although', 'my_new_stopwards5', 'fifty', 'their', 'rather', 'i', 'hundred', 'own', 'do', 'her', 'keep', \"'re\", 'about', 'whole', 'not', 'first', 're', 'sixty', 'made', 'except', 'make', 'she', 'been', 'whether', 'are', 'him', 'or', 'to', 'yourselves', 'an', 'hereby', 'top', 'toward', 'have', 'really', 'along', 'would', 'another', 'often', 'some', 'hers', 'amount', 'moreover', 'behind', \"n't\", 'few', 'for', 'mostly', '‘ve', 'put', 'this', 'under', 'alone', 'anywhere', 'out', 'we', 'still', 'already', 'somehow', 'well', 'whose', '’s', 'just', 'neither'}\n"
          ]
        }
      ]
    },
    {
      "cell_type": "code",
      "source": [
        "nlp.Defaults.stop_words -={'always', 'never', 'between', 'becomes'}\n",
        "print(nlp.Defaults.stop_words)"
      ],
      "metadata": {
        "colab": {
          "base_uri": "https://localhost:8080/"
        },
        "id": "dVUl2wdNX8jC",
        "outputId": "200b448e-1ff0-4aeb-e8f6-cb7594daf2e7"
      },
      "execution_count": 12,
      "outputs": [
        {
          "output_type": "stream",
          "name": "stdout",
          "text": [
            "{'fifteen', 'used', 'is', 'per', \"'ll\", 'anything', 'had', '’re', 'whereupon', 'either', 'yet', '’d', 'anyhow', 'least', 'whatever', 'themselves', 'does', 'what', 'when', 'hereafter', 'meanwhile', 'ever', 'but', 'again', 'latterly', 'should', 'yours', 'a', 'only', 'now', 'twenty', 'himself', 'same', 'back', 'into', 'several', 'before', 'became', 'beyond', '’ve', 'could', 'did', 'might', 'thereby', 'nobody', 'latter', 'regarding', \"'m\", 'else', 'due', 'yourself', \"'d\", 'none', 'through', 'the', 'thereupon', 'my_new_stopwards4', 'beforehand', 'which', 'n‘t', 'then', 'however', '’m', 'his', 'those', 'four', 'hence', 'all', 'thus', 'everyone', 'last', 'and', 'whenever', 'against', 'across', 'forty', 'during', 'wherein', 'bottom', 'nothing', 'becoming', 'anyway', 'noone', 'throughout', 'such', 'ten', 'as', 'onto', 'twelve', 'were', 'it', 'ca', 'part', 'being', 'around', 'how', 'done', 'seems', 'indeed', '’ll', 'its', 'my_new_stopwards1', 'enough', 'over', 'nor', 'get', 'whereby', 'so', 'mine', 'call', 'hereupon', 'in', 'after', 'three', 'whereafter', 'many', \"'s\", 'once', 'everywhere', 'nevertheless', 'wherever', 'via', 'less', 'unless', 'become', 'whoever', 'your', 'using', 'anyone', 'therein', 'he', 'two', 'my', 'too', 'without', 'them', 'above', 'together', 'us', 'move', 'ours', 'cannot', '‘ll', 'therefore', 'nine', 'because', 'myself', 'perhaps', 'who', 'others', 'off', 'upon', 'more', 'empty', 'from', 'up', 'various', 'they', 'quite', 'there', 'thence', 'our', 'five', 'that', 'if', 'has', 'no', 'name', 'side', 'was', 'full', 'elsewhere', 'six', 'ourselves', 'former', 'on', 'thru', 'with', 'though', 'somewhere', \"'ve\", 'give', 'sometimes', 'any', 'seeming', 'n’t', 'serious', 'nowhere', 'am', 'sometime', 'show', 'take', 'whence', 'where', 'than', 'further', 'go', 'may', 'be', 'something', 'will', '‘d', 'namely', 'every', 'next', 'of', 'one', 'why', 'down', 'someone', 'below', 'other', 'also', 'afterwards', 'can', 'itself', 'since', 'whither', 'must', 'my_new_stopwards3', 'eight', 'please', 'besides', 'here', 'while', 'each', '‘re', 'most', 'you', 'front', 'almost', 'say', 'everything', 'by', 'among', 'see', 'both', 'beside', 'amongst', '‘s', 'these', 'very', 'doing', 'much', 'otherwise', 'me', 'my_new_stopwards2', 'at', 'herein', 'even', 'within', 'third', 'eleven', 'formerly', 'towards', 'whom', '‘m', 'herself', 'whereas', 'thereafter', 'seem', 'seemed', 'until', 'although', 'my_new_stopwards5', 'fifty', 'their', 'rather', 'i', 'hundred', 'own', 'do', 'her', 'keep', \"'re\", 'about', 'whole', 'not', 'first', 're', 'sixty', 'made', 'except', 'make', 'she', 'been', 'whether', 'are', 'him', 'or', 'to', 'yourselves', 'an', 'hereby', 'top', 'toward', 'have', 'really', 'along', 'would', 'another', 'often', 'some', 'hers', 'amount', 'moreover', 'behind', \"n't\", 'few', 'for', 'mostly', '‘ve', 'put', 'this', 'under', 'alone', 'anywhere', 'out', 'we', 'still', 'already', 'somehow', 'well', 'whose', '’s', 'just', 'neither'}\n"
          ]
        }
      ]
    },
    {
      "cell_type": "markdown",
      "source": [
        "Task 7 :\n",
        "\n",
        "---\n",
        "\n",
        "\n",
        "\n",
        "To file raw data for analysis.txt, follow the steps given below using spacy and write the final output:\n",
        "\n",
        "Apply tokenization.\n",
        "\n",
        "Remove stop words from the input.\n",
        "\n",
        "Apply lem matization.\n",
        "\n",
        "Apply POS tagging.\n",
        "\n",
        "You will implement all the steps leamed in this Sprint."
      ],
      "metadata": {
        "id": "g_lF1pBuYBF7"
      }
    },
    {
      "cell_type": "code",
      "source": [
        "upload = files.upload()"
      ],
      "metadata": {
        "colab": {
          "base_uri": "https://localhost:8080/",
          "height": 73
        },
        "id": "exRkAg0cYAnh",
        "outputId": "9d77dc69-feff-473c-9d4c-57e84739f025"
      },
      "execution_count": 13,
      "outputs": [
        {
          "output_type": "display_data",
          "data": {
            "text/plain": [
              "<IPython.core.display.HTML object>"
            ],
            "text/html": [
              "\n",
              "     <input type=\"file\" id=\"files-b0b6a5e6-93e4-40cd-a0b6-34a361cc711d\" name=\"files[]\" multiple disabled\n",
              "        style=\"border:none\" />\n",
              "     <output id=\"result-b0b6a5e6-93e4-40cd-a0b6-34a361cc711d\">\n",
              "      Upload widget is only available when the cell has been executed in the\n",
              "      current browser session. Please rerun this cell to enable.\n",
              "      </output>\n",
              "      <script>// Copyright 2017 Google LLC\n",
              "//\n",
              "// Licensed under the Apache License, Version 2.0 (the \"License\");\n",
              "// you may not use this file except in compliance with the License.\n",
              "// You may obtain a copy of the License at\n",
              "//\n",
              "//      http://www.apache.org/licenses/LICENSE-2.0\n",
              "//\n",
              "// Unless required by applicable law or agreed to in writing, software\n",
              "// distributed under the License is distributed on an \"AS IS\" BASIS,\n",
              "// WITHOUT WARRANTIES OR CONDITIONS OF ANY KIND, either express or implied.\n",
              "// See the License for the specific language governing permissions and\n",
              "// limitations under the License.\n",
              "\n",
              "/**\n",
              " * @fileoverview Helpers for google.colab Python module.\n",
              " */\n",
              "(function(scope) {\n",
              "function span(text, styleAttributes = {}) {\n",
              "  const element = document.createElement('span');\n",
              "  element.textContent = text;\n",
              "  for (const key of Object.keys(styleAttributes)) {\n",
              "    element.style[key] = styleAttributes[key];\n",
              "  }\n",
              "  return element;\n",
              "}\n",
              "\n",
              "// Max number of bytes which will be uploaded at a time.\n",
              "const MAX_PAYLOAD_SIZE = 100 * 1024;\n",
              "\n",
              "function _uploadFiles(inputId, outputId) {\n",
              "  const steps = uploadFilesStep(inputId, outputId);\n",
              "  const outputElement = document.getElementById(outputId);\n",
              "  // Cache steps on the outputElement to make it available for the next call\n",
              "  // to uploadFilesContinue from Python.\n",
              "  outputElement.steps = steps;\n",
              "\n",
              "  return _uploadFilesContinue(outputId);\n",
              "}\n",
              "\n",
              "// This is roughly an async generator (not supported in the browser yet),\n",
              "// where there are multiple asynchronous steps and the Python side is going\n",
              "// to poll for completion of each step.\n",
              "// This uses a Promise to block the python side on completion of each step,\n",
              "// then passes the result of the previous step as the input to the next step.\n",
              "function _uploadFilesContinue(outputId) {\n",
              "  const outputElement = document.getElementById(outputId);\n",
              "  const steps = outputElement.steps;\n",
              "\n",
              "  const next = steps.next(outputElement.lastPromiseValue);\n",
              "  return Promise.resolve(next.value.promise).then((value) => {\n",
              "    // Cache the last promise value to make it available to the next\n",
              "    // step of the generator.\n",
              "    outputElement.lastPromiseValue = value;\n",
              "    return next.value.response;\n",
              "  });\n",
              "}\n",
              "\n",
              "/**\n",
              " * Generator function which is called between each async step of the upload\n",
              " * process.\n",
              " * @param {string} inputId Element ID of the input file picker element.\n",
              " * @param {string} outputId Element ID of the output display.\n",
              " * @return {!Iterable<!Object>} Iterable of next steps.\n",
              " */\n",
              "function* uploadFilesStep(inputId, outputId) {\n",
              "  const inputElement = document.getElementById(inputId);\n",
              "  inputElement.disabled = false;\n",
              "\n",
              "  const outputElement = document.getElementById(outputId);\n",
              "  outputElement.innerHTML = '';\n",
              "\n",
              "  const pickedPromise = new Promise((resolve) => {\n",
              "    inputElement.addEventListener('change', (e) => {\n",
              "      resolve(e.target.files);\n",
              "    });\n",
              "  });\n",
              "\n",
              "  const cancel = document.createElement('button');\n",
              "  inputElement.parentElement.appendChild(cancel);\n",
              "  cancel.textContent = 'Cancel upload';\n",
              "  const cancelPromise = new Promise((resolve) => {\n",
              "    cancel.onclick = () => {\n",
              "      resolve(null);\n",
              "    };\n",
              "  });\n",
              "\n",
              "  // Wait for the user to pick the files.\n",
              "  const files = yield {\n",
              "    promise: Promise.race([pickedPromise, cancelPromise]),\n",
              "    response: {\n",
              "      action: 'starting',\n",
              "    }\n",
              "  };\n",
              "\n",
              "  cancel.remove();\n",
              "\n",
              "  // Disable the input element since further picks are not allowed.\n",
              "  inputElement.disabled = true;\n",
              "\n",
              "  if (!files) {\n",
              "    return {\n",
              "      response: {\n",
              "        action: 'complete',\n",
              "      }\n",
              "    };\n",
              "  }\n",
              "\n",
              "  for (const file of files) {\n",
              "    const li = document.createElement('li');\n",
              "    li.append(span(file.name, {fontWeight: 'bold'}));\n",
              "    li.append(span(\n",
              "        `(${file.type || 'n/a'}) - ${file.size} bytes, ` +\n",
              "        `last modified: ${\n",
              "            file.lastModifiedDate ? file.lastModifiedDate.toLocaleDateString() :\n",
              "                                    'n/a'} - `));\n",
              "    const percent = span('0% done');\n",
              "    li.appendChild(percent);\n",
              "\n",
              "    outputElement.appendChild(li);\n",
              "\n",
              "    const fileDataPromise = new Promise((resolve) => {\n",
              "      const reader = new FileReader();\n",
              "      reader.onload = (e) => {\n",
              "        resolve(e.target.result);\n",
              "      };\n",
              "      reader.readAsArrayBuffer(file);\n",
              "    });\n",
              "    // Wait for the data to be ready.\n",
              "    let fileData = yield {\n",
              "      promise: fileDataPromise,\n",
              "      response: {\n",
              "        action: 'continue',\n",
              "      }\n",
              "    };\n",
              "\n",
              "    // Use a chunked sending to avoid message size limits. See b/62115660.\n",
              "    let position = 0;\n",
              "    do {\n",
              "      const length = Math.min(fileData.byteLength - position, MAX_PAYLOAD_SIZE);\n",
              "      const chunk = new Uint8Array(fileData, position, length);\n",
              "      position += length;\n",
              "\n",
              "      const base64 = btoa(String.fromCharCode.apply(null, chunk));\n",
              "      yield {\n",
              "        response: {\n",
              "          action: 'append',\n",
              "          file: file.name,\n",
              "          data: base64,\n",
              "        },\n",
              "      };\n",
              "\n",
              "      let percentDone = fileData.byteLength === 0 ?\n",
              "          100 :\n",
              "          Math.round((position / fileData.byteLength) * 100);\n",
              "      percent.textContent = `${percentDone}% done`;\n",
              "\n",
              "    } while (position < fileData.byteLength);\n",
              "  }\n",
              "\n",
              "  // All done.\n",
              "  yield {\n",
              "    response: {\n",
              "      action: 'complete',\n",
              "    }\n",
              "  };\n",
              "}\n",
              "\n",
              "scope.google = scope.google || {};\n",
              "scope.google.colab = scope.google.colab || {};\n",
              "scope.google.colab._files = {\n",
              "  _uploadFiles,\n",
              "  _uploadFilesContinue,\n",
              "};\n",
              "})(self);\n",
              "</script> "
            ]
          },
          "metadata": {}
        },
        {
          "output_type": "stream",
          "name": "stdout",
          "text": [
            "Saving DS3_C2_S3_Sample_Data_Practice.txt to DS3_C2_S3_Sample_Data_Practice.txt\n"
          ]
        }
      ]
    },
    {
      "cell_type": "code",
      "source": [
        "file = open(\"DS3_C2_S3_Sample_Data_Practice.txt\")\n",
        "content = file.read()\n",
        "text = str(content)\n",
        "print(text)"
      ],
      "metadata": {
        "colab": {
          "base_uri": "https://localhost:8080/"
        },
        "id": "usQDl_o_Yy1v",
        "outputId": "a93ecadf-d193-48fc-b7f3-5ab9b2e8f4d0"
      },
      "execution_count": 71,
      "outputs": [
        {
          "output_type": "stream",
          "name": "stdout",
          "text": [
            "PADUA HIGH SCHOOL - DAY\n",
            "Revision November 12, 1997\n",
            "I hope dinner's ready because I only have ten minutes before Mrs. Johnson squirts out a screamer.\n",
            "He grabs the mail and rifles through it, as he bends down to kiss Sharon on the cheek.\n",
            "MICHAEL- C'mon. I'm supposed to give you the tour. They head out of the office\n",
            "MICHAEL (continuing)- So -- which Dakota you from?\n",
            "          \n",
            "                                 \n",
            "\n"
          ]
        }
      ]
    },
    {
      "cell_type": "code",
      "source": [
        "# Tokenization using NLTK\n",
        "\n",
        "# Tokenization sentences\n",
        "nltk.download('all')\n",
        "\n",
        "sentence = nltk.sent_tokenize(text)\n",
        "\n",
        "# Tokenization words\n",
        "\n",
        "word = nltk.word_tokenize(text)\n",
        "\n",
        "print(word[0:20])"
      ],
      "metadata": {
        "id": "aN0cDMmwZAWA",
        "colab": {
          "base_uri": "https://localhost:8080/"
        },
        "outputId": "7f2d9519-d5e4-4347-86ce-5f26af9e9c3d"
      },
      "execution_count": 72,
      "outputs": [
        {
          "output_type": "stream",
          "name": "stdout",
          "text": [
            "['PADUA', 'HIGH', 'SCHOOL', '-', 'DAY', 'Revision', 'November', '12', ',', '1997', 'I', 'hope', 'dinner', \"'s\", 'ready', 'because', 'I', 'only', 'have', 'ten']\n"
          ]
        },
        {
          "output_type": "stream",
          "name": "stderr",
          "text": [
            "[nltk_data] Downloading collection 'all'\n",
            "[nltk_data]    | \n",
            "[nltk_data]    | Downloading package abc to /root/nltk_data...\n",
            "[nltk_data]    |   Package abc is already up-to-date!\n",
            "[nltk_data]    | Downloading package alpino to /root/nltk_data...\n",
            "[nltk_data]    |   Package alpino is already up-to-date!\n",
            "[nltk_data]    | Downloading package averaged_perceptron_tagger to\n",
            "[nltk_data]    |     /root/nltk_data...\n",
            "[nltk_data]    |   Package averaged_perceptron_tagger is already up-\n",
            "[nltk_data]    |       to-date!\n",
            "[nltk_data]    | Downloading package averaged_perceptron_tagger_ru to\n",
            "[nltk_data]    |     /root/nltk_data...\n",
            "[nltk_data]    |   Package averaged_perceptron_tagger_ru is already\n",
            "[nltk_data]    |       up-to-date!\n",
            "[nltk_data]    | Downloading package basque_grammars to\n",
            "[nltk_data]    |     /root/nltk_data...\n",
            "[nltk_data]    |   Package basque_grammars is already up-to-date!\n",
            "[nltk_data]    | Downloading package bcp47 to /root/nltk_data...\n",
            "[nltk_data]    |   Package bcp47 is already up-to-date!\n",
            "[nltk_data]    | Downloading package biocreative_ppi to\n",
            "[nltk_data]    |     /root/nltk_data...\n",
            "[nltk_data]    |   Package biocreative_ppi is already up-to-date!\n",
            "[nltk_data]    | Downloading package bllip_wsj_no_aux to\n",
            "[nltk_data]    |     /root/nltk_data...\n",
            "[nltk_data]    |   Package bllip_wsj_no_aux is already up-to-date!\n",
            "[nltk_data]    | Downloading package book_grammars to\n",
            "[nltk_data]    |     /root/nltk_data...\n",
            "[nltk_data]    |   Package book_grammars is already up-to-date!\n",
            "[nltk_data]    | Downloading package brown to /root/nltk_data...\n",
            "[nltk_data]    |   Package brown is already up-to-date!\n",
            "[nltk_data]    | Downloading package brown_tei to /root/nltk_data...\n",
            "[nltk_data]    |   Package brown_tei is already up-to-date!\n",
            "[nltk_data]    | Downloading package cess_cat to /root/nltk_data...\n",
            "[nltk_data]    |   Package cess_cat is already up-to-date!\n",
            "[nltk_data]    | Downloading package cess_esp to /root/nltk_data...\n",
            "[nltk_data]    |   Package cess_esp is already up-to-date!\n",
            "[nltk_data]    | Downloading package chat80 to /root/nltk_data...\n",
            "[nltk_data]    |   Package chat80 is already up-to-date!\n",
            "[nltk_data]    | Downloading package city_database to\n",
            "[nltk_data]    |     /root/nltk_data...\n",
            "[nltk_data]    |   Package city_database is already up-to-date!\n",
            "[nltk_data]    | Downloading package cmudict to /root/nltk_data...\n",
            "[nltk_data]    |   Package cmudict is already up-to-date!\n",
            "[nltk_data]    | Downloading package comparative_sentences to\n",
            "[nltk_data]    |     /root/nltk_data...\n",
            "[nltk_data]    |   Package comparative_sentences is already up-to-\n",
            "[nltk_data]    |       date!\n",
            "[nltk_data]    | Downloading package comtrans to /root/nltk_data...\n",
            "[nltk_data]    |   Package comtrans is already up-to-date!\n",
            "[nltk_data]    | Downloading package conll2000 to /root/nltk_data...\n",
            "[nltk_data]    |   Package conll2000 is already up-to-date!\n",
            "[nltk_data]    | Downloading package conll2002 to /root/nltk_data...\n",
            "[nltk_data]    |   Package conll2002 is already up-to-date!\n",
            "[nltk_data]    | Downloading package conll2007 to /root/nltk_data...\n",
            "[nltk_data]    |   Package conll2007 is already up-to-date!\n",
            "[nltk_data]    | Downloading package crubadan to /root/nltk_data...\n",
            "[nltk_data]    |   Package crubadan is already up-to-date!\n",
            "[nltk_data]    | Downloading package dependency_treebank to\n",
            "[nltk_data]    |     /root/nltk_data...\n",
            "[nltk_data]    |   Package dependency_treebank is already up-to-date!\n",
            "[nltk_data]    | Downloading package dolch to /root/nltk_data...\n",
            "[nltk_data]    |   Package dolch is already up-to-date!\n",
            "[nltk_data]    | Downloading package europarl_raw to\n",
            "[nltk_data]    |     /root/nltk_data...\n",
            "[nltk_data]    |   Package europarl_raw is already up-to-date!\n",
            "[nltk_data]    | Downloading package extended_omw to\n",
            "[nltk_data]    |     /root/nltk_data...\n",
            "[nltk_data]    |   Package extended_omw is already up-to-date!\n",
            "[nltk_data]    | Downloading package floresta to /root/nltk_data...\n",
            "[nltk_data]    |   Package floresta is already up-to-date!\n",
            "[nltk_data]    | Downloading package framenet_v15 to\n",
            "[nltk_data]    |     /root/nltk_data...\n",
            "[nltk_data]    |   Package framenet_v15 is already up-to-date!\n",
            "[nltk_data]    | Downloading package framenet_v17 to\n",
            "[nltk_data]    |     /root/nltk_data...\n",
            "[nltk_data]    |   Package framenet_v17 is already up-to-date!\n",
            "[nltk_data]    | Downloading package gazetteers to /root/nltk_data...\n",
            "[nltk_data]    |   Package gazetteers is already up-to-date!\n",
            "[nltk_data]    | Downloading package genesis to /root/nltk_data...\n",
            "[nltk_data]    |   Package genesis is already up-to-date!\n",
            "[nltk_data]    | Downloading package gutenberg to /root/nltk_data...\n",
            "[nltk_data]    |   Package gutenberg is already up-to-date!\n",
            "[nltk_data]    | Downloading package ieer to /root/nltk_data...\n",
            "[nltk_data]    |   Package ieer is already up-to-date!\n",
            "[nltk_data]    | Downloading package inaugural to /root/nltk_data...\n",
            "[nltk_data]    |   Package inaugural is already up-to-date!\n",
            "[nltk_data]    | Downloading package indian to /root/nltk_data...\n",
            "[nltk_data]    |   Package indian is already up-to-date!\n",
            "[nltk_data]    | Downloading package jeita to /root/nltk_data...\n",
            "[nltk_data]    |   Package jeita is already up-to-date!\n",
            "[nltk_data]    | Downloading package kimmo to /root/nltk_data...\n",
            "[nltk_data]    |   Package kimmo is already up-to-date!\n",
            "[nltk_data]    | Downloading package knbc to /root/nltk_data...\n",
            "[nltk_data]    |   Package knbc is already up-to-date!\n",
            "[nltk_data]    | Downloading package large_grammars to\n",
            "[nltk_data]    |     /root/nltk_data...\n",
            "[nltk_data]    |   Package large_grammars is already up-to-date!\n",
            "[nltk_data]    | Downloading package lin_thesaurus to\n",
            "[nltk_data]    |     /root/nltk_data...\n",
            "[nltk_data]    |   Package lin_thesaurus is already up-to-date!\n",
            "[nltk_data]    | Downloading package mac_morpho to /root/nltk_data...\n",
            "[nltk_data]    |   Package mac_morpho is already up-to-date!\n",
            "[nltk_data]    | Downloading package machado to /root/nltk_data...\n",
            "[nltk_data]    |   Package machado is already up-to-date!\n",
            "[nltk_data]    | Downloading package masc_tagged to /root/nltk_data...\n",
            "[nltk_data]    |   Package masc_tagged is already up-to-date!\n",
            "[nltk_data]    | Downloading package maxent_ne_chunker to\n",
            "[nltk_data]    |     /root/nltk_data...\n",
            "[nltk_data]    |   Package maxent_ne_chunker is already up-to-date!\n",
            "[nltk_data]    | Downloading package maxent_treebank_pos_tagger to\n",
            "[nltk_data]    |     /root/nltk_data...\n",
            "[nltk_data]    |   Package maxent_treebank_pos_tagger is already up-\n",
            "[nltk_data]    |       to-date!\n",
            "[nltk_data]    | Downloading package moses_sample to\n",
            "[nltk_data]    |     /root/nltk_data...\n",
            "[nltk_data]    |   Package moses_sample is already up-to-date!\n",
            "[nltk_data]    | Downloading package movie_reviews to\n",
            "[nltk_data]    |     /root/nltk_data...\n",
            "[nltk_data]    |   Package movie_reviews is already up-to-date!\n",
            "[nltk_data]    | Downloading package mte_teip5 to /root/nltk_data...\n",
            "[nltk_data]    |   Package mte_teip5 is already up-to-date!\n",
            "[nltk_data]    | Downloading package mwa_ppdb to /root/nltk_data...\n",
            "[nltk_data]    |   Package mwa_ppdb is already up-to-date!\n",
            "[nltk_data]    | Downloading package names to /root/nltk_data...\n",
            "[nltk_data]    |   Package names is already up-to-date!\n",
            "[nltk_data]    | Downloading package nombank.1.0 to /root/nltk_data...\n",
            "[nltk_data]    |   Package nombank.1.0 is already up-to-date!\n",
            "[nltk_data]    | Downloading package nonbreaking_prefixes to\n",
            "[nltk_data]    |     /root/nltk_data...\n",
            "[nltk_data]    |   Package nonbreaking_prefixes is already up-to-date!\n",
            "[nltk_data]    | Downloading package nps_chat to /root/nltk_data...\n",
            "[nltk_data]    |   Package nps_chat is already up-to-date!\n",
            "[nltk_data]    | Downloading package omw to /root/nltk_data...\n",
            "[nltk_data]    |   Package omw is already up-to-date!\n",
            "[nltk_data]    | Downloading package omw-1.4 to /root/nltk_data...\n",
            "[nltk_data]    |   Package omw-1.4 is already up-to-date!\n",
            "[nltk_data]    | Downloading package opinion_lexicon to\n",
            "[nltk_data]    |     /root/nltk_data...\n",
            "[nltk_data]    |   Package opinion_lexicon is already up-to-date!\n",
            "[nltk_data]    | Downloading package panlex_swadesh to\n",
            "[nltk_data]    |     /root/nltk_data...\n",
            "[nltk_data]    |   Package panlex_swadesh is already up-to-date!\n",
            "[nltk_data]    | Downloading package paradigms to /root/nltk_data...\n",
            "[nltk_data]    |   Package paradigms is already up-to-date!\n",
            "[nltk_data]    | Downloading package pe08 to /root/nltk_data...\n",
            "[nltk_data]    |   Package pe08 is already up-to-date!\n",
            "[nltk_data]    | Downloading package perluniprops to\n",
            "[nltk_data]    |     /root/nltk_data...\n",
            "[nltk_data]    |   Package perluniprops is already up-to-date!\n",
            "[nltk_data]    | Downloading package pil to /root/nltk_data...\n",
            "[nltk_data]    |   Package pil is already up-to-date!\n",
            "[nltk_data]    | Downloading package pl196x to /root/nltk_data...\n",
            "[nltk_data]    |   Package pl196x is already up-to-date!\n",
            "[nltk_data]    | Downloading package porter_test to /root/nltk_data...\n",
            "[nltk_data]    |   Package porter_test is already up-to-date!\n",
            "[nltk_data]    | Downloading package ppattach to /root/nltk_data...\n",
            "[nltk_data]    |   Package ppattach is already up-to-date!\n",
            "[nltk_data]    | Downloading package problem_reports to\n",
            "[nltk_data]    |     /root/nltk_data...\n",
            "[nltk_data]    |   Package problem_reports is already up-to-date!\n",
            "[nltk_data]    | Downloading package product_reviews_1 to\n",
            "[nltk_data]    |     /root/nltk_data...\n",
            "[nltk_data]    |   Package product_reviews_1 is already up-to-date!\n",
            "[nltk_data]    | Downloading package product_reviews_2 to\n",
            "[nltk_data]    |     /root/nltk_data...\n",
            "[nltk_data]    |   Package product_reviews_2 is already up-to-date!\n",
            "[nltk_data]    | Downloading package propbank to /root/nltk_data...\n",
            "[nltk_data]    |   Package propbank is already up-to-date!\n",
            "[nltk_data]    | Downloading package pros_cons to /root/nltk_data...\n",
            "[nltk_data]    |   Package pros_cons is already up-to-date!\n",
            "[nltk_data]    | Downloading package ptb to /root/nltk_data...\n",
            "[nltk_data]    |   Package ptb is already up-to-date!\n",
            "[nltk_data]    | Downloading package punkt to /root/nltk_data...\n",
            "[nltk_data]    |   Package punkt is already up-to-date!\n",
            "[nltk_data]    | Downloading package qc to /root/nltk_data...\n",
            "[nltk_data]    |   Package qc is already up-to-date!\n",
            "[nltk_data]    | Downloading package reuters to /root/nltk_data...\n",
            "[nltk_data]    |   Package reuters is already up-to-date!\n",
            "[nltk_data]    | Downloading package rslp to /root/nltk_data...\n",
            "[nltk_data]    |   Package rslp is already up-to-date!\n",
            "[nltk_data]    | Downloading package rte to /root/nltk_data...\n",
            "[nltk_data]    |   Package rte is already up-to-date!\n",
            "[nltk_data]    | Downloading package sample_grammars to\n",
            "[nltk_data]    |     /root/nltk_data...\n",
            "[nltk_data]    |   Package sample_grammars is already up-to-date!\n",
            "[nltk_data]    | Downloading package semcor to /root/nltk_data...\n",
            "[nltk_data]    |   Package semcor is already up-to-date!\n",
            "[nltk_data]    | Downloading package senseval to /root/nltk_data...\n",
            "[nltk_data]    |   Package senseval is already up-to-date!\n",
            "[nltk_data]    | Downloading package sentence_polarity to\n",
            "[nltk_data]    |     /root/nltk_data...\n",
            "[nltk_data]    |   Package sentence_polarity is already up-to-date!\n",
            "[nltk_data]    | Downloading package sentiwordnet to\n",
            "[nltk_data]    |     /root/nltk_data...\n",
            "[nltk_data]    |   Package sentiwordnet is already up-to-date!\n",
            "[nltk_data]    | Downloading package shakespeare to /root/nltk_data...\n",
            "[nltk_data]    |   Package shakespeare is already up-to-date!\n",
            "[nltk_data]    | Downloading package sinica_treebank to\n",
            "[nltk_data]    |     /root/nltk_data...\n",
            "[nltk_data]    |   Package sinica_treebank is already up-to-date!\n",
            "[nltk_data]    | Downloading package smultron to /root/nltk_data...\n",
            "[nltk_data]    |   Package smultron is already up-to-date!\n",
            "[nltk_data]    | Downloading package snowball_data to\n",
            "[nltk_data]    |     /root/nltk_data...\n",
            "[nltk_data]    |   Package snowball_data is already up-to-date!\n",
            "[nltk_data]    | Downloading package spanish_grammars to\n",
            "[nltk_data]    |     /root/nltk_data...\n",
            "[nltk_data]    |   Package spanish_grammars is already up-to-date!\n",
            "[nltk_data]    | Downloading package state_union to /root/nltk_data...\n",
            "[nltk_data]    |   Package state_union is already up-to-date!\n",
            "[nltk_data]    | Downloading package stopwords to /root/nltk_data...\n",
            "[nltk_data]    |   Package stopwords is already up-to-date!\n",
            "[nltk_data]    | Downloading package subjectivity to\n",
            "[nltk_data]    |     /root/nltk_data...\n",
            "[nltk_data]    |   Package subjectivity is already up-to-date!\n",
            "[nltk_data]    | Downloading package swadesh to /root/nltk_data...\n",
            "[nltk_data]    |   Package swadesh is already up-to-date!\n",
            "[nltk_data]    | Downloading package switchboard to /root/nltk_data...\n",
            "[nltk_data]    |   Package switchboard is already up-to-date!\n",
            "[nltk_data]    | Downloading package tagsets to /root/nltk_data...\n",
            "[nltk_data]    |   Package tagsets is already up-to-date!\n",
            "[nltk_data]    | Downloading package timit to /root/nltk_data...\n",
            "[nltk_data]    |   Package timit is already up-to-date!\n",
            "[nltk_data]    | Downloading package toolbox to /root/nltk_data...\n",
            "[nltk_data]    |   Package toolbox is already up-to-date!\n",
            "[nltk_data]    | Downloading package treebank to /root/nltk_data...\n",
            "[nltk_data]    |   Package treebank is already up-to-date!\n",
            "[nltk_data]    | Downloading package twitter_samples to\n",
            "[nltk_data]    |     /root/nltk_data...\n",
            "[nltk_data]    |   Package twitter_samples is already up-to-date!\n",
            "[nltk_data]    | Downloading package udhr to /root/nltk_data...\n",
            "[nltk_data]    |   Package udhr is already up-to-date!\n",
            "[nltk_data]    | Downloading package udhr2 to /root/nltk_data...\n",
            "[nltk_data]    |   Package udhr2 is already up-to-date!\n",
            "[nltk_data]    | Downloading package unicode_samples to\n",
            "[nltk_data]    |     /root/nltk_data...\n",
            "[nltk_data]    |   Package unicode_samples is already up-to-date!\n",
            "[nltk_data]    | Downloading package universal_tagset to\n",
            "[nltk_data]    |     /root/nltk_data...\n",
            "[nltk_data]    |   Package universal_tagset is already up-to-date!\n",
            "[nltk_data]    | Downloading package universal_treebanks_v20 to\n",
            "[nltk_data]    |     /root/nltk_data...\n",
            "[nltk_data]    |   Package universal_treebanks_v20 is already up-to-\n",
            "[nltk_data]    |       date!\n",
            "[nltk_data]    | Downloading package vader_lexicon to\n",
            "[nltk_data]    |     /root/nltk_data...\n",
            "[nltk_data]    |   Package vader_lexicon is already up-to-date!\n",
            "[nltk_data]    | Downloading package verbnet to /root/nltk_data...\n",
            "[nltk_data]    |   Package verbnet is already up-to-date!\n",
            "[nltk_data]    | Downloading package verbnet3 to /root/nltk_data...\n",
            "[nltk_data]    |   Package verbnet3 is already up-to-date!\n",
            "[nltk_data]    | Downloading package webtext to /root/nltk_data...\n",
            "[nltk_data]    |   Package webtext is already up-to-date!\n",
            "[nltk_data]    | Downloading package wmt15_eval to /root/nltk_data...\n",
            "[nltk_data]    |   Package wmt15_eval is already up-to-date!\n",
            "[nltk_data]    | Downloading package word2vec_sample to\n",
            "[nltk_data]    |     /root/nltk_data...\n",
            "[nltk_data]    |   Package word2vec_sample is already up-to-date!\n",
            "[nltk_data]    | Downloading package wordnet to /root/nltk_data...\n",
            "[nltk_data]    |   Package wordnet is already up-to-date!\n",
            "[nltk_data]    | Downloading package wordnet2021 to /root/nltk_data...\n",
            "[nltk_data]    |   Package wordnet2021 is already up-to-date!\n",
            "[nltk_data]    | Downloading package wordnet2022 to /root/nltk_data...\n",
            "[nltk_data]    |   Package wordnet2022 is already up-to-date!\n",
            "[nltk_data]    | Downloading package wordnet31 to /root/nltk_data...\n",
            "[nltk_data]    |   Package wordnet31 is already up-to-date!\n",
            "[nltk_data]    | Downloading package wordnet_ic to /root/nltk_data...\n",
            "[nltk_data]    |   Package wordnet_ic is already up-to-date!\n",
            "[nltk_data]    | Downloading package words to /root/nltk_data...\n",
            "[nltk_data]    |   Package words is already up-to-date!\n",
            "[nltk_data]    | Downloading package ycoe to /root/nltk_data...\n",
            "[nltk_data]    |   Package ycoe is already up-to-date!\n",
            "[nltk_data]    | \n",
            "[nltk_data]  Done downloading collection all\n"
          ]
        }
      ]
    },
    {
      "cell_type": "code",
      "source": [
        "# Tokenization using Spacy\n",
        "\n",
        "doc = nlp(text)\n",
        "\n",
        "words = []\n",
        "\n",
        "for word in doc:\n",
        "    words.append(word.text)\n",
        "\n",
        "words[0:20]"
      ],
      "metadata": {
        "id": "6Xg0srjPZMu-",
        "colab": {
          "base_uri": "https://localhost:8080/"
        },
        "outputId": "66999654-863a-4b23-be35-9550911b7fa2"
      },
      "execution_count": 73,
      "outputs": [
        {
          "output_type": "execute_result",
          "data": {
            "text/plain": [
              "['PADUA',\n",
              " 'HIGH',\n",
              " 'SCHOOL',\n",
              " '-',\n",
              " 'DAY',\n",
              " '\\n',\n",
              " 'Revision',\n",
              " 'November',\n",
              " '12',\n",
              " ',',\n",
              " '1997',\n",
              " '\\n',\n",
              " 'I',\n",
              " 'hope',\n",
              " 'dinner',\n",
              " \"'s\",\n",
              " 'ready',\n",
              " 'because',\n",
              " 'I',\n",
              " 'only']"
            ]
          },
          "metadata": {},
          "execution_count": 73
        }
      ]
    },
    {
      "cell_type": "code",
      "source": [
        "# Removal of stop words\n",
        "\n",
        "filtered_text = []\n",
        "\n",
        "for word in doc:\n",
        "  if word.is_stop==False:\n",
        "    filtered_text.append(word)\n",
        "\n",
        "print(filtered_text)"
      ],
      "metadata": {
        "colab": {
          "base_uri": "https://localhost:8080/"
        },
        "id": "i4MC5D3rN8y4",
        "outputId": "32e616f0-2d06-4477-fac7-eaedfea25c71"
      },
      "execution_count": 74,
      "outputs": [
        {
          "output_type": "stream",
          "name": "stdout",
          "text": [
            "[PADUA, HIGH, SCHOOL, -, DAY, \n",
            ", Revision, November, 12, ,, 1997, \n",
            ", hope, dinner, ready, minutes, Mrs., Johnson, squirts, screamer, ., \n",
            ", grabs, mail, rifles, ,, bends, kiss, Sharon, cheek, ., \n",
            ", MICHAEL-, C'm, ., supposed, tour, ., head, office, \n",
            ", MICHAEL, (, continuing)-, --, Dakota, ?, \n",
            "          \n",
            "                                 \n",
            "]\n"
          ]
        }
      ]
    },
    {
      "cell_type": "code",
      "source": [
        "# Lemmatization\n",
        "\n",
        "for word in filtered_text:\n",
        "  print(word.text , \"->\", word.lemma_)"
      ],
      "metadata": {
        "colab": {
          "base_uri": "https://localhost:8080/"
        },
        "id": "0ydsvJ6wN813",
        "outputId": "530ca542-4686-493c-d3b3-da0342e57ae7"
      },
      "execution_count": 75,
      "outputs": [
        {
          "output_type": "stream",
          "name": "stdout",
          "text": [
            "PADUA -> PADUA\n",
            "HIGH -> high\n",
            "SCHOOL -> SCHOOL\n",
            "- -> -\n",
            "DAY -> DAY\n",
            "\n",
            " -> \n",
            "\n",
            "Revision -> Revision\n",
            "November -> November\n",
            "12 -> 12\n",
            ", -> ,\n",
            "1997 -> 1997\n",
            "\n",
            " -> \n",
            "\n",
            "hope -> hope\n",
            "dinner -> dinner\n",
            "ready -> ready\n",
            "minutes -> minute\n",
            "Mrs. -> Mrs.\n",
            "Johnson -> Johnson\n",
            "squirts -> squirt\n",
            "screamer -> screamer\n",
            ". -> .\n",
            "\n",
            " -> \n",
            "\n",
            "grabs -> grab\n",
            "mail -> mail\n",
            "rifles -> rifle\n",
            ", -> ,\n",
            "bends -> bend\n",
            "kiss -> kiss\n",
            "Sharon -> Sharon\n",
            "cheek -> cheek\n",
            ". -> .\n",
            "\n",
            " -> \n",
            "\n",
            "MICHAEL- -> MICHAEL-\n",
            "C'm -> come\n",
            ". -> .\n",
            "supposed -> suppose\n",
            "tour -> tour\n",
            ". -> .\n",
            "head -> head\n",
            "office -> office\n",
            "\n",
            " -> \n",
            "\n",
            "MICHAEL -> MICHAEL\n",
            "( -> (\n",
            "continuing)- -> continuing)-\n",
            "-- -> --\n",
            "Dakota -> Dakota\n",
            "? -> ?\n",
            "\n",
            "          \n",
            "                                 \n",
            " -> \n",
            "          \n",
            "                                 \n",
            "\n"
          ]
        }
      ]
    },
    {
      "cell_type": "code",
      "source": [
        "# POS tagging\n",
        "\n",
        "for word in filtered_text :\n",
        "  print(word.text, \"->\", word.pos_, \"->\", word.tag_)"
      ],
      "metadata": {
        "colab": {
          "base_uri": "https://localhost:8080/"
        },
        "id": "LPETbrgxN85D",
        "outputId": "dbc9a906-b96b-41f0-9ffc-ce2728f4d085"
      },
      "execution_count": 76,
      "outputs": [
        {
          "output_type": "stream",
          "name": "stdout",
          "text": [
            "PADUA -> VERB -> VBD\n",
            "HIGH -> ADJ -> JJ\n",
            "SCHOOL -> PROPN -> NNP\n",
            "- -> PUNCT -> HYPH\n",
            "DAY -> PROPN -> NNP\n",
            "\n",
            " -> SPACE -> _SP\n",
            "Revision -> PROPN -> NNP\n",
            "November -> PROPN -> NNP\n",
            "12 -> NUM -> CD\n",
            ", -> PUNCT -> ,\n",
            "1997 -> NUM -> CD\n",
            "\n",
            " -> SPACE -> _SP\n",
            "hope -> VERB -> VBP\n",
            "dinner -> NOUN -> NN\n",
            "ready -> ADJ -> JJ\n",
            "minutes -> NOUN -> NNS\n",
            "Mrs. -> PROPN -> NNP\n",
            "Johnson -> PROPN -> NNP\n",
            "squirts -> VERB -> VBZ\n",
            "screamer -> NOUN -> NN\n",
            ". -> PUNCT -> .\n",
            "\n",
            " -> SPACE -> _SP\n",
            "grabs -> VERB -> VBZ\n",
            "mail -> NOUN -> NN\n",
            "rifles -> NOUN -> NNS\n",
            ", -> PUNCT -> ,\n",
            "bends -> VERB -> VBZ\n",
            "kiss -> VERB -> VB\n",
            "Sharon -> PROPN -> NNP\n",
            "cheek -> NOUN -> NN\n",
            ". -> PUNCT -> .\n",
            "\n",
            " -> SPACE -> _SP\n",
            "MICHAEL- -> PROPN -> NNP\n",
            "C'm -> VERB -> VBZ\n",
            ". -> PUNCT -> .\n",
            "supposed -> VERB -> VBN\n",
            "tour -> NOUN -> NN\n",
            ". -> PUNCT -> .\n",
            "head -> VERB -> VBP\n",
            "office -> NOUN -> NN\n",
            "\n",
            " -> SPACE -> _SP\n",
            "MICHAEL -> PROPN -> NNP\n",
            "( -> PUNCT -> -LRB-\n",
            "continuing)- -> NOUN -> NNS\n",
            "-- -> PUNCT -> :\n",
            "Dakota -> PROPN -> NNP\n",
            "? -> PUNCT -> .\n",
            "\n",
            "          \n",
            "                                 \n",
            " -> SPACE -> _SP\n"
          ]
        }
      ]
    },
    {
      "cell_type": "code",
      "source": [],
      "metadata": {
        "id": "H04cQjq7N8-o"
      },
      "execution_count": null,
      "outputs": []
    }
  ]
}