{
 "cells": [
  {
   "cell_type": "markdown",
   "id": "5188b8dc",
   "metadata": {},
   "source": [
    "# Ensemble Modelling"
   ]
  },
  {
   "cell_type": "markdown",
   "id": "9a2a7e4e",
   "metadata": {},
   "source": [
    "# Challenge"
   ]
  },
  {
   "cell_type": "code",
   "execution_count": 30,
   "id": "bb582c18",
   "metadata": {},
   "outputs": [],
   "source": [
    "# general imports\n",
    "import pandas as pd         \n",
    "import numpy as np          \n",
    "import matplotlib.pyplot as plt  \n",
    "import seaborn as sb \n",
    "from numpy import mean\n",
    "from numpy import std\n",
    "\n",
    "# data preprocessing imports\n",
    "from sklearn.preprocessing import LabelEncoder  \n",
    "from sklearn.preprocessing import StandardScaler\n",
    "from sklearn.model_selection import train_test_split\n",
    "\n",
    "#Model Building imports\n",
    "from sklearn.linear_model import LogisticRegression\n",
    "from sklearn.naive_bayes import GaussianNB\n",
    "from sklearn.tree import DecisionTreeClassifier\n",
    "from sklearn.ensemble import RandomForestClassifier\n",
    "from sklearn.ensemble import AdaBoostClassifier \n",
    "from sklearn.ensemble import StackingClassifier\n",
    "\n",
    "#Model evaluation import\n",
    "from sklearn.metrics import accuracy_score,f1_score,confusion_matrix,classification_report,precision_score,recall_score,roc_curve,roc_auc_score\n",
    "from sklearn.model_selection import RepeatedStratifiedKFold\n",
    "from sklearn.model_selection import KFold\n",
    "from sklearn.model_selection import cross_val_score"
   ]
  },
  {
   "cell_type": "markdown",
   "id": "e1a62fee",
   "metadata": {},
   "source": [
    "# Data Loading"
   ]
  },
  {
   "cell_type": "code",
   "execution_count": 2,
   "id": "6b285c03",
   "metadata": {},
   "outputs": [
    {
     "data": {
      "text/html": [
       "<div>\n",
       "<style scoped>\n",
       "    .dataframe tbody tr th:only-of-type {\n",
       "        vertical-align: middle;\n",
       "    }\n",
       "\n",
       "    .dataframe tbody tr th {\n",
       "        vertical-align: top;\n",
       "    }\n",
       "\n",
       "    .dataframe thead th {\n",
       "        text-align: right;\n",
       "    }\n",
       "</style>\n",
       "<table border=\"1\" class=\"dataframe\">\n",
       "  <thead>\n",
       "    <tr style=\"text-align: right;\">\n",
       "      <th></th>\n",
       "      <th>Unnamed: 0</th>\n",
       "      <th>bathrooms</th>\n",
       "      <th>bedrooms</th>\n",
       "      <th>building_id</th>\n",
       "      <th>created</th>\n",
       "      <th>description</th>\n",
       "      <th>display_address</th>\n",
       "      <th>features</th>\n",
       "      <th>latitude</th>\n",
       "      <th>listing_id</th>\n",
       "      <th>longitude</th>\n",
       "      <th>manager_id</th>\n",
       "      <th>photos</th>\n",
       "      <th>price</th>\n",
       "      <th>street_address</th>\n",
       "      <th>interest_level</th>\n",
       "    </tr>\n",
       "  </thead>\n",
       "  <tbody>\n",
       "    <tr>\n",
       "      <th>0</th>\n",
       "      <td>105408</td>\n",
       "      <td>1.0</td>\n",
       "      <td>0</td>\n",
       "      <td>0f9d07991ba14c82d3d368b72d90270a</td>\n",
       "      <td>04-04-2016 03:34</td>\n",
       "      <td>Gorgeous unit in one of the most genuinely cov...</td>\n",
       "      <td>230 Central Park South</td>\n",
       "      <td>['Cats Allowed', 'Dogs Allowed', 'Doorman', 'E...</td>\n",
       "      <td>40.7672</td>\n",
       "      <td>6827153</td>\n",
       "      <td>-73.9802</td>\n",
       "      <td>932589de9230b697808216774fa26bd4</td>\n",
       "      <td>['https://photos.renthop.com/2/6821519_0a14cc2...</td>\n",
       "      <td>2800</td>\n",
       "      <td>230 Central Park South</td>\n",
       "      <td>high</td>\n",
       "    </tr>\n",
       "    <tr>\n",
       "      <th>1</th>\n",
       "      <td>110219</td>\n",
       "      <td>1.0</td>\n",
       "      <td>1</td>\n",
       "      <td>564d6f608f41e8d4a5e181c4e068e3d9</td>\n",
       "      <td>21-04-2016 20:40</td>\n",
       "      <td>Enormous 1 bedroom apartment in Murray Hill. F...</td>\n",
       "      <td>E 39th St</td>\n",
       "      <td>['Cats Allowed', 'Dogs Allowed', 'Reduced Fee'...</td>\n",
       "      <td>40.7483</td>\n",
       "      <td>6908998</td>\n",
       "      <td>-73.9741</td>\n",
       "      <td>489ad933197469ae66acd1f7ce18f908</td>\n",
       "      <td>['https://photos.renthop.com/2/6908998_6b00895...</td>\n",
       "      <td>2100</td>\n",
       "      <td>243 E 39th St</td>\n",
       "      <td>high</td>\n",
       "    </tr>\n",
       "    <tr>\n",
       "      <th>2</th>\n",
       "      <td>56113</td>\n",
       "      <td>1.0</td>\n",
       "      <td>1</td>\n",
       "      <td>69790fbf0bf7e22b1d0ebc721cf0f633</td>\n",
       "      <td>14-05-2016 05:44</td>\n",
       "      <td>This 1 bedroom, 1 bathroom spacious apartment ...</td>\n",
       "      <td>E 25th St.</td>\n",
       "      <td>['Elevator', 'Furnished', 'Hardwood Floors']</td>\n",
       "      <td>40.7399</td>\n",
       "      <td>7013774</td>\n",
       "      <td>-73.9812</td>\n",
       "      <td>792c0f1ad1431397c65db3e69b770928</td>\n",
       "      <td>['https://photos.renthop.com/2/7013774_e7ead5d...</td>\n",
       "      <td>3000</td>\n",
       "      <td>217 E 25th St.</td>\n",
       "      <td>high</td>\n",
       "    </tr>\n",
       "    <tr>\n",
       "      <th>3</th>\n",
       "      <td>37765</td>\n",
       "      <td>1.0</td>\n",
       "      <td>2</td>\n",
       "      <td>d0234abbc01a982d54e8d446acc03405</td>\n",
       "      <td>05-06-2016 03:37</td>\n",
       "      <td>SPECTACULAR2 BEDROOM APARTMENT IN LUXURY 24HR ...</td>\n",
       "      <td>West 34th Street</td>\n",
       "      <td>['Doorman', 'Elevator', 'Dishwasher', 'Hardwoo...</td>\n",
       "      <td>40.7530</td>\n",
       "      <td>7113518</td>\n",
       "      <td>-73.9958</td>\n",
       "      <td>eb5a6c4c2eb6f3e2a085c477afd5a815</td>\n",
       "      <td>['https://photos.renthop.com/2/7113518_d234153...</td>\n",
       "      <td>3000</td>\n",
       "      <td>360 West 34th Street</td>\n",
       "      <td>high</td>\n",
       "    </tr>\n",
       "    <tr>\n",
       "      <th>4</th>\n",
       "      <td>67397</td>\n",
       "      <td>1.0</td>\n",
       "      <td>2</td>\n",
       "      <td>a36895b9975c6991ca0fa1d9a99023a1</td>\n",
       "      <td>26-05-2016 05:36</td>\n",
       "      <td>NO FEE.. Newly Reno XL Convertible 2 Br .. Pri...</td>\n",
       "      <td>East 72nd Street</td>\n",
       "      <td>['Dining Room', 'Doorman', 'Elevator', 'Fitnes...</td>\n",
       "      <td>40.7695</td>\n",
       "      <td>7071666</td>\n",
       "      <td>-73.9603</td>\n",
       "      <td>0a6ba20b892ed61df751420934d1ab51</td>\n",
       "      <td>['https://photos.renthop.com/2/7071666_4f81618...</td>\n",
       "      <td>3300</td>\n",
       "      <td>200 East 72nd Street</td>\n",
       "      <td>high</td>\n",
       "    </tr>\n",
       "  </tbody>\n",
       "</table>\n",
       "</div>"
      ],
      "text/plain": [
       "   Unnamed: 0  bathrooms  bedrooms                       building_id  \\\n",
       "0      105408        1.0         0  0f9d07991ba14c82d3d368b72d90270a   \n",
       "1      110219        1.0         1  564d6f608f41e8d4a5e181c4e068e3d9   \n",
       "2       56113        1.0         1  69790fbf0bf7e22b1d0ebc721cf0f633   \n",
       "3       37765        1.0         2  d0234abbc01a982d54e8d446acc03405   \n",
       "4       67397        1.0         2  a36895b9975c6991ca0fa1d9a99023a1   \n",
       "\n",
       "            created                                        description  \\\n",
       "0  04-04-2016 03:34  Gorgeous unit in one of the most genuinely cov...   \n",
       "1  21-04-2016 20:40  Enormous 1 bedroom apartment in Murray Hill. F...   \n",
       "2  14-05-2016 05:44  This 1 bedroom, 1 bathroom spacious apartment ...   \n",
       "3  05-06-2016 03:37  SPECTACULAR2 BEDROOM APARTMENT IN LUXURY 24HR ...   \n",
       "4  26-05-2016 05:36  NO FEE.. Newly Reno XL Convertible 2 Br .. Pri...   \n",
       "\n",
       "          display_address                                           features  \\\n",
       "0  230 Central Park South  ['Cats Allowed', 'Dogs Allowed', 'Doorman', 'E...   \n",
       "1               E 39th St  ['Cats Allowed', 'Dogs Allowed', 'Reduced Fee'...   \n",
       "2              E 25th St.       ['Elevator', 'Furnished', 'Hardwood Floors']   \n",
       "3        West 34th Street  ['Doorman', 'Elevator', 'Dishwasher', 'Hardwoo...   \n",
       "4        East 72nd Street  ['Dining Room', 'Doorman', 'Elevator', 'Fitnes...   \n",
       "\n",
       "   latitude  listing_id  longitude                        manager_id  \\\n",
       "0   40.7672     6827153   -73.9802  932589de9230b697808216774fa26bd4   \n",
       "1   40.7483     6908998   -73.9741  489ad933197469ae66acd1f7ce18f908   \n",
       "2   40.7399     7013774   -73.9812  792c0f1ad1431397c65db3e69b770928   \n",
       "3   40.7530     7113518   -73.9958  eb5a6c4c2eb6f3e2a085c477afd5a815   \n",
       "4   40.7695     7071666   -73.9603  0a6ba20b892ed61df751420934d1ab51   \n",
       "\n",
       "                                              photos  price  \\\n",
       "0  ['https://photos.renthop.com/2/6821519_0a14cc2...   2800   \n",
       "1  ['https://photos.renthop.com/2/6908998_6b00895...   2100   \n",
       "2  ['https://photos.renthop.com/2/7013774_e7ead5d...   3000   \n",
       "3  ['https://photos.renthop.com/2/7113518_d234153...   3000   \n",
       "4  ['https://photos.renthop.com/2/7071666_4f81618...   3300   \n",
       "\n",
       "           street_address interest_level  \n",
       "0  230 Central Park South           high  \n",
       "1           243 E 39th St           high  \n",
       "2          217 E 25th St.           high  \n",
       "3    360 West 34th Street           high  \n",
       "4    200 East 72nd Street           high  "
      ]
     },
     "execution_count": 2,
     "metadata": {},
     "output_type": "execute_result"
    }
   ],
   "source": [
    "#Importing dataset\n",
    "\n",
    "df=pd.read_csv(r'C:\\Users\\Admin\\Desktop\\Machine Learning\\Repository\\DS2_C5_S7_AllRent_Data_Challenge.csv')\n",
    "df.head()"
   ]
  },
  {
   "cell_type": "markdown",
   "id": "df83bba5",
   "metadata": {},
   "source": [
    "# Data Exploration"
   ]
  },
  {
   "cell_type": "code",
   "execution_count": 3,
   "id": "e084574d",
   "metadata": {},
   "outputs": [
    {
     "name": "stdout",
     "output_type": "stream",
     "text": [
      "The number of samples in data is 9871.\n",
      "The number of columns in data is 16.\n"
     ]
    }
   ],
   "source": [
    "# shape of the dataset\n",
    "print('The number of samples in data is {}.'.format(df.shape[0]))\n",
    "print('The number of columns in data is {}.'.format(df.shape[1]))"
   ]
  },
  {
   "cell_type": "code",
   "execution_count": 4,
   "id": "40b45b96",
   "metadata": {},
   "outputs": [
    {
     "name": "stdout",
     "output_type": "stream",
     "text": [
      "<class 'pandas.core.frame.DataFrame'>\n",
      "RangeIndex: 9871 entries, 0 to 9870\n",
      "Data columns (total 16 columns):\n",
      " #   Column           Non-Null Count  Dtype  \n",
      "---  ------           --------------  -----  \n",
      " 0   Unnamed: 0       9871 non-null   int64  \n",
      " 1   bathrooms        9871 non-null   float64\n",
      " 2   bedrooms         9871 non-null   int64  \n",
      " 3   building_id      9871 non-null   object \n",
      " 4   created          9871 non-null   object \n",
      " 5   description      9585 non-null   object \n",
      " 6   display_address  9837 non-null   object \n",
      " 7   features         9871 non-null   object \n",
      " 8   latitude         9871 non-null   float64\n",
      " 9   listing_id       9871 non-null   int64  \n",
      " 10  longitude        9871 non-null   float64\n",
      " 11  manager_id       9871 non-null   object \n",
      " 12  photos           9871 non-null   object \n",
      " 13  price            9871 non-null   int64  \n",
      " 14  street_address   9866 non-null   object \n",
      " 15  interest_level   9871 non-null   object \n",
      "dtypes: float64(3), int64(4), object(9)\n",
      "memory usage: 1.2+ MB\n"
     ]
    }
   ],
   "source": [
    "# exploring the existing data types\n",
    "df.info()"
   ]
  },
  {
   "cell_type": "code",
   "execution_count": 5,
   "id": "c9be4013",
   "metadata": {},
   "outputs": [
    {
     "data": {
      "text/html": [
       "<div>\n",
       "<style scoped>\n",
       "    .dataframe tbody tr th:only-of-type {\n",
       "        vertical-align: middle;\n",
       "    }\n",
       "\n",
       "    .dataframe tbody tr th {\n",
       "        vertical-align: top;\n",
       "    }\n",
       "\n",
       "    .dataframe thead th {\n",
       "        text-align: right;\n",
       "    }\n",
       "</style>\n",
       "<table border=\"1\" class=\"dataframe\">\n",
       "  <thead>\n",
       "    <tr style=\"text-align: right;\">\n",
       "      <th></th>\n",
       "      <th>count</th>\n",
       "      <th>mean</th>\n",
       "      <th>std</th>\n",
       "      <th>min</th>\n",
       "      <th>25%</th>\n",
       "      <th>50%</th>\n",
       "      <th>75%</th>\n",
       "      <th>max</th>\n",
       "    </tr>\n",
       "  </thead>\n",
       "  <tbody>\n",
       "    <tr>\n",
       "      <th>Unnamed: 0</th>\n",
       "      <td>9871.0</td>\n",
       "      <td>6.182897e+04</td>\n",
       "      <td>35901.607107</td>\n",
       "      <td>9.000000e+00</td>\n",
       "      <td>3.096800e+04</td>\n",
       "      <td>6.135400e+04</td>\n",
       "      <td>9.322950e+04</td>\n",
       "      <td>1.239950e+05</td>\n",
       "    </tr>\n",
       "    <tr>\n",
       "      <th>bathrooms</th>\n",
       "      <td>9871.0</td>\n",
       "      <td>1.210617e+00</td>\n",
       "      <td>0.501985</td>\n",
       "      <td>0.000000e+00</td>\n",
       "      <td>1.000000e+00</td>\n",
       "      <td>1.000000e+00</td>\n",
       "      <td>1.000000e+00</td>\n",
       "      <td>1.000000e+01</td>\n",
       "    </tr>\n",
       "    <tr>\n",
       "      <th>bedrooms</th>\n",
       "      <td>9871.0</td>\n",
       "      <td>1.533685e+00</td>\n",
       "      <td>1.106696</td>\n",
       "      <td>0.000000e+00</td>\n",
       "      <td>1.000000e+00</td>\n",
       "      <td>1.000000e+00</td>\n",
       "      <td>2.000000e+00</td>\n",
       "      <td>8.000000e+00</td>\n",
       "    </tr>\n",
       "    <tr>\n",
       "      <th>latitude</th>\n",
       "      <td>9871.0</td>\n",
       "      <td>4.074717e+01</td>\n",
       "      <td>0.414548</td>\n",
       "      <td>0.000000e+00</td>\n",
       "      <td>4.072750e+01</td>\n",
       "      <td>4.075060e+01</td>\n",
       "      <td>4.077390e+01</td>\n",
       "      <td>4.303460e+01</td>\n",
       "    </tr>\n",
       "    <tr>\n",
       "      <th>listing_id</th>\n",
       "      <td>9871.0</td>\n",
       "      <td>7.024062e+06</td>\n",
       "      <td>126910.766917</td>\n",
       "      <td>6.812005e+06</td>\n",
       "      <td>6.914494e+06</td>\n",
       "      <td>7.022816e+06</td>\n",
       "      <td>7.130978e+06</td>\n",
       "      <td>7.742631e+06</td>\n",
       "    </tr>\n",
       "    <tr>\n",
       "      <th>longitude</th>\n",
       "      <td>9871.0</td>\n",
       "      <td>-7.396555e+01</td>\n",
       "      <td>0.760686</td>\n",
       "      <td>-8.761340e+01</td>\n",
       "      <td>-7.399220e+01</td>\n",
       "      <td>-7.397830e+01</td>\n",
       "      <td>-7.395510e+01</td>\n",
       "      <td>0.000000e+00</td>\n",
       "    </tr>\n",
       "    <tr>\n",
       "      <th>price</th>\n",
       "      <td>9871.0</td>\n",
       "      <td>3.662861e+03</td>\n",
       "      <td>2559.911997</td>\n",
       "      <td>4.300000e+01</td>\n",
       "      <td>2.499000e+03</td>\n",
       "      <td>3.125000e+03</td>\n",
       "      <td>4.047500e+03</td>\n",
       "      <td>9.000000e+04</td>\n",
       "    </tr>\n",
       "  </tbody>\n",
       "</table>\n",
       "</div>"
      ],
      "text/plain": [
       "             count          mean            std           min           25%  \\\n",
       "Unnamed: 0  9871.0  6.182897e+04   35901.607107  9.000000e+00  3.096800e+04   \n",
       "bathrooms   9871.0  1.210617e+00       0.501985  0.000000e+00  1.000000e+00   \n",
       "bedrooms    9871.0  1.533685e+00       1.106696  0.000000e+00  1.000000e+00   \n",
       "latitude    9871.0  4.074717e+01       0.414548  0.000000e+00  4.072750e+01   \n",
       "listing_id  9871.0  7.024062e+06  126910.766917  6.812005e+06  6.914494e+06   \n",
       "longitude   9871.0 -7.396555e+01       0.760686 -8.761340e+01 -7.399220e+01   \n",
       "price       9871.0  3.662861e+03    2559.911997  4.300000e+01  2.499000e+03   \n",
       "\n",
       "                     50%           75%           max  \n",
       "Unnamed: 0  6.135400e+04  9.322950e+04  1.239950e+05  \n",
       "bathrooms   1.000000e+00  1.000000e+00  1.000000e+01  \n",
       "bedrooms    1.000000e+00  2.000000e+00  8.000000e+00  \n",
       "latitude    4.075060e+01  4.077390e+01  4.303460e+01  \n",
       "listing_id  7.022816e+06  7.130978e+06  7.742631e+06  \n",
       "longitude  -7.397830e+01 -7.395510e+01  0.000000e+00  \n",
       "price       3.125000e+03  4.047500e+03  9.000000e+04  "
      ]
     },
     "execution_count": 5,
     "metadata": {},
     "output_type": "execute_result"
    }
   ],
   "source": [
    "# exploring the numeric data types\n",
    "df.describe().T"
   ]
  },
  {
   "cell_type": "code",
   "execution_count": 6,
   "id": "949a2c40",
   "metadata": {},
   "outputs": [
    {
     "data": {
      "text/plain": [
       "Unnamed: 0           int64\n",
       "bathrooms          float64\n",
       "bedrooms             int64\n",
       "building_id         object\n",
       "created             object\n",
       "description         object\n",
       "display_address     object\n",
       "features            object\n",
       "latitude           float64\n",
       "listing_id           int64\n",
       "longitude          float64\n",
       "manager_id          object\n",
       "photos              object\n",
       "price                int64\n",
       "street_address      object\n",
       "interest_level      object\n",
       "dtype: object"
      ]
     },
     "execution_count": 6,
     "metadata": {},
     "output_type": "execute_result"
    }
   ],
   "source": [
    "# exploring the existing data types\n",
    "df.dtypes"
   ]
  },
  {
   "cell_type": "code",
   "execution_count": 7,
   "id": "131c238e",
   "metadata": {},
   "outputs": [
    {
     "data": {
      "text/plain": [
       "Unnamed: 0           0\n",
       "bathrooms            0\n",
       "bedrooms             0\n",
       "building_id          0\n",
       "created              0\n",
       "description        286\n",
       "display_address     34\n",
       "features             0\n",
       "latitude             0\n",
       "listing_id           0\n",
       "longitude            0\n",
       "manager_id           0\n",
       "photos               0\n",
       "price                0\n",
       "street_address       5\n",
       "interest_level       0\n",
       "dtype: int64"
      ]
     },
     "execution_count": 7,
     "metadata": {},
     "output_type": "execute_result"
    }
   ],
   "source": [
    "# checking missing values in data\n",
    "df.isnull().sum()"
   ]
  },
  {
   "cell_type": "code",
   "execution_count": 8,
   "id": "9ebce44f",
   "metadata": {},
   "outputs": [
    {
     "data": {
      "text/plain": [
       "<AxesSubplot:>"
      ]
     },
     "execution_count": 8,
     "metadata": {},
     "output_type": "execute_result"
    },
    {
     "data": {
      "image/png": "[encoded data removed]",
      "text/plain": [
       "<Figure size 1500x800 with 2 Axes>"
      ]
     },
     "metadata": {},
     "output_type": "display_data"
    }
   ],
   "source": [
    "# Checking correlations among the data\n",
    "plt.figure(figsize=(15,8))\n",
    "sb.heatmap(round(df.corr(),2),annot=True)"
   ]
  },
  {
   "cell_type": "code",
   "execution_count": 9,
   "id": "1ba88d9d",
   "metadata": {},
   "outputs": [
    {
     "name": "stdout",
     "output_type": "stream",
     "text": [
      "Categorical     Continuous\n",
      "--------------  ---------------\n",
      "bathrooms       Unnamed: 0\n",
      "bedrooms        building_id\n",
      "interest_level  created\n",
      "                description\n",
      "                display_address\n",
      "                features\n",
      "                latitude\n",
      "                listing_id\n",
      "                longitude\n",
      "                manager_id\n",
      "                photos\n",
      "                price\n",
      "                street_address\n"
     ]
    }
   ],
   "source": [
    "import tabulate\n",
    "from tabulate import tabulate\n",
    "cat=[]\n",
    "con=[]\n",
    "for i in df.columns:\n",
    "    if df[i].nunique()>100:\n",
    "        con.append(i)\n",
    "    else:\n",
    "        cat.append(i)\n",
    "print(tabulate({\"Categorical\":cat, \"Continouos\":con},headers=['Categorical','Continuous']))\n",
    "    "
   ]
  },
  {
   "cell_type": "code",
   "execution_count": 10,
   "id": "c1a5a978",
   "metadata": {},
   "outputs": [
    {
     "name": "stdout",
     "output_type": "stream",
     "text": [
      "Unnamed: 0 : 9871\n",
      "bathrooms : 12\n",
      "bedrooms : 8\n",
      "building_id : 3275\n",
      "created : 7892\n",
      "description : 8680\n",
      "display_address : 3233\n",
      "features : 3548\n",
      "latitude : 1632\n",
      "listing_id : 9871\n",
      "longitude : 1169\n",
      "manager_id : 2074\n",
      "photos : 9186\n",
      "price : 1318\n",
      "street_address : 5509\n",
      "interest_level : 3\n"
     ]
    }
   ],
   "source": [
    "for i in df.columns:\n",
    "    print(i,':',df[i].nunique())"
   ]
  },
  {
   "cell_type": "markdown",
   "id": "c6d2b7b2",
   "metadata": {},
   "source": [
    "# Data Visualization"
   ]
  },
  {
   "cell_type": "code",
   "execution_count": 11,
   "id": "d80cac39",
   "metadata": {},
   "outputs": [
    {
     "data": {
      "image/png": "[encoded data removed]",
      "text/plain": [
       "<Figure size 2000x700 with 3 Axes>"
      ]
     },
     "metadata": {},
     "output_type": "display_data"
    }
   ],
   "source": [
    "#Visualzing Categorical Data\n",
    "\n",
    "hrcat=df.copy()\n",
    "c=3\n",
    "r=int(len(cat)/c)\n",
    "fig,axes=plt.subplots(r,c,figsize=(20,7))\n",
    "for i,ax in zip(cat,axes.flatten()[:len(cat)]):\n",
    "    sb.countplot(data=hrcat[i],x=hrcat[i],ax=ax)\n",
    "plt.show()\n"
   ]
  },
  {
   "cell_type": "code",
   "execution_count": null,
   "id": "2b9b982f",
   "metadata": {},
   "outputs": [],
   "source": [
    "numerics=['int16','int32','int64','float16','float32','float64']\n",
    "new_df=df.select_dtypes(include=numerics)\n",
    "numerics_col=new_df.columns\n",
    "n_col=2\n",
    "n_bins=25\n",
    "n_row=int((len(numerics_col)/n_col))\n",
    "fig,axs=plt.subplots(n_row,n_col,tight_layout=True,figsize=(25,20))\n",
    "for col,ax in zip(numerics_col,axs.flatten()[:len(numerics_col)]):\n",
    "    sb.histplot(data=new_df[col],kde=True, ax=ax, bins=10)\n",
    "plt.show()"
   ]
  },
  {
   "cell_type": "markdown",
   "id": "72ef1bb1",
   "metadata": {},
   "source": [
    "# Data Preparataion"
   ]
  },
  {
   "cell_type": "code",
   "execution_count": 14,
   "id": "9e4f4673",
   "metadata": {},
   "outputs": [],
   "source": [
    "df['created']=pd.to_datetime(df['created'])"
   ]
  },
  {
   "cell_type": "code",
   "execution_count": 15,
   "id": "17f4b6aa",
   "metadata": {},
   "outputs": [
    {
     "data": {
      "text/html": [
       "<div>\n",
       "<style scoped>\n",
       "    .dataframe tbody tr th:only-of-type {\n",
       "        vertical-align: middle;\n",
       "    }\n",
       "\n",
       "    .dataframe tbody tr th {\n",
       "        vertical-align: top;\n",
       "    }\n",
       "\n",
       "    .dataframe thead th {\n",
       "        text-align: right;\n",
       "    }\n",
       "</style>\n",
       "<table border=\"1\" class=\"dataframe\">\n",
       "  <thead>\n",
       "    <tr style=\"text-align: right;\">\n",
       "      <th></th>\n",
       "      <th>bathrooms</th>\n",
       "      <th>bedrooms</th>\n",
       "      <th>features</th>\n",
       "      <th>latitude</th>\n",
       "      <th>listing_id</th>\n",
       "      <th>longitude</th>\n",
       "      <th>price</th>\n",
       "      <th>interest_level</th>\n",
       "    </tr>\n",
       "  </thead>\n",
       "  <tbody>\n",
       "    <tr>\n",
       "      <th>0</th>\n",
       "      <td>1.0</td>\n",
       "      <td>0</td>\n",
       "      <td>['Cats Allowed', 'Dogs Allowed', 'Doorman', 'E...</td>\n",
       "      <td>40.7672</td>\n",
       "      <td>6827153</td>\n",
       "      <td>-73.9802</td>\n",
       "      <td>2800</td>\n",
       "      <td>high</td>\n",
       "    </tr>\n",
       "    <tr>\n",
       "      <th>1</th>\n",
       "      <td>1.0</td>\n",
       "      <td>1</td>\n",
       "      <td>['Cats Allowed', 'Dogs Allowed', 'Reduced Fee'...</td>\n",
       "      <td>40.7483</td>\n",
       "      <td>6908998</td>\n",
       "      <td>-73.9741</td>\n",
       "      <td>2100</td>\n",
       "      <td>high</td>\n",
       "    </tr>\n",
       "    <tr>\n",
       "      <th>2</th>\n",
       "      <td>1.0</td>\n",
       "      <td>1</td>\n",
       "      <td>['Elevator', 'Furnished', 'Hardwood Floors']</td>\n",
       "      <td>40.7399</td>\n",
       "      <td>7013774</td>\n",
       "      <td>-73.9812</td>\n",
       "      <td>3000</td>\n",
       "      <td>high</td>\n",
       "    </tr>\n",
       "    <tr>\n",
       "      <th>3</th>\n",
       "      <td>1.0</td>\n",
       "      <td>2</td>\n",
       "      <td>['Doorman', 'Elevator', 'Dishwasher', 'Hardwoo...</td>\n",
       "      <td>40.7530</td>\n",
       "      <td>7113518</td>\n",
       "      <td>-73.9958</td>\n",
       "      <td>3000</td>\n",
       "      <td>high</td>\n",
       "    </tr>\n",
       "    <tr>\n",
       "      <th>4</th>\n",
       "      <td>1.0</td>\n",
       "      <td>2</td>\n",
       "      <td>['Dining Room', 'Doorman', 'Elevator', 'Fitnes...</td>\n",
       "      <td>40.7695</td>\n",
       "      <td>7071666</td>\n",
       "      <td>-73.9603</td>\n",
       "      <td>3300</td>\n",
       "      <td>high</td>\n",
       "    </tr>\n",
       "  </tbody>\n",
       "</table>\n",
       "</div>"
      ],
      "text/plain": [
       "   bathrooms  bedrooms                                           features  \\\n",
       "0        1.0         0  ['Cats Allowed', 'Dogs Allowed', 'Doorman', 'E...   \n",
       "1        1.0         1  ['Cats Allowed', 'Dogs Allowed', 'Reduced Fee'...   \n",
       "2        1.0         1       ['Elevator', 'Furnished', 'Hardwood Floors']   \n",
       "3        1.0         2  ['Doorman', 'Elevator', 'Dishwasher', 'Hardwoo...   \n",
       "4        1.0         2  ['Dining Room', 'Doorman', 'Elevator', 'Fitnes...   \n",
       "\n",
       "   latitude  listing_id  longitude  price interest_level  \n",
       "0   40.7672     6827153   -73.9802   2800           high  \n",
       "1   40.7483     6908998   -73.9741   2100           high  \n",
       "2   40.7399     7013774   -73.9812   3000           high  \n",
       "3   40.7530     7113518   -73.9958   3000           high  \n",
       "4   40.7695     7071666   -73.9603   3300           high  "
      ]
     },
     "execution_count": 15,
     "metadata": {},
     "output_type": "execute_result"
    }
   ],
   "source": [
    "#Dropping unecessary feature\n",
    "df=df.drop(columns=['Unnamed: 0','building_id','created','description','display_address','manager_id','photos','street_address'])\n",
    "df.head()"
   ]
  },
  {
   "cell_type": "code",
   "execution_count": 16,
   "id": "a804ab6c",
   "metadata": {},
   "outputs": [],
   "source": [
    "con.remove('features')"
   ]
  },
  {
   "cell_type": "code",
   "execution_count": 22,
   "id": "011aca84",
   "metadata": {},
   "outputs": [],
   "source": [
    "#Label Encoding\n",
    "\n",
    "lbl=LabelEncoder()\n",
    "df['features']=lbl.fit_transform(df['features'])\n",
    "df['interest_level']=lbl.fit_transform(df['interest_level'])"
   ]
  },
  {
   "cell_type": "code",
   "execution_count": 23,
   "id": "e1052cd2",
   "metadata": {},
   "outputs": [
    {
     "name": "stdout",
     "output_type": "stream",
     "text": [
      "Size of training dataset:  (6909, 7)\n",
      "Size of test dataset:  (2962, 7)\n"
     ]
    }
   ],
   "source": [
    "#Creating test and training datasets\n",
    "\n",
    "x=df.drop(columns='interest_level')\n",
    "y=df['interest_level']\n",
    "\n",
    "x_train,x_test,y_train,y_test=train_test_split(x,y,test_size=0.3,random_state=47)\n",
    "\n",
    "print('Size of training dataset: ', x_train.shape)\n",
    "print('Size of test dataset: ', x_test.shape)"
   ]
  },
  {
   "cell_type": "code",
   "execution_count": 24,
   "id": "974210c6",
   "metadata": {},
   "outputs": [],
   "source": [
    "# Feature Scaling\n",
    "\n",
    "Sc=StandardScaler()\n",
    "x_train=Sc.fit_transform(x_train)\n",
    "x_test=Sc.fit_transform(x_test)"
   ]
  },
  {
   "cell_type": "markdown",
   "id": "0e033a6a",
   "metadata": {},
   "source": [
    "# Model Building"
   ]
  },
  {
   "cell_type": "code",
   "execution_count": 25,
   "id": "54508b38",
   "metadata": {},
   "outputs": [],
   "source": [
    "# get a stacking ensemble of models\n",
    "def get_stacking():\n",
    "    lbl=[]\n",
    "    lbl.append(('NB',GaussianNB()))\n",
    "    lbl.append(('DT',DecisionTreeClassifier()))\n",
    "    lbl.append(('RF',RandomForestClassifier()))\n",
    "    lbl.append(('Ada',AdaBoostClassifier()))\n",
    "    \n",
    "    l1=LogisticRegression()\n",
    "        \n",
    "    model=StackingClassifier(estimators=lbl,final_estimator=l1,cv=5)\n",
    "    return model"
   ]
  },
  {
   "cell_type": "code",
   "execution_count": 28,
   "id": "1f3cbae1",
   "metadata": {},
   "outputs": [],
   "source": [
    "# define the model\n",
    "model_log=LogisticRegression()\n",
    "model_tree=DecisionTreeClassifier()\n",
    "model_random=RandomForestClassifier()\n",
    "model_ADA=AdaBoostClassifier()"
   ]
  },
  {
   "cell_type": "code",
   "execution_count": 31,
   "id": "2d1d4f23",
   "metadata": {},
   "outputs": [],
   "source": [
    "# define the model\n",
    "model=get_stacking()"
   ]
  },
  {
   "cell_type": "code",
   "execution_count": 32,
   "id": "e50fdf30",
   "metadata": {},
   "outputs": [
    {
     "data": {
      "text/plain": [
       "StackingClassifier(cv=5,\n",
       "                   estimators=[('NB', GaussianNB()),\n",
       "                               ('DT', DecisionTreeClassifier()),\n",
       "                               ('RF', RandomForestClassifier()),\n",
       "                               ('Ada', AdaBoostClassifier())],\n",
       "                   final_estimator=LogisticRegression())"
      ]
     },
     "execution_count": 32,
     "metadata": {},
     "output_type": "execute_result"
    }
   ],
   "source": [
    "model"
   ]
  },
  {
   "cell_type": "markdown",
   "id": "dd4ccbfa",
   "metadata": {},
   "source": [
    "# Compare different ensemble models"
   ]
  },
  {
   "cell_type": "code",
   "execution_count": 33,
   "id": "68489679",
   "metadata": {},
   "outputs": [
    {
     "data": {
      "text/plain": [
       "array([0.70546559, 0.70516717, 0.71327254, 0.69199595, 0.6899696 ,\n",
       "       0.7183384 , 0.70618034, 0.69300912, 0.71529889, 0.70111449,\n",
       "       0.70850202, 0.70111449, 0.69199595, 0.70314083, 0.70921986,\n",
       "       0.70516717, 0.68895643, 0.6970618 , 0.71327254, 0.71327254,\n",
       "       0.71963563, 0.72847011, 0.69300912, 0.69604863, 0.67983789,\n",
       "       0.70921986, 0.704154  , 0.70719352, 0.6970618 , 0.73353597])"
      ]
     },
     "execution_count": 33,
     "metadata": {},
     "output_type": "execute_result"
    }
   ],
   "source": [
    "rf=RandomForestClassifier()\n",
    "cv=RepeatedStratifiedKFold(n_splits=10,n_repeats=3,random_state=42)\n",
    "score=cross_val_score(rf,x,y,scoring='accuracy',cv=cv,n_jobs=-1)\n",
    "score"
   ]
  },
  {
   "cell_type": "code",
   "execution_count": 34,
   "id": "24279d26",
   "metadata": {},
   "outputs": [
    {
     "data": {
      "text/plain": [
       "0.7046560755407342"
      ]
     },
     "execution_count": 34,
     "metadata": {},
     "output_type": "execute_result"
    }
   ],
   "source": [
    "score.mean()"
   ]
  },
  {
   "cell_type": "code",
   "execution_count": 35,
   "id": "9401298d",
   "metadata": {},
   "outputs": [],
   "source": [
    "models=[model_log,model_tree,model_random,model_ADA,model]\n",
    "L,T,R,A,S=[],[],[],[],[]\n",
    "splits=[2,4,5,6,7,8,9,10]\n",
    "for i in splits:\n",
    "    cv=RepeatedStratifiedKFold(n_splits=10,n_repeats=3,random_state=8)\n",
    "    for j in models:\n",
    "        score=cross_val_score(j,x,y,scoring='accuracy',cv=cv,n_jobs=-1)\n",
    "        if j==model_log:\n",
    "            L.append(score.mean())\n",
    "        elif j==model_tree:\n",
    "            T.append(score.mean())\n",
    "        elif j==model_random:\n",
    "            R.append(score.mean())\n",
    "        elif j==model_ADA:\n",
    "            A.append(score.mean())\n",
    "        elif j==model:\n",
    "            S.append(score.mean())\n"
   ]
  },
  {
   "cell_type": "code",
   "execution_count": 36,
   "id": "9bad30cb",
   "metadata": {},
   "outputs": [
    {
     "name": "stdout",
     "output_type": "stream",
     "text": [
      "[0.6945598447838089, 0.6945598447838089, 0.6945598447838089, 0.6945598447838089, 0.6945598447838089, 0.6945598447838089, 0.6945598447838089, 0.6945598447838089] [0.619591839664628, 0.6201658332957325, 0.6208411440494307, 0.6197604622576626, 0.6192539791923891, 0.6211451979649069, 0.6199297001368669, 0.6197944055446855] [0.7041833648496583, 0.7045889751656829, 0.704183535762483, 0.7053655688594099, 0.7038118345509164, 0.7041839459532628, 0.7056018387485353, 0.704859154159266] [0.7086074091393241, 0.708641147330957, 0.7086074091393241, 0.708641147330957, 0.708641147330957, 0.708641147330957, 0.7086074091393241, 0.7086074091393241] [0.7123221652057038, 0.7125921049213322, 0.7132679967786353, 0.7129971683163173, 0.7124231405026477, 0.7123891288504952, 0.7127614453482315, 0.7116467519043107]\n"
     ]
    }
   ],
   "source": [
    "print(L,T,R,A,S)"
   ]
  },
  {
   "cell_type": "code",
   "execution_count": 37,
   "id": "645988ad",
   "metadata": {},
   "outputs": [
    {
     "data": {
      "text/html": [
       "<div>\n",
       "<style scoped>\n",
       "    .dataframe tbody tr th:only-of-type {\n",
       "        vertical-align: middle;\n",
       "    }\n",
       "\n",
       "    .dataframe tbody tr th {\n",
       "        vertical-align: top;\n",
       "    }\n",
       "\n",
       "    .dataframe thead th {\n",
       "        text-align: right;\n",
       "    }\n",
       "</style>\n",
       "<table border=\"1\" class=\"dataframe\">\n",
       "  <thead>\n",
       "    <tr style=\"text-align: right;\">\n",
       "      <th></th>\n",
       "      <th>n_splits</th>\n",
       "      <th>Linear Regression</th>\n",
       "      <th>Random Forest</th>\n",
       "      <th>Ada boost</th>\n",
       "    </tr>\n",
       "  </thead>\n",
       "  <tbody>\n",
       "    <tr>\n",
       "      <th>0</th>\n",
       "      <td>2</td>\n",
       "      <td>0.69456</td>\n",
       "      <td>0.704183</td>\n",
       "      <td>0.708607</td>\n",
       "    </tr>\n",
       "    <tr>\n",
       "      <th>1</th>\n",
       "      <td>4</td>\n",
       "      <td>0.69456</td>\n",
       "      <td>0.704589</td>\n",
       "      <td>0.708641</td>\n",
       "    </tr>\n",
       "    <tr>\n",
       "      <th>2</th>\n",
       "      <td>5</td>\n",
       "      <td>0.69456</td>\n",
       "      <td>0.704184</td>\n",
       "      <td>0.708607</td>\n",
       "    </tr>\n",
       "    <tr>\n",
       "      <th>3</th>\n",
       "      <td>6</td>\n",
       "      <td>0.69456</td>\n",
       "      <td>0.705366</td>\n",
       "      <td>0.708641</td>\n",
       "    </tr>\n",
       "    <tr>\n",
       "      <th>4</th>\n",
       "      <td>7</td>\n",
       "      <td>0.69456</td>\n",
       "      <td>0.703812</td>\n",
       "      <td>0.708641</td>\n",
       "    </tr>\n",
       "    <tr>\n",
       "      <th>5</th>\n",
       "      <td>8</td>\n",
       "      <td>0.69456</td>\n",
       "      <td>0.704184</td>\n",
       "      <td>0.708641</td>\n",
       "    </tr>\n",
       "    <tr>\n",
       "      <th>6</th>\n",
       "      <td>9</td>\n",
       "      <td>0.69456</td>\n",
       "      <td>0.705602</td>\n",
       "      <td>0.708607</td>\n",
       "    </tr>\n",
       "    <tr>\n",
       "      <th>7</th>\n",
       "      <td>10</td>\n",
       "      <td>0.69456</td>\n",
       "      <td>0.704859</td>\n",
       "      <td>0.708607</td>\n",
       "    </tr>\n",
       "  </tbody>\n",
       "</table>\n",
       "</div>"
      ],
      "text/plain": [
       "   n_splits  Linear Regression  Random Forest  Ada boost\n",
       "0         2            0.69456       0.704183   0.708607\n",
       "1         4            0.69456       0.704589   0.708641\n",
       "2         5            0.69456       0.704184   0.708607\n",
       "3         6            0.69456       0.705366   0.708641\n",
       "4         7            0.69456       0.703812   0.708641\n",
       "5         8            0.69456       0.704184   0.708641\n",
       "6         9            0.69456       0.705602   0.708607\n",
       "7        10            0.69456       0.704859   0.708607"
      ]
     },
     "execution_count": 37,
     "metadata": {},
     "output_type": "execute_result"
    }
   ],
   "source": [
    "pd.DataFrame({'n_splits':splits,'Linear Regression':L,'Random Forest':R,'Ada boost':A},index=list(range(len(splits))))"
   ]
  }
 ],
 "metadata": {
  "kernelspec": {
   "display_name": "Python 3 (ipykernel)",
   "language": "python",
   "name": "python3"
  },
  "language_info": {
   "codemirror_mode": {
    "name": "ipython",
    "version": 3
   },
   "file_extension": ".py",
   "mimetype": "text/x-python",
   "name": "python",
   "nbconvert_exporter": "python",
   "pygments_lexer": "ipython3",
   "version": "3.9.13"
  }
 },
 "nbformat": 4,
 "nbformat_minor": 5
}
