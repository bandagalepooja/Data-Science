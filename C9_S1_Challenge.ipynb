{
 "cells": [
  {
   "cell_type": "markdown",
   "id": "c3d55da6",
   "metadata": {},
   "source": [
    "# Preparing Data for Machine Learning Challenge"
   ]
  },
  {
   "cell_type": "markdown",
   "id": "18688636",
   "metadata": {},
   "source": [
    "### Task 1.1 : Import Required Liabraries"
   ]
  },
  {
   "cell_type": "code",
   "execution_count": 1,
   "id": "1fec1c05",
   "metadata": {},
   "outputs": [],
   "source": [
    "import pandas as pd\n",
    "import numpy as np\n",
    "import matplotlib.pyplot as plt\n",
    "import seaborn as sb\n",
    "from sklearn import preprocessing\n",
    "from sklearn.model_selection import train_test_split\n",
    "import warnings\n",
    "warnings.filterwarnings('ignore')"
   ]
  },
  {
   "cell_type": "markdown",
   "id": "37a87b2a",
   "metadata": {},
   "source": [
    "### Task 1.2 : Import Data From Data Source"
   ]
  },
  {
   "cell_type": "code",
   "execution_count": 2,
   "id": "4a7ece99",
   "metadata": {},
   "outputs": [
    {
     "data": {
      "text/html": [
       "<div>\n",
       "<style scoped>\n",
       "    .dataframe tbody tr th:only-of-type {\n",
       "        vertical-align: middle;\n",
       "    }\n",
       "\n",
       "    .dataframe tbody tr th {\n",
       "        vertical-align: top;\n",
       "    }\n",
       "\n",
       "    .dataframe thead th {\n",
       "        text-align: right;\n",
       "    }\n",
       "</style>\n",
       "<table border=\"1\" class=\"dataframe\">\n",
       "  <thead>\n",
       "    <tr style=\"text-align: right;\">\n",
       "      <th></th>\n",
       "      <th>age</th>\n",
       "      <th>sex</th>\n",
       "      <th>bmi</th>\n",
       "      <th>children</th>\n",
       "      <th>smoker</th>\n",
       "      <th>region</th>\n",
       "      <th>charges</th>\n",
       "    </tr>\n",
       "  </thead>\n",
       "  <tbody>\n",
       "    <tr>\n",
       "      <th>0</th>\n",
       "      <td>19</td>\n",
       "      <td>female</td>\n",
       "      <td>27.900</td>\n",
       "      <td>0</td>\n",
       "      <td>yes</td>\n",
       "      <td>southwest</td>\n",
       "      <td>16884.92400</td>\n",
       "    </tr>\n",
       "    <tr>\n",
       "      <th>1</th>\n",
       "      <td>18</td>\n",
       "      <td>male</td>\n",
       "      <td>33.770</td>\n",
       "      <td>1</td>\n",
       "      <td>no</td>\n",
       "      <td>southeast</td>\n",
       "      <td>1725.55230</td>\n",
       "    </tr>\n",
       "    <tr>\n",
       "      <th>2</th>\n",
       "      <td>28</td>\n",
       "      <td>male</td>\n",
       "      <td>33.000</td>\n",
       "      <td>3</td>\n",
       "      <td>no</td>\n",
       "      <td>southeast</td>\n",
       "      <td>4449.46200</td>\n",
       "    </tr>\n",
       "    <tr>\n",
       "      <th>3</th>\n",
       "      <td>33</td>\n",
       "      <td>male</td>\n",
       "      <td>22.705</td>\n",
       "      <td>0</td>\n",
       "      <td>no</td>\n",
       "      <td>northwest</td>\n",
       "      <td>21984.47061</td>\n",
       "    </tr>\n",
       "    <tr>\n",
       "      <th>4</th>\n",
       "      <td>32</td>\n",
       "      <td>male</td>\n",
       "      <td>28.880</td>\n",
       "      <td>0</td>\n",
       "      <td>no</td>\n",
       "      <td>northwest</td>\n",
       "      <td>3866.85520</td>\n",
       "    </tr>\n",
       "  </tbody>\n",
       "</table>\n",
       "</div>"
      ],
      "text/plain": [
       "   age     sex     bmi  children smoker     region      charges\n",
       "0   19  female  27.900         0    yes  southwest  16884.92400\n",
       "1   18    male  33.770         1     no  southeast   1725.55230\n",
       "2   28    male  33.000         3     no  southeast   4449.46200\n",
       "3   33    male  22.705         0     no  northwest  21984.47061\n",
       "4   32    male  28.880         0     no  northwest   3866.85520"
      ]
     },
     "execution_count": 2,
     "metadata": {},
     "output_type": "execute_result"
    }
   ],
   "source": [
    "df=pd.read_csv(r'C:\\Users\\Admin\\Desktop\\Machine Learning\\Repository\\DS2_C6_S1_Insurance_Data_Challenge.csv') #importing data\n",
    "df.head()"
   ]
  },
  {
   "cell_type": "markdown",
   "id": "48dcbc04",
   "metadata": {},
   "source": [
    "### Task 2.1 Check Structure of Data"
   ]
  },
  {
   "cell_type": "code",
   "execution_count": 3,
   "id": "4e3290cc",
   "metadata": {},
   "outputs": [
    {
     "data": {
      "text/plain": [
       "(1338, 7)"
      ]
     },
     "execution_count": 3,
     "metadata": {},
     "output_type": "execute_result"
    }
   ],
   "source": [
    "#finding rows and columns in dataframe\n",
    "df.shape  "
   ]
  },
  {
   "cell_type": "code",
   "execution_count": 4,
   "id": "88dcc04a",
   "metadata": {},
   "outputs": [
    {
     "name": "stdout",
     "output_type": "stream",
     "text": [
      "<class 'pandas.core.frame.DataFrame'>\n",
      "RangeIndex: 1338 entries, 0 to 1337\n",
      "Data columns (total 7 columns):\n",
      " #   Column    Non-Null Count  Dtype  \n",
      "---  ------    --------------  -----  \n",
      " 0   age       1338 non-null   int64  \n",
      " 1   sex       1338 non-null   object \n",
      " 2   bmi       1338 non-null   float64\n",
      " 3   children  1338 non-null   int64  \n",
      " 4   smoker    1338 non-null   object \n",
      " 5   region    1338 non-null   object \n",
      " 6   charges   1338 non-null   float64\n",
      "dtypes: float64(2), int64(2), object(3)\n",
      "memory usage: 73.3+ KB\n"
     ]
    }
   ],
   "source": [
    "#checking structure of data\n",
    "df.info()"
   ]
  },
  {
   "cell_type": "code",
   "execution_count": 5,
   "id": "13b4b540",
   "metadata": {},
   "outputs": [
    {
     "data": {
      "text/plain": [
       "Index(['age', 'sex', 'bmi', 'children', 'smoker', 'region', 'charges'], dtype='object')"
      ]
     },
     "execution_count": 5,
     "metadata": {},
     "output_type": "execute_result"
    }
   ],
   "source": [
    "#findings columns\n",
    "df.columns"
   ]
  },
  {
   "cell_type": "markdown",
   "id": "79c029aa",
   "metadata": {},
   "source": [
    "### Task 2.2 : Summarize the Data"
   ]
  },
  {
   "cell_type": "code",
   "execution_count": 6,
   "id": "7be76658",
   "metadata": {},
   "outputs": [
    {
     "data": {
      "text/html": [
       "<div>\n",
       "<style scoped>\n",
       "    .dataframe tbody tr th:only-of-type {\n",
       "        vertical-align: middle;\n",
       "    }\n",
       "\n",
       "    .dataframe tbody tr th {\n",
       "        vertical-align: top;\n",
       "    }\n",
       "\n",
       "    .dataframe thead th {\n",
       "        text-align: right;\n",
       "    }\n",
       "</style>\n",
       "<table border=\"1\" class=\"dataframe\">\n",
       "  <thead>\n",
       "    <tr style=\"text-align: right;\">\n",
       "      <th></th>\n",
       "      <th>count</th>\n",
       "      <th>mean</th>\n",
       "      <th>std</th>\n",
       "      <th>min</th>\n",
       "      <th>25%</th>\n",
       "      <th>50%</th>\n",
       "      <th>75%</th>\n",
       "      <th>max</th>\n",
       "    </tr>\n",
       "  </thead>\n",
       "  <tbody>\n",
       "    <tr>\n",
       "      <th>age</th>\n",
       "      <td>1338.0</td>\n",
       "      <td>39.207025</td>\n",
       "      <td>14.049960</td>\n",
       "      <td>18.0000</td>\n",
       "      <td>27.00000</td>\n",
       "      <td>39.000</td>\n",
       "      <td>51.000000</td>\n",
       "      <td>64.00000</td>\n",
       "    </tr>\n",
       "    <tr>\n",
       "      <th>bmi</th>\n",
       "      <td>1338.0</td>\n",
       "      <td>30.663397</td>\n",
       "      <td>6.098187</td>\n",
       "      <td>15.9600</td>\n",
       "      <td>26.29625</td>\n",
       "      <td>30.400</td>\n",
       "      <td>34.693750</td>\n",
       "      <td>53.13000</td>\n",
       "    </tr>\n",
       "    <tr>\n",
       "      <th>children</th>\n",
       "      <td>1338.0</td>\n",
       "      <td>1.094918</td>\n",
       "      <td>1.205493</td>\n",
       "      <td>0.0000</td>\n",
       "      <td>0.00000</td>\n",
       "      <td>1.000</td>\n",
       "      <td>2.000000</td>\n",
       "      <td>5.00000</td>\n",
       "    </tr>\n",
       "    <tr>\n",
       "      <th>charges</th>\n",
       "      <td>1338.0</td>\n",
       "      <td>13270.422265</td>\n",
       "      <td>12110.011237</td>\n",
       "      <td>1121.8739</td>\n",
       "      <td>4740.28715</td>\n",
       "      <td>9382.033</td>\n",
       "      <td>16639.912515</td>\n",
       "      <td>63770.42801</td>\n",
       "    </tr>\n",
       "  </tbody>\n",
       "</table>\n",
       "</div>"
      ],
      "text/plain": [
       "           count          mean           std        min         25%       50%  \\\n",
       "age       1338.0     39.207025     14.049960    18.0000    27.00000    39.000   \n",
       "bmi       1338.0     30.663397      6.098187    15.9600    26.29625    30.400   \n",
       "children  1338.0      1.094918      1.205493     0.0000     0.00000     1.000   \n",
       "charges   1338.0  13270.422265  12110.011237  1121.8739  4740.28715  9382.033   \n",
       "\n",
       "                   75%          max  \n",
       "age          51.000000     64.00000  \n",
       "bmi          34.693750     53.13000  \n",
       "children      2.000000      5.00000  \n",
       "charges   16639.912515  63770.42801  "
      ]
     },
     "execution_count": 6,
     "metadata": {},
     "output_type": "execute_result"
    }
   ],
   "source": [
    "#summarizing data\n",
    "df.describe().T"
   ]
  },
  {
   "cell_type": "markdown",
   "id": "4f63b2c9",
   "metadata": {},
   "source": [
    "### Task 3.1 : Check if there any missing value exists in any feature, identify those features"
   ]
  },
  {
   "cell_type": "code",
   "execution_count": 7,
   "id": "b00599d1",
   "metadata": {},
   "outputs": [
    {
     "data": {
      "text/plain": [
       "age         0\n",
       "sex         0\n",
       "bmi         0\n",
       "children    0\n",
       "smoker      0\n",
       "region      0\n",
       "charges     0\n",
       "dtype: int64"
      ]
     },
     "execution_count": 7,
     "metadata": {},
     "output_type": "execute_result"
    }
   ],
   "source": [
    "#finding missing values\n",
    "df.isnull().sum()"
   ]
  },
  {
   "cell_type": "code",
   "execution_count": 8,
   "id": "0c2a18ce",
   "metadata": {},
   "outputs": [],
   "source": [
    "# No any missing value"
   ]
  },
  {
   "cell_type": "markdown",
   "id": "4670c042",
   "metadata": {},
   "source": [
    "### Task 3.2 : Perform missing value treatment for categorical and numerical features if any require"
   ]
  },
  {
   "cell_type": "markdown",
   "id": "2ef6c42c",
   "metadata": {},
   "source": [
    "### Task 4.1 : Convert Non-Numeric Labeled Columns into Categorical Type"
   ]
  },
  {
   "cell_type": "code",
   "execution_count": 9,
   "id": "c8207e75",
   "metadata": {},
   "outputs": [],
   "source": [
    "def cat(x):\n",
    "    cat=[]\n",
    "    for i in df.columns:\n",
    "        if x[i].nunique('int64')<10:\n",
    "            cat.append(i)\n",
    "    return cat"
   ]
  },
  {
   "cell_type": "code",
   "execution_count": 10,
   "id": "7a720736",
   "metadata": {},
   "outputs": [
    {
     "data": {
      "text/plain": [
       "['sex', 'children', 'smoker', 'region']"
      ]
     },
     "execution_count": 10,
     "metadata": {},
     "output_type": "execute_result"
    }
   ],
   "source": [
    "cat(df)"
   ]
  },
  {
   "cell_type": "code",
   "execution_count": 11,
   "id": "a515440b",
   "metadata": {},
   "outputs": [],
   "source": [
    "df['sex']=df['sex'].astype('object')\n",
    "df['children']=df['children'].astype('object')\n",
    "df['smoker']=df['smoker'].astype('object')\n",
    "df['region']=df['region'].astype('object')"
   ]
  },
  {
   "cell_type": "code",
   "execution_count": 12,
   "id": "bc84825b",
   "metadata": {},
   "outputs": [
    {
     "name": "stdout",
     "output_type": "stream",
     "text": [
      "<class 'pandas.core.frame.DataFrame'>\n",
      "RangeIndex: 1338 entries, 0 to 1337\n",
      "Data columns (total 7 columns):\n",
      " #   Column    Non-Null Count  Dtype  \n",
      "---  ------    --------------  -----  \n",
      " 0   age       1338 non-null   int64  \n",
      " 1   sex       1338 non-null   object \n",
      " 2   bmi       1338 non-null   float64\n",
      " 3   children  1338 non-null   object \n",
      " 4   smoker    1338 non-null   object \n",
      " 5   region    1338 non-null   object \n",
      " 6   charges   1338 non-null   float64\n",
      "dtypes: float64(2), int64(1), object(4)\n",
      "memory usage: 73.3+ KB\n"
     ]
    }
   ],
   "source": [
    "df.info()"
   ]
  },
  {
   "cell_type": "markdown",
   "id": "a4227f4a",
   "metadata": {},
   "source": [
    "### Task 4.2 : Use Label Encoder Technique to Convert Categorical Columns Numerical Type"
   ]
  },
  {
   "cell_type": "code",
   "execution_count": 13,
   "id": "411bfef3",
   "metadata": {},
   "outputs": [
    {
     "name": "stdout",
     "output_type": "stream",
     "text": [
      "Index(['sex', 'children', 'smoker', 'region'], dtype='object')\n"
     ]
    }
   ],
   "source": [
    "cat_col=df.select_dtypes('object').columns\n",
    "print(cat_col)\n",
    "\n",
    "lbl_end=preprocessing.LabelEncoder()\n",
    "\n",
    "for i in cat_col:\n",
    "    df[i]=lbl_end.fit_transform(df[i])"
   ]
  },
  {
   "cell_type": "markdown",
   "id": "69299cfb",
   "metadata": {},
   "source": [
    "### Task 4.3 : Perform the Data Scaling"
   ]
  },
  {
   "cell_type": "code",
   "execution_count": 14,
   "id": "e7b1c2ab",
   "metadata": {},
   "outputs": [
    {
     "data": {
      "text/html": [
       "<div>\n",
       "<style scoped>\n",
       "    .dataframe tbody tr th:only-of-type {\n",
       "        vertical-align: middle;\n",
       "    }\n",
       "\n",
       "    .dataframe tbody tr th {\n",
       "        vertical-align: top;\n",
       "    }\n",
       "\n",
       "    .dataframe thead th {\n",
       "        text-align: right;\n",
       "    }\n",
       "</style>\n",
       "<table border=\"1\" class=\"dataframe\">\n",
       "  <thead>\n",
       "    <tr style=\"text-align: right;\">\n",
       "      <th></th>\n",
       "      <th>age</th>\n",
       "      <th>sex</th>\n",
       "      <th>bmi</th>\n",
       "      <th>children</th>\n",
       "      <th>smoker</th>\n",
       "      <th>region</th>\n",
       "      <th>charges</th>\n",
       "    </tr>\n",
       "  </thead>\n",
       "  <tbody>\n",
       "    <tr>\n",
       "      <th>0</th>\n",
       "      <td>0.021739</td>\n",
       "      <td>0.0</td>\n",
       "      <td>0.321227</td>\n",
       "      <td>0.0</td>\n",
       "      <td>1.0</td>\n",
       "      <td>1.000000</td>\n",
       "      <td>0.251611</td>\n",
       "    </tr>\n",
       "    <tr>\n",
       "      <th>1</th>\n",
       "      <td>0.000000</td>\n",
       "      <td>1.0</td>\n",
       "      <td>0.479150</td>\n",
       "      <td>0.2</td>\n",
       "      <td>0.0</td>\n",
       "      <td>0.666667</td>\n",
       "      <td>0.009636</td>\n",
       "    </tr>\n",
       "    <tr>\n",
       "      <th>2</th>\n",
       "      <td>0.217391</td>\n",
       "      <td>1.0</td>\n",
       "      <td>0.458434</td>\n",
       "      <td>0.6</td>\n",
       "      <td>0.0</td>\n",
       "      <td>0.666667</td>\n",
       "      <td>0.053115</td>\n",
       "    </tr>\n",
       "    <tr>\n",
       "      <th>3</th>\n",
       "      <td>0.326087</td>\n",
       "      <td>1.0</td>\n",
       "      <td>0.181464</td>\n",
       "      <td>0.0</td>\n",
       "      <td>0.0</td>\n",
       "      <td>0.333333</td>\n",
       "      <td>0.333010</td>\n",
       "    </tr>\n",
       "    <tr>\n",
       "      <th>4</th>\n",
       "      <td>0.304348</td>\n",
       "      <td>1.0</td>\n",
       "      <td>0.347592</td>\n",
       "      <td>0.0</td>\n",
       "      <td>0.0</td>\n",
       "      <td>0.333333</td>\n",
       "      <td>0.043816</td>\n",
       "    </tr>\n",
       "  </tbody>\n",
       "</table>\n",
       "</div>"
      ],
      "text/plain": [
       "        age  sex       bmi  children  smoker    region   charges\n",
       "0  0.021739  0.0  0.321227       0.0     1.0  1.000000  0.251611\n",
       "1  0.000000  1.0  0.479150       0.2     0.0  0.666667  0.009636\n",
       "2  0.217391  1.0  0.458434       0.6     0.0  0.666667  0.053115\n",
       "3  0.326087  1.0  0.181464       0.0     0.0  0.333333  0.333010\n",
       "4  0.304348  1.0  0.347592       0.0     0.0  0.333333  0.043816"
      ]
     },
     "execution_count": 14,
     "metadata": {},
     "output_type": "execute_result"
    }
   ],
   "source": [
    "#data scaling\n",
    "\n",
    "def feature_scaling(scale):\n",
    "    if scale=='minmax':\n",
    "        scalar=preprocessing.MinMaxScaler()\n",
    "    else:\n",
    "        scalar=preprocessing.StandardScaler()\n",
    "    df_scale=pd.DataFrame(scalar.fit_transform(df),columns=df.columns)\n",
    "    return df_scale\n",
    "\n",
    "final_df=feature_scaling('minmax')\n",
    "final_df.head()"
   ]
  },
  {
   "cell_type": "markdown",
   "id": "09ebaf80",
   "metadata": {},
   "source": [
    "### Task 4.4 : Select best features based on their correlation values"
   ]
  },
  {
   "cell_type": "code",
   "execution_count": 15,
   "id": "3258b4c8",
   "metadata": {},
   "outputs": [
    {
     "data": {
      "image/png": "[encoded data removed]",
      "text/plain": [
       "<Figure size 1000x800 with 2 Axes>"
      ]
     },
     "metadata": {},
     "output_type": "display_data"
    }
   ],
   "source": [
    "plt.figure(figsize=(10,8))\n",
    "sb.heatmap(final_df.corr(),annot=True);"
   ]
  },
  {
   "cell_type": "code",
   "execution_count": 16,
   "id": "8c5d8a04",
   "metadata": {},
   "outputs": [],
   "source": [
    "#age , bmi and smoker have high correlation with insurance charges"
   ]
  },
  {
   "cell_type": "markdown",
   "id": "c7fffc12",
   "metadata": {},
   "source": [
    "### Task 5.1 : Split the data into train set and test set into 70:30 ratio by row index"
   ]
  },
  {
   "cell_type": "code",
   "execution_count": 17,
   "id": "34dd694f",
   "metadata": {},
   "outputs": [
    {
     "name": "stdout",
     "output_type": "stream",
     "text": [
      "No of rows :  1338\n",
      "n :  936\n",
      "Training dataset size :  (936, 7)\n",
      "Test dataset size :  (401, 7)\n"
     ]
    }
   ],
   "source": [
    "#Splitting the data into train set and test set into 70:30 ratio by row index\n",
    "\n",
    "print(\"No of rows : \",final_df.shape[0])\n",
    "n=int(df.shape[0]*0.7)\n",
    "print(\"n : \",n)\n",
    "\n",
    "X_train=final_df.iloc[:n,:]    \n",
    "print(\"Training dataset size : \",X_train.shape)\n",
    "\n",
    "X_test=final_df.iloc[n+1:,:]\n",
    "print(\"Test dataset size : \",X_test.shape)"
   ]
  },
  {
   "cell_type": "markdown",
   "id": "07867642",
   "metadata": {},
   "source": [
    "### Task 5.2 : Split the data into train set and test set into 70:30 ratio by train_test_split() built in function"
   ]
  },
  {
   "cell_type": "code",
   "execution_count": 18,
   "id": "4e8a2eff",
   "metadata": {},
   "outputs": [
    {
     "data": {
      "text/plain": [
       "Index(['age', 'sex', 'bmi', 'children', 'smoker', 'region', 'charges'], dtype='object')"
      ]
     },
     "execution_count": 18,
     "metadata": {},
     "output_type": "execute_result"
    }
   ],
   "source": [
    "final_df.columns"
   ]
  },
  {
   "cell_type": "code",
   "execution_count": 19,
   "id": "029eabd6",
   "metadata": {},
   "outputs": [],
   "source": [
    "X=final_df[['age','bmi','smoker']]\n",
    "y=final_df[\"charges\"]\n",
    "X_train,X_test,y_train,y_test=train_test_split(X,y,test_size=0.3,random_state=100)"
   ]
  },
  {
   "cell_type": "code",
   "execution_count": 20,
   "id": "36464c2e",
   "metadata": {},
   "outputs": [
    {
     "data": {
      "text/html": [
       "<div>\n",
       "<style scoped>\n",
       "    .dataframe tbody tr th:only-of-type {\n",
       "        vertical-align: middle;\n",
       "    }\n",
       "\n",
       "    .dataframe tbody tr th {\n",
       "        vertical-align: top;\n",
       "    }\n",
       "\n",
       "    .dataframe thead th {\n",
       "        text-align: right;\n",
       "    }\n",
       "</style>\n",
       "<table border=\"1\" class=\"dataframe\">\n",
       "  <thead>\n",
       "    <tr style=\"text-align: right;\">\n",
       "      <th></th>\n",
       "      <th>age</th>\n",
       "      <th>bmi</th>\n",
       "      <th>smoker</th>\n",
       "    </tr>\n",
       "  </thead>\n",
       "  <tbody>\n",
       "    <tr>\n",
       "      <th>966</th>\n",
       "      <td>0.717391</td>\n",
       "      <td>0.237692</td>\n",
       "      <td>1.0</td>\n",
       "    </tr>\n",
       "    <tr>\n",
       "      <th>522</th>\n",
       "      <td>0.717391</td>\n",
       "      <td>0.483051</td>\n",
       "      <td>0.0</td>\n",
       "    </tr>\n",
       "    <tr>\n",
       "      <th>155</th>\n",
       "      <td>0.565217</td>\n",
       "      <td>0.633844</td>\n",
       "      <td>0.0</td>\n",
       "    </tr>\n",
       "    <tr>\n",
       "      <th>671</th>\n",
       "      <td>0.239130</td>\n",
       "      <td>0.408932</td>\n",
       "      <td>0.0</td>\n",
       "    </tr>\n",
       "    <tr>\n",
       "      <th>1173</th>\n",
       "      <td>0.434783</td>\n",
       "      <td>0.357815</td>\n",
       "      <td>0.0</td>\n",
       "    </tr>\n",
       "    <tr>\n",
       "      <th>...</th>\n",
       "      <td>...</td>\n",
       "      <td>...</td>\n",
       "      <td>...</td>\n",
       "    </tr>\n",
       "    <tr>\n",
       "      <th>802</th>\n",
       "      <td>0.065217</td>\n",
       "      <td>0.170568</td>\n",
       "      <td>0.0</td>\n",
       "    </tr>\n",
       "    <tr>\n",
       "      <th>53</th>\n",
       "      <td>0.391304</td>\n",
       "      <td>0.496906</td>\n",
       "      <td>1.0</td>\n",
       "    </tr>\n",
       "    <tr>\n",
       "      <th>350</th>\n",
       "      <td>0.847826</td>\n",
       "      <td>0.194243</td>\n",
       "      <td>0.0</td>\n",
       "    </tr>\n",
       "    <tr>\n",
       "      <th>79</th>\n",
       "      <td>0.500000</td>\n",
       "      <td>0.457493</td>\n",
       "      <td>0.0</td>\n",
       "    </tr>\n",
       "    <tr>\n",
       "      <th>792</th>\n",
       "      <td>0.086957</td>\n",
       "      <td>0.194243</td>\n",
       "      <td>0.0</td>\n",
       "    </tr>\n",
       "  </tbody>\n",
       "</table>\n",
       "<p>936 rows × 3 columns</p>\n",
       "</div>"
      ],
      "text/plain": [
       "           age       bmi  smoker\n",
       "966   0.717391  0.237692     1.0\n",
       "522   0.717391  0.483051     0.0\n",
       "155   0.565217  0.633844     0.0\n",
       "671   0.239130  0.408932     0.0\n",
       "1173  0.434783  0.357815     0.0\n",
       "...        ...       ...     ...\n",
       "802   0.065217  0.170568     0.0\n",
       "53    0.391304  0.496906     1.0\n",
       "350   0.847826  0.194243     0.0\n",
       "79    0.500000  0.457493     0.0\n",
       "792   0.086957  0.194243     0.0\n",
       "\n",
       "[936 rows x 3 columns]"
      ]
     },
     "execution_count": 20,
     "metadata": {},
     "output_type": "execute_result"
    }
   ],
   "source": [
    "X_train"
   ]
  },
  {
   "cell_type": "code",
   "execution_count": 21,
   "id": "1ef0662f",
   "metadata": {},
   "outputs": [
    {
     "data": {
      "text/html": [
       "<div>\n",
       "<style scoped>\n",
       "    .dataframe tbody tr th:only-of-type {\n",
       "        vertical-align: middle;\n",
       "    }\n",
       "\n",
       "    .dataframe tbody tr th {\n",
       "        vertical-align: top;\n",
       "    }\n",
       "\n",
       "    .dataframe thead th {\n",
       "        text-align: right;\n",
       "    }\n",
       "</style>\n",
       "<table border=\"1\" class=\"dataframe\">\n",
       "  <thead>\n",
       "    <tr style=\"text-align: right;\">\n",
       "      <th></th>\n",
       "      <th>age</th>\n",
       "      <th>bmi</th>\n",
       "      <th>smoker</th>\n",
       "    </tr>\n",
       "  </thead>\n",
       "  <tbody>\n",
       "    <tr>\n",
       "      <th>12</th>\n",
       "      <td>0.108696</td>\n",
       "      <td>0.496099</td>\n",
       "      <td>0.0</td>\n",
       "    </tr>\n",
       "    <tr>\n",
       "      <th>306</th>\n",
       "      <td>0.217391</td>\n",
       "      <td>0.310465</td>\n",
       "      <td>0.0</td>\n",
       "    </tr>\n",
       "    <tr>\n",
       "      <th>318</th>\n",
       "      <td>0.565217</td>\n",
       "      <td>0.314366</td>\n",
       "      <td>0.0</td>\n",
       "    </tr>\n",
       "    <tr>\n",
       "      <th>815</th>\n",
       "      <td>0.043478</td>\n",
       "      <td>0.417003</td>\n",
       "      <td>0.0</td>\n",
       "    </tr>\n",
       "    <tr>\n",
       "      <th>157</th>\n",
       "      <td>0.000000</td>\n",
       "      <td>0.247915</td>\n",
       "      <td>1.0</td>\n",
       "    </tr>\n",
       "    <tr>\n",
       "      <th>...</th>\n",
       "      <td>...</td>\n",
       "      <td>...</td>\n",
       "      <td>...</td>\n",
       "    </tr>\n",
       "    <tr>\n",
       "      <th>710</th>\n",
       "      <td>0.000000</td>\n",
       "      <td>0.517622</td>\n",
       "      <td>0.0</td>\n",
       "    </tr>\n",
       "    <tr>\n",
       "      <th>1005</th>\n",
       "      <td>0.239130</td>\n",
       "      <td>0.424267</td>\n",
       "      <td>0.0</td>\n",
       "    </tr>\n",
       "    <tr>\n",
       "      <th>389</th>\n",
       "      <td>0.130435</td>\n",
       "      <td>0.383374</td>\n",
       "      <td>0.0</td>\n",
       "    </tr>\n",
       "    <tr>\n",
       "      <th>923</th>\n",
       "      <td>0.347826</td>\n",
       "      <td>0.534167</td>\n",
       "      <td>0.0</td>\n",
       "    </tr>\n",
       "    <tr>\n",
       "      <th>1164</th>\n",
       "      <td>0.500000</td>\n",
       "      <td>0.332257</td>\n",
       "      <td>0.0</td>\n",
       "    </tr>\n",
       "  </tbody>\n",
       "</table>\n",
       "<p>402 rows × 3 columns</p>\n",
       "</div>"
      ],
      "text/plain": [
       "           age       bmi  smoker\n",
       "12    0.108696  0.496099     0.0\n",
       "306   0.217391  0.310465     0.0\n",
       "318   0.565217  0.314366     0.0\n",
       "815   0.043478  0.417003     0.0\n",
       "157   0.000000  0.247915     1.0\n",
       "...        ...       ...     ...\n",
       "710   0.000000  0.517622     0.0\n",
       "1005  0.239130  0.424267     0.0\n",
       "389   0.130435  0.383374     0.0\n",
       "923   0.347826  0.534167     0.0\n",
       "1164  0.500000  0.332257     0.0\n",
       "\n",
       "[402 rows x 3 columns]"
      ]
     },
     "execution_count": 21,
     "metadata": {},
     "output_type": "execute_result"
    }
   ],
   "source": [
    "X_test"
   ]
  },
  {
   "cell_type": "code",
   "execution_count": 22,
   "id": "13935fb6",
   "metadata": {},
   "outputs": [
    {
     "data": {
      "text/plain": [
       "966     0.364661\n",
       "522     0.139579\n",
       "155     0.093008\n",
       "671     0.045040\n",
       "1173    0.085173\n",
       "          ...   \n",
       "802     0.015662\n",
       "53      0.584542\n",
       "350     0.170933\n",
       "79      0.086980\n",
       "792     0.025700\n",
       "Name: charges, Length: 936, dtype: float64"
      ]
     },
     "execution_count": 22,
     "metadata": {},
     "output_type": "execute_result"
    }
   ],
   "source": [
    "y_train"
   ]
  },
  {
   "cell_type": "code",
   "execution_count": 23,
   "id": "1cec6988",
   "metadata": {},
   "outputs": [
    {
     "data": {
      "text/plain": [
       "12      0.011253\n",
       "306     0.304170\n",
       "318     0.100550\n",
       "815     0.012068\n",
       "157     0.229795\n",
       "          ...   \n",
       "710     0.009668\n",
       "1005    0.052859\n",
       "389     0.055807\n",
       "923     0.051055\n",
       "1164    0.096278\n",
       "Name: charges, Length: 402, dtype: float64"
      ]
     },
     "execution_count": 23,
     "metadata": {},
     "output_type": "execute_result"
    }
   ],
   "source": [
    "y_test"
   ]
  },
  {
   "cell_type": "markdown",
   "id": "f035ed98",
   "metadata": {},
   "source": [
    "### Task 6 : Perform all data visualization to present insights from the data"
   ]
  },
  {
   "cell_type": "code",
   "execution_count": 24,
   "id": "665cbd3b",
   "metadata": {},
   "outputs": [],
   "source": [
    "df=pd.read_csv(r'C:\\Users\\Admin\\Desktop\\Machine Learning\\Repository\\DS2_C6_S1_Insurance_Data_Challenge.csv')"
   ]
  },
  {
   "cell_type": "code",
   "execution_count": 25,
   "id": "9c8171c7",
   "metadata": {},
   "outputs": [
    {
     "name": "stdout",
     "output_type": "stream",
     "text": [
      "<class 'pandas.core.frame.DataFrame'>\n",
      "RangeIndex: 1338 entries, 0 to 1337\n",
      "Data columns (total 7 columns):\n",
      " #   Column    Non-Null Count  Dtype  \n",
      "---  ------    --------------  -----  \n",
      " 0   age       1338 non-null   int64  \n",
      " 1   sex       1338 non-null   object \n",
      " 2   bmi       1338 non-null   float64\n",
      " 3   children  1338 non-null   int64  \n",
      " 4   smoker    1338 non-null   object \n",
      " 5   region    1338 non-null   object \n",
      " 6   charges   1338 non-null   float64\n",
      "dtypes: float64(2), int64(2), object(3)\n",
      "memory usage: 73.3+ KB\n"
     ]
    }
   ],
   "source": [
    "df.info()"
   ]
  },
  {
   "cell_type": "code",
   "execution_count": 26,
   "id": "3fd9083c",
   "metadata": {},
   "outputs": [
    {
     "data": {
      "text/plain": [
       "0       27.900\n",
       "1       33.770\n",
       "2       33.000\n",
       "3       22.705\n",
       "4       28.880\n",
       "         ...  \n",
       "1333    30.970\n",
       "1334    31.920\n",
       "1335    36.850\n",
       "1336    25.800\n",
       "1337    29.070\n",
       "Name: bmi, Length: 1338, dtype: float64"
      ]
     },
     "execution_count": 26,
     "metadata": {},
     "output_type": "execute_result"
    }
   ],
   "source": [
    "df['bmi']"
   ]
  },
  {
   "cell_type": "code",
   "execution_count": 27,
   "id": "4a9cdb36",
   "metadata": {},
   "outputs": [
    {
     "data": {
      "image/png": "[encoded data removed]",
      "text/plain": [
       "<Figure size 640x480 with 1 Axes>"
      ]
     },
     "metadata": {},
     "output_type": "display_data"
    }
   ],
   "source": [
    "percentage=df[\"smoker\"].value_counts()  \n",
    "labels=list(df[\"smoker\"].value_counts().index)\n",
    "plt.pie(percentage,labels = labels, autopct= \"%0.2f%%\",shadow=True);"
   ]
  },
  {
   "cell_type": "code",
   "execution_count": 28,
   "id": "ca10533c",
   "metadata": {},
   "outputs": [
    {
     "data": {
      "image/png": "[encoded data removed]",
      "text/plain": [
       "<Figure size 640x480 with 1 Axes>"
      ]
     },
     "metadata": {},
     "output_type": "display_data"
    }
   ],
   "source": [
    "percentage=X_train[\"smoker\"].value_counts()  \n",
    "labels=list(X_train[\"smoker\"].value_counts().index)\n",
    "plt.pie(percentage,labels = labels, autopct= \"%0.2f%%\",shadow=True);"
   ]
  },
  {
   "cell_type": "code",
   "execution_count": null,
   "id": "b17ec6a8",
   "metadata": {},
   "outputs": [],
   "source": [
    "# Approx 80% of applicants are non-smokers and 20% are smokers. This ratio is same for training data also. Thus training data correctly represents populatio data."
   ]
  },
  {
   "cell_type": "code",
   "execution_count": 29,
   "id": "4093602f",
   "metadata": {},
   "outputs": [
    {
     "data": {
      "image/png": "[encoded data removed]",
      "text/plain": [
       "<Figure size 3000x1000 with 2 Axes>"
      ]
     },
     "metadata": {},
     "output_type": "display_data"
    }
   ],
   "source": [
    "plt.style.use('default')\n",
    "plt.rcParams.update({'text.color':'black'})\n",
    "\n",
    "fig,ax=plt.subplots(1,2,figsize=(20,15))\n",
    "bins=[0,30,40,50,60,70]\n",
    "labels=[\"0-30\",\"30-40\",\"40-50\",\"50-60\",\"60-70\"]\n",
    "data=pd.cut(df['age'],bins=bins,labels=labels)\n",
    "ax=sb.histplot(data=data,ax=ax[0],color='red')\n",
    "for bar in ax.patches:\n",
    "    count=bar.get_height()\n",
    "    x = bar.get_x() + bar.get_width() /2                            \n",
    "    y = bar.get_height()                                            \n",
    "    ax.annotate(count, (x, y), va = \"bottom\", ha =\"center\" )   \n",
    "    fig.set_figheight(10)                                                             \n",
    "    fig.set_figwidth(30)\n",
    "\n",
    "\n",
    "sb.boxplot(data=df,x='age',color='red')\n",
    "    \n",
    "plt.show()"
   ]
  },
  {
   "cell_type": "code",
   "execution_count": null,
   "id": "138f1a1f",
   "metadata": {},
   "outputs": [],
   "source": [
    "#Majority applicants belong to age group 0-30"
   ]
  },
  {
   "cell_type": "code",
   "execution_count": 30,
   "id": "848e2285",
   "metadata": {},
   "outputs": [
    {
     "data": {
      "image/png": "[encoded data removed]",
      "text/plain": [
       "<Figure size 640x480 with 1 Axes>"
      ]
     },
     "metadata": {},
     "output_type": "display_data"
    }
   ],
   "source": [
    "plt.style.use('dark_background')\n",
    "plt.rcParams.update({'text.color':'white'})\n",
    "\n",
    "\n",
    "sb.countplot(x=df['smoker'],hue=df['sex'])\n",
    "plt.xlabel('smoker')\n",
    "plt.tight_layout()"
   ]
  },
  {
   "cell_type": "code",
   "execution_count": null,
   "id": "5096e4d5",
   "metadata": {},
   "outputs": [],
   "source": [
    "#Count of Female smokers is less than male smokers"
   ]
  }
 ],
 "metadata": {
  "kernelspec": {
   "display_name": "Python 3 (ipykernel)",
   "language": "python",
   "name": "python3"
  },
  "language_info": {
   "codemirror_mode": {
    "name": "ipython",
    "version": 3
   },
   "file_extension": ".py",
   "mimetype": "text/x-python",
   "name": "python",
   "nbconvert_exporter": "python",
   "pygments_lexer": "ipython3",
   "version": "3.9.13"
  }
 },
 "nbformat": 4,
 "nbformat_minor": 5
}
