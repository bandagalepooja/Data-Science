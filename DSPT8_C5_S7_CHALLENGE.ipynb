{
 "cells": [
  {
   "cell_type": "code",
   "execution_count": 1,
   "id": "488039c2",
   "metadata": {},
   "outputs": [],
   "source": [
    "#Importing Liabrary\n",
    "\n",
    "import pandas as pd\n",
    "import numpy as np\n",
    "import matplotlib.pyplot as plt\n",
    "import seaborn as sb\n",
    "import scipy.stats as st\n",
    "import statistics as stat\n",
    "import math"
   ]
  },
  {
   "cell_type": "markdown",
   "id": "2c961c95",
   "metadata": {},
   "source": [
    "### Task-I"
   ]
  },
  {
   "cell_type": "code",
   "execution_count": 29,
   "id": "96bcc153",
   "metadata": {},
   "outputs": [
    {
     "name": "stdout",
     "output_type": "stream",
     "text": [
      "Sample Size: 18\n",
      "dof: 17\n",
      "Sample Mean:  13.555555555555555\n",
      "Sample Standard Deviation:  7.8006200524454705\n"
     ]
    }
   ],
   "source": [
    "sam=[15,16,16,0,7,20,6,8,17,25,8,21,29,11,9,21,3,12] #Extra working hours\n",
    "n=len(sam)\n",
    "dof=n-1\n",
    "alpha=0.1\n",
    "pop_mean=40\n",
    "sam_mean=stat.mean(sam)\n",
    "sam_std=stat.stdev(sam)\n",
    "print('Sample Size:',n)\n",
    "print('dof:',dof)\n",
    "print('Sample Mean: ',sam_mean)\n",
    "print('Sample Standard Deviation: ',sam_std)"
   ]
  },
  {
   "cell_type": "markdown",
   "id": "37c52863",
   "metadata": {},
   "source": [
    "# A. What is the appropriate statistics to estimate the population mean using the confidence interval"
   ]
  },
  {
   "cell_type": "markdown",
   "id": "82fed894",
   "metadata": {},
   "source": [
    "As sample size n is less than 30, Population standard deviation is not known & population from which the sample is taken is normally distributed. T statistics to be perform."
   ]
  },
  {
   "cell_type": "code",
   "execution_count": 36,
   "id": "58b3bbc6",
   "metadata": {},
   "outputs": [
    {
     "data": {
      "text/plain": [
       "-14.3827381918304"
      ]
     },
     "execution_count": 36,
     "metadata": {},
     "output_type": "execute_result"
    }
   ],
   "source": [
    "ts=(sam_mean-pop_mean)/(sam_std/np.sqrt(n))\n",
    "ts"
   ]
  },
  {
   "cell_type": "markdown",
   "id": "8e415e4a",
   "metadata": {},
   "source": [
    "# B. Using alpha=0.1, what is the critical value of the hypothesis test?"
   ]
  },
  {
   "cell_type": "code",
   "execution_count": 31,
   "id": "9b2a64d5",
   "metadata": {},
   "outputs": [
    {
     "name": "stdout",
     "output_type": "stream",
     "text": [
      "neg_tc: -1.7396067260750676\n",
      "pos_tc: 1.7396067260750672\n"
     ]
    }
   ],
   "source": [
    "neg_tc=st.t.ppf((alpha/2),dof)\n",
    "pos_tc=st.t.ppf(1-(alpha/2),dof)\n",
    "print('neg_tc: {}\\npos_tc: {}'.format(neg_tc,pos_tc))"
   ]
  },
  {
   "cell_type": "markdown",
   "id": "9f64653e",
   "metadata": {},
   "source": [
    "# C. What is sample mean & standard deviation for the hypothesis test?"
   ]
  },
  {
   "cell_type": "code",
   "execution_count": 37,
   "id": "9013e1df",
   "metadata": {},
   "outputs": [
    {
     "name": "stdout",
     "output_type": "stream",
     "text": [
      "Sample Mean:  13.555555555555555\n",
      "Sample Standard Deviation:  7.8006200524454705\n"
     ]
    }
   ],
   "source": [
    "print('Sample Mean: ',sam_mean)\n",
    "print('Sample Standard Deviation: ',sam_std)"
   ]
  },
  {
   "cell_type": "markdown",
   "id": "b0944dcf",
   "metadata": {},
   "source": [
    "# D. What are the population means using the confidence interval?"
   ]
  },
  {
   "cell_type": "code",
   "execution_count": 38,
   "id": "e394a273",
   "metadata": {},
   "outputs": [],
   "source": [
    "LI=sam_mean-(ts*(sam_std/np.sqrt(n)))\n",
    "UI=sam_mean+(ts*(sam_std/np.sqrt(n)))"
   ]
  },
  {
   "cell_type": "code",
   "execution_count": 42,
   "id": "bd78f5d0",
   "metadata": {},
   "outputs": [
    {
     "name": "stdout",
     "output_type": "stream",
     "text": [
      "There are 90 percent chances that population mean lies in between 40.0 and -12.888888888888888\n"
     ]
    }
   ],
   "source": [
    "print('There are 90 percent chances that population mean lies in between {} and {}'.format(LI,UI))"
   ]
  },
  {
   "cell_type": "markdown",
   "id": "e88ae6bb",
   "metadata": {},
   "source": [
    "### Task -II"
   ]
  },
  {
   "cell_type": "code",
   "execution_count": 7,
   "id": "cfa864c7",
   "metadata": {},
   "outputs": [
    {
     "name": "stdout",
     "output_type": "stream",
     "text": [
      "Sample 1 mean :  4.029999999999999\n",
      "Sample 1 variance :  0.00033333333333333685\n",
      "Sample 1 size :  4\n",
      "Sample 2 mean :  4.001666666666666\n",
      "Sample 2 variance :  0.00013666666666666084\n",
      "Sample 2 size :  6\n",
      "dof :  8\n"
     ]
    }
   ],
   "source": [
    "sam1=[4.05,4.01,4.04,4.02]     #machine 1\n",
    "sam2=[4.02,3.99,4.01,3.99,4,4] #machine 2\n",
    "x1=np.mean(sam1)\n",
    "x2=np.mean(sam2)\n",
    "v1=pow(stat.stdev(sam1),2)\n",
    "v2=pow(stat.stdev(sam2),2)\n",
    "n1=len(sam1)\n",
    "n2=len(sam2)\n",
    "dof=n1+n2-2\n",
    "alpha=0.01\n",
    "print('Sample 1 mean : ',x1)\n",
    "print('Sample 1 variance : ',v1)\n",
    "print('Sample 1 size : ',n1)\n",
    "print('Sample 2 mean : ',x2)\n",
    "print('Sample 2 variance : ',v2)\n",
    "print('Sample 2 size : ',n2)\n",
    "print('dof : ',dof)"
   ]
  },
  {
   "cell_type": "markdown",
   "id": "5c8083e0",
   "metadata": {},
   "source": [
    "# A. What is Null & Alternate Hypothesis"
   ]
  },
  {
   "cell_type": "markdown",
   "id": "0bf83aa2",
   "metadata": {},
   "source": [
    "H0 :\n",
    "x1=x2 #Avg fill for machine 1 & machine 2 is same\n",
    "\n",
    "Ha :\n",
    "x1<>x2 #Avg fill for machine 1 & machine 2 is not same\n"
   ]
  },
  {
   "cell_type": "markdown",
   "id": "88a1e288",
   "metadata": {},
   "source": [
    "# B.What is the critical value of the Hypothesis Test"
   ]
  },
  {
   "cell_type": "code",
   "execution_count": 8,
   "id": "bf72cae6",
   "metadata": {},
   "outputs": [
    {
     "name": "stdout",
     "output_type": "stream",
     "text": [
      "Posiitive Tc :  3.36\n",
      "Negative Tc :  -3.36\n"
     ]
    }
   ],
   "source": [
    "pos_Tc=st.t.ppf(1-(alpha/2),dof)\n",
    "neg_Tc=st.t.ppf(alpha/2,dof)\n",
    "print('Posiitive Tc : ',round(pos_Tc,2))\n",
    "print('Negative Tc : ',round(neg_Tc,2))"
   ]
  },
  {
   "cell_type": "markdown",
   "id": "ec152444",
   "metadata": {},
   "source": [
    "# C. What are the test statistics and P-value of the hypothesis test?"
   ]
  },
  {
   "cell_type": "code",
   "execution_count": 9,
   "id": "39cf6393",
   "metadata": {},
   "outputs": [
    {
     "name": "stdout",
     "output_type": "stream",
     "text": [
      "Test Statistics (Ts) :  0.71\n"
     ]
    }
   ],
   "source": [
    "n1=(x1-x2)\n",
    "d1=np.sqrt((v1*(n1-1)+v2*(n2-1))/dof)\n",
    "d2=np.sqrt((1/n1)+(1/n2))\n",
    "Ts=n1/(d1*d2)\n",
    "print('Test Statistics (Ts) : ',round(Ts,2))"
   ]
  },
  {
   "cell_type": "code",
   "execution_count": 10,
   "id": "dbb9749c",
   "metadata": {},
   "outputs": [
    {
     "data": {
      "text/plain": [
       "0.4979759371620296"
      ]
     },
     "execution_count": 10,
     "metadata": {},
     "output_type": "execute_result"
    }
   ],
   "source": [
    "pvalue=st.t.sf(abs(Ts),dof)*2\n",
    "pvalue"
   ]
  },
  {
   "cell_type": "markdown",
   "id": "e0cc3b89",
   "metadata": {},
   "source": [
    "# D. Draw the conclusion for the Hypothesis Test. Sketch the graph and state your conclusion"
   ]
  },
  {
   "cell_type": "code",
   "execution_count": 11,
   "id": "12e6eba4",
   "metadata": {},
   "outputs": [
    {
     "name": "stdout",
     "output_type": "stream",
     "text": [
      "Null Hypothesis is accepted and mean1 equal to mean2\n"
     ]
    }
   ],
   "source": [
    "if neg_Tc<Ts<pos_Tc and pvalue>alpha:\n",
    "     print(\"Null Hypothesis is accepted and mean1 equal to mean2\")\n",
    "else:\n",
    "    print(\"Null Hypothesis is rejected and mean1 is not equal to mean2\")"
   ]
  },
  {
   "cell_type": "code",
   "execution_count": 12,
   "id": "182eba9d",
   "metadata": {},
   "outputs": [
    {
     "data": {
      "image/png": "[encoded data removed]",
      "text/plain": [
       "<Figure size 640x480 with 1 Axes>"
      ]
     },
     "metadata": {},
     "output_type": "display_data"
    }
   ],
   "source": [
    "x=np.arange(-5,5,0.01)\n",
    "y=st.t.pdf(x,dof)\n",
    "plt.plot(x,y,label='DOF : '+str(dof))\n",
    "plt.title('T Plot Distribution')\n",
    "plt.xlabel('Fill Measure (Quarts)')\n",
    "plt.ylabel('Probability')\n",
    "plt.legend();"
   ]
  },
  {
   "cell_type": "code",
   "execution_count": 13,
   "id": "eba462ce",
   "metadata": {},
   "outputs": [],
   "source": [
    "# Avg fill for machine 1 & machine 2 is same\n"
   ]
  },
  {
   "cell_type": "markdown",
   "id": "a1f2dbad",
   "metadata": {},
   "source": [
    "# E. Discuss the Buisness Implications of your findings"
   ]
  },
  {
   "cell_type": "markdown",
   "id": "ba384f88",
   "metadata": {},
   "source": [
    "The t-statistics value of 0.71 less than positive t-critical (1.86) but greater than negative t-critical (-1.86) and also probability value 0.49 is greater than alpha(0.1). So the decision is to accept the null hypothesis.\n",
    "\n",
    "There is no significance difference in AAvg fill for machine 1 & machine 2."
   ]
  },
  {
   "cell_type": "markdown",
   "id": "764efee3",
   "metadata": {},
   "source": [
    "# Task - III"
   ]
  },
  {
   "cell_type": "code",
   "execution_count": 14,
   "id": "57bc9a33",
   "metadata": {},
   "outputs": [],
   "source": [
    "sam1=[4.05,4.01,4.04,4.02]     #machine 1\n",
    "sam2=[4.02,3.99,4.01,3.99,4,4] #machine 2\n",
    "sam3=[4,3.97,3.95,3.98,3.97]   #machine 3\n",
    "sam4=[4.01,4,3.99,4.02]        #machine 4\n",
    "dfc=4-1\n",
    "n1=len(sam1)\n",
    "n2=len(sam2)\n",
    "n3=len(sam3)\n",
    "n4=len(sam4)\n",
    "dfe=n1+n2+n3+n4-4\n",
    "alpha=0.01"
   ]
  },
  {
   "cell_type": "markdown",
   "id": "dae35da9",
   "metadata": {},
   "source": [
    "# A. What is Null & Alternate Hypothesis"
   ]
  },
  {
   "cell_type": "markdown",
   "id": "b32781fb",
   "metadata": {},
   "source": [
    "H0 :\n",
    "mean1-mean2-mean3-mean4=0 #Avg fill for all four machines is same\n",
    "\n",
    "\n",
    "Ha :\n",
    "mean1-mean2-mean3-mean4<>0 #Avg fill for all four machines is not same"
   ]
  },
  {
   "cell_type": "markdown",
   "id": "b11f6d5a",
   "metadata": {},
   "source": [
    "# B.What is the critical value of the Hypothesis Test"
   ]
  },
  {
   "cell_type": "code",
   "execution_count": 15,
   "id": "c51bcfc8",
   "metadata": {},
   "outputs": [
    {
     "name": "stdout",
     "output_type": "stream",
     "text": [
      "Critical Value (Fc) :  5.42\n"
     ]
    }
   ],
   "source": [
    "from scipy.stats import f,f_oneway\n",
    "Fc=f.ppf(1-alpha,dfc,dfe)\n",
    "print('Critical Value (Fc) : ',round(Fc,2))"
   ]
  },
  {
   "cell_type": "markdown",
   "id": "25924230",
   "metadata": {},
   "source": [
    "# C. What are the test statistics and P-value of the hypothesis test?"
   ]
  },
  {
   "cell_type": "code",
   "execution_count": 16,
   "id": "76691546",
   "metadata": {},
   "outputs": [
    {
     "name": "stdout",
     "output_type": "stream",
     "text": [
      "Test Statistics (Fs) :  10.1\n",
      "Probability Value (Pv) : 0.00069\n"
     ]
    }
   ],
   "source": [
    "Fs,pvalue=f_oneway(sam1,sam2,sam3,sam4)\n",
    "print('Test Statistics (Fs) : ',round(Fs,2))\n",
    "print('Probability Value (Pv) :',round(pvalue,5))"
   ]
  },
  {
   "cell_type": "markdown",
   "id": "14534cc7",
   "metadata": {},
   "source": [
    "# D. Draw the conclusion for the Hypothesis Test. Sketch the graph and state your conclusion"
   ]
  },
  {
   "cell_type": "code",
   "execution_count": 17,
   "id": "90b6b9a4",
   "metadata": {},
   "outputs": [
    {
     "name": "stdout",
     "output_type": "stream",
     "text": [
      "Null Hypothesis is Rejected. Avg fill for all four machines is not same\n"
     ]
    }
   ],
   "source": [
    "if Fs<Fc and pvalue>alpha: \n",
    "    print('Null Hypothesis is Accepted. Avg fill for all four machines is same')\n",
    "else:\n",
    "    print('Null Hypothesis is Rejected. Avg fill for all four machines is not same')"
   ]
  },
  {
   "cell_type": "code",
   "execution_count": 18,
   "id": "85b73bc4",
   "metadata": {},
   "outputs": [
    {
     "data": {
      "image/png": "[encoded data removed]",
      "text/plain": [
       "<Figure size 640x480 with 1 Axes>"
      ]
     },
     "metadata": {},
     "output_type": "display_data"
    }
   ],
   "source": [
    "rv=st.f(dfc,dfe,loc=0,scale=1)\n",
    "x=np.arange(0,8,0.01)\n",
    "y=rv.pdf(x)\n",
    "plt.plot(x,y);"
   ]
  },
  {
   "cell_type": "markdown",
   "id": "3282ee3c",
   "metadata": {},
   "source": [
    "# E. Discuss the Buisness Implications of your findings"
   ]
  },
  {
   "cell_type": "markdown",
   "id": "348f60f4",
   "metadata": {},
   "source": [
    "The F-statistics value of 5.42 is greater than F-critical value of 2.49 & P-value is greater than alpha. So the decision is to reject the null hypothesis.\n",
    "\n",
    "Avg fill for all four machines is not same."
   ]
  },
  {
   "cell_type": "code",
   "execution_count": null,
   "id": "8ea4447e",
   "metadata": {},
   "outputs": [],
   "source": []
  },
  {
   "cell_type": "code",
   "execution_count": null,
   "id": "1e991a23",
   "metadata": {},
   "outputs": [],
   "source": []
  }
 ],
 "metadata": {
  "kernelspec": {
   "display_name": "Python 3 (ipykernel)",
   "language": "python",
   "name": "python3"
  },
  "language_info": {
   "codemirror_mode": {
    "name": "ipython",
    "version": 3
   },
   "file_extension": ".py",
   "mimetype": "text/x-python",
   "name": "python",
   "nbconvert_exporter": "python",
   "pygments_lexer": "ipython3",
   "version": "3.9.13"
  }
 },
 "nbformat": 4,
 "nbformat_minor": 5
}
