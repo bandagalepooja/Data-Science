{
 "cells": [
  {
   "cell_type": "markdown",
   "id": "eba9c0d3",
   "metadata": {},
   "source": [
    "# Non Parametric Testing"
   ]
  },
  {
   "cell_type": "markdown",
   "id": "b7bac211",
   "metadata": {},
   "source": [
    "# Challenge"
   ]
  },
  {
   "cell_type": "markdown",
   "id": "695b95e6",
   "metadata": {},
   "source": [
    "### Task 1.1 : Establish the Null and Alternate Hypothesis"
   ]
  },
  {
   "cell_type": "markdown",
   "id": "59200059",
   "metadata": {},
   "source": [
    "H0 = Observed frequency distribution of Regular and Early Decision application type is same.\n",
    "\n",
    "Ha = Observed frequency distribution of Regular and Early Decision application type is not same."
   ]
  },
  {
   "cell_type": "markdown",
   "id": "3907ed1d",
   "metadata": {},
   "source": [
    "### Task 1.2 : Determine Appropriate Statistical Test"
   ]
  },
  {
   "cell_type": "markdown",
   "id": "24d361f6",
   "metadata": {},
   "source": [
    "Chi-Square test of homogenity is used to check distribution of two different samples"
   ]
  },
  {
   "cell_type": "markdown",
   "id": "4e66e55f",
   "metadata": {},
   "source": [
    "### Task 1.3 : Establish the Decision Rule and set the degree of Freedom"
   ]
  },
  {
   "cell_type": "markdown",
   "id": "372dec32",
   "metadata": {},
   "source": [
    "I.If p-value<alpha : Reject the Null Hypothesis (H0) \n",
    "    \n",
    "II.If X2-statistics > X2-critical: Rejection of Null Hypothesis(H0)"
   ]
  },
  {
   "cell_type": "code",
   "execution_count": 1,
   "id": "f9940d73",
   "metadata": {},
   "outputs": [
    {
     "name": "stdout",
     "output_type": "stream",
     "text": [
      "[[2115 1792 5304 1734 2685 1245]\n",
      " [ 577  627 1228  444 1195  761]]\n",
      "dof =  5\n"
     ]
    }
   ],
   "source": [
    "import numpy as np\n",
    "\n",
    "table = np.array([2115,1792,5304,1734,2685,1245,577,627,1228,444,1195,761]).reshape(2,6) #data\n",
    "print(table)\n",
    "\n",
    "#dof = no.of columns - 1\n",
    "\n",
    "#dof = 6-1 = 5\n",
    "\n",
    "dof=5\n",
    "\n",
    "#or\n",
    "\n",
    "dof=table.size - sum(table.shape) + table.ndim - 1\n",
    "print(\"dof = \",dof)"
   ]
  },
  {
   "cell_type": "markdown",
   "id": "3cbe956e",
   "metadata": {},
   "source": [
    "### Task 1.4 : Analyze the data and reach the statistical conclusion"
   ]
  },
  {
   "cell_type": "code",
   "execution_count": 2,
   "id": "87cc5800",
   "metadata": {
    "scrolled": true
   },
   "outputs": [
    {
     "name": "stdout",
     "output_type": "stream",
     "text": [
      "X2-statistics = 429.766\n",
      "P_value =  0.000\n",
      "dof =5\n",
      "[[2031.94296443 1825.88039783 4930.40543969 1643.97168519 2928.65479271\n",
      "  1514.14472015]\n",
      " [ 660.05703557  593.11960217 1601.59456031  534.02831481  951.34520729\n",
      "   491.85527985]]\n"
     ]
    }
   ],
   "source": [
    "# Setting the value of alpha\n",
    "\n",
    "alpha = 0.05\n",
    "\n",
    "# Contingency table\n",
    "\n",
    "from scipy.stats import chi2_contingency\n",
    "from scipy.stats import chi2\n",
    "\n",
    "stat,p,dof,expected = chi2_contingency(table)\n",
    "\n",
    "print(\"X2-statistics = %.3f\"%stat)\n",
    "print(\"P_value =  %.3f\"%p)\n",
    "print(\"dof =%d\" % dof)\n",
    "print(expected)"
   ]
  },
  {
   "cell_type": "code",
   "execution_count": 3,
   "id": "5d4befcf",
   "metadata": {},
   "outputs": [
    {
     "name": "stdout",
     "output_type": "stream",
     "text": [
      "Probability = 0.050 , critical = 11.070 ,stat= 429.766\n"
     ]
    }
   ],
   "source": [
    "#Calculating X2-Critical\n",
    "\n",
    "critical=chi2.ppf(1-alpha,dof)\n",
    "\n",
    "print(\"Probability = %.3f , critical = %.3f ,stat= %.3f\"%(alpha,critical,stat))\n"
   ]
  },
  {
   "cell_type": "code",
   "execution_count": 4,
   "id": "c4e17fd1",
   "metadata": {},
   "outputs": [
    {
     "name": "stdout",
     "output_type": "stream",
     "text": [
      "significance = 0.050 , p =0.000\n",
      "Observed frequency distribution of Regular and Early Decision application type is not same (Reject H0)\n"
     ]
    }
   ],
   "source": [
    "#interpret p-value\n",
    "print(\"significance = %.3f , p =%.3f\"%(alpha,p))\n",
    "\n",
    "#Statistical Conclusion\n",
    "\n",
    "if p<=alpha and abs(stat)>=critical:\n",
    "    print(\"Observed frequency distribution of Regular and Early Decision application type is not same (Reject H0)\")\n",
    "else:\n",
    "    print(\"Observed frequency distribution of Regular and Early Decision application type is same (Accept H0)\")    "
   ]
  },
  {
   "cell_type": "markdown",
   "id": "4415e2b4",
   "metadata": {},
   "source": [
    "### Task 1.5 : Determine Buisness Implications "
   ]
  },
  {
   "cell_type": "markdown",
   "id": "fe8eb6d1",
   "metadata": {},
   "source": [
    "The X2-statistics value of 429.766 is greater than the X2-critical value of 11.070, the decision is to reject the Hypothesis.Observed frequency distribution of Regular and Early Decision application type is not same."
   ]
  },
  {
   "cell_type": "code",
   "execution_count": 5,
   "id": "3ba2f90e",
   "metadata": {},
   "outputs": [
    {
     "data": {
      "text/plain": [
       "[<matplotlib.lines.Line2D at 0x28a439bed60>]"
      ]
     },
     "execution_count": 5,
     "metadata": {},
     "output_type": "execute_result"
    },
    {
     "data": {
      "image/png": "[encoded data removed]",
      "text/plain": [
       "<Figure size 640x480 with 1 Axes>"
      ]
     },
     "metadata": {},
     "output_type": "display_data"
    }
   ],
   "source": [
    "import numpy as np\n",
    "import matplotlib.pyplot as plt\n",
    "from scipy.stats import chi2\n",
    "\n",
    "x=np.arange(0,40,0.01)\n",
    "\n",
    "plt.plot(x,chi2.pdf(x,df=11))"
   ]
  },
  {
   "cell_type": "markdown",
   "id": "d88e7a09",
   "metadata": {},
   "source": [
    "### Task 2.1 : Establish the Null and Alternate Hypothesis"
   ]
  },
  {
   "cell_type": "markdown",
   "id": "5ac08e8b",
   "metadata": {},
   "source": [
    "H0 = Observed frequency distribution of men's data is same as female's data.\n",
    "\n",
    "Ha = Observed frequency distribution of men's and female's data is not same."
   ]
  },
  {
   "cell_type": "markdown",
   "id": "8cd81faa",
   "metadata": {},
   "source": [
    "### Task 2.2 : Determine Appropriate Statistical Test#"
   ]
  },
  {
   "cell_type": "markdown",
   "id": "3b92c307",
   "metadata": {},
   "source": [
    "Chi-Square test of homogenity is used to check distribution of two different samples"
   ]
  },
  {
   "cell_type": "markdown",
   "id": "a8a5e140",
   "metadata": {},
   "source": [
    "### Task 2.3 : Establish the Decision Rule and set the degree of Freedom"
   ]
  },
  {
   "cell_type": "markdown",
   "id": "6d292a39",
   "metadata": {},
   "source": [
    "I.If p-value<alpha : Reject the Null Hypothesis (H0) \n",
    "    \n",
    "II.If X2-statistics > X2-critical: Rejection of Null Hypothesis(H0)"
   ]
  },
  {
   "cell_type": "code",
   "execution_count": 6,
   "id": "3a8823ec",
   "metadata": {},
   "outputs": [
    {
     "name": "stdout",
     "output_type": "stream",
     "text": [
      "[[42 95 27 63]\n",
      " [40 18 12 30]]\n",
      "dof =  3\n"
     ]
    }
   ],
   "source": [
    "table=np.array([42,95,27,63,40,18,12,30]).reshape(2,4)  #data\n",
    "print(table)\n",
    "\n",
    "#dof = no.of columns - 1\n",
    "\n",
    "#dof = 4-1 = 3\n",
    "\n",
    "dof=3\n",
    "\n",
    "#or\n",
    "\n",
    "dof=table.size - sum(table.shape) + table.ndim - 1\n",
    "print(\"dof = \",dof)"
   ]
  },
  {
   "cell_type": "markdown",
   "id": "e567e73b",
   "metadata": {},
   "source": [
    "### Task 2.4 : Analyze the data and reach the statistical conclusion "
   ]
  },
  {
   "cell_type": "code",
   "execution_count": 7,
   "id": "f8ed0529",
   "metadata": {},
   "outputs": [
    {
     "name": "stdout",
     "output_type": "stream",
     "text": [
      "X2-statistics = 24.345\n",
      "P_value =  0.000\n",
      "dof =3\n",
      "[[56.9235474  78.44342508 27.0733945  64.55963303]\n",
      " [25.0764526  34.55657492 11.9266055  28.44036697]]\n"
     ]
    }
   ],
   "source": [
    "# Setting the value of alpha\n",
    "\n",
    "alpha = 0.05\n",
    "\n",
    "# Contingency table\n",
    "\n",
    "from scipy.stats import chi2_contingency\n",
    "from scipy.stats import chi2\n",
    "\n",
    "stat,p,dof,expected = chi2_contingency(table)\n",
    "\n",
    "print(\"X2-statistics = %.3f\"%stat)\n",
    "print(\"P_value =  %.3f\"%p)\n",
    "print(\"dof =%d\" % dof)\n",
    "print(expected)\n"
   ]
  },
  {
   "cell_type": "code",
   "execution_count": 8,
   "id": "d97d3787",
   "metadata": {},
   "outputs": [
    {
     "name": "stdout",
     "output_type": "stream",
     "text": [
      "Probability = 0.050 , critical = 7.815 ,stat= 24.345\n"
     ]
    }
   ],
   "source": [
    "#Calculating X2-Critical\n",
    "\n",
    "critical=chi2.ppf(1-alpha,dof)\n",
    "\n",
    "print(\"Probability = %.3f , critical = %.3f ,stat= %.3f\"%(alpha,critical,stat))"
   ]
  },
  {
   "cell_type": "code",
   "execution_count": 9,
   "id": "1d89fe79",
   "metadata": {},
   "outputs": [
    {
     "name": "stdout",
     "output_type": "stream",
     "text": [
      "significance = 0.050 , p =0.000\n",
      "Observed frequency distribution of men's and female's data is not same (Reject H0)\n"
     ]
    }
   ],
   "source": [
    "#interpret p-value\n",
    "print(\"significance = %.3f , p =%.3f\"%(alpha,p))\n",
    "\n",
    "\n",
    "#Statistical Conclusion\n",
    "if p<=alpha and abs(stat)>=critical:\n",
    "    print(\"Observed frequency distribution of men's and female's data is not same (Reject H0)\")\n",
    "else:\n",
    "    print(\"Observed frequency distribution of men's data is same as female's data (Accept H0)\")    "
   ]
  },
  {
   "cell_type": "markdown",
   "id": "9944b5bb",
   "metadata": {},
   "source": [
    "### Task 2.5 : Determine Buisness Implications "
   ]
  },
  {
   "cell_type": "markdown",
   "id": "54d5239a",
   "metadata": {},
   "source": [
    "The X2-statistics value of 24.345 is greater than the X2-critical value of 7.815, the decision is to reject the Hypothesis.Observed frequency distribution of men's and female's data is not same."
   ]
  },
  {
   "cell_type": "code",
   "execution_count": 10,
   "id": "a32e2b7a",
   "metadata": {},
   "outputs": [
    {
     "data": {
      "text/plain": [
       "[<matplotlib.lines.Line2D at 0x28a43a0bf70>]"
      ]
     },
     "execution_count": 10,
     "metadata": {},
     "output_type": "execute_result"
    },
    {
     "data": {
      "image/png": "[encoded data removed]",
      "text/plain": [
       "<Figure size 640x480 with 1 Axes>"
      ]
     },
     "metadata": {},
     "output_type": "display_data"
    }
   ],
   "source": [
    "import numpy as np\n",
    "import matplotlib.pyplot as plt\n",
    "from scipy.stats import chi2\n",
    "\n",
    "x=np.arange(0,20,0.01)\n",
    "\n",
    "plt.plot(x,chi2.pdf(x,df=3))"
   ]
  }
 ],
 "metadata": {
  "kernelspec": {
   "display_name": "Python 3 (ipykernel)",
   "language": "python",
   "name": "python3"
  },
  "language_info": {
   "codemirror_mode": {
    "name": "ipython",
    "version": 3
   },
   "file_extension": ".py",
   "mimetype": "text/x-python",
   "name": "python",
   "nbconvert_exporter": "python",
   "pygments_lexer": "ipython3",
   "version": "3.9.13"
  }
 },
 "nbformat": 4,
 "nbformat_minor": 5
}
