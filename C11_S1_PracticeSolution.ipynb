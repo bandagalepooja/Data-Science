{
 "cells": [
  {
   "cell_type": "markdown",
   "id": "0ea46146",
   "metadata": {},
   "source": [
    "# Non Parametric Testing\n"
   ]
  },
  {
   "cell_type": "markdown",
   "id": "d23f613f",
   "metadata": {},
   "source": [
    "# Practice"
   ]
  },
  {
   "cell_type": "markdown",
   "id": "a725772c",
   "metadata": {},
   "source": [
    "## Task 1 : Chi-Square Goodness-Of-Fit Test"
   ]
  },
  {
   "cell_type": "markdown",
   "id": "32993ee2",
   "metadata": {},
   "source": [
    "### Task 1.1 : Set Null and Alternate Hypothesis"
   ]
  },
  {
   "cell_type": "markdown",
   "id": "34e5b833",
   "metadata": {},
   "source": [
    "H0 = Response frequency observed in this survey matches the expected frequency.\n",
    "\n",
    "Ha = Response frequency observed in this survey doen not match with the expected frequency."
   ]
  },
  {
   "cell_type": "markdown",
   "id": "7920da50",
   "metadata": {},
   "source": [
    "### Task 1.2 : Using alpha=0.05, what is critical value of the hypothesis test."
   ]
  },
  {
   "cell_type": "code",
   "execution_count": 1,
   "id": "89e3fe42",
   "metadata": {},
   "outputs": [
    {
     "name": "stdout",
     "output_type": "stream",
     "text": [
      "DOF =  3\n",
      "X2-critical =  7.814727903251179\n"
     ]
    }
   ],
   "source": [
    "# Setting the value of alpha (α)\n",
    "\n",
    "alpha = 0.05 \n",
    "\n",
    "# Calculation Degree of Freedom\n",
    "\n",
    "observed_frequency=[24,108,61,14]\n",
    "n=len(observed_frequency)\n",
    "df=n-1\n",
    "print(\"DOF = \",df)\n",
    "\n",
    "# Calculating ꭕ2-critical \n",
    "\n",
    "from scipy.stats import chi2\n",
    "chi_critical=chi2.ppf(1-alpha,df)\n",
    "print(\"X2-critical = \",chi_critical)"
   ]
  },
  {
   "cell_type": "markdown",
   "id": "de56206e",
   "metadata": {},
   "source": [
    "### Task 1.3 : What are test statistics for Hypothesis Test\n",
    "\n"
   ]
  },
  {
   "cell_type": "code",
   "execution_count": 2,
   "id": "dba06755",
   "metadata": {},
   "outputs": [
    {
     "name": "stdout",
     "output_type": "stream",
     "text": [
      "Expected Frequency :  51.75\n",
      "X2-Statistics :  105.21256038647343\n",
      "P_value is  0.0\n"
     ]
    }
   ],
   "source": [
    "# Calculating Expected Frequency\n",
    "\n",
    "expected_frequency=sum(observed_frequency)/n\n",
    "\n",
    "print('Expected Frequency : ',expected_frequency)\n",
    "\n",
    "# Calculating ꭕ2-statistic \n",
    "\n",
    "chis=0\n",
    "\n",
    "for x in observed_frequency:\n",
    "    chis=chis+(x-expected_frequency)**2/expected_frequency\n",
    "    \n",
    "print(\"X2-Statistics : \",chis)\n",
    "\n",
    "# Calculating p-value\n",
    "\n",
    "from scipy.stats import norm\n",
    "\n",
    "p_value=norm.sf(abs(chis),df)\n",
    "\n",
    "print(\"P_value is \" , p_value)"
   ]
  },
  {
   "cell_type": "markdown",
   "id": "b1966342",
   "metadata": {},
   "source": [
    "### Task 1.4 : Draw the conclusion for the Hypothesis test. Sketch the graph and state your conclusion"
   ]
  },
  {
   "cell_type": "code",
   "execution_count": 3,
   "id": "42155535",
   "metadata": {},
   "outputs": [
    {
     "name": "stdout",
     "output_type": "stream",
     "text": [
      "Response frequency observed in this survey doen not match with the expected frequency. (Reject H0)\n",
      "Response frequency observed in this survey doen not match with the expected frequency. (Reject H0)\n"
     ]
    }
   ],
   "source": [
    "# Statistical Conclusion\n",
    "\n",
    "if abs(chis)>=chi_critical:\n",
    "    print(\"Response frequency observed in this survey doen not match with the expected frequency. (Reject H0)\")\n",
    "else:\n",
    "    print(\"Response frequency observed in this survey matches the expected frequency. (Accept H0)\")\n",
    "    \n",
    "if p_value<=alpha:\n",
    "    print(\"Response frequency observed in this survey doen not match with the expected frequency. (Reject H0)\")\n",
    "else:\n",
    "    print(\"Response frequency observed in this survey matches expected frequency. (Accept H0)\")"
   ]
  },
  {
   "cell_type": "markdown",
   "id": "474af0de",
   "metadata": {},
   "source": [
    "p-value = 0.00 < alpha =0.05, which leads to rejection of Null Hypothesis.\n",
    "\n",
    "X2-statistic = 105.21 > X2-critical = 7.814, which leads to rejection of Null Hypothesis"
   ]
  },
  {
   "cell_type": "markdown",
   "id": "427a4c30",
   "metadata": {},
   "source": [
    "#Making a Business Decision\n",
    "\n",
    "The X2-statistics value of 105.21 is greater than the X2-critical value of 7.81, the decision is to reject the Hypothesis.Response frequency observed in this survey doen not match with the expected frequency.\n"
   ]
  },
  {
   "cell_type": "code",
   "execution_count": 4,
   "id": "2aa5e763",
   "metadata": {},
   "outputs": [
    {
     "data": {
      "text/plain": [
       "[<matplotlib.lines.Line2D at 0x208cd45c910>]"
      ]
     },
     "execution_count": 4,
     "metadata": {},
     "output_type": "execute_result"
    },
    {
     "data": {
      "image/png": "[encoded data removed]",
      "text/plain": [
       "<Figure size 640x480 with 1 Axes>"
      ]
     },
     "metadata": {},
     "output_type": "display_data"
    }
   ],
   "source": [
    "#Plotting Ch2 Distribution\n",
    "\n",
    "import numpy as np\n",
    "import matplotlib.pyplot as plt\n",
    "\n",
    "x=np.arange(0,20,0.01)\n",
    "\n",
    "plt.plot(x,chi2.pdf(x,df))"
   ]
  },
  {
   "cell_type": "markdown",
   "id": "5e0ee5c3",
   "metadata": {},
   "source": [
    "## Task 2 : Chi-Square of Independence Test"
   ]
  },
  {
   "cell_type": "markdown",
   "id": "324431e7",
   "metadata": {},
   "source": [
    "### Task 2.1 : Set Null and Alternate Hypothesis"
   ]
  },
  {
   "cell_type": "markdown",
   "id": "bb538070",
   "metadata": {},
   "source": [
    "H0 = The number of bedrooms is independent of number of stories.\n",
    "\n",
    "Ha = The number of bedrooms is not independent of number of stories."
   ]
  },
  {
   "cell_type": "markdown",
   "id": "b76f6fde",
   "metadata": {},
   "source": [
    "### Task 2.2 : Using alpha=0.1, what is critical value of the hypothesis test."
   ]
  },
  {
   "cell_type": "code",
   "execution_count": 6,
   "id": "6a76a2a9",
   "metadata": {},
   "outputs": [
    {
     "name": "stdout",
     "output_type": "stream",
     "text": [
      "DOF =  2\n",
      "X2-critical =  4.605170185988092\n"
     ]
    }
   ],
   "source": [
    "# Setting the value of alpha (α)\n",
    "\n",
    "alpha = 0.1\n",
    "\n",
    "# Setting the value of Degree of Freedom (dof)\n",
    "\n",
    "df=(3-1)*(2-1)\n",
    "print(\"DOF = \",df)\n",
    "\n",
    "# Calculating ꭕ2-critical \n",
    "\n",
    "from scipy.stats import chi2\n",
    "\n",
    "chi_critical=chi2.ppf(1-alpha,df)\n",
    "\n",
    "print(\"X2-critical = \",chi_critical)\n"
   ]
  },
  {
   "cell_type": "markdown",
   "id": "048559ad",
   "metadata": {},
   "source": [
    "### Task 2.3 : What are test statistics for Hypothesis Test\n"
   ]
  },
  {
   "cell_type": "code",
   "execution_count": 7,
   "id": "da3b0978",
   "metadata": {},
   "outputs": [
    {
     "name": "stdout",
     "output_type": "stream",
     "text": [
      "[[116, 101, 57], [90, 325, 160]]\n",
      "72.33176626617666\n",
      "1.9649727053475884e-16\n",
      "dof =2\n",
      "[[ 66.48292108 137.48409894  70.03297998]\n",
      " [139.51707892 288.51590106 146.96702002]]\n"
     ]
    }
   ],
   "source": [
    "from scipy.stats import chi2_contingency\n",
    "\n",
    "#Contingency table\n",
    "\n",
    "table=[[116,101,57],[90,325,160]]\n",
    "\n",
    "print(table)\n",
    "\n",
    "stat,p,dof,expected=chi2_contingency(table)\n",
    "\n",
    "print(stat)\n",
    "print(p)\n",
    "print(\"dof =%d\" % dof)\n",
    "print(expected)"
   ]
  },
  {
   "cell_type": "code",
   "execution_count": 8,
   "id": "d9a2d780",
   "metadata": {},
   "outputs": [
    {
     "name": "stdout",
     "output_type": "stream",
     "text": [
      "Probability = 0.100 , critical = 4.605 ,stat= 72.332\n"
     ]
    }
   ],
   "source": [
    "print(\"Probability = %.3f , critical = %.3f ,stat= %.3f\"%(alpha,chi_critical,stat))\n"
   ]
  },
  {
   "cell_type": "markdown",
   "id": "c409e454",
   "metadata": {},
   "source": [
    "### Task 2.4 : Draw the conclusion for the Hypothesis test. Sketch the graph and state your conclusion"
   ]
  },
  {
   "cell_type": "code",
   "execution_count": 9,
   "id": "ad3bd71f",
   "metadata": {},
   "outputs": [
    {
     "name": "stdout",
     "output_type": "stream",
     "text": [
      "The number of bedrooms is not independent of number of stories. (Reject H0)\n",
      "The number of bedrooms is not independent of number of stories. (Reject H0)\n"
     ]
    }
   ],
   "source": [
    "# Statistical Conclusion\n",
    "\n",
    "if abs(stat)>=chi_critical:\n",
    "    print(\"The number of bedrooms is not independent of number of stories. (Reject H0)\")\n",
    "else:\n",
    "    print(\"The number of bedrooms is independent of number of stories. (Accept H0)\")\n",
    "    \n",
    "if p<=alpha:\n",
    "    print(\"The number of bedrooms is not independent of number of stories. (Reject H0)\")\n",
    "else:\n",
    "    print(\"The number of bedrooms is independent of number of stories. (Accept H0)\")"
   ]
  },
  {
   "cell_type": "markdown",
   "id": "90cb7365",
   "metadata": {},
   "source": [
    "p-value = 0.100 <= alpha =0.1, which leads to rejection of Null Hypothesis.\n",
    "\n",
    "X2-statistic = 72.332 > X2-critical = 4.605, which leads to rejection of Null Hypothesis"
   ]
  },
  {
   "cell_type": "markdown",
   "id": "7c0aed8a",
   "metadata": {},
   "source": [
    "# Making a Business Decision\n",
    "\n",
    "The X2-statistics value of 72.332 is greater than the X2-critical value of 4.605, the decision is to reject the Null Hypothesis.The number of bedrooms is not independent of number of stories."
   ]
  },
  {
   "cell_type": "code",
   "execution_count": 10,
   "id": "67e5b759",
   "metadata": {},
   "outputs": [
    {
     "data": {
      "text/plain": [
       "[<matplotlib.lines.Line2D at 0x208cd4aeee0>]"
      ]
     },
     "execution_count": 10,
     "metadata": {},
     "output_type": "execute_result"
    },
    {
     "data": {
      "image/png": "[encoded data removed]",
      "text/plain": [
       "<Figure size 640x480 with 1 Axes>"
      ]
     },
     "metadata": {},
     "output_type": "display_data"
    }
   ],
   "source": [
    "import numpy as np\n",
    "import matplotlib.pyplot as plt\n",
    "\n",
    "x=np.arange(0,10,0.01)\n",
    "\n",
    "plt.plot(x,chi2.pdf(x,df=2))"
   ]
  }
 ],
 "metadata": {
  "kernelspec": {
   "display_name": "Python 3 (ipykernel)",
   "language": "python",
   "name": "python3"
  },
  "language_info": {
   "codemirror_mode": {
    "name": "ipython",
    "version": 3
   },
   "file_extension": ".py",
   "mimetype": "text/x-python",
   "name": "python",
   "nbconvert_exporter": "python",
   "pygments_lexer": "ipython3",
   "version": "3.9.13"
  }
 },
 "nbformat": 4,
 "nbformat_minor": 5
}
