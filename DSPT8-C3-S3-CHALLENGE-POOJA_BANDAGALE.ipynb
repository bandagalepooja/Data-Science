{
 "cells": [
  {
   "cell_type": "markdown",
   "id": "107d7ede",
   "metadata": {},
   "source": [
    "# SPRINT 3 : ITERATIVE STATEMENTS AND LIST OPERATIONS CHALLENGE"
   ]
  },
  {
   "cell_type": "markdown",
   "id": "b48e4044",
   "metadata": {},
   "source": [
    "# Reverse the elements of list using for loop"
   ]
  },
  {
   "cell_type": "markdown",
   "id": "afbf1744",
   "metadata": {},
   "source": [
    "Task 1 : Create an empty list. Take user input of 10 words and add them in a list one by one. Use for loop to print reverse of the string using for loop"
   ]
  },
  {
   "cell_type": "code",
   "execution_count": 8,
   "id": "d11c53c4",
   "metadata": {},
   "outputs": [
    {
     "name": "stdout",
     "output_type": "stream",
     "text": [
      "Enter any word : A\n",
      "Enter any word : B\n",
      "Enter any word : C\n",
      "Enter any word : D\n",
      "Enter any word : E\n",
      "Enter any word : F\n",
      "Enter any word : G\n",
      "Enter any word : H\n",
      "Enter any word : I\n",
      "Enter any word : J\n",
      "['A', 'B', 'C', 'D', 'E', 'F', 'G', 'H', 'I', 'J']\n",
      "['J', 'I', 'H', 'G', 'F', 'E', 'D', 'C', 'B', 'A']\n"
     ]
    }
   ],
   "source": [
    "list1=[]\n",
    "\n",
    "for i in range(10):\n",
    "    list1.append(input('Enter any word : '))\n",
    "    \n",
    "print(list1)\n",
    "\n",
    "for i in range(len(list1)-1,-1,-1):\n",
    "    list1.append(list1[i])\n",
    "    list1.pop(i)\n",
    "    \n",
    "print(list1)"
   ]
  },
  {
   "cell_type": "markdown",
   "id": "46d5ee6e",
   "metadata": {},
   "source": [
    "# Reverse the elements of list using list method"
   ]
  },
  {
   "cell_type": "markdown",
   "id": "27c473fd",
   "metadata": {},
   "source": [
    "Task 2 : Create an empty list. Take user input of 10 words and add them in a list one by one. Use for loop to print reverse of the string using list method."
   ]
  },
  {
   "cell_type": "code",
   "execution_count": 10,
   "id": "da8dc7a0",
   "metadata": {},
   "outputs": [
    {
     "name": "stdout",
     "output_type": "stream",
     "text": [
      "Enter any word : A\n",
      "Enter any word : B\n",
      "Enter any word : C\n",
      "Enter any word : D\n",
      "Enter any word : E\n",
      "Enter any word : F\n",
      "Enter any word : G\n",
      "Enter any word : H\n",
      "Enter any word : I\n",
      "Enter any word : J\n",
      "['J', 'I', 'H', 'G', 'F', 'E', 'D', 'C', 'B', 'A']\n"
     ]
    }
   ],
   "source": [
    "p=[]\n",
    "\n",
    "for i in range(0,10,1):\n",
    "    a=input('Enter any word : ')\n",
    "    p.append(a)\n",
    "\n",
    "p.reverse()\n",
    "print(p)\n",
    "\n",
    "    \n",
    "    "
   ]
  },
  {
   "cell_type": "markdown",
   "id": "b43cf0fa",
   "metadata": {},
   "source": [
    "# Adding elements in a list"
   ]
  },
  {
   "cell_type": "markdown",
   "id": "93111993",
   "metadata": {},
   "source": [
    "Task 3 : Create an empty list. Take user input of 10 words (including duplicate values) and add them in alist one by one"
   ]
  },
  {
   "cell_type": "code",
   "execution_count": 1,
   "id": "2b977541",
   "metadata": {},
   "outputs": [
    {
     "name": "stdout",
     "output_type": "stream",
     "text": [
      "Enter any word : Python\n",
      "Enter any word : Java\n",
      "Enter any word : Javascript\n",
      "Enter any word : C#\n",
      "Enter any word : Java\n",
      "Enter any word : C\n",
      "Enter any word : PHP\n",
      "Enter any word : Python\n",
      "Enter any word : R\n",
      "Enter any word : Swift\n",
      "['Python', 'Java', 'Javascript', 'C#', 'Java', 'C', 'PHP', 'Python', 'R', 'Swift']\n"
     ]
    }
   ],
   "source": [
    "alist=[]\n",
    "\n",
    "for i in range(1,11,1):\n",
    "    a=input('Enter any word : ')\n",
    "    alist.append(a)\n",
    "    \n",
    "print(alist)"
   ]
  },
  {
   "cell_type": "markdown",
   "id": "db1b3c90",
   "metadata": {},
   "source": [
    "# Printing unique elements from a list"
   ]
  },
  {
   "cell_type": "markdown",
   "id": "047203f6",
   "metadata": {},
   "source": [
    "Task 4: Write program to print unique elements from alist which was created in Task 3. Save new list as blist"
   ]
  },
  {
   "cell_type": "code",
   "execution_count": 12,
   "id": "8d00dc6d",
   "metadata": {},
   "outputs": [
    {
     "name": "stdout",
     "output_type": "stream",
     "text": [
      "['Python', 'Java', 'Javascript', 'C#', 'C', 'PHP', 'R', 'Swift']\n"
     ]
    }
   ],
   "source": [
    "blist=[]\n",
    "\n",
    "c=0\n",
    "\n",
    "for i in alist:\n",
    "    c=0\n",
    "    if i not in blist and c==0:\n",
    "        blist.append(i)\n",
    "        c=c+1\n",
    "\n",
    "print(blist)\n",
    "        "
   ]
  },
  {
   "cell_type": "markdown",
   "id": "35bbf754",
   "metadata": {},
   "source": [
    "# Printing selective values"
   ]
  },
  {
   "cell_type": "markdown",
   "id": "5c5e4138",
   "metadata": {},
   "source": [
    "Task 5 : Write a python program to sort the elemets of blist created in Task 4"
   ]
  },
  {
   "cell_type": "code",
   "execution_count": 5,
   "id": "56e18929",
   "metadata": {},
   "outputs": [
    {
     "name": "stdout",
     "output_type": "stream",
     "text": [
      "['C', 'C#', 'Java', 'Javascript', 'PHP', 'Python', 'R', 'Swift']\n"
     ]
    }
   ],
   "source": [
    "sorted_list=sorted(blist)\n",
    "\n",
    "print(sorted_list)"
   ]
  },
  {
   "cell_type": "markdown",
   "id": "9805b547",
   "metadata": {},
   "source": [
    "# Removing elements from a list"
   ]
  },
  {
   "cell_type": "markdown",
   "id": "a9e56181",
   "metadata": {},
   "source": [
    "Task 6 : Remove all elements one by one from blist created in Task4"
   ]
  },
  {
   "cell_type": "code",
   "execution_count": 14,
   "id": "c9cef1b6",
   "metadata": {},
   "outputs": [
    {
     "name": "stdout",
     "output_type": "stream",
     "text": [
      "[]\n"
     ]
    }
   ],
   "source": [
    "for i in range(len(blist)):\n",
    "    blist.pop()\n",
    "    \n",
    "print(blist)\n",
    "    "
   ]
  },
  {
   "cell_type": "markdown",
   "id": "207c8b27",
   "metadata": {},
   "source": [
    "# Iterations in python using for loop"
   ]
  },
  {
   "cell_type": "markdown",
   "id": "d987147a",
   "metadata": {},
   "source": [
    "Task 7 : Write a python program to find numbers that are divisible by 7 and multiple of 5 between 1500 and 2700 (both included) "
   ]
  },
  {
   "cell_type": "code",
   "execution_count": 6,
   "id": "d174ede4",
   "metadata": {},
   "outputs": [
    {
     "name": "stdout",
     "output_type": "stream",
     "text": [
      "1505 1540 1575 1610 1645 1680 1715 1750 1785 1820 1855 1890 1925 1960 1995 2030 2065 2100 2135 2170 2205 2240 2275 2310 2345 2380 2415 2450 2485 2520 2555 2590 2625 2660 2695 "
     ]
    }
   ],
   "source": [
    "for i in range(1500,2701):\n",
    "    if i%7==0 and i%5==0:\n",
    "        print(i,end=' ')\n",
    "        "
   ]
  },
  {
   "cell_type": "markdown",
   "id": "cfffd850",
   "metadata": {},
   "source": [
    "# Iterations in python using for loop"
   ]
  },
  {
   "cell_type": "markdown",
   "id": "802aeb5a",
   "metadata": {},
   "source": [
    "Task 8 : Write python program to print first 30 natural numbers but skip all numbers that are multiples of n."
   ]
  },
  {
   "cell_type": "code",
   "execution_count": 5,
   "id": "13566098",
   "metadata": {},
   "outputs": [
    {
     "name": "stdout",
     "output_type": "stream",
     "text": [
      "Enter any number : 5\n",
      "[1, 2, 3, 4, 6, 7, 8, 9, 11, 12, 13, 14, 16, 17, 18, 19, 21, 22, 23, 24, 26, 27, 28, 29, 31, 32, 33, 34, 36, 37]\n"
     ]
    },
    {
     "data": {
      "text/plain": [
       "30"
      ]
     },
     "execution_count": 5,
     "metadata": {},
     "output_type": "execute_result"
    }
   ],
   "source": [
    "n=int(input(\"Enter any number : \"))\n",
    "\n",
    "list1=[]\n",
    "\n",
    "c=0\n",
    "\n",
    "for i in range(1,n*30+1):\n",
    "    if i%n==0 and c<=30:\n",
    "        continue\n",
    "    elif c<30:\n",
    "        list1.append(i)\n",
    "        c=c+1\n",
    "    else:\n",
    "        break\n",
    "        \n",
    "print(list1)\n",
    "\n",
    "len(list1)"
   ]
  },
  {
   "cell_type": "markdown",
   "id": "ed1e1687",
   "metadata": {},
   "source": [
    "# Creating nested lists"
   ]
  },
  {
   "cell_type": "code",
   "execution_count": null,
   "id": "cd59ea59",
   "metadata": {},
   "outputs": [],
   "source": [
    "Task10 : Take input of 18 integers values and store them in a two separate lists as below\n",
    "firstlist :  [[1, 2, 3], [4, 5, 6], [7, 8, 9]]\n",
    "secondlist :  [[19, 18, 17], [16, 15, 14], [13, 12, 11]]    "
   ]
  },
  {
   "cell_type": "code",
   "execution_count": 20,
   "id": "b233ba90",
   "metadata": {},
   "outputs": [
    {
     "name": "stdout",
     "output_type": "stream",
     "text": [
      "Enter anumber : 1\n",
      "Enter anumber : 2\n",
      "Enter anumber : 3\n",
      "Enter anumber : 4\n",
      "Enter anumber : 5\n",
      "Enter anumber : 6\n",
      "Enter anumber : 7\n",
      "Enter anumber : 8\n",
      "Enter anumber : 9\n",
      "Enter anumber : 19\n",
      "Enter anumber : 18\n",
      "Enter anumber : 17\n",
      "Enter anumber : 16\n",
      "Enter anumber : 15\n",
      "Enter anumber : 14\n",
      "Enter anumber : 13\n",
      "Enter anumber : 12\n",
      "Enter anumber : 11\n",
      "firstlist :  [[1, 2, 3], [4, 5, 6], [7, 8, 9]]\n",
      "secondlist :  [[19, 18, 17], [16, 15, 14], [13, 12, 11]]\n"
     ]
    }
   ],
   "source": [
    "firstlist=[]\n",
    "secondlist=[]\n",
    "list1=[]\n",
    "\n",
    "\n",
    "for j in range(0,3,1):\n",
    "    \n",
    "    for i in range (0,3,1):\n",
    "        a=int(input('Enter anumber : '))\n",
    "        list1.append(a)\n",
    "        \n",
    "    firstlist.append(list1)\n",
    "    list1=[]\n",
    "\n",
    "\n",
    "\n",
    "for j in range(0,3,1):\n",
    "    \n",
    "    for i in range (0,3,1):\n",
    "        a=int(input('Enter anumber : '))\n",
    "        list1.append(a)\n",
    "        \n",
    "    secondlist.append(list1)\n",
    "    list1=[]\n",
    "\n",
    "\n",
    "print('firstlist : ',firstlist)    \n",
    "print('secondlist : ',secondlist) \n"
   ]
  },
  {
   "cell_type": "code",
   "execution_count": 3,
   "id": "1f79661b",
   "metadata": {},
   "outputs": [
    {
     "name": "stdout",
     "output_type": "stream",
     "text": [
      "Enter No : 1\n",
      "Enter No : 2\n",
      "Enter No : 3\n",
      "Enter No : 4\n",
      "Enter No : 5\n",
      "Enter No : 6\n",
      "Enter No : 7\n",
      "Enter No : 8\n",
      "Enter No : 9\n",
      "Original:  [[1, 2, 3], [4, 5, 6], [7, 8, 9]]\n",
      "Reversed row:  [[3, 2, 1], [6, 5, 4], [9, 8, 7]]\n",
      "Final output :  [[9, 8, 7], [6, 5, 4], [3, 2, 1]]\n"
     ]
    }
   ],
   "source": [
    "y=[]\n",
    "\n",
    "for i in range(0,3,1):\n",
    "    y.append([])\n",
    "    for j in range(0,3,1):\n",
    "        y[i].append(int(input(\"Enter No : \")))\n",
    "print('Original: ',y)\n",
    "        \n",
    "for i in range(0,3,1):\n",
    "    y[i].reverse()     \n",
    "       \n",
    "print('Reversed row: ',y)\n",
    "\n",
    "y.reverse()            \n",
    "print(\"Final output : \",y)"
   ]
  },
  {
   "cell_type": "markdown",
   "id": "f38b22e8",
   "metadata": {},
   "source": [
    "# Sum of Two Matrices"
   ]
  },
  {
   "cell_type": "code",
   "execution_count": null,
   "id": "2117d5eb",
   "metadata": {},
   "outputs": [],
   "source": [
    "Task 9 : Store sum of firstlist and secondlist in a list called thirdlist"
   ]
  },
  {
   "cell_type": "code",
   "execution_count": 28,
   "id": "2bbafefa",
   "metadata": {},
   "outputs": [
    {
     "name": "stdout",
     "output_type": "stream",
     "text": [
      "[[20, 20, 20], [20, 20, 20], [20, 20, 20]]\n"
     ]
    }
   ],
   "source": [
    "thirdlist=[]\n",
    "\n",
    "for i in range(3):\n",
    "    \n",
    "    thirdlist.append([])\n",
    "    \n",
    "    for j in range(3):\n",
    "        thirdlist[i].append(firstlist[i][j]+secondlist[i][j])\n",
    "        \n",
    "print(thirdlist)"
   ]
  },
  {
   "cell_type": "code",
   "execution_count": 2,
   "id": "8a847b3f",
   "metadata": {},
   "outputs": [],
   "source": []
  },
  {
   "cell_type": "code",
   "execution_count": null,
   "id": "78483a0c",
   "metadata": {},
   "outputs": [],
   "source": [
    "\n"
   ]
  }
 ],
 "metadata": {
  "kernelspec": {
   "display_name": "Python 3 (ipykernel)",
   "language": "python",
   "name": "python3"
  },
  "language_info": {
   "codemirror_mode": {
    "name": "ipython",
    "version": 3
   },
   "file_extension": ".py",
   "mimetype": "text/x-python",
   "name": "python",
   "nbconvert_exporter": "python",
   "pygments_lexer": "ipython3",
   "version": "3.9.13"
  }
 },
 "nbformat": 4,
 "nbformat_minor": 5
}
