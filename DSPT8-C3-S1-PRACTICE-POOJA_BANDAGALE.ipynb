{
 "cells": [
  {
   "cell_type": "markdown",
   "id": "c9eecf4e",
   "metadata": {},
   "source": [
    "# TASK 1 : CREATING VARIABLES"
   ]
  },
  {
   "cell_type": "code",
   "execution_count": 5,
   "id": "ffa7c402",
   "metadata": {},
   "outputs": [
    {
     "name": "stdout",
     "output_type": "stream",
     "text": [
      "rollno =  10 \n",
      " id =  2495408335440 \n",
      " type =  <class 'int'>\n"
     ]
    }
   ],
   "source": [
    "rollno=10\n",
    "print('rollno = ',rollno,'\\n','id = ',id(rollno),'\\n','type = ',type(rollno))"
   ]
  },
  {
   "cell_type": "code",
   "execution_count": 6,
   "id": "7706202a",
   "metadata": {},
   "outputs": [
    {
     "name": "stdout",
     "output_type": "stream",
     "text": [
      "rollno =  John \n",
      " id =  2495491884528 \n",
      " type =  <class 'str'>\n"
     ]
    }
   ],
   "source": [
    "firstname='John'\n",
    "print('rollno = ',firstname,'\\n','id = ',id(firstname),'\\n','type = ',type(firstname))"
   ]
  },
  {
   "cell_type": "code",
   "execution_count": 7,
   "id": "a27250e3",
   "metadata": {},
   "outputs": [
    {
     "name": "stdout",
     "output_type": "stream",
     "text": [
      "rollno =  Doe id =  2495491699760 type =  <class 'str'>\n"
     ]
    }
   ],
   "source": [
    "lastname='Doe'\n",
    "print('rollno = ',lastname,'id = ',id(lastname),'type = ',type(lastname))"
   ]
  },
  {
   "cell_type": "code",
   "execution_count": 8,
   "id": "50639581",
   "metadata": {},
   "outputs": [
    {
     "name": "stdout",
     "output_type": "stream",
     "text": [
      "rollno =  50 \n",
      " id =  2495408336720 \n",
      " type =  <class 'int'>\n"
     ]
    }
   ],
   "source": [
    "maxmarks=50\n",
    "print('rollno = ',maxmarks,'\\n','id = ',id(maxmarks),'\\n','type = ',type(maxmarks))"
   ]
  },
  {
   "cell_type": "markdown",
   "id": "b30c127d",
   "metadata": {},
   "source": [
    "# TASK 2 : Naming a Variable"
   ]
  },
  {
   "cell_type": "code",
   "execution_count": 9,
   "id": "225950cc",
   "metadata": {},
   "outputs": [
    {
     "name": "stdout",
     "output_type": "stream",
     "text": [
      "2\n"
     ]
    }
   ],
   "source": [
    "var1=2 \n",
    "print(var1)"
   ]
  },
  {
   "cell_type": "markdown",
   "id": "2b57568f",
   "metadata": {},
   "source": [
    "variable can contain alphanumeric characters"
   ]
  },
  {
   "cell_type": "code",
   "execution_count": 10,
   "id": "56c9fc3e",
   "metadata": {},
   "outputs": [
    {
     "ename": "SyntaxError",
     "evalue": "invalid syntax (2961105188.py, line 1)",
     "output_type": "error",
     "traceback": [
      "\u001b[1;36m  File \u001b[1;32m\"C:\\Users\\Admin\\AppData\\Local\\Temp\\ipykernel_13172\\2961105188.py\"\u001b[1;36m, line \u001b[1;32m1\u001b[0m\n\u001b[1;33m    2var=2\u001b[0m\n\u001b[1;37m     ^\u001b[0m\n\u001b[1;31mSyntaxError\u001b[0m\u001b[1;31m:\u001b[0m invalid syntax\n"
     ]
    }
   ],
   "source": [
    "2var=2\n"
   ]
  },
  {
   "cell_type": "markdown",
   "id": "d670361c",
   "metadata": {},
   "source": [
    "variable cannot start with number"
   ]
  },
  {
   "cell_type": "code",
   "execution_count": 19,
   "id": "f9c04bc2",
   "metadata": {},
   "outputs": [
    {
     "ename": "SyntaxError",
     "evalue": "invalid syntax (3892724015.py, line 1)",
     "output_type": "error",
     "traceback": [
      "\u001b[1;36m  File \u001b[1;32m\"C:\\Users\\Admin\\AppData\\Local\\Temp\\ipykernel_5052\\3892724015.py\"\u001b[1;36m, line \u001b[1;32m1\u001b[0m\n\u001b[1;33m    var 1=2\u001b[0m\n\u001b[1;37m        ^\u001b[0m\n\u001b[1;31mSyntaxError\u001b[0m\u001b[1;31m:\u001b[0m invalid syntax\n"
     ]
    }
   ],
   "source": [
    "var 1=2\n"
   ]
  },
  {
   "cell_type": "markdown",
   "id": "3696f3b2",
   "metadata": {},
   "source": [
    "space is not allowed in variable"
   ]
  },
  {
   "cell_type": "code",
   "execution_count": 21,
   "id": "a3559f63",
   "metadata": {},
   "outputs": [
    {
     "ename": "SyntaxError",
     "evalue": "invalid syntax (661466017.py, line 1)",
     "output_type": "error",
     "traceback": [
      "\u001b[1;36m  File \u001b[1;32m\"C:\\Users\\Admin\\AppData\\Local\\Temp\\ipykernel_5052\\661466017.py\"\u001b[1;36m, line \u001b[1;32m1\u001b[0m\n\u001b[1;33m    var$2=2\u001b[0m\n\u001b[1;37m       ^\u001b[0m\n\u001b[1;31mSyntaxError\u001b[0m\u001b[1;31m:\u001b[0m invalid syntax\n"
     ]
    }
   ],
   "source": [
    "var$2=2"
   ]
  },
  {
   "cell_type": "markdown",
   "id": "972ebe8d",
   "metadata": {},
   "source": [
    "special characters cannot be use in variable"
   ]
  },
  {
   "cell_type": "markdown",
   "id": "e50e60b2",
   "metadata": {},
   "source": [
    "# TASK 3 : Assigning Values to a Variable"
   ]
  },
  {
   "cell_type": "code",
   "execution_count": 11,
   "id": "2591ed19",
   "metadata": {},
   "outputs": [],
   "source": [
    "Class=15"
   ]
  },
  {
   "cell_type": "code",
   "execution_count": 12,
   "id": "5ce4a8d0",
   "metadata": {},
   "outputs": [
    {
     "ename": "SyntaxError",
     "evalue": "invalid syntax (1944381924.py, line 1)",
     "output_type": "error",
     "traceback": [
      "\u001b[1;36m  File \u001b[1;32m\"C:\\Users\\Admin\\AppData\\Local\\Temp\\ipykernel_13172\\1944381924.py\"\u001b[1;36m, line \u001b[1;32m1\u001b[0m\n\u001b[1;33m    class=14\u001b[0m\n\u001b[1;37m         ^\u001b[0m\n\u001b[1;31mSyntaxError\u001b[0m\u001b[1;31m:\u001b[0m invalid syntax\n"
     ]
    }
   ],
   "source": [
    "class=14"
   ]
  },
  {
   "cell_type": "markdown",
   "id": "08dd64a9",
   "metadata": {},
   "source": [
    "class is keyword. Variable cannot be keyword"
   ]
  },
  {
   "cell_type": "code",
   "execution_count": 13,
   "id": "92b4c697",
   "metadata": {},
   "outputs": [],
   "source": [
    "DEF=13"
   ]
  },
  {
   "cell_type": "code",
   "execution_count": 14,
   "id": "52798956",
   "metadata": {},
   "outputs": [
    {
     "ename": "SyntaxError",
     "evalue": "invalid syntax (2652376896.py, line 1)",
     "output_type": "error",
     "traceback": [
      "\u001b[1;36m  File \u001b[1;32m\"C:\\Users\\Admin\\AppData\\Local\\Temp\\ipykernel_13172\\2652376896.py\"\u001b[1;36m, line \u001b[1;32m1\u001b[0m\n\u001b[1;33m    def=13\u001b[0m\n\u001b[1;37m       ^\u001b[0m\n\u001b[1;31mSyntaxError\u001b[0m\u001b[1;31m:\u001b[0m invalid syntax\n"
     ]
    }
   ],
   "source": [
    "def=13"
   ]
  },
  {
   "cell_type": "markdown",
   "id": "0834198f",
   "metadata": {},
   "source": [
    "def is keyword. Variable cannot be keyword"
   ]
  },
  {
   "cell_type": "code",
   "execution_count": 15,
   "id": "5fb71228",
   "metadata": {},
   "outputs": [
    {
     "ename": "NameError",
     "evalue": "name 'TRUE' is not defined",
     "output_type": "error",
     "traceback": [
      "\u001b[1;31m---------------------------------------------------------------------------\u001b[0m",
      "\u001b[1;31mNameError\u001b[0m                                 Traceback (most recent call last)",
      "\u001b[1;32m~\\AppData\\Local\\Temp\\ipykernel_13172\\1151946856.py\u001b[0m in \u001b[0;36m<module>\u001b[1;34m\u001b[0m\n\u001b[1;32m----> 1\u001b[1;33m \u001b[0ma\u001b[0m\u001b[1;33m=\u001b[0m\u001b[0mTRUE\u001b[0m\u001b[1;33m\u001b[0m\u001b[1;33m\u001b[0m\u001b[0m\n\u001b[0m",
      "\u001b[1;31mNameError\u001b[0m: name 'TRUE' is not defined"
     ]
    }
   ],
   "source": [
    "a=TRUE"
   ]
  },
  {
   "cell_type": "markdown",
   "id": "2d1d3501",
   "metadata": {},
   "source": [
    "String should be enclosed in colon like a='TRUE'"
   ]
  },
  {
   "cell_type": "code",
   "execution_count": 16,
   "id": "7a7891d2",
   "metadata": {},
   "outputs": [
    {
     "ename": "NameError",
     "evalue": "name 'false' is not defined",
     "output_type": "error",
     "traceback": [
      "\u001b[1;31m---------------------------------------------------------------------------\u001b[0m",
      "\u001b[1;31mNameError\u001b[0m                                 Traceback (most recent call last)",
      "\u001b[1;32m~\\AppData\\Local\\Temp\\ipykernel_13172\\209756984.py\u001b[0m in \u001b[0;36m<module>\u001b[1;34m\u001b[0m\n\u001b[1;32m----> 1\u001b[1;33m \u001b[0mb\u001b[0m\u001b[1;33m=\u001b[0m\u001b[0mfalse\u001b[0m\u001b[1;33m\u001b[0m\u001b[1;33m\u001b[0m\u001b[0m\n\u001b[0m",
      "\u001b[1;31mNameError\u001b[0m: name 'false' is not defined"
     ]
    }
   ],
   "source": [
    "b=false"
   ]
  },
  {
   "cell_type": "markdown",
   "id": "03cdb777",
   "metadata": {},
   "source": [
    "String should be enclosed in colon like a='TRUE' and python is case sensitive language"
   ]
  },
  {
   "cell_type": "markdown",
   "id": "7b7ed46e",
   "metadata": {},
   "source": [
    "# TASK 4 :  Using id()"
   ]
  },
  {
   "cell_type": "code",
   "execution_count": 17,
   "id": "2ef3bdbd",
   "metadata": {},
   "outputs": [
    {
     "name": "stdout",
     "output_type": "stream",
     "text": [
      "marks= 40.0 \n",
      " id of marks= 2495491597680 \n",
      " type of marks= <class 'float'>\n"
     ]
    }
   ],
   "source": [
    "marks=float(40)\n",
    "print('marks=',marks,'\\n','id of marks=',id(marks),'\\n','type of marks=',type(marks))"
   ]
  },
  {
   "cell_type": "code",
   "execution_count": 18,
   "id": "0abe6dc6",
   "metadata": {},
   "outputs": [
    {
     "name": "stdout",
     "output_type": "stream",
     "text": [
      "marks= 30.0 \n",
      " id of marks= 2495491597456 \n",
      " type of marks= <class 'float'>\n"
     ]
    }
   ],
   "source": [
    "marks=float(30)\n",
    "print('marks=',marks,'\\n','id of marks=',id(marks),'\\n','type of marks=',type(marks))"
   ]
  },
  {
   "cell_type": "markdown",
   "id": "ee140052",
   "metadata": {},
   "source": [
    "ID is of marks is changed as if the value in the same variable is changed server will allocate different memory for that variable"
   ]
  },
  {
   "cell_type": "markdown",
   "id": "63034356",
   "metadata": {},
   "source": [
    "# TASK 5 : Formatting the output"
   ]
  },
  {
   "cell_type": "code",
   "execution_count": 19,
   "id": "6b7c06c1",
   "metadata": {},
   "outputs": [
    {
     "name": "stdout",
     "output_type": "stream",
     "text": [
      "60 %\n"
     ]
    }
   ],
   "source": [
    "print(int((marks/maxmarks)*100),'%')"
   ]
  },
  {
   "cell_type": "code",
   "execution_count": 36,
   "id": "02625264",
   "metadata": {},
   "outputs": [
    {
     "name": "stdout",
     "output_type": "stream",
     "text": [
      "John Doe\n"
     ]
    }
   ],
   "source": [
    "fullname=firstname+' '+lastname\n",
    "print(fullname)\n"
   ]
  },
  {
   "cell_type": "code",
   "execution_count": 23,
   "id": "8e58ea8f",
   "metadata": {},
   "outputs": [
    {
     "name": "stdout",
     "output_type": "stream",
     "text": [
      "John Doe scored 60.0 %\n"
     ]
    }
   ],
   "source": [
    "print(fullname,'scored',(marks/maxmarks)*100,'%')"
   ]
  },
  {
   "cell_type": "markdown",
   "id": "cbcfbc62",
   "metadata": {},
   "source": [
    "# TASK 6 : Creating data structures"
   ]
  },
  {
   "cell_type": "code",
   "execution_count": 24,
   "id": "400051d2",
   "metadata": {},
   "outputs": [
    {
     "name": "stdout",
     "output_type": "stream",
     "text": [
      "{'rollno': 10}\n"
     ]
    }
   ],
   "source": [
    "y={'rollno':rollno}\n",
    "print(y)"
   ]
  },
  {
   "cell_type": "code",
   "execution_count": 25,
   "id": "0f984f1d",
   "metadata": {},
   "outputs": [
    {
     "name": "stdout",
     "output_type": "stream",
     "text": [
      "[10, 'John Doe', 30.0]\n"
     ]
    }
   ],
   "source": [
    "z=[rollno,fullname,marks]\n",
    "print(z)"
   ]
  },
  {
   "cell_type": "markdown",
   "id": "3bc6cf87",
   "metadata": {},
   "source": [
    "# TASK 7 : Arithmetic operation"
   ]
  },
  {
   "cell_type": "code",
   "execution_count": 26,
   "id": "14c1bafb",
   "metadata": {},
   "outputs": [
    {
     "ename": "TypeError",
     "evalue": "unsupported operand type(s) for +: 'int' and 'str'",
     "output_type": "error",
     "traceback": [
      "\u001b[1;31m---------------------------------------------------------------------------\u001b[0m",
      "\u001b[1;31mTypeError\u001b[0m                                 Traceback (most recent call last)",
      "\u001b[1;32m~\\AppData\\Local\\Temp\\ipykernel_13172\\3813695943.py\u001b[0m in \u001b[0;36m<module>\u001b[1;34m\u001b[0m\n\u001b[1;32m----> 1\u001b[1;33m \u001b[1;36m1\u001b[0m\u001b[1;33m+\u001b[0m\u001b[1;34m\"2\"\u001b[0m\u001b[1;33m\u001b[0m\u001b[1;33m\u001b[0m\u001b[0m\n\u001b[0m",
      "\u001b[1;31mTypeError\u001b[0m: unsupported operand type(s) for +: 'int' and 'str'"
     ]
    }
   ],
   "source": [
    "1+\"2\""
   ]
  },
  {
   "cell_type": "markdown",
   "id": "f703babe",
   "metadata": {},
   "source": [
    "string and variable cannot be added"
   ]
  },
  {
   "cell_type": "code",
   "execution_count": 27,
   "id": "d2190c68",
   "metadata": {},
   "outputs": [
    {
     "data": {
      "text/plain": [
       "'12'"
      ]
     },
     "execution_count": 27,
     "metadata": {},
     "output_type": "execute_result"
    }
   ],
   "source": [
    "\"1\"+\"2\""
   ]
  },
  {
   "cell_type": "markdown",
   "id": "d5181d59",
   "metadata": {},
   "source": [
    "In case of string +  operator works as concate"
   ]
  },
  {
   "cell_type": "code",
   "execution_count": 28,
   "id": "0ea1aad3",
   "metadata": {},
   "outputs": [
    {
     "data": {
      "text/plain": [
       "0.5"
      ]
     },
     "execution_count": 28,
     "metadata": {},
     "output_type": "execute_result"
    }
   ],
   "source": [
    "1/2"
   ]
  },
  {
   "cell_type": "code",
   "execution_count": 29,
   "id": "5477f7ab",
   "metadata": {},
   "outputs": [
    {
     "data": {
      "text/plain": [
       "0"
      ]
     },
     "execution_count": 29,
     "metadata": {},
     "output_type": "execute_result"
    }
   ],
   "source": [
    "1//2"
   ]
  },
  {
   "cell_type": "markdown",
   "id": "ee481f2a",
   "metadata": {},
   "source": [
    "Remainder operator is use to print Quotient"
   ]
  },
  {
   "cell_type": "markdown",
   "id": "83f9e203",
   "metadata": {},
   "source": [
    "# TASK 8 : Logical Operations"
   ]
  },
  {
   "cell_type": "code",
   "execution_count": 30,
   "id": "27a38243",
   "metadata": {},
   "outputs": [
    {
     "data": {
      "text/plain": [
       "True"
      ]
     },
     "execution_count": 30,
     "metadata": {},
     "output_type": "execute_result"
    }
   ],
   "source": [
    "True and True"
   ]
  },
  {
   "cell_type": "markdown",
   "id": "cdb3074f",
   "metadata": {},
   "source": [
    "And operator returns True if both right-hand & left-hand sides of operator are true"
   ]
  },
  {
   "cell_type": "code",
   "execution_count": 31,
   "id": "59d6df1b",
   "metadata": {},
   "outputs": [
    {
     "data": {
      "text/plain": [
       "False"
      ]
     },
     "execution_count": 31,
     "metadata": {},
     "output_type": "execute_result"
    }
   ],
   "source": [
    "True and False"
   ]
  },
  {
   "cell_type": "markdown",
   "id": "52ff1599",
   "metadata": {},
   "source": [
    "and operator returns True only if both right-hand & left-hand sides of operator are true else returns False"
   ]
  },
  {
   "cell_type": "code",
   "execution_count": 32,
   "id": "3bff1ebe",
   "metadata": {},
   "outputs": [
    {
     "data": {
      "text/plain": [
       "True"
      ]
     },
     "execution_count": 32,
     "metadata": {},
     "output_type": "execute_result"
    }
   ],
   "source": [
    "False or True"
   ]
  },
  {
   "cell_type": "markdown",
   "id": "f2ddbec6",
   "metadata": {},
   "source": [
    "or operator returns True if any side either right-hand or left-side of the operator are true"
   ]
  },
  {
   "cell_type": "code",
   "execution_count": 33,
   "id": "76b55c89",
   "metadata": {},
   "outputs": [
    {
     "data": {
      "text/plain": [
       "False"
      ]
     },
     "execution_count": 33,
     "metadata": {},
     "output_type": "execute_result"
    }
   ],
   "source": [
    "False or False"
   ]
  },
  {
   "cell_type": "markdown",
   "id": "65828ee8",
   "metadata": {},
   "source": [
    "or operator returns True if any side either right-hand or left-side of the operator are true else returns False"
   ]
  },
  {
   "cell_type": "markdown",
   "id": "82cff368",
   "metadata": {},
   "source": [
    "# TASK 9  : Identity and Membership operations"
   ]
  },
  {
   "cell_type": "code",
   "execution_count": null,
   "id": "89cb0774",
   "metadata": {},
   "outputs": [],
   "source": [
    "firstname in fullname"
   ]
  },
  {
   "cell_type": "markdown",
   "id": "30f9d970",
   "metadata": {},
   "source": [
    "in operator returns true if specified operand (firstname) found in the sequence (fullname)"
   ]
  },
  {
   "cell_type": "code",
   "execution_count": null,
   "id": "6c1c470a",
   "metadata": {},
   "outputs": [],
   "source": [
    "firstname is fullname"
   ]
  },
  {
   "cell_type": "markdown",
   "id": "1e84bca5",
   "metadata": {},
   "source": [
    "Returned false as firstname and lastname do not point to the same object or memory location"
   ]
  },
  {
   "cell_type": "markdown",
   "id": "52f59cce",
   "metadata": {},
   "source": [
    "# TASK 10 : Associativity"
   ]
  },
  {
   "cell_type": "code",
   "execution_count": null,
   "id": "d09c72d7",
   "metadata": {},
   "outputs": [],
   "source": [
    "a=4\n",
    "b=3\n",
    "c=2\n",
    "d=a**b+c\n",
    "e=a**(b+c)\n",
    "print(\"d=\",d,\"e=\",e)"
   ]
  },
  {
   "cell_type": "markdown",
   "id": "0880b680",
   "metadata": {},
   "source": [
    "As per operator precedence parantheses operator execute first then exponent operator. Thus output of e and d are different"
   ]
  },
  {
   "cell_type": "markdown",
   "id": "fe53b203",
   "metadata": {},
   "source": [
    "# TASK 11 : Creating a basic program"
   ]
  },
  {
   "cell_type": "code",
   "execution_count": 37,
   "id": "4c331b89",
   "metadata": {},
   "outputs": [
    {
     "name": "stdout",
     "output_type": "stream",
     "text": [
      "Area of circle is= 113.04\n"
     ]
    }
   ],
   "source": [
    "r=6\n",
    "A=3.14*r**2\n",
    "print('Area of circle is=',A)"
   ]
  },
  {
   "cell_type": "code",
   "execution_count": 38,
   "id": "98486e16",
   "metadata": {},
   "outputs": [
    {
     "name": "stdout",
     "output_type": "stream",
     "text": [
      "Amount to be paid as tax= 15.3 \n",
      " Final Price= 100.3\n"
     ]
    }
   ],
   "source": [
    "sellingprice=85\n",
    "tax=int(18)\n",
    "p=sellingprice*tax*0.01\n",
    "q=p+sellingprice\n",
    "print(\"Amount to be paid as tax=\",p,\"\\n\",\"Final Price=\",q)"
   ]
  },
  {
   "cell_type": "code",
   "execution_count": 39,
   "id": "f99b55ba",
   "metadata": {},
   "outputs": [
    {
     "name": "stdout",
     "output_type": "stream",
     "text": [
      "44.44\n"
     ]
    }
   ],
   "source": [
    "dollar1=75\n",
    "rs=3333\n",
    "print(rs/dollar1)"
   ]
  },
  {
   "cell_type": "code",
   "execution_count": 35,
   "id": "e5a46882",
   "metadata": {},
   "outputs": [
    {
     "name": "stdout",
     "output_type": "stream",
     "text": [
      "Purchasing power of $500 last year is 467.2897196261682\n"
     ]
    }
   ],
   "source": [
    "inflationrate=0.07\n",
    "laterCPI=500\n",
    "earlierCPI=laterCPI/(inflationrate+1)\n",
    "print('Purchasing power of $500 last year is',earlierCPI)"
   ]
  }
 ],
 "metadata": {
  "kernelspec": {
   "display_name": "Python 3 (ipykernel)",
   "language": "python",
   "name": "python3"
  },
  "language_info": {
   "codemirror_mode": {
    "name": "ipython",
    "version": 3
   },
   "file_extension": ".py",
   "mimetype": "text/x-python",
   "name": "python",
   "nbconvert_exporter": "python",
   "pygments_lexer": "ipython3",
   "version": "3.9.13"
  }
 },
 "nbformat": 4,
 "nbformat_minor": 5
}
