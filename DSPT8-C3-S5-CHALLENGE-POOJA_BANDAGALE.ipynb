{
 "cells": [
  {
   "cell_type": "markdown",
   "id": "df8ce307",
   "metadata": {},
   "source": [
    "# THE CONVERSION APP"
   ]
  },
  {
   "cell_type": "code",
   "execution_count": 1,
   "id": "49ff6182",
   "metadata": {},
   "outputs": [],
   "source": [
    "#1\n",
    "import math\n",
    "def rad_to_degree():\n",
    "    n=int(input(\"Enter number to convert : \"))\n",
    "    print('Degree : ',n*180/math.pi)"
   ]
  },
  {
   "cell_type": "code",
   "execution_count": 2,
   "id": "abcf8d7d",
   "metadata": {},
   "outputs": [],
   "source": [
    "#2\n",
    "def number_to_fact():\n",
    "    n=int(input(\"Enter number to convert : \"))\n",
    "    print('Factorial : ',math.factorial(n))"
   ]
  },
  {
   "cell_type": "code",
   "execution_count": 3,
   "id": "08d8114b",
   "metadata": {},
   "outputs": [],
   "source": [
    "#3\n",
    "def mb_to_nibble():\n",
    "    n=float(input(\"Enter number to convert : \"))\n",
    "    print('Nibbles : ',2*10**6*n)"
   ]
  },
  {
   "cell_type": "code",
   "execution_count": 4,
   "id": "da15a28a",
   "metadata": {},
   "outputs": [],
   "source": [
    "#4\n",
    "def kph_to_mps():\n",
    "    n=int(input(\"Enter number to convert : \"))\n",
    "    print('Kilometer per hour : ',0.277778*n)"
   ]
  },
  {
   "cell_type": "code",
   "execution_count": 5,
   "id": "ee03f69c",
   "metadata": {},
   "outputs": [],
   "source": [
    "#5\n",
    "def int_to_float():\n",
    "    n=int(input(\"Enter number to convert : \"))\n",
    "    print('Float : ',float(n))"
   ]
  },
  {
   "cell_type": "code",
   "execution_count": 6,
   "id": "c921c000",
   "metadata": {},
   "outputs": [],
   "source": [
    "#6\n",
    "def dec_to_oct():\n",
    "    n=int(input(\"Enter number to convert : \"))\n",
    "    print('Octadecimal : ',oct(n))"
   ]
  },
  {
   "cell_type": "code",
   "execution_count": 7,
   "id": "ab124c47",
   "metadata": {},
   "outputs": [],
   "source": [
    "#7\n",
    "def dec_to_hex():\n",
    "    n=int(input(\"Enter number to convert : \"))\n",
    "    print('Hexadecimal : ',hex(n))"
   ]
  },
  {
   "cell_type": "code",
   "execution_count": 8,
   "id": "cc993929",
   "metadata": {},
   "outputs": [],
   "source": [
    "#8\n",
    "def dec_to_bin():\n",
    "    n=int(input(\"Enter number to convert : \"))\n",
    "    print('Binary : ',bin(n))"
   ]
  },
  {
   "cell_type": "code",
   "execution_count": 9,
   "id": "3af66009",
   "metadata": {},
   "outputs": [],
   "source": [
    "#9\n",
    "def char_to_ascii():\n",
    "    char=str(input(\"Enter string to convert : \"))\n",
    "    print('ASCII : ',ord(char))"
   ]
  },
  {
   "cell_type": "code",
   "execution_count": 10,
   "id": "eb8e03a2",
   "metadata": {},
   "outputs": [],
   "source": [
    "#10\n",
    "def cel_to_fahrenheit():\n",
    "    n=int(input(\"Enter number to convert : \"))\n",
    "    print('Fahrenheit : ',1.8*n+32)"
   ]
  },
  {
   "cell_type": "code",
   "execution_count": 11,
   "id": "a37d5e09",
   "metadata": {},
   "outputs": [],
   "source": [
    "#11\n",
    "import math\n",
    "def deg_to_rad():\n",
    "    n=int(input(\"Enter number to convert : \"))\n",
    "    print('Radians : ',n*math.pi/180)   "
   ]
  },
  {
   "cell_type": "code",
   "execution_count": 12,
   "id": "0efa5ad5",
   "metadata": {},
   "outputs": [],
   "source": [
    "#12\n",
    "def num_to_sqrt():\n",
    "    n=int(input(\"Enter number to convert : \"))\n",
    "    print('Squareroot : ',math.sqrt(n)) "
   ]
  },
  {
   "cell_type": "code",
   "execution_count": 13,
   "id": "9cac9401",
   "metadata": {},
   "outputs": [],
   "source": [
    "#13\n",
    "def frac_to_dec():\n",
    "    n1=int(input(\"Enter numerator : \"))\n",
    "    n2=int(input(\"Enter denominator : \"))\n",
    "    print('Decimal : ',n1/n2)"
   ]
  },
  {
   "cell_type": "code",
   "execution_count": 14,
   "id": "6b7a5f44",
   "metadata": {},
   "outputs": [],
   "source": [
    "#14\n",
    "def mps_to_kph():\n",
    "    n=int(input(\"Enter number to convert : \"))\n",
    "    print('Kilometer per hour  : ',n*(18/5))    "
   ]
  },
  {
   "cell_type": "code",
   "execution_count": 15,
   "id": "a9c7bccb",
   "metadata": {},
   "outputs": [],
   "source": [
    "#15\n",
    "def float_to_int():\n",
    "    n=float(input(\"Enter number to convert : \"))\n",
    "    print('Integer  : ',int(n)) "
   ]
  },
  {
   "cell_type": "code",
   "execution_count": 16,
   "id": "6679cf8b",
   "metadata": {},
   "outputs": [],
   "source": [
    "#16\n",
    "def octal_to_decimal():\n",
    "    n=int(input(\"Enter number to convert : \"))\n",
    "    print('Decimal: ',int(str(n),8)) "
   ]
  },
  {
   "cell_type": "code",
   "execution_count": 17,
   "id": "f74ec30b",
   "metadata": {},
   "outputs": [],
   "source": [
    "#17\n",
    "def hexadecimal_to_decimal():\n",
    "    n=int(input(\"Enter number to convert : \"))\n",
    "    print('Hexadecimal: ',int(str(n),16)) "
   ]
  },
  {
   "cell_type": "code",
   "execution_count": 18,
   "id": "a4f93843",
   "metadata": {},
   "outputs": [],
   "source": [
    "#18\n",
    "def binary_to_decimal():\n",
    "    n=int(input(\"Enter number to convert : \"))\n",
    "    print('Binary: ',int(str(n),2)) "
   ]
  },
  {
   "cell_type": "code",
   "execution_count": 19,
   "id": "c5c0f756",
   "metadata": {},
   "outputs": [],
   "source": [
    "#19\n",
    "def ascii_to_cha():\n",
    "    n=int(input(\"Enter ascii code to convert : \"))\n",
    "    print('Character: ',chr(n)) "
   ]
  },
  {
   "cell_type": "code",
   "execution_count": 20,
   "id": "007541dd",
   "metadata": {},
   "outputs": [],
   "source": [
    "#20\n",
    "def fahrenheit_to_celc():\n",
    "    n=int(input(\"Enter number to convert : \"))\n",
    "    print('Celcius : ',(n-32)*(5/9))"
   ]
  },
  {
   "cell_type": "code",
   "execution_count": 21,
   "id": "f5343806",
   "metadata": {},
   "outputs": [],
   "source": [
    "list1=['Radian to Degress','Number to Factorial','Mb to Nibbles','Kilometer per hour to meter per second','Integer to float','Decimal to Octal','Decimal to Hexadecimal','Decimal to Binary'\n",
    "      ,'Character to ASCII','Celius to Fahrenheit','Degress to Radian',\n",
    "      'Number to Square root','Fraction to Decimal','Meter per second to Kilometer per hour',\n",
    "      'Float to Integer','Octal to Decimal','Hexadecimal to Decimal','Binary to Decimal',\n",
    "      'ASCII to Character','Fahrenheit to Celcius']"
   ]
  },
  {
   "cell_type": "code",
   "execution_count": 22,
   "id": "2529fadf",
   "metadata": {},
   "outputs": [
    {
     "name": "stdout",
     "output_type": "stream",
     "text": [
      "{0: 'Radian to Degress', 1: 'Number to Factorial', 2: 'Mb to Nibbles', 3: 'Kilometer per hour to meter per second', 4: 'Integer to float', 5: 'Decimal to Octal', 6: 'Decimal to Hexadecimal', 7: 'Decimal to Binary', 8: 'Character to ASCII', 9: 'Celius to Fahrenheit', 10: 'Degress to Radian', 11: 'Number to Square root', 12: 'Fraction to Decimal', 13: 'Meter per second to Kilometer per hour', 14: 'Float to Integer', 15: 'Octal to Decimal', 16: 'Hexadecimal to Decimal', 17: 'Binary to Decimal', 18: 'ASCII to Character', 19: 'Fahrenheit to Celcius'}\n"
     ]
    }
   ],
   "source": [
    "dic={}\n",
    "for i in range(0,20,1):\n",
    "    dic[i]=list1[i]\n",
    "    i=i+1\n",
    "print(dic)"
   ]
  },
  {
   "cell_type": "code",
   "execution_count": 23,
   "id": "acd67f6b",
   "metadata": {},
   "outputs": [
    {
     "name": "stdout",
     "output_type": "stream",
     "text": [
      "Press 1 for Radian to Degress\n",
      "Press 2 for Number to Factorial\n",
      "Press 3 for Mb to Nibbles\n",
      "Press 4 for Kilometer per hour to meter per second\n",
      "Press 5 for Integer to float\n",
      "Press 6 for Decimal to Octal\n",
      "Press 7 for Decimal to Hexadecimal\n",
      "Press 8 for Decimal to Binary\n",
      "Press 9 for Character to ASCII\n",
      "Press 10 for Celius to Fahrenheit\n",
      "Press 11 for Degress to Radian\n",
      "Press 12 for Number to Square root\n",
      "Press 13 for Fraction to Decimal\n",
      "Press 14 for Meter per second to Kilometer per hour\n",
      "Press 15 for Float to Integer\n",
      "Press 16 for Octal to Decimal\n",
      "Press 17 for Hexadecimal to Decimal\n",
      "Press 18 for Binary to Decimal\n",
      "Press 19 for ASCII to Character\n",
      "Press 20 for Fahrenheit to Celcius\n",
      "Press 0 to Exit\n",
      "#######################################################\n",
      "Enter your choice : 1\n",
      "Enter number to convert : 180\n",
      "Degree :  10313.240312354817\n",
      "Enter your choice : 2\n",
      "Enter number to convert : 5\n",
      "Factorial :  120\n",
      "Enter your choice : 3\n",
      "Enter number to convert : 2\n",
      "Nibbles :  4000000.0\n",
      "Enter your choice : 4\n",
      "Enter number to convert : 15\n",
      "Kilometer per hour :  4.166670000000001\n",
      "Enter your choice : 5\n",
      "Enter number to convert : 10\n",
      "Float :  10.0\n",
      "Enter your choice : 6\n",
      "Enter number to convert : 394\n",
      "Octadecimal :  0o612\n",
      "Enter your choice : 7\n",
      "Enter number to convert : 34\n",
      "Hexadecimal :  0x22\n",
      "Enter your choice : 8\n",
      "Enter number to convert : 29\n",
      "Binary :  0b11101\n",
      "Enter your choice : 9\n",
      "Enter string to convert : A\n",
      "ASCII :  65\n",
      "Enter your choice : 10\n",
      "Enter number to convert : 270\n",
      "Fahrenheit :  518.0\n",
      "Enter your choice : 11\n",
      "Enter number to convert : 180\n",
      "Radians :  3.141592653589793\n",
      "Enter your choice : 12\n",
      "Enter number to convert : 25\n",
      "Squareroot :  5.0\n",
      "Enter your choice : 13\n",
      "Enter numerator : 5\n",
      "Enter denominator : 8\n",
      "Decimal :  0.625\n",
      "Enter your choice : 14\n",
      "Enter number to convert : 5\n",
      "Kilometer per hour  :  18.0\n",
      "Enter your choice : 15\n",
      "Enter number to convert : 25.6\n",
      "Integer  :  25\n",
      "Enter your choice : 16\n",
      "Enter number to convert : 143\n",
      "Decimal:  99\n",
      "Enter your choice : 17\n",
      "Enter number to convert : 59\n",
      "Hexadecimal:  89\n",
      "Enter your choice : 18\n",
      "Enter number to convert : 110\n",
      "Binary:  6\n",
      "Enter your choice : 19\n",
      "Enter ascii code to convert : 67\n",
      "Character:  C\n",
      "Enter your choice : 20\n",
      "Enter number to convert : 547\n",
      "Celcius :  286.11111111111114\n",
      "Enter your choice : 21\n"
     ]
    }
   ],
   "source": [
    "for k,v in dic.items():\n",
    "    print('Press {} for {}'.format((int(k)+1),v))\n",
    "print('Press 0 to Exit')\n",
    "print('#######################################################')\n",
    "while True:\n",
    "    n=int(input('Enter your choice : '))\n",
    "    if n==1:\n",
    "        rad_to_degree()\n",
    "    if n==2:\n",
    "        number_to_fact()\n",
    "    if n==3:\n",
    "        mb_to_nibble()\n",
    "    if n==4:\n",
    "        kph_to_mps()\n",
    "    if n==5:\n",
    "        int_to_float()\n",
    "    if n==6:\n",
    "        dec_to_oct()\n",
    "    if n==7:\n",
    "        dec_to_hex()\n",
    "    if n==8:\n",
    "        dec_to_bin()\n",
    "    if n==9:\n",
    "        char_to_ascii()\n",
    "    if n==10:\n",
    "        cel_to_fahrenheit()\n",
    "    if n==11:\n",
    "        deg_to_rad()\n",
    "    if n==12:\n",
    "        num_to_sqrt()\n",
    "    if n==13:\n",
    "        frac_to_dec()\n",
    "    if n==14:\n",
    "        mps_to_kph()\n",
    "    if n==15:\n",
    "        float_to_int()\n",
    "    if n==16:\n",
    "        octal_to_decimal()\n",
    "    if n==17:\n",
    "        hexadecimal_to_decimal()\n",
    "    if n==18:\n",
    "        binary_to_decimal()\n",
    "    if n==19:\n",
    "        ascii_to_cha()\n",
    "    if n==20:\n",
    "        fahrenheit_to_celc()  \n",
    "    if n==0:\n",
    "        break\n",
    "    if n>20:\n",
    "        break"
   ]
  },
  {
   "cell_type": "code",
   "execution_count": null,
   "id": "5710b517",
   "metadata": {},
   "outputs": [],
   "source": []
  },
  {
   "cell_type": "code",
   "execution_count": null,
   "id": "6e016282",
   "metadata": {},
   "outputs": [],
   "source": []
  }
 ],
 "metadata": {
  "kernelspec": {
   "display_name": "Python 3 (ipykernel)",
   "language": "python",
   "name": "python3"
  },
  "language_info": {
   "codemirror_mode": {
    "name": "ipython",
    "version": 3
   },
   "file_extension": ".py",
   "mimetype": "text/x-python",
   "name": "python",
   "nbconvert_exporter": "python",
   "pygments_lexer": "ipython3",
   "version": "3.9.13"
  }
 },
 "nbformat": 4,
 "nbformat_minor": 5
}
