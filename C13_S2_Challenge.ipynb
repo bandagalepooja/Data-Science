{
  "cells": [
    {
      "cell_type": "markdown",
      "id": "5bc595c1",
      "metadata": {
        "id": "5bc595c1"
      },
      "source": [
        "# **Binary, Multi-Class and Multi-Label Classification**"
      ]
    },
    {
      "cell_type": "markdown",
      "source": [
        "# **Practice**"
      ],
      "metadata": {
        "id": "V4DUAegV9dZN"
      },
      "id": "V4DUAegV9dZN"
    },
    {
      "cell_type": "markdown",
      "source": [
        "# **Multi-Label Tweet Post Classification**\n",
        "\n",
        "Adriana, a student of a data science crash course, is learning different types of classifications as a pat of text preprocessing through the NLTK library of Python. She is asked to explore a collection of nearly 27,480 posted tweets for model training purposes and 3,533 posted tweets from the Kaggel site. She is also asked to build clasifiers to test with a set of unknown documents as part of her learning Help Adriana learn text classification using multi-class classification machine learning methods."
      ],
      "metadata": {
        "id": "sombwl499hYC"
      },
      "id": "sombwl499hYC"
    },
    {
      "cell_type": "markdown",
      "source": [
        "Data Structure\n",
        "\n",
        "Data is split between thetrain and test sets and based on tweet posts.\n",
        "\n",
        "Data Set Characteristics:\n",
        "\n",
        "text: the text of the tweet\n",
        "\n",
        "sentiment: the sentiment or polarity of the tweet\n"
      ],
      "metadata": {
        "id": "ZdhA-8ge9la-"
      },
      "id": "ZdhA-8ge9la-"
    },
    {
      "cell_type": "code",
      "execution_count": null,
      "id": "ea0d5056",
      "metadata": {
        "id": "ea0d5056"
      },
      "outputs": [],
      "source": [
        "import numpy as np                                       # for numerical calculation\n",
        "import pandas as pd                                      # for data analysis\n",
        "import re                                                # regular expression\n",
        "import json                                              # java script file\n",
        "import warnings\n",
        "warnings.filterwarnings('ignore')                        # to ignore warnings\n",
        "import string                                            # string\n",
        "from nltk.corpus import stopwords                        # stop words\n",
        "\n",
        "from sklearn.feature_extraction.text import TfidfVectorizer #Tfidvectorizer\n",
        "from sklearn.linear_model import LogisticRegression      # classification model\n",
        "from sklearn.multiclass import OneVsRestClassifier\n",
        "from sklearn.metrics import confusion_matrix,classification_report"
      ]
    },
    {
      "cell_type": "markdown",
      "id": "24737829",
      "metadata": {
        "id": "24737829"
      },
      "source": [
        "# **Task 1**\n",
        "\n",
        "\n",
        "Load the tweet corpus train and test datasets. Perform the missing value treatme it if required.\n"
      ]
    },
    {
      "cell_type": "code",
      "execution_count": null,
      "id": "3bd00205",
      "metadata": {
        "id": "3bd00205",
        "outputId": "a7d76180-6e23-4e50-e73d-c9d2cf7d8374"
      },
      "outputs": [
        {
          "data": {
            "text/html": [
              "<div>\n",
              "<style scoped>\n",
              "    .dataframe tbody tr th:only-of-type {\n",
              "        vertical-align: middle;\n",
              "    }\n",
              "\n",
              "    .dataframe tbody tr th {\n",
              "        vertical-align: top;\n",
              "    }\n",
              "\n",
              "    .dataframe thead th {\n",
              "        text-align: right;\n",
              "    }\n",
              "</style>\n",
              "<table border=\"1\" class=\"dataframe\">\n",
              "  <thead>\n",
              "    <tr style=\"text-align: right;\">\n",
              "      <th></th>\n",
              "      <th>textID</th>\n",
              "      <th>text</th>\n",
              "      <th>selected_text</th>\n",
              "      <th>sentiment</th>\n",
              "      <th>Time of Tweet</th>\n",
              "      <th>Age of User</th>\n",
              "      <th>Country</th>\n",
              "      <th>Population -2020</th>\n",
              "      <th>Land Area (Km�)</th>\n",
              "      <th>Density (P/Km�)</th>\n",
              "    </tr>\n",
              "  </thead>\n",
              "  <tbody>\n",
              "    <tr>\n",
              "      <th>0</th>\n",
              "      <td>cb774db0d1</td>\n",
              "      <td>I`d have responded, if I were going</td>\n",
              "      <td>I`d have responded, if I were going</td>\n",
              "      <td>neutral</td>\n",
              "      <td>morning</td>\n",
              "      <td>0-20</td>\n",
              "      <td>Afghanistan</td>\n",
              "      <td>38928346</td>\n",
              "      <td>652860.0</td>\n",
              "      <td>60</td>\n",
              "    </tr>\n",
              "    <tr>\n",
              "      <th>1</th>\n",
              "      <td>549e992a42</td>\n",
              "      <td>Sooo SAD I will miss you here in San Diego!!!</td>\n",
              "      <td>Sooo SAD</td>\n",
              "      <td>negative</td>\n",
              "      <td>noon</td>\n",
              "      <td>21-30</td>\n",
              "      <td>Albania</td>\n",
              "      <td>2877797</td>\n",
              "      <td>27400.0</td>\n",
              "      <td>105</td>\n",
              "    </tr>\n",
              "    <tr>\n",
              "      <th>2</th>\n",
              "      <td>088c60f138</td>\n",
              "      <td>my boss is bullying me...</td>\n",
              "      <td>bullying me</td>\n",
              "      <td>negative</td>\n",
              "      <td>night</td>\n",
              "      <td>31-45</td>\n",
              "      <td>Algeria</td>\n",
              "      <td>43851044</td>\n",
              "      <td>2381740.0</td>\n",
              "      <td>18</td>\n",
              "    </tr>\n",
              "    <tr>\n",
              "      <th>3</th>\n",
              "      <td>9642c003ef</td>\n",
              "      <td>what interview! leave me alone</td>\n",
              "      <td>leave me alone</td>\n",
              "      <td>negative</td>\n",
              "      <td>morning</td>\n",
              "      <td>46-60</td>\n",
              "      <td>Andorra</td>\n",
              "      <td>77265</td>\n",
              "      <td>470.0</td>\n",
              "      <td>164</td>\n",
              "    </tr>\n",
              "    <tr>\n",
              "      <th>4</th>\n",
              "      <td>358bd9e861</td>\n",
              "      <td>Sons of ****, why couldn`t they put them on t...</td>\n",
              "      <td>Sons of ****,</td>\n",
              "      <td>negative</td>\n",
              "      <td>noon</td>\n",
              "      <td>60-70</td>\n",
              "      <td>Angola</td>\n",
              "      <td>32866272</td>\n",
              "      <td>1246700.0</td>\n",
              "      <td>26</td>\n",
              "    </tr>\n",
              "  </tbody>\n",
              "</table>\n",
              "</div>"
            ],
            "text/plain": [
              "       textID                                               text  \\\n",
              "0  cb774db0d1                I`d have responded, if I were going   \n",
              "1  549e992a42      Sooo SAD I will miss you here in San Diego!!!   \n",
              "2  088c60f138                          my boss is bullying me...   \n",
              "3  9642c003ef                     what interview! leave me alone   \n",
              "4  358bd9e861   Sons of ****, why couldn`t they put them on t...   \n",
              "\n",
              "                         selected_text sentiment Time of Tweet Age of User  \\\n",
              "0  I`d have responded, if I were going   neutral       morning        0-20   \n",
              "1                             Sooo SAD  negative          noon       21-30   \n",
              "2                          bullying me  negative         night       31-45   \n",
              "3                       leave me alone  negative       morning       46-60   \n",
              "4                        Sons of ****,  negative          noon       60-70   \n",
              "\n",
              "       Country  Population -2020  Land Area (Km�)  Density (P/Km�)  \n",
              "0  Afghanistan          38928346         652860.0               60  \n",
              "1      Albania           2877797          27400.0              105  \n",
              "2      Algeria          43851044        2381740.0               18  \n",
              "3      Andorra             77265            470.0              164  \n",
              "4       Angola          32866272        1246700.0               26  "
            ]
          },
          "execution_count": 7,
          "metadata": {},
          "output_type": "execute_result"
        }
      ],
      "source": [
        "df_train = pd.read_csv(\"DS3_C3_S2_TweetTrain_Data_Challenge.csv\") # train data\n",
        "df_test = pd.read_csv(\"DS3_C3_S2_TweetTest_Data_Challenge.csv\")   # test data\n",
        "df_train.head()"
      ]
    },
    {
      "cell_type": "code",
      "execution_count": null,
      "id": "d253801b",
      "metadata": {
        "id": "d253801b",
        "outputId": "850cdfe2-a893-4545-cb87-7f58b31f8d11"
      },
      "outputs": [
        {
          "data": {
            "text/plain": [
              "textID              0\n",
              "text                1\n",
              "selected_text       1\n",
              "sentiment           0\n",
              "Time of Tweet       0\n",
              "Age of User         0\n",
              "Country             0\n",
              "Population -2020    0\n",
              "Land Area (Km�)     0\n",
              "Density (P/Km�)     0\n",
              "dtype: int64"
            ]
          },
          "execution_count": 10,
          "metadata": {},
          "output_type": "execute_result"
        }
      ],
      "source": [
        "df_train.isnull().sum() #train data has some null value need to treat the missing value"
      ]
    },
    {
      "cell_type": "code",
      "execution_count": null,
      "id": "d93845c1",
      "metadata": {
        "id": "d93845c1"
      },
      "outputs": [],
      "source": [
        "df_train.dropna(inplace=True) # droping the missing value"
      ]
    },
    {
      "cell_type": "code",
      "execution_count": null,
      "id": "c8fa3f79",
      "metadata": {
        "id": "c8fa3f79",
        "outputId": "c7f750ad-9ceb-4f01-bd48-2adce904f072"
      },
      "outputs": [
        {
          "data": {
            "text/plain": [
              "textID              0\n",
              "text                0\n",
              "selected_text       0\n",
              "sentiment           0\n",
              "Time of Tweet       0\n",
              "Age of User         0\n",
              "Country             0\n",
              "Population -2020    0\n",
              "Land Area (Km�)     0\n",
              "Density (P/Km�)     0\n",
              "dtype: int64"
            ]
          },
          "execution_count": 12,
          "metadata": {},
          "output_type": "execute_result"
        }
      ],
      "source": [
        "df_train.isnull().sum() # now there is no null value"
      ]
    },
    {
      "cell_type": "code",
      "execution_count": null,
      "id": "81b599c5",
      "metadata": {
        "id": "81b599c5",
        "outputId": "c2d25c27-1cfb-471f-ec4b-ae54d02d973a"
      },
      "outputs": [
        {
          "data": {
            "text/html": [
              "<div>\n",
              "<style scoped>\n",
              "    .dataframe tbody tr th:only-of-type {\n",
              "        vertical-align: middle;\n",
              "    }\n",
              "\n",
              "    .dataframe tbody tr th {\n",
              "        vertical-align: top;\n",
              "    }\n",
              "\n",
              "    .dataframe thead th {\n",
              "        text-align: right;\n",
              "    }\n",
              "</style>\n",
              "<table border=\"1\" class=\"dataframe\">\n",
              "  <thead>\n",
              "    <tr style=\"text-align: right;\">\n",
              "      <th></th>\n",
              "      <th>textID</th>\n",
              "      <th>text</th>\n",
              "      <th>sentiment</th>\n",
              "      <th>Time of Tweet</th>\n",
              "      <th>Age of User</th>\n",
              "      <th>Country</th>\n",
              "      <th>Population -2020</th>\n",
              "      <th>Land Area (Km�)</th>\n",
              "      <th>Density (P/Km�)</th>\n",
              "    </tr>\n",
              "  </thead>\n",
              "  <tbody>\n",
              "    <tr>\n",
              "      <th>0</th>\n",
              "      <td>f87dea47db</td>\n",
              "      <td>Last session of the day  http://twitpic.com/67ezh</td>\n",
              "      <td>neutral</td>\n",
              "      <td>morning</td>\n",
              "      <td>0-20</td>\n",
              "      <td>Afghanistan</td>\n",
              "      <td>38928346</td>\n",
              "      <td>652860.0</td>\n",
              "      <td>60</td>\n",
              "    </tr>\n",
              "    <tr>\n",
              "      <th>1</th>\n",
              "      <td>96d74cb729</td>\n",
              "      <td>Shanghai is also really exciting (precisely -...</td>\n",
              "      <td>positive</td>\n",
              "      <td>noon</td>\n",
              "      <td>21-30</td>\n",
              "      <td>Albania</td>\n",
              "      <td>2877797</td>\n",
              "      <td>27400.0</td>\n",
              "      <td>105</td>\n",
              "    </tr>\n",
              "    <tr>\n",
              "      <th>2</th>\n",
              "      <td>eee518ae67</td>\n",
              "      <td>Recession hit Veronique Branquinho, she has to...</td>\n",
              "      <td>negative</td>\n",
              "      <td>night</td>\n",
              "      <td>31-45</td>\n",
              "      <td>Algeria</td>\n",
              "      <td>43851044</td>\n",
              "      <td>2381740.0</td>\n",
              "      <td>18</td>\n",
              "    </tr>\n",
              "    <tr>\n",
              "      <th>3</th>\n",
              "      <td>01082688c6</td>\n",
              "      <td>happy bday!</td>\n",
              "      <td>positive</td>\n",
              "      <td>morning</td>\n",
              "      <td>46-60</td>\n",
              "      <td>Andorra</td>\n",
              "      <td>77265</td>\n",
              "      <td>470.0</td>\n",
              "      <td>164</td>\n",
              "    </tr>\n",
              "    <tr>\n",
              "      <th>4</th>\n",
              "      <td>33987a8ee5</td>\n",
              "      <td>http://twitpic.com/4w75p - I like it!!</td>\n",
              "      <td>positive</td>\n",
              "      <td>noon</td>\n",
              "      <td>60-70</td>\n",
              "      <td>Angola</td>\n",
              "      <td>32866272</td>\n",
              "      <td>1246700.0</td>\n",
              "      <td>26</td>\n",
              "    </tr>\n",
              "  </tbody>\n",
              "</table>\n",
              "</div>"
            ],
            "text/plain": [
              "       textID                                               text sentiment  \\\n",
              "0  f87dea47db  Last session of the day  http://twitpic.com/67ezh   neutral   \n",
              "1  96d74cb729   Shanghai is also really exciting (precisely -...  positive   \n",
              "2  eee518ae67  Recession hit Veronique Branquinho, she has to...  negative   \n",
              "3  01082688c6                                        happy bday!  positive   \n",
              "4  33987a8ee5             http://twitpic.com/4w75p - I like it!!  positive   \n",
              "\n",
              "  Time of Tweet Age of User      Country  Population -2020  Land Area (Km�)  \\\n",
              "0       morning        0-20  Afghanistan          38928346         652860.0   \n",
              "1          noon       21-30      Albania           2877797          27400.0   \n",
              "2         night       31-45      Algeria          43851044        2381740.0   \n",
              "3       morning       46-60      Andorra             77265            470.0   \n",
              "4          noon       60-70       Angola          32866272        1246700.0   \n",
              "\n",
              "   Density (P/Km�)  \n",
              "0               60  \n",
              "1              105  \n",
              "2               18  \n",
              "3              164  \n",
              "4               26  "
            ]
          },
          "execution_count": 8,
          "metadata": {},
          "output_type": "execute_result"
        }
      ],
      "source": [
        "df_test.head() # test data"
      ]
    },
    {
      "cell_type": "code",
      "execution_count": null,
      "id": "c1513655",
      "metadata": {
        "id": "c1513655",
        "outputId": "f2cf8aa3-b50d-4ff1-fa81-78b85a1021c7"
      },
      "outputs": [
        {
          "data": {
            "text/plain": [
              "textID              0\n",
              "text                0\n",
              "sentiment           0\n",
              "Time of Tweet       0\n",
              "Age of User         0\n",
              "Country             0\n",
              "Population -2020    0\n",
              "Land Area (Km�)     0\n",
              "Density (P/Km�)     0\n",
              "dtype: int64"
            ]
          },
          "execution_count": 13,
          "metadata": {},
          "output_type": "execute_result"
        }
      ],
      "source": [
        "df_test.isnull().sum() # no null value in test data"
      ]
    },
    {
      "cell_type": "markdown",
      "id": "32db65ee",
      "metadata": {
        "id": "32db65ee"
      },
      "source": [
        "# **Task 2**\n",
        "\n",
        "Preprocess the train and test tweet texts using the following two methods:\n",
        "\n",
        "punctuation\n",
        "\n",
        "Method #1: Cleaning the reviews - removal of stopwords and import string\n",
        "\n",
        "def text_process(text):\n",
        "\n",
        "nopunc = [char for char in text if char not in string.punctuation]\n",
        "\n",
        "nopunc = \".join(nopunc)\n",
        "\n",
        "return [w ord for word in nopunc.split() if word.lower() not in stopwords.words('english')]\n",
        "\n",
        "Method #2: Conversion of review text from list type to string type def listToString(s): str1=\"\" return (str1.join(s))\n"
      ]
    },
    {
      "cell_type": "code",
      "execution_count": null,
      "id": "d72d6e1c",
      "metadata": {
        "id": "d72d6e1c"
      },
      "outputs": [],
      "source": [
        "# cleaning the reviews- removal of stopwords and punctuation\n",
        "def text_process(text):\n",
        "    nopunc = [char for char in text if char not in string.punctuation]\n",
        "    nopunc = ''.join(nopunc)\n",
        "    return[word for word in nopunc.split() if word.lower() not in stopwords.words(\"english\")]"
      ]
    },
    {
      "cell_type": "code",
      "execution_count": null,
      "id": "24870660",
      "metadata": {
        "id": "24870660"
      },
      "outputs": [],
      "source": [
        "# conversion of review text form list type to string type data\n",
        "def listToString(s):\n",
        "    str1 = \" \"\n",
        "    return (str1.join(s))"
      ]
    },
    {
      "cell_type": "code",
      "execution_count": null,
      "id": "9d84cc01",
      "metadata": {
        "id": "9d84cc01"
      },
      "outputs": [],
      "source": [
        "train=df_train['text'].apply(text_process) #cleaning"
      ]
    },
    {
      "cell_type": "code",
      "execution_count": null,
      "id": "62e648af",
      "metadata": {
        "id": "62e648af"
      },
      "outputs": [],
      "source": [
        "train=train.apply(listToString) # converting list to string"
      ]
    },
    {
      "cell_type": "code",
      "execution_count": null,
      "id": "4990aeb8",
      "metadata": {
        "id": "4990aeb8",
        "outputId": "2488f40c-173a-4879-a58f-4b3c3cf56081"
      },
      "outputs": [
        {
          "data": {
            "text/plain": [
              "0                                       Id responded going\n",
              "1                                  Sooo SAD miss San Diego\n",
              "2                                            boss bullying\n",
              "3                                    interview leave alone\n",
              "4                 Sons couldnt put releases already bought\n",
              "                               ...                        \n",
              "27476    wish could come see u Denver husband lost job ...\n",
              "27477    Ive wondered rake client made clear NET dont f...\n",
              "27478    Yay good Enjoy break probably need hectic week...\n",
              "27479                                                worth\n",
              "27480                   flirting going ATG smiles Yay hugs\n",
              "Name: text, Length: 27480, dtype: object"
            ]
          },
          "execution_count": 24,
          "metadata": {},
          "output_type": "execute_result"
        }
      ],
      "source": [
        "train"
      ]
    },
    {
      "cell_type": "code",
      "execution_count": null,
      "id": "283e1298",
      "metadata": {
        "id": "283e1298"
      },
      "outputs": [],
      "source": [
        "test=df_test['text'].apply(text_process)"
      ]
    },
    {
      "cell_type": "code",
      "execution_count": null,
      "id": "9b04a22d",
      "metadata": {
        "id": "9b04a22d"
      },
      "outputs": [],
      "source": [
        "test=test.apply(listToString)"
      ]
    },
    {
      "cell_type": "code",
      "execution_count": null,
      "id": "b3f0ce14",
      "metadata": {
        "id": "b3f0ce14",
        "outputId": "de63b93e-e96f-4c56-9c83-3498315dc27a"
      },
      "outputs": [
        {
          "data": {
            "text/plain": [
              "0                    Last session day httptwitpiccom67ezh\n",
              "1       Shanghai also really exciting precisely skyscr...\n",
              "2       Recession hit Veronique Branquinho quit compan...\n",
              "3                                              happy bday\n",
              "4                                httptwitpiccom4w75p like\n",
              "                              ...                        \n",
              "3529                            3 im tired cant sleep try\n",
              "3530    alone old house Thanks net keeps alive kicking...\n",
              "3531    know mean little dog sinking depression wants ...\n",
              "3532           sutra next youtube video gonna love videos\n",
              "3533           httptwitpiccom4woj2 omgssh ang cute ng bby\n",
              "Name: text, Length: 3534, dtype: object"
            ]
          },
          "execution_count": 27,
          "metadata": {},
          "output_type": "execute_result"
        }
      ],
      "source": [
        "test"
      ]
    },
    {
      "cell_type": "markdown",
      "id": "2c3b3e50",
      "metadata": {
        "id": "2c3b3e50"
      },
      "source": [
        "# Task 3\n",
        "\n",
        "1. Convert text data into vector form.\n",
        "\n",
        "2. Classify data of four classes using a one-vs-rest strategy with Logistic Regression.\n"
      ]
    },
    {
      "cell_type": "code",
      "execution_count": null,
      "id": "3483f16c",
      "metadata": {
        "id": "3483f16c"
      },
      "outputs": [],
      "source": [
        "myvector = TfidfVectorizer()\n",
        "myobject = myvector.fit_transform(train)\n",
        "myobject1 = myvector.transform(test)"
      ]
    },
    {
      "cell_type": "code",
      "execution_count": null,
      "id": "9d7a784c",
      "metadata": {
        "id": "9d7a784c",
        "outputId": "7bafd2fc-be2e-4ff8-e17b-cff8caebe07a"
      },
      "outputs": [
        {
          "data": {
            "text/plain": [
              "array([[0., 0., 0., ..., 0., 0., 0.],\n",
              "       [0., 0., 0., ..., 0., 0., 0.],\n",
              "       [0., 0., 0., ..., 0., 0., 0.],\n",
              "       ...,\n",
              "       [0., 0., 0., ..., 0., 0., 0.],\n",
              "       [0., 0., 0., ..., 0., 0., 0.],\n",
              "       [0., 0., 0., ..., 0., 0., 0.]])"
            ]
          },
          "execution_count": 30,
          "metadata": {},
          "output_type": "execute_result"
        }
      ],
      "source": [
        "myobject.toarray() # vector format"
      ]
    },
    {
      "cell_type": "markdown",
      "id": "00889017",
      "metadata": {
        "id": "00889017"
      },
      "source": [
        "2)One Vs Rest Classifier on Multi_lable"
      ]
    },
    {
      "cell_type": "code",
      "execution_count": null,
      "id": "5589f16b",
      "metadata": {
        "id": "5589f16b"
      },
      "outputs": [],
      "source": [
        "LR = LogisticRegression(max_iter=100) # model\n",
        "ovr = OneVsRestClassifier(LR)\n",
        "model = ovr.fit(myobject,df_train['sentiment'])\n",
        "y_pred = model.predict(myobject1)"
      ]
    },
    {
      "cell_type": "code",
      "execution_count": null,
      "id": "de079ec0",
      "metadata": {
        "id": "de079ec0",
        "outputId": "890494e6-4d89-4bbf-d015-eedd7ec1181a"
      },
      "outputs": [
        {
          "data": {
            "text/plain": [
              "0.7846069868995633"
            ]
          },
          "execution_count": 38,
          "metadata": {},
          "output_type": "execute_result"
        }
      ],
      "source": [
        "model.score(myobject,df_train['sentiment']) # accuracy of train data"
      ]
    },
    {
      "cell_type": "code",
      "execution_count": null,
      "id": "de7316ae",
      "metadata": {
        "id": "de7316ae",
        "outputId": "d89fdc46-6a9d-4090-9c09-cc29b671f07d"
      },
      "outputs": [
        {
          "data": {
            "text/plain": [
              "0.6983588002263724"
            ]
          },
          "execution_count": 39,
          "metadata": {},
          "output_type": "execute_result"
        }
      ],
      "source": [
        "model.score(myobject1,df_test['sentiment']) # accuracy of test data"
      ]
    },
    {
      "cell_type": "markdown",
      "id": "b4af262b",
      "metadata": {
        "id": "b4af262b"
      },
      "source": [
        "# Task 4\n",
        "\n",
        "1. Print the first 30 samples of predicted and actual output as a table\n",
        "\n",
        "2. Display the Confusion Matrix & classificatio. report\n",
        "\n",
        "3. Write your interpretation based on your observations.\n"
      ]
    },
    {
      "cell_type": "code",
      "execution_count": null,
      "id": "e5445b5a",
      "metadata": {
        "id": "e5445b5a",
        "outputId": "0e80b262-3c34-4f51-9f72-627b99b3624b"
      },
      "outputs": [
        {
          "data": {
            "text/html": [
              "<div>\n",
              "<style scoped>\n",
              "    .dataframe tbody tr th:only-of-type {\n",
              "        vertical-align: middle;\n",
              "    }\n",
              "\n",
              "    .dataframe tbody tr th {\n",
              "        vertical-align: top;\n",
              "    }\n",
              "\n",
              "    .dataframe thead th {\n",
              "        text-align: right;\n",
              "    }\n",
              "</style>\n",
              "<table border=\"1\" class=\"dataframe\">\n",
              "  <thead>\n",
              "    <tr style=\"text-align: right;\">\n",
              "      <th></th>\n",
              "      <th>Predicted</th>\n",
              "      <th>Actual</th>\n",
              "    </tr>\n",
              "  </thead>\n",
              "  <tbody>\n",
              "    <tr>\n",
              "      <th>0</th>\n",
              "      <td>neutral</td>\n",
              "      <td>neutral</td>\n",
              "    </tr>\n",
              "    <tr>\n",
              "      <th>1</th>\n",
              "      <td>positive</td>\n",
              "      <td>positive</td>\n",
              "    </tr>\n",
              "    <tr>\n",
              "      <th>2</th>\n",
              "      <td>negative</td>\n",
              "      <td>negative</td>\n",
              "    </tr>\n",
              "    <tr>\n",
              "      <th>3</th>\n",
              "      <td>positive</td>\n",
              "      <td>positive</td>\n",
              "    </tr>\n",
              "    <tr>\n",
              "      <th>4</th>\n",
              "      <td>positive</td>\n",
              "      <td>positive</td>\n",
              "    </tr>\n",
              "    <tr>\n",
              "      <th>5</th>\n",
              "      <td>positive</td>\n",
              "      <td>positive</td>\n",
              "    </tr>\n",
              "    <tr>\n",
              "      <th>6</th>\n",
              "      <td>negative</td>\n",
              "      <td>negative</td>\n",
              "    </tr>\n",
              "    <tr>\n",
              "      <th>7</th>\n",
              "      <td>negative</td>\n",
              "      <td>negative</td>\n",
              "    </tr>\n",
              "    <tr>\n",
              "      <th>8</th>\n",
              "      <td>neutral</td>\n",
              "      <td>neutral</td>\n",
              "    </tr>\n",
              "    <tr>\n",
              "      <th>9</th>\n",
              "      <td>neutral</td>\n",
              "      <td>neutral</td>\n",
              "    </tr>\n",
              "    <tr>\n",
              "      <th>10</th>\n",
              "      <td>negative</td>\n",
              "      <td>negative</td>\n",
              "    </tr>\n",
              "    <tr>\n",
              "      <th>11</th>\n",
              "      <td>neutral</td>\n",
              "      <td>neutral</td>\n",
              "    </tr>\n",
              "    <tr>\n",
              "      <th>12</th>\n",
              "      <td>neutral</td>\n",
              "      <td>neutral</td>\n",
              "    </tr>\n",
              "    <tr>\n",
              "      <th>13</th>\n",
              "      <td>negative</td>\n",
              "      <td>negative</td>\n",
              "    </tr>\n",
              "    <tr>\n",
              "      <th>14</th>\n",
              "      <td>negative</td>\n",
              "      <td>negative</td>\n",
              "    </tr>\n",
              "    <tr>\n",
              "      <th>15</th>\n",
              "      <td>negative</td>\n",
              "      <td>negative</td>\n",
              "    </tr>\n",
              "    <tr>\n",
              "      <th>16</th>\n",
              "      <td>negative</td>\n",
              "      <td>negative</td>\n",
              "    </tr>\n",
              "    <tr>\n",
              "      <th>17</th>\n",
              "      <td>negative</td>\n",
              "      <td>negative</td>\n",
              "    </tr>\n",
              "    <tr>\n",
              "      <th>18</th>\n",
              "      <td>positive</td>\n",
              "      <td>positive</td>\n",
              "    </tr>\n",
              "    <tr>\n",
              "      <th>19</th>\n",
              "      <td>neutral</td>\n",
              "      <td>positive</td>\n",
              "    </tr>\n",
              "    <tr>\n",
              "      <th>20</th>\n",
              "      <td>negative</td>\n",
              "      <td>negative</td>\n",
              "    </tr>\n",
              "    <tr>\n",
              "      <th>21</th>\n",
              "      <td>negative</td>\n",
              "      <td>negative</td>\n",
              "    </tr>\n",
              "    <tr>\n",
              "      <th>22</th>\n",
              "      <td>negative</td>\n",
              "      <td>negative</td>\n",
              "    </tr>\n",
              "    <tr>\n",
              "      <th>23</th>\n",
              "      <td>neutral</td>\n",
              "      <td>neutral</td>\n",
              "    </tr>\n",
              "    <tr>\n",
              "      <th>24</th>\n",
              "      <td>negative</td>\n",
              "      <td>neutral</td>\n",
              "    </tr>\n",
              "    <tr>\n",
              "      <th>25</th>\n",
              "      <td>positive</td>\n",
              "      <td>positive</td>\n",
              "    </tr>\n",
              "    <tr>\n",
              "      <th>26</th>\n",
              "      <td>neutral</td>\n",
              "      <td>neutral</td>\n",
              "    </tr>\n",
              "    <tr>\n",
              "      <th>27</th>\n",
              "      <td>neutral</td>\n",
              "      <td>neutral</td>\n",
              "    </tr>\n",
              "    <tr>\n",
              "      <th>28</th>\n",
              "      <td>positive</td>\n",
              "      <td>neutral</td>\n",
              "    </tr>\n",
              "    <tr>\n",
              "      <th>29</th>\n",
              "      <td>negative</td>\n",
              "      <td>negative</td>\n",
              "    </tr>\n",
              "  </tbody>\n",
              "</table>\n",
              "</div>"
            ],
            "text/plain": [
              "   Predicted    Actual\n",
              "0    neutral   neutral\n",
              "1   positive  positive\n",
              "2   negative  negative\n",
              "3   positive  positive\n",
              "4   positive  positive\n",
              "5   positive  positive\n",
              "6   negative  negative\n",
              "7   negative  negative\n",
              "8    neutral   neutral\n",
              "9    neutral   neutral\n",
              "10  negative  negative\n",
              "11   neutral   neutral\n",
              "12   neutral   neutral\n",
              "13  negative  negative\n",
              "14  negative  negative\n",
              "15  negative  negative\n",
              "16  negative  negative\n",
              "17  negative  negative\n",
              "18  positive  positive\n",
              "19   neutral  positive\n",
              "20  negative  negative\n",
              "21  negative  negative\n",
              "22  negative  negative\n",
              "23   neutral   neutral\n",
              "24  negative   neutral\n",
              "25  positive  positive\n",
              "26   neutral   neutral\n",
              "27   neutral   neutral\n",
              "28  positive   neutral\n",
              "29  negative  negative"
            ]
          },
          "execution_count": 42,
          "metadata": {},
          "output_type": "execute_result"
        }
      ],
      "source": [
        "data = {\"Predicted\":df_test['sentiment'][:30],\"Actual\":y_pred[:30]}\n",
        "df_output = pd.DataFrame(data)\n",
        "df_output # printing output in data frame"
      ]
    },
    {
      "cell_type": "code",
      "execution_count": null,
      "id": "7664fae2",
      "metadata": {
        "id": "7664fae2",
        "outputId": "dfb9b8ef-4f8b-4e52-8b4d-152e5480012c"
      },
      "outputs": [
        {
          "data": {
            "text/plain": [
              "array([[ 621,  340,   40],\n",
              "       [ 195, 1069,  166],\n",
              "       [  34,  291,  778]], dtype=int64)"
            ]
          },
          "execution_count": 43,
          "metadata": {},
          "output_type": "execute_result"
        }
      ],
      "source": [
        "confusion_matrix(df_test['sentiment'],y_pred) # confusion matrix"
      ]
    },
    {
      "cell_type": "code",
      "execution_count": null,
      "id": "c95d1ead",
      "metadata": {
        "id": "c95d1ead",
        "outputId": "a785e073-808e-4911-abb4-b8f035ab30fe"
      },
      "outputs": [
        {
          "name": "stdout",
          "output_type": "stream",
          "text": [
            "              precision    recall  f1-score   support\n",
            "\n",
            "    negative       0.73      0.62      0.67      1001\n",
            "     neutral       0.63      0.75      0.68      1430\n",
            "    positive       0.79      0.71      0.75      1103\n",
            "\n",
            "    accuracy                           0.70      3534\n",
            "   macro avg       0.72      0.69      0.70      3534\n",
            "weighted avg       0.71      0.70      0.70      3534\n",
            "\n"
          ]
        }
      ],
      "source": [
        "print(classification_report(df_test['sentiment'],y_pred)) # classification report"
      ]
    },
    {
      "cell_type": "markdown",
      "id": "200c7067",
      "metadata": {
        "id": "200c7067"
      },
      "source": [
        "Most of the prediction are almost same as test data of accuarcy 78%"
      ]
    }
  ],
  "metadata": {
    "kernelspec": {
      "display_name": "Python 3 (ipykernel)",
      "language": "python",
      "name": "python3"
    },
    "language_info": {
      "codemirror_mode": {
        "name": "ipython",
        "version": 3
      },
      "file_extension": ".py",
      "mimetype": "text/x-python",
      "name": "python",
      "nbconvert_exporter": "python",
      "pygments_lexer": "ipython3",
      "version": "3.9.13"
    },
    "colab": {
      "provenance": []
    }
  },
  "nbformat": 4,
  "nbformat_minor": 5
}