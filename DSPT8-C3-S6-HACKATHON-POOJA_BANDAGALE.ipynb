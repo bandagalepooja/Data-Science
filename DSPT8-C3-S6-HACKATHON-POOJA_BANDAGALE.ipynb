{
 "cells": [
  {
   "cell_type": "markdown",
   "id": "4ca98338",
   "metadata": {},
   "source": [
    "# THE SHOPPING CART PROGRAM"
   ]
  },
  {
   "cell_type": "code",
   "execution_count": 4,
   "id": "ad5d2821",
   "metadata": {},
   "outputs": [
    {
     "name": "stdout",
     "output_type": "stream",
     "text": [
      "Enter an Item Name : biscuits\n",
      "Enter quantity of Biscuits : 5\n",
      "Enter cost/unit of Biscuits : 20.5\n",
      "----------------------------------------------------------------------------\n",
      "Enter an Item Name : cereals\n",
      "Enter quantity of Cereals : 10\n",
      "Enter cost/unit of Cereals : 90\n",
      "----------------------------------------------------------------------------\n",
      "Enter an Item Name : chicken\n",
      "Enter quantity of Chicken : 20\n",
      "Enter cost/unit of Chicken : 200\n",
      "----------------------------------------------------------------------------\n",
      "Enter an Item Name : oats\n",
      "Enter quantity of Oats : 20\n",
      "Enter cost/unit of Oats : 39.99\n",
      "----------------------------------------------------------------------------\n",
      "Enter an Item Name : rice\n",
      "Enter quantity of Rice : 30\n",
      "Enter cost/unit of Rice : 79.99\n",
      "----------------------------------------------------------------------------\n"
     ]
    }
   ],
   "source": [
    "item={}                                  #empty dictionary\n",
    "for i in range(5):                       #take input in dictionary\n",
    "    l=[]\n",
    "    item_name=input('Enter an Item Name : ').capitalize()\n",
    "    l.append(int(input('Enter quantity of {} : '.format(item_name))))\n",
    "    l.append(float(input('Enter cost/unit of {} : '.format(item_name))))\n",
    "    print('----------------------------------------------------------------------------')\n",
    "    item[item_name]=l"
   ]
  },
  {
   "cell_type": "markdown",
   "id": "90fcaa6a",
   "metadata": {},
   "source": [
    "Sample Input"
   ]
  },
  {
   "cell_type": "code",
   "execution_count": 15,
   "id": "c5e5121a",
   "metadata": {},
   "outputs": [
    {
     "name": "stdout",
     "output_type": "stream",
     "text": [
      "ESSENTIAL ITEMS AVAILABLE\n",
      "\n",
      "           S.No         Item        Quantity       Cost/Item\n",
      "              1     Biscuits            3.00           20.50\n",
      "              2      Cereals            5.00           90.00\n",
      "              3      Chicken           19.00          200.00\n",
      "              4         Oats           16.00           39.99\n",
      "              5         Rice           27.00           79.99\n",
      "\n",
      "How many Biscuits packets are required? 2\n",
      "How many Cereals packets are required? 5\n",
      "How many Chicken packets are required? 1\n",
      "How many Oats packets are required? 4\n",
      "How many Rice packets are required? 3\n",
      " \n",
      "Fill In Your Delivery Details\n",
      "Enter your name : John Doe\n",
      "Enter your address : 2165 Brighton Henrietta Town Line Road Rochester, New York,14623\n",
      "Distance from store 5/10/15 : 15\n",
      "Delivery charge : 30.0 will be levied for 15 km of distance\n"
     ]
    }
   ],
   "source": [
    "#defining a function\n",
    "def sample_input():\n",
    "    \n",
    "    #displaying shopping cart\n",
    "    print('Essential Items Available'.upper())\n",
    "    print('')\n",
    "    print('%15s %12s %15s %15s'%('S.No','Item','Quantity','Cost/Item'))\n",
    "    j=1\n",
    "    for k,v in item.items():\n",
    "        print('%15d %12s %15.2f %15.2f'%(j,k,v[0],v[1]))\n",
    "        j+=1\n",
    "    print('')\n",
    "    \n",
    "    #taking costumer input for items quantity and updating original items quantity in an inventory\n",
    "    qd={}\n",
    "    for k,v in item.items():\n",
    "        order_quantity=[]\n",
    "        qty=0\n",
    "        qty=int(input(f'How many {k} packets are required? '))\n",
    "        if(v[0]>=qty):\n",
    "            order_quantity.append(qty)\n",
    "            order_quantity.append(v[1])\n",
    "            order_quantity.append(float(qty*int(v[1])))\n",
    "            qd[k]=order_quantity\n",
    "            v[0]=v[0]-qty\n",
    "        else:\n",
    "            print('{} {} packets are not available'.format(k,qty))\n",
    "    print(' ')\n",
    "    \n",
    "    #taking costumer details\n",
    "    print('fill in your delivery details'.title())\n",
    "    name=input('Enter your name : ')\n",
    "    address=input('Enter your address : ')\n",
    "    distance=int(input('Distance from store 5/10/15 : '))\n",
    "    print('Delivery charge : {} will be levied for {} km of distance'.format((distance*30/15),distance))\n",
    "    \n",
    "#calling a function\n",
    "sample_input()"
   ]
  },
  {
   "cell_type": "markdown",
   "id": "a0985e94",
   "metadata": {},
   "source": [
    "Sample Output"
   ]
  },
  {
   "cell_type": "code",
   "execution_count": 18,
   "id": "4ccc7e18",
   "metadata": {},
   "outputs": [
    {
     "name": "stdout",
     "output_type": "stream",
     "text": [
      "BILL\n",
      "\n",
      "           S.No         Item        Quantity       TotalCost\n",
      "              1     Biscuits            2.00           40.00\n",
      "              2      Cereals            5.00          450.00\n",
      "              3      Chicken            1.00          200.00\n",
      "              4         Oats            4.00          156.00\n",
      "              5         Rice            3.00          237.00\n",
      " \n",
      "Total Item Cost : 1083.0\n",
      " \n",
      "Total Bill Amount : 1113.0\n",
      " \n",
      "Name :  John Doe\n",
      "Address :  2165 Brighton Henrietta Town Line Road Rochester, New York 14623\n",
      "Do you want to continue shopping ? y/no : no\n",
      "Have a nice day!\n"
     ]
    }
   ],
   "source": [
    "#defining a function\n",
    "def sample_output():\n",
    "    \n",
    "    #printing bill\n",
    "    print('bill'.upper())\n",
    "    print('')\n",
    "    print('%15s %12s %15s %15s'%('S.No','Item','Quantity','TotalCost'))\n",
    "    j=1\n",
    "    for k,v in qd.items():\n",
    "        print('%15d %12s %15.2f %15.2f'%(j,k,v[0],v[2]))\n",
    "        j+=1\n",
    "    print(' ')\n",
    "    \n",
    "    #printing total item cost\n",
    "    Total_Item_Cost=0\n",
    "    for k,v in qd.items():\n",
    "        Total_Item_Cost=Total_Item_Cost+v[2]\n",
    "    print('Total Item Cost : {}'.format(Total_Item_Cost))\n",
    "    print(' ')\n",
    "    \n",
    "    #printing total bill amount including delivery charges\n",
    "    print('Total Bill Amount : {}'.format(Total_Item_Cost+(distance*30/15)))\n",
    "    print(' ')\n",
    "    \n",
    "    #printing costumer details\n",
    "    print('Name : ',name)\n",
    "    print('Address : ',address)\n",
    "    global x\n",
    "    x=input('Do you want to continue shopping ? y/no : ')\n",
    "\n",
    "#calling a function\n",
    "sample_output()\n",
    "\n",
    "#taking input from costumer if she/he want to continue shopping\n",
    "if x=='y':\n",
    "    sample_input()\n",
    "    sample_output()\n",
    "if x=='no':\n",
    "    print('Have a nice day!')"
   ]
  }
 ],
 "metadata": {
  "kernelspec": {
   "display_name": "Python 3 (ipykernel)",
   "language": "python",
   "name": "python3"
  },
  "language_info": {
   "codemirror_mode": {
    "name": "ipython",
    "version": 3
   },
   "file_extension": ".py",
   "mimetype": "text/x-python",
   "name": "python",
   "nbconvert_exporter": "python",
   "pygments_lexer": "ipython3",
   "version": "3.9.13"
  }
 },
 "nbformat": 4,
 "nbformat_minor": 5
}
