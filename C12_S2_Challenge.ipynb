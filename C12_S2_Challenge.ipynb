{
 "cells": [
  {
   "cell_type": "markdown",
   "id": "0020720a",
   "metadata": {},
   "source": [
    "# L3_C2_S2_Challenge"
   ]
  },
  {
   "cell_type": "markdown",
   "id": "1f9097d7",
   "metadata": {},
   "source": [
    "# Task 1"
   ]
  },
  {
   "cell_type": "code",
   "execution_count": 33,
   "id": "c8030ee8",
   "metadata": {},
   "outputs": [],
   "source": [
    "import re #regular expression\n",
    "import spacy #spacy library\n",
    "nlp = spacy.load('en_core_web_sm') #pipline for english language words\n",
    "import pandas as pd #for data analysis\n",
    "import numpy as np #for numerical calculation"
   ]
  },
  {
   "cell_type": "code",
   "execution_count": 2,
   "id": "c5501d3b",
   "metadata": {},
   "outputs": [
    {
     "data": {
      "text/html": [
       "<div>\n",
       "<style scoped>\n",
       "    .dataframe tbody tr th:only-of-type {\n",
       "        vertical-align: middle;\n",
       "    }\n",
       "\n",
       "    .dataframe tbody tr th {\n",
       "        vertical-align: top;\n",
       "    }\n",
       "\n",
       "    .dataframe thead th {\n",
       "        text-align: right;\n",
       "    }\n",
       "</style>\n",
       "<table border=\"1\" class=\"dataframe\">\n",
       "  <thead>\n",
       "    <tr style=\"text-align: right;\">\n",
       "      <th></th>\n",
       "      <th>id</th>\n",
       "      <th>title</th>\n",
       "      <th>content</th>\n",
       "      <th>tags</th>\n",
       "    </tr>\n",
       "  </thead>\n",
       "  <tbody>\n",
       "    <tr>\n",
       "      <th>0</th>\n",
       "      <td>1</td>\n",
       "      <td>caribbean cruises october</td>\n",
       "      <td>fianc e looking good caribbean cruise october ...</td>\n",
       "      <td>['caribbean', 'cruising', 'vacations']</td>\n",
       "    </tr>\n",
       "    <tr>\n",
       "      <th>1</th>\n",
       "      <td>2</td>\n",
       "      <td>find guide take safely amazon jungle</td>\n",
       "      <td>one definition questions also one interests pe...</td>\n",
       "      <td>['guides', 'extreme-tourism', 'amazon-river', ...</td>\n",
       "    </tr>\n",
       "    <tr>\n",
       "      <th>2</th>\n",
       "      <td>4</td>\n",
       "      <td>singapore airlines offer reward seats ewr sin ...</td>\n",
       "      <td>singapore airlines business class flight ewr s...</td>\n",
       "      <td>['loyalty-programs', 'routes', 'ewr', 'singapo...</td>\n",
       "    </tr>\n",
       "    <tr>\n",
       "      <th>3</th>\n",
       "      <td>5</td>\n",
       "      <td>easiest transportation use throughout romania ...</td>\n",
       "      <td>another definition question interested easiest...</td>\n",
       "      <td>['romania', 'transportation']</td>\n",
       "    </tr>\n",
       "    <tr>\n",
       "      <th>4</th>\n",
       "      <td>6</td>\n",
       "      <td>visit antarctica</td>\n",
       "      <td>year ago reading magazine found availability g...</td>\n",
       "      <td>['extreme-tourism', 'antarctica']</td>\n",
       "    </tr>\n",
       "    <tr>\n",
       "      <th>...</th>\n",
       "      <td>...</td>\n",
       "      <td>...</td>\n",
       "      <td>...</td>\n",
       "      <td>...</td>\n",
       "    </tr>\n",
       "    <tr>\n",
       "      <th>19274</th>\n",
       "      <td>78013</td>\n",
       "      <td>tipping usa california sf</td>\n",
       "      <td>waiter time know one deserve tipping however s...</td>\n",
       "      <td>['usa', 'food-and-drink', 'california', 'tippi...</td>\n",
       "    </tr>\n",
       "    <tr>\n",
       "      <th>19275</th>\n",
       "      <td>78016</td>\n",
       "      <td>canadian appropriate gifts bring travelling eu...</td>\n",
       "      <td>live vancouver canada travelling london paris ...</td>\n",
       "      <td>['uk', 'canada', 'france', 'culture', 'gifts']</td>\n",
       "    </tr>\n",
       "    <tr>\n",
       "      <th>19276</th>\n",
       "      <td>78018</td>\n",
       "      <td>macedonian police issue visitors registration ...</td>\n",
       "      <td>serbia macedonia register police staying count...</td>\n",
       "      <td>['customs-and-immigration', 'officials', 'regi...</td>\n",
       "    </tr>\n",
       "    <tr>\n",
       "      <th>19277</th>\n",
       "      <td>78019</td>\n",
       "      <td>austrian visa renewed</td>\n",
       "      <td>austria visa multiple entry expires next month...</td>\n",
       "      <td>['visas', 'austria']</td>\n",
       "    </tr>\n",
       "    <tr>\n",
       "      <th>19278</th>\n",
       "      <td>78022</td>\n",
       "      <td>shortest wide body route frankfurt</td>\n",
       "      <td>shortest passenger route served wide body airc...</td>\n",
       "      <td>['untagged']</td>\n",
       "    </tr>\n",
       "  </tbody>\n",
       "</table>\n",
       "<p>19279 rows × 4 columns</p>\n",
       "</div>"
      ],
      "text/plain": [
       "          id                                              title  \\\n",
       "0          1                          caribbean cruises october   \n",
       "1          2               find guide take safely amazon jungle   \n",
       "2          4  singapore airlines offer reward seats ewr sin ...   \n",
       "3          5  easiest transportation use throughout romania ...   \n",
       "4          6                                   visit antarctica   \n",
       "...      ...                                                ...   \n",
       "19274  78013                          tipping usa california sf   \n",
       "19275  78016  canadian appropriate gifts bring travelling eu...   \n",
       "19276  78018  macedonian police issue visitors registration ...   \n",
       "19277  78019                              austrian visa renewed   \n",
       "19278  78022                 shortest wide body route frankfurt   \n",
       "\n",
       "                                                 content  \\\n",
       "0      fianc e looking good caribbean cruise october ...   \n",
       "1      one definition questions also one interests pe...   \n",
       "2      singapore airlines business class flight ewr s...   \n",
       "3      another definition question interested easiest...   \n",
       "4      year ago reading magazine found availability g...   \n",
       "...                                                  ...   \n",
       "19274  waiter time know one deserve tipping however s...   \n",
       "19275  live vancouver canada travelling london paris ...   \n",
       "19276  serbia macedonia register police staying count...   \n",
       "19277  austria visa multiple entry expires next month...   \n",
       "19278  shortest passenger route served wide body airc...   \n",
       "\n",
       "                                                    tags  \n",
       "0                 ['caribbean', 'cruising', 'vacations']  \n",
       "1      ['guides', 'extreme-tourism', 'amazon-river', ...  \n",
       "2      ['loyalty-programs', 'routes', 'ewr', 'singapo...  \n",
       "3                          ['romania', 'transportation']  \n",
       "4                      ['extreme-tourism', 'antarctica']  \n",
       "...                                                  ...  \n",
       "19274  ['usa', 'food-and-drink', 'california', 'tippi...  \n",
       "19275     ['uk', 'canada', 'france', 'culture', 'gifts']  \n",
       "19276  ['customs-and-immigration', 'officials', 'regi...  \n",
       "19277                               ['visas', 'austria']  \n",
       "19278                                       ['untagged']  \n",
       "\n",
       "[19279 rows x 4 columns]"
      ]
     },
     "execution_count": 2,
     "metadata": {},
     "output_type": "execute_result"
    }
   ],
   "source": [
    "text = pd.read_csv('DS3_C2_S2_TravelReview_Data_Challenge.csv') #reading text data\n",
    "text"
   ]
  },
  {
   "cell_type": "code",
   "execution_count": 3,
   "id": "3e714499",
   "metadata": {},
   "outputs": [
    {
     "data": {
      "text/html": [
       "<div>\n",
       "<style scoped>\n",
       "    .dataframe tbody tr th:only-of-type {\n",
       "        vertical-align: middle;\n",
       "    }\n",
       "\n",
       "    .dataframe tbody tr th {\n",
       "        vertical-align: top;\n",
       "    }\n",
       "\n",
       "    .dataframe thead th {\n",
       "        text-align: right;\n",
       "    }\n",
       "</style>\n",
       "<table border=\"1\" class=\"dataframe\">\n",
       "  <thead>\n",
       "    <tr style=\"text-align: right;\">\n",
       "      <th></th>\n",
       "      <th>id</th>\n",
       "      <th>title</th>\n",
       "      <th>content</th>\n",
       "      <th>tags</th>\n",
       "    </tr>\n",
       "  </thead>\n",
       "  <tbody>\n",
       "    <tr>\n",
       "      <th>0</th>\n",
       "      <td>1</td>\n",
       "      <td>caribbean cruises october</td>\n",
       "      <td>fianc e looking good caribbean cruise october ...</td>\n",
       "      <td>['caribbean', 'cruising', 'vacations']</td>\n",
       "    </tr>\n",
       "    <tr>\n",
       "      <th>1</th>\n",
       "      <td>2</td>\n",
       "      <td>find guide take safely amazon jungle</td>\n",
       "      <td>one definition questions also one interests pe...</td>\n",
       "      <td>['guides', 'extreme-tourism', 'amazon-river', ...</td>\n",
       "    </tr>\n",
       "    <tr>\n",
       "      <th>2</th>\n",
       "      <td>4</td>\n",
       "      <td>singapore airlines offer reward seats ewr sin ...</td>\n",
       "      <td>singapore airlines business class flight ewr s...</td>\n",
       "      <td>['loyalty-programs', 'routes', 'ewr', 'singapo...</td>\n",
       "    </tr>\n",
       "    <tr>\n",
       "      <th>3</th>\n",
       "      <td>5</td>\n",
       "      <td>easiest transportation use throughout romania ...</td>\n",
       "      <td>another definition question interested easiest...</td>\n",
       "      <td>['romania', 'transportation']</td>\n",
       "    </tr>\n",
       "    <tr>\n",
       "      <th>4</th>\n",
       "      <td>6</td>\n",
       "      <td>visit antarctica</td>\n",
       "      <td>year ago reading magazine found availability g...</td>\n",
       "      <td>['extreme-tourism', 'antarctica']</td>\n",
       "    </tr>\n",
       "  </tbody>\n",
       "</table>\n",
       "</div>"
      ],
      "text/plain": [
       "   id                                              title  \\\n",
       "0   1                          caribbean cruises october   \n",
       "1   2               find guide take safely amazon jungle   \n",
       "2   4  singapore airlines offer reward seats ewr sin ...   \n",
       "3   5  easiest transportation use throughout romania ...   \n",
       "4   6                                   visit antarctica   \n",
       "\n",
       "                                             content  \\\n",
       "0  fianc e looking good caribbean cruise october ...   \n",
       "1  one definition questions also one interests pe...   \n",
       "2  singapore airlines business class flight ewr s...   \n",
       "3  another definition question interested easiest...   \n",
       "4  year ago reading magazine found availability g...   \n",
       "\n",
       "                                                tags  \n",
       "0             ['caribbean', 'cruising', 'vacations']  \n",
       "1  ['guides', 'extreme-tourism', 'amazon-river', ...  \n",
       "2  ['loyalty-programs', 'routes', 'ewr', 'singapo...  \n",
       "3                      ['romania', 'transportation']  \n",
       "4                  ['extreme-tourism', 'antarctica']  "
      ]
     },
     "execution_count": 3,
     "metadata": {},
     "output_type": "execute_result"
    }
   ],
   "source": [
    "text.head() #first 5 rows"
   ]
  },
  {
   "cell_type": "code",
   "execution_count": 4,
   "id": "0ac6fa13",
   "metadata": {},
   "outputs": [
    {
     "data": {
      "text/plain": [
       "(19279, 4)"
      ]
     },
     "execution_count": 4,
     "metadata": {},
     "output_type": "execute_result"
    }
   ],
   "source": [
    "text.shape #size of the dataframe"
   ]
  },
  {
   "cell_type": "code",
   "execution_count": 5,
   "id": "43a62e75",
   "metadata": {},
   "outputs": [
    {
     "data": {
      "text/plain": [
       "id         0\n",
       "title      0\n",
       "content    0\n",
       "tags       0\n",
       "dtype: int64"
      ]
     },
     "execution_count": 5,
     "metadata": {},
     "output_type": "execute_result"
    }
   ],
   "source": [
    "text.isnull().sum() #checking null value"
   ]
  },
  {
   "cell_type": "markdown",
   "id": "39de4791",
   "metadata": {},
   "source": [
    "No null value so can do further analysis"
   ]
  },
  {
   "cell_type": "code",
   "execution_count": 6,
   "id": "ebe00bc0",
   "metadata": {},
   "outputs": [
    {
     "name": "stderr",
     "output_type": "stream",
     "text": [
      "[nltk_data] Downloading package punkt to\n",
      "[nltk_data]     C:\\Users\\prabh\\AppData\\Roaming\\nltk_data...\n",
      "[nltk_data]   Package punkt is already up-to-date!\n"
     ]
    },
    {
     "data": {
      "text/plain": [
       "True"
      ]
     },
     "execution_count": 6,
     "metadata": {},
     "output_type": "execute_result"
    }
   ],
   "source": [
    "import nltk #importing nltk library\n",
    "nltk.download('punkt')"
   ]
  },
  {
   "cell_type": "markdown",
   "id": "1c0af556",
   "metadata": {},
   "source": [
    "# Task 2"
   ]
  },
  {
   "cell_type": "code",
   "execution_count": 7,
   "id": "97bacea3",
   "metadata": {},
   "outputs": [],
   "source": [
    "from nltk.tokenize import word_tokenize # tokenize using nltk in word wise\n",
    "from nltk.tokenize import sent_tokenize # tokenize using nltk in sentence wise"
   ]
  },
  {
   "cell_type": "code",
   "execution_count": 8,
   "id": "7a9a18b0",
   "metadata": {},
   "outputs": [
    {
     "data": {
      "text/plain": [
       "['fianc e looking good caribbean cruise october wondering islands best see cruise line take seems like lot cruises run month due hurricane season looking good options edit travelling 2012']"
      ]
     },
     "execution_count": 8,
     "metadata": {},
     "output_type": "execute_result"
    }
   ],
   "source": [
    "# 1) use the nltk library and apply the tokenizatin process on the first review text of the content attribute\n",
    "\n",
    "sent_tokenize(text['content'][0]) # sentence tokenization"
   ]
  },
  {
   "cell_type": "code",
   "execution_count": 9,
   "id": "a5f7188f",
   "metadata": {},
   "outputs": [
    {
     "data": {
      "text/plain": [
       "['fianc',\n",
       " 'e',\n",
       " 'looking',\n",
       " 'good',\n",
       " 'caribbean',\n",
       " 'cruise',\n",
       " 'october',\n",
       " 'wondering',\n",
       " 'islands',\n",
       " 'best',\n",
       " 'see',\n",
       " 'cruise',\n",
       " 'line',\n",
       " 'take',\n",
       " 'seems',\n",
       " 'like',\n",
       " 'lot',\n",
       " 'cruises',\n",
       " 'run',\n",
       " 'month',\n",
       " 'due',\n",
       " 'hurricane',\n",
       " 'season',\n",
       " 'looking',\n",
       " 'good',\n",
       " 'options',\n",
       " 'edit',\n",
       " 'travelling',\n",
       " '2012']"
      ]
     },
     "execution_count": 9,
     "metadata": {},
     "output_type": "execute_result"
    }
   ],
   "source": [
    "word_tokenize(text['content'][0]) # word tokenization"
   ]
  },
  {
   "cell_type": "code",
   "execution_count": 10,
   "id": "0ac6ef80",
   "metadata": {},
   "outputs": [
    {
     "data": {
      "text/plain": [
       "29"
      ]
     },
     "execution_count": 10,
     "metadata": {},
     "output_type": "execute_result"
    }
   ],
   "source": [
    "len(word_tokenize(text['content'][0])) #length of the word tokenize"
   ]
  },
  {
   "cell_type": "markdown",
   "id": "eda4e6bf",
   "metadata": {},
   "source": [
    "2) # 1) use the nltk library and apply the tokenizatin process on the all review text of the content attribute"
   ]
  },
  {
   "cell_type": "code",
   "execution_count": 11,
   "id": "ec741fde",
   "metadata": {},
   "outputs": [],
   "source": [
    "text['sent_token']=text['content'].apply(lambda x: sent_tokenize(x)) #sentence tokenization"
   ]
  },
  {
   "cell_type": "code",
   "execution_count": 12,
   "id": "f7e30957",
   "metadata": {},
   "outputs": [
    {
     "data": {
      "text/plain": [
       "0        [fianc, e, looking, good, caribbean, cruise, o...\n",
       "1        [one, definition, questions, also, one, intere...\n",
       "2        [singapore, airlines, business, class, flight,...\n",
       "3        [another, definition, question, interested, ea...\n",
       "4        [year, ago, reading, magazine, found, availabi...\n",
       "                               ...                        \n",
       "19274    [waiter, time, know, one, deserve, tipping, ho...\n",
       "19275    [live, vancouver, canada, travelling, london, ...\n",
       "19276    [serbia, macedonia, register, police, staying,...\n",
       "19277    [austria, visa, multiple, entry, expires, next...\n",
       "19278    [shortest, passenger, route, served, wide, bod...\n",
       "Name: content, Length: 19279, dtype: object"
      ]
     },
     "execution_count": 12,
     "metadata": {},
     "output_type": "execute_result"
    }
   ],
   "source": [
    "text['content'].apply(lambda x: word_tokenize(x)) #word tokenization"
   ]
  },
  {
   "cell_type": "markdown",
   "id": "82d644d1",
   "metadata": {},
   "source": [
    "3) use the spacy library and apply the tokenizaiton process on the first review text of the content attribute"
   ]
  },
  {
   "cell_type": "code",
   "execution_count": 13,
   "id": "e6f552e3",
   "metadata": {},
   "outputs": [],
   "source": [
    "nlp = spacy.load('en_core_web_sm') #pipline for english language words"
   ]
  },
  {
   "cell_type": "code",
   "execution_count": 14,
   "id": "5f916b97",
   "metadata": {},
   "outputs": [
    {
     "data": {
      "text/plain": [
       "fianc e looking good caribbean cruise october wondering islands best see cruise line take seems like lot cruises run month due hurricane season looking good options edit travelling 2012"
      ]
     },
     "execution_count": 14,
     "metadata": {},
     "output_type": "execute_result"
    }
   ],
   "source": [
    "nlp(text['content'][0]) #first row tokenizatoin"
   ]
  },
  {
   "cell_type": "code",
   "execution_count": 15,
   "id": "5b5bc3e3",
   "metadata": {},
   "outputs": [
    {
     "data": {
      "text/plain": [
       "29"
      ]
     },
     "execution_count": 15,
     "metadata": {},
     "output_type": "execute_result"
    }
   ],
   "source": [
    "len(nlp(text['content'][0])) #length of tokenization"
   ]
  },
  {
   "cell_type": "markdown",
   "id": "0079bf6f",
   "metadata": {},
   "source": [
    "4) use the spacy library and apply the tokenizaiton process on the all review text of the content attribute"
   ]
  },
  {
   "cell_type": "code",
   "execution_count": 16,
   "id": "ac6d7bfc",
   "metadata": {},
   "outputs": [
    {
     "data": {
      "text/plain": [
       "0        (fianc, e, looking, good, caribbean, cruise, o...\n",
       "1        (one, definition, questions, also, one, intere...\n",
       "2        (singapore, airlines, business, class, flight,...\n",
       "3        (another, definition, question, interested, ea...\n",
       "4        (year, ago, reading, magazine, found, availabi...\n",
       "                               ...                        \n",
       "19274    (waiter, time, know, one, deserve, tipping, ho...\n",
       "19275    (live, vancouver, canada, travelling, london, ...\n",
       "19276    (serbia, macedonia, register, police, staying,...\n",
       "19277    (austria, visa, multiple, entry, expires, next...\n",
       "19278    (shortest, passenger, route, served, wide, bod...\n",
       "Name: content, Length: 19279, dtype: object"
      ]
     },
     "execution_count": 16,
     "metadata": {},
     "output_type": "execute_result"
    }
   ],
   "source": [
    "text['content'].apply(lambda x: nlp(x)) #tokenization using spaCy"
   ]
  },
  {
   "cell_type": "markdown",
   "id": "17b353e6",
   "metadata": {},
   "source": [
    "# Task 3"
   ]
  },
  {
   "cell_type": "code",
   "execution_count": 17,
   "id": "02636415",
   "metadata": {},
   "outputs": [
    {
     "data": {
      "text/plain": [
       "'fianc e looking good caribbean cruise october wondering islands best see cruise line take seems like lot cruises run month due hurricane season looking good options edit travelling 2012 one definition questions also one interests personally find guide take safely amazon jungle love explore amazon would attempt without guide least first time prefer guide going ambush anything p edit want go anywhere touristy start end points open trip take places likely see travellers tourists definitely require good guide order safe singapore airlines business class flight ewr sin newark singapore seem find reward krisflyer flights dates another definition question interested easiest transportation use throughout romania foreigner plan visit point still relatively ignorant get particularly interested rural areas mountains difficulty crossing also ignorant year ago reading magazine found availability get trip antarctica unfortunately info could get know anything best way get best route maybe feedback an'"
      ]
     },
     "execution_count": 17,
     "metadata": {},
     "output_type": "execute_result"
    }
   ],
   "source": [
    "t2=\" \".join(text['content']) #joining each row for further analysis\n",
    "t2[0:1000]"
   ]
  },
  {
   "cell_type": "code",
   "execution_count": 21,
   "id": "0af601dd",
   "metadata": {},
   "outputs": [
    {
     "data": {
      "text/plain": [
       "100000"
      ]
     },
     "execution_count": 21,
     "metadata": {},
     "output_type": "execute_result"
    }
   ],
   "source": [
    "len(words[0:100000])"
   ]
  },
  {
   "cell_type": "code",
   "execution_count": 30,
   "id": "6b585a6e",
   "metadata": {},
   "outputs": [
    {
     "data": {
      "text/plain": [
       "[('would', 131),\n",
       " ('get', 130),\n",
       " ('like', 102),\n",
       " ('visa', 102),\n",
       " ('one', 96),\n",
       " ('travel', 95),\n",
       " ('trip', 91),\n",
       " ('know', 76),\n",
       " ('need', 71),\n",
       " ('time', 70)]"
      ]
     },
     "execution_count": 30,
     "metadata": {},
     "output_type": "execute_result"
    }
   ],
   "source": [
    "# top 10 words with mode repeated count\n",
    "words = str(t2)\n",
    "doc = nlp(words[0:100000]) # using word count till 100000 bcs of low computer performance\n",
    "from collections import Counter\n",
    "count = Counter()\n",
    "for token in doc:\n",
    "    count[token.orth_]+=1\n",
    "n= count.most_common(10)\n",
    "n"
   ]
  },
  {
   "cell_type": "markdown",
   "id": "6f9fa17d",
   "metadata": {},
   "source": [
    "# Task 4"
   ]
  },
  {
   "cell_type": "code",
   "execution_count": 31,
   "id": "3c251dd1",
   "metadata": {},
   "outputs": [
    {
     "name": "stdout",
     "output_type": "stream",
     "text": [
      "11\n"
     ]
    }
   ],
   "source": [
    "# word count of \"travellers\" \n",
    "counts = Counter()\n",
    "for token in doc:\n",
    "    counts[token.orth_]+=1\n",
    "print(counts['travellers'])"
   ]
  },
  {
   "cell_type": "code",
   "execution_count": 32,
   "id": "a35409fa",
   "metadata": {},
   "outputs": [
    {
     "name": "stdout",
     "output_type": "stream",
     "text": [
      "11\n"
     ]
    }
   ],
   "source": [
    "# word count of \"tourists\"\n",
    "counts = Counter()\n",
    "for token in doc:\n",
    "    counts[token.orth_]+=1\n",
    "print(counts['tourists'])"
   ]
  },
  {
   "cell_type": "code",
   "execution_count": null,
   "id": "d2f3908f",
   "metadata": {},
   "outputs": [],
   "source": []
  }
 ],
 "metadata": {
  "kernelspec": {
   "display_name": "Python 3 (ipykernel)",
   "language": "python",
   "name": "python3"
  },
  "language_info": {
   "codemirror_mode": {
    "name": "ipython",
    "version": 3
   },
   "file_extension": ".py",
   "mimetype": "text/x-python",
   "name": "python",
   "nbconvert_exporter": "python",
   "pygments_lexer": "ipython3",
   "version": "3.9.13"
  }
 },
 "nbformat": 4,
 "nbformat_minor": 5
}
