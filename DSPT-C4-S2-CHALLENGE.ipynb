{
 "cells": [
  {
   "cell_type": "markdown",
   "id": "8d1ed6d3",
   "metadata": {},
   "source": [
    "# Creating Data Frames Using Series"
   ]
  },
  {
   "cell_type": "code",
   "execution_count": 1,
   "id": "004c9fb5",
   "metadata": {},
   "outputs": [],
   "source": [
    "import numpy as np"
   ]
  },
  {
   "cell_type": "code",
   "execution_count": 2,
   "id": "8d5aceb0",
   "metadata": {},
   "outputs": [],
   "source": [
    "import pandas as pd"
   ]
  },
  {
   "cell_type": "markdown",
   "id": "f2d6aad5",
   "metadata": {},
   "source": [
    "Task 1: Create series with car price as value between 300000 & 500000 and index values from 101 to 120"
   ]
  },
  {
   "cell_type": "code",
   "execution_count": 3,
   "id": "478c67a2",
   "metadata": {},
   "outputs": [
    {
     "data": {
      "text/plain": [
       "101    45715\n",
       "102    34367\n",
       "103    44729\n",
       "104    33915\n",
       "105    31607\n",
       "106    49618\n",
       "107    45328\n",
       "108    38744\n",
       "109    30474\n",
       "110    41003\n",
       "111    43267\n",
       "112    31808\n",
       "113    41005\n",
       "114    33814\n",
       "115    35264\n",
       "116    34713\n",
       "117    42773\n",
       "118    37138\n",
       "119    39222\n",
       "120    39930\n",
       "dtype: int32"
      ]
     },
     "execution_count": 3,
     "metadata": {},
     "output_type": "execute_result"
    }
   ],
   "source": [
    "np.random.seed(20)\n",
    "cars=pd.Series(np.random.randint(30000,50001,20),index=np.arange(101,121,1))\n",
    "cars"
   ]
  },
  {
   "cell_type": "markdown",
   "id": "cb8efb0d",
   "metadata": {},
   "source": [
    "Task 2 : Find total numbers of cars that have price greater than $400000"
   ]
  },
  {
   "cell_type": "code",
   "execution_count": 4,
   "id": "04ab314d",
   "metadata": {},
   "outputs": [
    {
     "data": {
      "text/plain": [
       "8"
      ]
     },
     "execution_count": 4,
     "metadata": {},
     "output_type": "execute_result"
    }
   ],
   "source": [
    "cars[cars>40000].size                                     #Total Number of cars that have a price greater than $40000"
   ]
  },
  {
   "cell_type": "markdown",
   "id": "6ed23b1b",
   "metadata": {},
   "source": [
    "Task 3: Display records of all cars having model numbers from 111 to 116 and find highest price of car among them."
   ]
  },
  {
   "cell_type": "code",
   "execution_count": 5,
   "id": "6fc0409e",
   "metadata": {},
   "outputs": [
    {
     "name": "stdout",
     "output_type": "stream",
     "text": [
      "Records of all cars having model numbers from 111 to 116\n",
      " 111    43267\n",
      "112    31808\n",
      "113    41005\n",
      "114    33814\n",
      "115    35264\n",
      "116    34713\n",
      "dtype: int32\n",
      "Highest Price :  43267\n"
     ]
    }
   ],
   "source": [
    "print('Records of all cars having model numbers from 111 to 116\\n',cars.loc[111:116] ) #Displaying the record of all cars having model numbers from 111 to 116\n",
    "\n",
    "print('Highest Price : ',max(cars.loc[111:116]))  #Highest Price of cars having model numbers from 111 to 116"
   ]
  },
  {
   "cell_type": "markdown",
   "id": "3d5fc714",
   "metadata": {},
   "source": [
    "Task 4: Find records of all cars priced at between $30000 and $40000. Find the count."
   ]
  },
  {
   "cell_type": "code",
   "execution_count": 6,
   "id": "bf6e9778",
   "metadata": {},
   "outputs": [
    {
     "data": {
      "text/plain": [
       "102    34367\n",
       "104    33915\n",
       "105    31607\n",
       "108    38744\n",
       "109    30474\n",
       "112    31808\n",
       "114    33814\n",
       "115    35264\n",
       "116    34713\n",
       "118    37138\n",
       "119    39222\n",
       "120    39930\n",
       "dtype: int32"
      ]
     },
     "execution_count": 6,
     "metadata": {},
     "output_type": "execute_result"
    }
   ],
   "source": [
    "cars[cars.between(30000,40000)]                      #Fetching records of cars priced at between $30000 and $40000"
   ]
  },
  {
   "cell_type": "code",
   "execution_count": 7,
   "id": "7a868280",
   "metadata": {},
   "outputs": [
    {
     "data": {
      "text/plain": [
       "12"
      ]
     },
     "execution_count": 7,
     "metadata": {},
     "output_type": "execute_result"
    }
   ],
   "source": [
    "cars[cars.between(30000,40000)].size                 #Count of cars priced at between $30000 and $ 40000"
   ]
  },
  {
   "cell_type": "markdown",
   "id": "8f9b4874",
   "metadata": {},
   "source": [
    "Task 5 : Find data of all cars with price greater than the average cars. Find count ofsuch cars."
   ]
  },
  {
   "cell_type": "code",
   "execution_count": 9,
   "id": "03d8cb83",
   "metadata": {},
   "outputs": [
    {
     "name": "stdout",
     "output_type": "stream",
     "text": [
      "Average price : 38721.7\n",
      "101    45715\n",
      "103    44729\n",
      "106    49618\n",
      "107    45328\n",
      "108    38744\n",
      "110    41003\n",
      "111    43267\n",
      "113    41005\n",
      "117    42773\n",
      "119    39222\n",
      "120    39930\n",
      "dtype: int32\n",
      "No of cars :  11\n"
     ]
    }
   ],
   "source": [
    "print('Average price :',cars.mean())                     #Average Price of all cars\n",
    "\n",
    "print(cars[cars>cars.mean()])                             #Data of all cars having price greater than average price\n",
    "\n",
    "print('No of cars : ',cars[cars>cars.mean()].size)        #No of cars having price greater than average price"
   ]
  },
  {
   "cell_type": "markdown",
   "id": "72d4606e",
   "metadata": {},
   "source": [
    "Task 6 : Add three new cars with model numbers 201,202 & 203 with price $34000,$45000 & $54000 respectively in existing records"
   ]
  },
  {
   "cell_type": "code",
   "execution_count": 10,
   "id": "19896098",
   "metadata": {},
   "outputs": [
    {
     "data": {
      "text/plain": [
       "201    34000\n",
       "202    45000\n",
       "203    54000\n",
       "dtype: int64"
      ]
     },
     "execution_count": 10,
     "metadata": {},
     "output_type": "execute_result"
    }
   ],
   "source": [
    "new_id=[201,202,203]\n",
    "new_price=[34000,45000,54000]\n",
    "new_cars=pd.Series(new_price,index=new_id)\n",
    "new_cars"
   ]
  },
  {
   "cell_type": "code",
   "execution_count": 11,
   "id": "04921719",
   "metadata": {},
   "outputs": [
    {
     "data": {
      "text/plain": [
       "101    45715\n",
       "102    34367\n",
       "103    44729\n",
       "104    33915\n",
       "105    31607\n",
       "106    49618\n",
       "107    45328\n",
       "108    38744\n",
       "109    30474\n",
       "110    41003\n",
       "111    43267\n",
       "112    31808\n",
       "113    41005\n",
       "114    33814\n",
       "115    35264\n",
       "116    34713\n",
       "117    42773\n",
       "118    37138\n",
       "119    39222\n",
       "120    39930\n",
       "201    34000\n",
       "202    45000\n",
       "203    54000\n",
       "dtype: int64"
      ]
     },
     "execution_count": 11,
     "metadata": {},
     "output_type": "execute_result"
    }
   ],
   "source": [
    "cars=pd.concat([cars,new_cars])                            #Adding new records in existing records\n",
    "cars"
   ]
  },
  {
   "cell_type": "markdown",
   "id": "18c895c4",
   "metadata": {},
   "source": [
    "Task 7 : Offer 10% discount on cars priced at more than $40000. Display original and discounted price alongside"
   ]
  },
  {
   "cell_type": "code",
   "execution_count": 12,
   "id": "9f7d3129",
   "metadata": {},
   "outputs": [
    {
     "data": {
      "text/html": [
       "<div>\n",
       "<style scoped>\n",
       "    .dataframe tbody tr th:only-of-type {\n",
       "        vertical-align: middle;\n",
       "    }\n",
       "\n",
       "    .dataframe tbody tr th {\n",
       "        vertical-align: top;\n",
       "    }\n",
       "\n",
       "    .dataframe thead th {\n",
       "        text-align: right;\n",
       "    }\n",
       "</style>\n",
       "<table border=\"1\" class=\"dataframe\">\n",
       "  <thead>\n",
       "    <tr style=\"text-align: right;\">\n",
       "      <th></th>\n",
       "      <th>Original_Price</th>\n",
       "      <th>Discounted_Price</th>\n",
       "    </tr>\n",
       "  </thead>\n",
       "  <tbody>\n",
       "    <tr>\n",
       "      <th>101</th>\n",
       "      <td>45715</td>\n",
       "      <td>41143.5</td>\n",
       "    </tr>\n",
       "    <tr>\n",
       "      <th>102</th>\n",
       "      <td>34367</td>\n",
       "      <td>34367.0</td>\n",
       "    </tr>\n",
       "    <tr>\n",
       "      <th>103</th>\n",
       "      <td>44729</td>\n",
       "      <td>40256.1</td>\n",
       "    </tr>\n",
       "    <tr>\n",
       "      <th>104</th>\n",
       "      <td>33915</td>\n",
       "      <td>33915.0</td>\n",
       "    </tr>\n",
       "    <tr>\n",
       "      <th>105</th>\n",
       "      <td>31607</td>\n",
       "      <td>31607.0</td>\n",
       "    </tr>\n",
       "    <tr>\n",
       "      <th>106</th>\n",
       "      <td>49618</td>\n",
       "      <td>44656.2</td>\n",
       "    </tr>\n",
       "    <tr>\n",
       "      <th>107</th>\n",
       "      <td>45328</td>\n",
       "      <td>40795.2</td>\n",
       "    </tr>\n",
       "    <tr>\n",
       "      <th>108</th>\n",
       "      <td>38744</td>\n",
       "      <td>38744.0</td>\n",
       "    </tr>\n",
       "    <tr>\n",
       "      <th>109</th>\n",
       "      <td>30474</td>\n",
       "      <td>30474.0</td>\n",
       "    </tr>\n",
       "    <tr>\n",
       "      <th>110</th>\n",
       "      <td>41003</td>\n",
       "      <td>36902.7</td>\n",
       "    </tr>\n",
       "    <tr>\n",
       "      <th>111</th>\n",
       "      <td>43267</td>\n",
       "      <td>38940.3</td>\n",
       "    </tr>\n",
       "    <tr>\n",
       "      <th>112</th>\n",
       "      <td>31808</td>\n",
       "      <td>31808.0</td>\n",
       "    </tr>\n",
       "    <tr>\n",
       "      <th>113</th>\n",
       "      <td>41005</td>\n",
       "      <td>36904.5</td>\n",
       "    </tr>\n",
       "    <tr>\n",
       "      <th>114</th>\n",
       "      <td>33814</td>\n",
       "      <td>33814.0</td>\n",
       "    </tr>\n",
       "    <tr>\n",
       "      <th>115</th>\n",
       "      <td>35264</td>\n",
       "      <td>35264.0</td>\n",
       "    </tr>\n",
       "    <tr>\n",
       "      <th>116</th>\n",
       "      <td>34713</td>\n",
       "      <td>34713.0</td>\n",
       "    </tr>\n",
       "    <tr>\n",
       "      <th>117</th>\n",
       "      <td>42773</td>\n",
       "      <td>38495.7</td>\n",
       "    </tr>\n",
       "    <tr>\n",
       "      <th>118</th>\n",
       "      <td>37138</td>\n",
       "      <td>37138.0</td>\n",
       "    </tr>\n",
       "    <tr>\n",
       "      <th>119</th>\n",
       "      <td>39222</td>\n",
       "      <td>39222.0</td>\n",
       "    </tr>\n",
       "    <tr>\n",
       "      <th>120</th>\n",
       "      <td>39930</td>\n",
       "      <td>39930.0</td>\n",
       "    </tr>\n",
       "    <tr>\n",
       "      <th>201</th>\n",
       "      <td>34000</td>\n",
       "      <td>34000.0</td>\n",
       "    </tr>\n",
       "    <tr>\n",
       "      <th>202</th>\n",
       "      <td>45000</td>\n",
       "      <td>40500.0</td>\n",
       "    </tr>\n",
       "    <tr>\n",
       "      <th>203</th>\n",
       "      <td>54000</td>\n",
       "      <td>48600.0</td>\n",
       "    </tr>\n",
       "  </tbody>\n",
       "</table>\n",
       "</div>"
      ],
      "text/plain": [
       "     Original_Price  Discounted_Price\n",
       "101           45715           41143.5\n",
       "102           34367           34367.0\n",
       "103           44729           40256.1\n",
       "104           33915           33915.0\n",
       "105           31607           31607.0\n",
       "106           49618           44656.2\n",
       "107           45328           40795.2\n",
       "108           38744           38744.0\n",
       "109           30474           30474.0\n",
       "110           41003           36902.7\n",
       "111           43267           38940.3\n",
       "112           31808           31808.0\n",
       "113           41005           36904.5\n",
       "114           33814           33814.0\n",
       "115           35264           35264.0\n",
       "116           34713           34713.0\n",
       "117           42773           38495.7\n",
       "118           37138           37138.0\n",
       "119           39222           39222.0\n",
       "120           39930           39930.0\n",
       "201           34000           34000.0\n",
       "202           45000           40500.0\n",
       "203           54000           48600.0"
      ]
     },
     "execution_count": 12,
     "metadata": {},
     "output_type": "execute_result"
    }
   ],
   "source": [
    "df1=pd.DataFrame(cars,columns=['Original_Price'])             #Converting series into dataframe df1\n",
    "\n",
    "\n",
    "df2=0.9*df1[df1>40000]                                        #Creating dataframe df2 with discounted price on elligible cars\n",
    "df2.update(df1[df1<=40000])\n",
    "df2.columns=['Discounted_Price']\n",
    "\n",
    "x=df1.join(df2)                                               #Merging two dataframes\n",
    "x"
   ]
  },
  {
   "cell_type": "code",
   "execution_count": 13,
   "id": "bde7603e",
   "metadata": {},
   "outputs": [],
   "source": [
    "#df2=pd.DataFrame(0.9*cars[cars>40000],columns=['Discounted Data'])"
   ]
  },
  {
   "cell_type": "markdown",
   "id": "80bd5475",
   "metadata": {},
   "source": [
    "Task 8: Find number of cars with price between $ 30000 and $ 40000 before and after discount."
   ]
  },
  {
   "cell_type": "code",
   "execution_count": 14,
   "id": "0d8debcd",
   "metadata": {},
   "outputs": [
    {
     "data": {
      "text/plain": [
       "13"
      ]
     },
     "execution_count": 14,
     "metadata": {},
     "output_type": "execute_result"
    }
   ],
   "source": [
    "x[x.Original_Price.between(30000,40000)].shape[0]               #No of cars with price between $30000 and $40000 before discount"
   ]
  },
  {
   "cell_type": "code",
   "execution_count": 15,
   "id": "1ae0ca35",
   "metadata": {},
   "outputs": [
    {
     "data": {
      "text/plain": [
       "17"
      ]
     },
     "execution_count": 15,
     "metadata": {},
     "output_type": "execute_result"
    }
   ],
   "source": [
    "x[x.Discounted_Price.between(30000,40000)].shape[0]              #No of cars with price between $30000 and $40000 after discount"
   ]
  },
  {
   "cell_type": "markdown",
   "id": "fa139ea8",
   "metadata": {},
   "source": [
    "Task 9: Fetch records of five least expensive cars"
   ]
  },
  {
   "cell_type": "code",
   "execution_count": 18,
   "id": "495220be",
   "metadata": {},
   "outputs": [
    {
     "data": {
      "text/plain": [
       "109    30474\n",
       "105    31607\n",
       "112    31808\n",
       "114    33814\n",
       "104    33915\n",
       "Name: Original_Price, dtype: int64"
      ]
     },
     "execution_count": 18,
     "metadata": {},
     "output_type": "execute_result"
    }
   ],
   "source": [
    "x.Original_Price.sort_values(ascending=True)[0:5]                #Top 5 least expensive cars"
   ]
  },
  {
   "cell_type": "code",
   "execution_count": null,
   "id": "4740c749",
   "metadata": {},
   "outputs": [],
   "source": []
  },
  {
   "cell_type": "code",
   "execution_count": null,
   "id": "7efc5c71",
   "metadata": {},
   "outputs": [],
   "source": []
  }
 ],
 "metadata": {
  "kernelspec": {
   "display_name": "Python 3 (ipykernel)",
   "language": "python",
   "name": "python3"
  },
  "language_info": {
   "codemirror_mode": {
    "name": "ipython",
    "version": 3
   },
   "file_extension": ".py",
   "mimetype": "text/x-python",
   "name": "python",
   "nbconvert_exporter": "python",
   "pygments_lexer": "ipython3",
   "version": "3.9.13"
  }
 },
 "nbformat": 4,
 "nbformat_minor": 5
}
