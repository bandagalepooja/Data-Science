{
 "cells": [
  {
   "cell_type": "markdown",
   "id": "ac5f46aa",
   "metadata": {},
   "source": [
    "# TASK 1"
   ]
  },
  {
   "cell_type": "code",
   "execution_count": 23,
   "id": "228fba88",
   "metadata": {},
   "outputs": [
    {
     "name": "stdout",
     "output_type": "stream",
     "text": [
      "Area of circle is= 113.04\n"
     ]
    }
   ],
   "source": [
    "r=6\n",
    "A=3.14*r**2\n",
    "print('Area of circle is=',A)"
   ]
  },
  {
   "cell_type": "markdown",
   "id": "864cd729",
   "metadata": {},
   "source": [
    "# TASK 2"
   ]
  },
  {
   "cell_type": "code",
   "execution_count": 24,
   "id": "a649f07e",
   "metadata": {},
   "outputs": [
    {
     "name": "stdout",
     "output_type": "stream",
     "text": [
      "Amount to be paid as tax= 15.3 \n",
      " Final Price= 100.3\n"
     ]
    }
   ],
   "source": [
    "sellingprice=85\n",
    "tax=int(18)\n",
    "p=sellingprice*tax*0.01\n",
    "q=p+sellingprice\n",
    "print(\"Amount to be paid as tax=\",p,\"\\n\",\"Final Price=\",q)"
   ]
  },
  {
   "cell_type": "markdown",
   "id": "7b12ce10",
   "metadata": {},
   "source": [
    "# TASK 3"
   ]
  },
  {
   "cell_type": "code",
   "execution_count": 25,
   "id": "70d069f8",
   "metadata": {},
   "outputs": [
    {
     "name": "stdout",
     "output_type": "stream",
     "text": [
      "44.44\n"
     ]
    }
   ],
   "source": [
    "dollar1=75\n",
    "rs=3333\n",
    "print(rs/dollar1)"
   ]
  },
  {
   "cell_type": "markdown",
   "id": "0db7b8d5",
   "metadata": {},
   "source": [
    "# TASK 4"
   ]
  },
  {
   "cell_type": "code",
   "execution_count": 26,
   "id": "70f9736e",
   "metadata": {},
   "outputs": [
    {
     "name": "stdout",
     "output_type": "stream",
     "text": [
      "Purchasing power of $500 last year is 467.2897196261682\n"
     ]
    }
   ],
   "source": [
    "inflationrate=0.07\n",
    "laterCPI=500\n",
    "earlierCPI=laterCPI/(inflationrate+1)\n",
    "print('Purchasing power of $500 last year is',earlierCPI)"
   ]
  },
  {
   "cell_type": "markdown",
   "id": "49b0ad30",
   "metadata": {},
   "source": [
    "# TASK 5"
   ]
  },
  {
   "cell_type": "code",
   "execution_count": 8,
   "id": "88ccbf7b",
   "metadata": {},
   "outputs": [
    {
     "name": "stdout",
     "output_type": "stream",
     "text": [
      "Enter your name : Pooja\n",
      "Enter your language :Python\n",
      "Hello, I'm Pooja. I'm learning Python.\n"
     ]
    }
   ],
   "source": [
    "name=input('Enter your name : ')\n",
    "language=input('Enter your language :')\n",
    "print('Hello, I\\'m {}. I\\'m learning {}.'.format(name,language))"
   ]
  },
  {
   "cell_type": "markdown",
   "id": "6d91f2ae",
   "metadata": {},
   "source": [
    "# TASK 6"
   ]
  },
  {
   "cell_type": "code",
   "execution_count": 9,
   "id": "96df21a4",
   "metadata": {},
   "outputs": [
    {
     "name": "stdout",
     "output_type": "stream",
     "text": [
      "Enter the amount of principle : 1000\n",
      "Enter the interest rate : 8\n",
      "Enter the time span : 5\n",
      "Simple interest :  400.0\n"
     ]
    }
   ],
   "source": [
    "p=int(input('Enter the amount of principle : '))\n",
    "R=int(input('Enter the interest rate : '))\n",
    "T=int(input('Enter the time span : '))\n",
    "print('Simple interest : ',p*R*T/100)"
   ]
  },
  {
   "cell_type": "markdown",
   "id": "49f2e37f",
   "metadata": {},
   "source": [
    "# TASK 7"
   ]
  },
  {
   "cell_type": "code",
   "execution_count": 8,
   "id": "3991a6aa",
   "metadata": {},
   "outputs": [
    {
     "name": "stdout",
     "output_type": "stream",
     "text": [
      "Enter the amount of principle : 1000\n",
      "Enter the interest rate : 8\n",
      "Enter the time span : 5\n",
      "Compound Interest is :  469.32807680000064\n"
     ]
    }
   ],
   "source": [
    "P=int(input('Enter the amount of principle : '))\n",
    "r=int(input('Enter the interest rate : '))\n",
    "t=int(input('Enter the time span : '))\n",
    "A=P*((int(1)+r/100)**t)\n",
    "CI=A-P\n",
    "print('Compound Interest is : ',CI)"
   ]
  },
  {
   "cell_type": "markdown",
   "id": "2bf60501",
   "metadata": {},
   "source": [
    "# TASK 8"
   ]
  },
  {
   "cell_type": "code",
   "execution_count": 15,
   "id": "4ba4d9c5",
   "metadata": {},
   "outputs": [
    {
     "name": "stdout",
     "output_type": "stream",
     "text": [
      "Enter value of num_var1 : 50\n",
      "Enter value of num_var1 : 30\n",
      "The value of num_var1 after swapping :  30\n",
      "The value of num_var2 after swapping :  50\n"
     ]
    }
   ],
   "source": [
    "num_var1=int(input('Enter value of num_var1 : '))\n",
    "num_var2=int(input('Enter value of num_var1 : '))\n",
    "x=num_var1\n",
    "num_var1=num_var2\n",
    "num_var2=x\n",
    "print('The value of num_var1 after swapping : ', num_var1)\n",
    "print('The value of num_var2 after swapping : ', num_var2)"
   ]
  },
  {
   "cell_type": "markdown",
   "id": "11b6ed7a",
   "metadata": {},
   "source": [
    "# TASK 9 "
   ]
  },
  {
   "cell_type": "code",
   "execution_count": 17,
   "id": "e035be20",
   "metadata": {},
   "outputs": [
    {
     "name": "stdout",
     "output_type": "stream",
     "text": [
      "Enter distance in km : 2\n",
      "The distance in miles :  1.24274238\n"
     ]
    }
   ],
   "source": [
    "x=int(input('Enter distance in km : '))\n",
    "y=x*0.62137119\n",
    "print('The distance in miles : ',y)"
   ]
  },
  {
   "cell_type": "markdown",
   "id": "62ee5da0",
   "metadata": {},
   "source": [
    "# TASK 10"
   ]
  },
  {
   "cell_type": "code",
   "execution_count": 9,
   "id": "925902fb",
   "metadata": {},
   "outputs": [
    {
     "name": "stdout",
     "output_type": "stream",
     "text": [
      "Enter the number : 2\n",
      "2x1= 2 \n",
      " 2x2= 4 \n",
      " 2x3= 6 \n",
      " 2x4= 8 \n",
      " 2x5= 10 \n",
      " 2x6= 12 \n",
      " 2x7= 14 \n",
      " 2x8= 16 \n",
      " 2x9= 18 \n",
      " 2x10= 20\n"
     ]
    }
   ],
   "source": [
    "a=int(input('Enter the number : '))\n",
    "print('{}x1='.format(a),a*1,'\\n','{}x2='.format(a),a*2,'\\n','{}x3='.format(a),a*3,'\\n','{}x4='.format(a),a*4,'\\n','{}x5='.format(a),a*5,'\\n','{}x6='.format(a),a*6,'\\n','{}x7='.format(a),a*7,'\\n','{}x8='.format(a),a*8,'\\n','{}x9='.format(a),a*9,'\\n','{}x10='.format(a),a*10)"
   ]
  }
 ],
 "metadata": {
  "kernelspec": {
   "display_name": "Python 3 (ipykernel)",
   "language": "python",
   "name": "python3"
  },
  "language_info": {
   "codemirror_mode": {
    "name": "ipython",
    "version": 3
   },
   "file_extension": ".py",
   "mimetype": "text/x-python",
   "name": "python",
   "nbconvert_exporter": "python",
   "pygments_lexer": "ipython3",
   "version": "3.9.13"
  }
 },
 "nbformat": 4,
 "nbformat_minor": 5
}
